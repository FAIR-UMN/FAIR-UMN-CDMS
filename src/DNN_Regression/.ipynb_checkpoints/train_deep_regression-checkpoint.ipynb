{
 "cells": [
  {
   "cell_type": "markdown",
   "id": "8b0fe9b2",
   "metadata": {},
   "source": [
    "## Train deep regression model\n",
    "\n",
    "This script trains the deep regression model and its output is under \"**/deepnn**\" which will be generated automatically.\n",
    "\n",
    "It will use the python files under \"**/model_files**\" which includes the model definiton and other fuctions such as data loading and generating figures."
   ]
  },
  {
   "cell_type": "markdown",
   "id": "4fd72fb2",
   "metadata": {},
   "source": [
    "First, let's import packages."
   ]
  },
  {
   "cell_type": "code",
   "execution_count": 1,
   "id": "e767e54a",
   "metadata": {},
   "outputs": [],
   "source": [
    "#------ import packages ------#\n",
    "import torch\n",
    "from model_files.util import *\n",
    "from model_files.nn_model import *\n",
    "from tqdm import tqdm\n",
    "import pandas as pd\n",
    "import copy\n",
    "import matplotlib.pyplot as plt\n",
    "import seaborn as sns\n",
    "import os\n",
    "import glob\n",
    "# from pytorch_lightning.callbacks.early_stopping import EarlyStopping\n",
    "# from torchsample.modules import ModuleTrainer\n",
    "\n",
    "#plt.style.use(\"seaborn\")\n",
    "#plt.style.use(\"ggplot\")\n",
    "#plt.style.use(\"bmh\")\n",
    "plt.style.use(\"seaborn-darkgrid\")\n",
    "#plt.style.use(\"seaborn-deep\")\n",
    "#plt.style.use(\"tableau-colorblind10\")"
   ]
  },
  {
   "cell_type": "markdown",
   "id": "d31e3ead",
   "metadata": {},
   "source": [
    "The function **train_deepreg** will start to train our deep regression models. It will call functions defined in **/model_files**. So please remember to have the **/model_files** before you run the code."
   ]
  },
  {
   "cell_type": "code",
   "execution_count": 2,
   "id": "a5d5a7bf",
   "metadata": {},
   "outputs": [],
   "source": [
    "#------ define the function for training------#\n",
    "def train_deepreg(trn_file, val_file, tst_file, \n",
    "                  normalization_type, gpu_id, \n",
    "                  trn_batch_size, val_batch_size, tst_batch_size,\n",
    "                  layer_num, input_dim, hidden_dim, output_dim,learning_rate,max_epoch,check_freq):\n",
    "    \n",
    "    # set up folders to have training results\n",
    "    dir_name = 'deepnn_results/training_results/'\n",
    "    dir_model_name = 'deepnn_results/training_models'\n",
    "    dir_name_test = 'deepnn_results/test_results/'\n",
    "    make_dir([dir_name, dir_model_name, dir_name_test])\n",
    "    \n",
    "    # set up device\n",
    "    device = torch.device(\"cuda:{}\".format(gpu_id) if torch.cuda.is_available() else \"cpu\")\n",
    "    print(device)\n",
    "    \n",
    "    # load training set, validation set, and held-out (test) set\n",
    "    scaler_save_file_name = os.path.join(dir_model_name, '{}_scaler.gz'.format(normalization_type))\n",
    "    scaler = generate_scaler(trn_file, scaler_save_file_name, normalization_type)\n",
    "    \n",
    "    #--- process training data, val data, test\n",
    "    trn_features, trn_targets = get_normalized_dataset(trn_file, scaler)\n",
    "    val_features, val_targets = get_normalized_dataset(val_file, scaler)\n",
    "    tst_features, tst_targets = get_normalized_dataset(tst_file, scaler)\n",
    "    \n",
    "    #--- put data into dataloader\n",
    "    trn_num = len(trn_targets)\n",
    "    val_num = len(val_targets)\n",
    "    tst_num = len(tst_targets)\n",
    "    trn_loader = prepare_data(trn_features, trn_targets, trn_batch_size, trn_num)\n",
    "    val_loader = prepare_data(val_features, val_targets, val_batch_size, val_num)\n",
    "    tst_loader = prepare_data(tst_features, tst_targets, tst_batch_size, tst_num)\n",
    "    \n",
    "    #--- create model\n",
    "    deep_reg_Net = DeepReg(layer_num, input_dim, hidden_dim, output_dim)\n",
    "    print(deep_reg_Net)\n",
    "    \n",
    "    deep_reg_Net.to(device)\n",
    "    \n",
    "    \n",
    "    #--- optimizer\n",
    "    optimizer = torch.optim.Adam(params=deep_reg_Net.parameters(), lr=learning_rate)\n",
    "    \n",
    "    #--- loss fuction\n",
    "    l2_loss_func = L2_Func()\n",
    "    \n",
    "    \n",
    "    #---- start to train our network\n",
    "    total_trn_loss = []\n",
    "    total_trn_RMSE = []\n",
    "    total_val_RMSE = []\n",
    "    total_epoch = []\n",
    "\n",
    "    train_RMSE = []\n",
    "    val_RMSE = []\n",
    "\n",
    "    best_RMSE = float('inf')\n",
    "    best_epoch = 0\n",
    "    \n",
    "    for epoch in range(max_epoch):\n",
    "        print('')\n",
    "        print('')\n",
    "        print('###################### Start to Train NN model ##########################')\n",
    "        deep_reg_Net.train()\n",
    "        epoch_loss = []\n",
    "        progress = tqdm(total=len(trn_loader), desc='epoch % 3d' % epoch)\n",
    "        for step, (X_features, Y_targets, idx) in enumerate(trn_loader):\n",
    "            # zero the parameter gradients\n",
    "            optimizer.zero_grad()\n",
    "            \n",
    "        \n",
    "            ################## Get Training & Traget Dataset ##################\n",
    "            X_features = X_features.to(device).float()\n",
    "            Y_targets = Y_targets.to(device).flatten().float()\n",
    "            \n",
    "            # forward + backward + optimize\n",
    "            Y_prediction = deep_reg_Net(X_features).flatten().float()\n",
    "            loss = l2_loss_func(Y_prediction, Y_targets)  # MSE loss\n",
    "            loss = torch.sqrt(loss) #RMSE\n",
    "            loss.backward()\n",
    "            optimizer.step()\n",
    "            \n",
    "            #---finished update in one batch\n",
    "            epoch_loss.append(loss.data.cpu().numpy())\n",
    "            progress.set_postfix({'loss': loss.data.cpu().numpy()})\n",
    "            progress.update()\n",
    "        progress.close()\n",
    "        total_trn_loss.append(np.mean(epoch_loss))  #---- finished one epoch\n",
    "        \n",
    "        \n",
    "        #------ validation our model\n",
    "        if epoch%check_freq==0:\n",
    "            trn_rmse, gt_pred_dict = val_deepreg(deep_reg_Net, trn_loader, device, l2_loss_func)\n",
    "            total_trn_RMSE.append(trn_rmse)\n",
    "            \n",
    "            val_rmse, gt_pred_dict = val_deepreg(deep_reg_Net, val_loader, device, l2_loss_func)\n",
    "            total_val_RMSE.append(val_rmse)\n",
    "\n",
    "            if best_RMSE > val_rmse:\n",
    "                best_RMSE = val_rmse\n",
    "                best_epoch = epoch\n",
    "                ################ check and always save the best model we have\n",
    "                model_file_name = os.path.join(dir_model_name, 'best_net_L{}_H{}.pt'.format(layer_num, hidden_dim))\n",
    "                save_model(deep_reg_Net.eval(), model_file_name)\n",
    "            figure_name = os.path.join(dir_name, 'train_val_mse_L{}_H{}.png'.format(layer_num, hidden_dim))\n",
    "            display_RMSE(total_trn_RMSE, total_val_RMSE, check_freq, figure_name)\n",
    "            figure_name = os.path.join(dir_name, 'train_loss_L{}_H{}.png'.format(layer_num, hidden_dim))\n",
    "            display_train_loss(total_trn_loss, figure_name)\n",
    "    \n",
    "    ###### after traing, let's get the best and verify its performance on training/validation/test set again!\n",
    "    # load the best net\n",
    "    model_file_name = os.path.join(dir_model_name, 'best_net_L{}_H{}.pt'.format(layer_num, hidden_dim))\n",
    "    best_Net = DeepReg(layer_num, input_dim, hidden_dim, output_dim)\n",
    "    if torch.cuda.is_available():\n",
    "        try:\n",
    "            best_Net.load_state_dict(torch.load(model_file_name, map_location='cuda:{}'.format(gpu_id)))\n",
    "            print('Loading Pretrained models 1 (GPU)!')\n",
    "        except:\n",
    "            best_Net = nn.DataParallel(best_Net)\n",
    "            best_Net.load_state_dict(torch.load(model_file_name, map_location='cuda:{}'.format(gpu_id)))\n",
    "            print('Loading Pretrained models 2 (GPU)!')\n",
    "    else:\n",
    "        device = torch.device(\"cuda:{}\".format(gpu_id) if torch.cuda.is_available() else \"cpu\")\n",
    "        best_Net.load_state_dict(torch.load(model_file_name, map_location=torch.device('cpu')))\n",
    "        print('Loading Pretrained models on CPU!')\n",
    "    \n",
    "    # move the best net to our device\n",
    "    best_Net.to(device)\n",
    "    \n",
    "        \n",
    "        \n",
    "    # check its performance on training set\n",
    "    trn_rmse, trn_gt_pred_dict = val_deepreg(best_Net, trn_loader, device, l2_loss_func)\n",
    "    \n",
    "    # check its performance on validation set\n",
    "    val_rmse, val_gt_pred_dict = val_deepreg(best_Net, val_loader, device, l2_loss_func)\n",
    "    \n",
    "    # check its performance on test set\n",
    "    tst_rmse, tst_gt_pred_dict = val_deepreg(best_Net, tst_loader, device, l2_loss_func)\n",
    "    \n",
    "    \n",
    "    #----------- Finally, let's save our results---------------#\n",
    "    trn_pred_file = os.path.join(dir_name_test, 'train_prediction_L{}_H{}.csv'.format(layer_num, hidden_dim))\n",
    "    trn_df = pd.DataFrame.from_dict(trn_gt_pred_dict)\n",
    "    trn_df.to_csv(trn_pred_file, index=False)\n",
    "    \n",
    "    val_pred_file = os.path.join(dir_name_test, 'validation_prediction_L{}_H{}.csv'.format(layer_num, hidden_dim))\n",
    "    val_df = pd.DataFrame.from_dict(val_gt_pred_dict)\n",
    "    val_df.to_csv(val_pred_file, index=False)\n",
    "    \n",
    "    tst_pred_file = os.path.join(dir_name_test, 'hos_test_prediction_L{}_H{}.csv'.format(layer_num, hidden_dim))\n",
    "    tst_df = pd.DataFrame.from_dict(tst_gt_pred_dict)\n",
    "    tst_df.to_csv(tst_pred_file, index=False)\n",
    "    \n",
    "    final_RMSE_dict = {'Type':['Train_RMSE', 'Validation_RMSE', 'Test_RMSE'],\n",
    "                       'RMSE':[trn_rmse, val_rmse, tst_rmse]}\n",
    "    \n",
    "    final_RMSE_df = pd.DataFrame.from_dict(final_RMSE_dict)\n",
    "    final_RMSE_file = os.path.join(dir_name_test, 'final_RMSE_L{}_H{}.csv'.format(layer_num, hidden_dim))\n",
    "    final_RMSE_df.to_csv(final_RMSE_file, index=False)\n",
    "    \n",
    "    print('')\n",
    "    print('')\n",
    "    print('>>>Congrats! The DNN regression model has been trained and saved!')"
   ]
  },
  {
   "cell_type": "markdown",
   "id": "31bf274b",
   "metadata": {},
   "source": [
    "The function **deep_reg_val** is a validation function. It will test how our deep regression model works on validation set."
   ]
  },
  {
   "cell_type": "code",
   "execution_count": 3,
   "id": "be49b3a1",
   "metadata": {},
   "outputs": [],
   "source": [
    "#------ define function for validation------#\n",
    "def val_deepreg(model, data_loader, device, l2_loss_func):\n",
    "    model.eval()\n",
    "    RMSE = []\n",
    "    gt_pred_dict = {'Y_True':[], 'Y_Prediction':[]}\n",
    "    with torch.no_grad():\n",
    "        for step, (X_features, Y_targets, idx) in enumerate(data_loader):\n",
    "            X_features = X_features.to(device).float()\n",
    "            Y_targets = Y_targets.to(device).flatten().float()\n",
    "            Y_prediction = model(X_features).flatten().float().detach()\n",
    "            cur_mse = l2_loss_func(Y_prediction, Y_targets)\n",
    "            cur_mse = torch.sqrt(cur_mse) #RMSE\n",
    "            RMSE.append(cur_mse.item())\n",
    "            ##### let's save our ground truth and predictions\n",
    "            Y_truth_list = list(Y_targets.cpu().numpy().flatten())\n",
    "            Y_prediction_list = list(Y_prediction.cpu().numpy().flatten())\n",
    "            gt_pred_dict['Y_True'].extend(Y_truth_list)\n",
    "            gt_pred_dict['Y_Prediction'].extend(Y_prediction_list)\n",
    "    avg_rmse = np.mean(RMSE)\n",
    "    return avg_rmse, gt_pred_dict"
   ]
  },
  {
   "cell_type": "markdown",
   "id": "77b0237b",
   "metadata": {},
   "source": [
    "The function **deep_reg_test** is a test function. It will test how our deep regression model works on test set."
   ]
  },
  {
   "cell_type": "markdown",
   "id": "537bc637",
   "metadata": {},
   "source": [
    "Below, we start to run our code."
   ]
  },
  {
   "cell_type": "code",
   "execution_count": 4,
   "id": "ab759d28",
   "metadata": {},
   "outputs": [
    {
     "name": "stdout",
     "output_type": "stream",
     "text": [
      "cuda:0\n",
      "DeepReg(\n",
      "  (deepreg_layers): ModuleList(\n",
      "    (0): Linear(in_features=19, out_features=32, bias=True)\n",
      "    (1): BatchNorm1d(32, eps=1e-05, momentum=0.1, affine=True, track_running_stats=True)\n",
      "    (2): LeakyReLU(negative_slope=0.01)\n",
      "    (3): Dropout(p=0.5, inplace=False)\n",
      "    (4): Linear(in_features=32, out_features=32, bias=True)\n",
      "    (5): BatchNorm1d(32, eps=1e-05, momentum=0.1, affine=True, track_running_stats=True)\n",
      "    (6): LeakyReLU(negative_slope=0.01)\n",
      "    (7): Dropout(p=0.5, inplace=False)\n",
      "    (8): Linear(in_features=32, out_features=32, bias=True)\n",
      "    (9): BatchNorm1d(32, eps=1e-05, momentum=0.1, affine=True, track_running_stats=True)\n",
      "    (10): LeakyReLU(negative_slope=0.01)\n",
      "    (11): Dropout(p=0.5, inplace=False)\n",
      "    (12): Linear(in_features=32, out_features=32, bias=True)\n",
      "    (13): BatchNorm1d(32, eps=1e-05, momentum=0.1, affine=True, track_running_stats=True)\n",
      "    (14): LeakyReLU(negative_slope=0.01)\n",
      "    (15): Dropout(p=0.5, inplace=False)\n",
      "    (16): Linear(in_features=32, out_features=32, bias=True)\n",
      "    (17): BatchNorm1d(32, eps=1e-05, momentum=0.1, affine=True, track_running_stats=True)\n",
      "    (18): LeakyReLU(negative_slope=0.01)\n",
      "    (19): Dropout(p=0.5, inplace=False)\n",
      "    (20): Linear(in_features=32, out_features=32, bias=True)\n",
      "    (21): BatchNorm1d(32, eps=1e-05, momentum=0.1, affine=True, track_running_stats=True)\n",
      "    (22): LeakyReLU(negative_slope=0.01)\n",
      "    (23): Dropout(p=0.5, inplace=False)\n",
      "    (24): Linear(in_features=32, out_features=32, bias=True)\n",
      "    (25): BatchNorm1d(32, eps=1e-05, momentum=0.1, affine=True, track_running_stats=True)\n",
      "    (26): LeakyReLU(negative_slope=0.01)\n",
      "    (27): Dropout(p=0.5, inplace=False)\n",
      "    (28): Linear(in_features=32, out_features=32, bias=True)\n",
      "    (29): BatchNorm1d(32, eps=1e-05, momentum=0.1, affine=True, track_running_stats=True)\n",
      "    (30): LeakyReLU(negative_slope=0.01)\n",
      "    (31): Dropout(p=0.5, inplace=False)\n",
      "    (32): Linear(in_features=32, out_features=32, bias=True)\n",
      "    (33): BatchNorm1d(32, eps=1e-05, momentum=0.1, affine=True, track_running_stats=True)\n",
      "    (34): LeakyReLU(negative_slope=0.01)\n",
      "    (35): Dropout(p=0.5, inplace=False)\n",
      "    (36): Linear(in_features=32, out_features=1, bias=True)\n",
      "  )\n",
      ")\n",
      "\n",
      "\n",
      "###################### Start to Train NN model ##########################\n"
     ]
    },
    {
     "name": "stderr",
     "output_type": "stream",
     "text": [
      "epoch   0: 100%|██████████| 35/35 [00:00<00:00, 42.25it/s, loss=23.944576]\n"
     ]
    },
    {
     "name": "stdout",
     "output_type": "stream",
     "text": [
      "The trained model has been saved!\n",
      "\n",
      "\n",
      "###################### Start to Train NN model ##########################\n"
     ]
    },
    {
     "name": "stderr",
     "output_type": "stream",
     "text": [
      "epoch   1: 100%|██████████| 35/35 [00:00<00:00, 94.62it/s, loss=23.86258] \n"
     ]
    },
    {
     "name": "stdout",
     "output_type": "stream",
     "text": [
      "The trained model has been saved!\n",
      "\n",
      "\n",
      "###################### Start to Train NN model ##########################\n"
     ]
    },
    {
     "name": "stderr",
     "output_type": "stream",
     "text": [
      "epoch   2: 100%|██████████| 35/35 [00:00<00:00, 94.97it/s, loss=22.207333]\n"
     ]
    },
    {
     "name": "stdout",
     "output_type": "stream",
     "text": [
      "\n",
      "\n",
      "###################### Start to Train NN model ##########################\n"
     ]
    },
    {
     "name": "stderr",
     "output_type": "stream",
     "text": [
      "epoch   3: 100%|██████████| 35/35 [00:00<00:00, 98.78it/s, loss=22.647017] \n"
     ]
    },
    {
     "name": "stdout",
     "output_type": "stream",
     "text": [
      "\n",
      "\n",
      "###################### Start to Train NN model ##########################\n"
     ]
    },
    {
     "name": "stderr",
     "output_type": "stream",
     "text": [
      "epoch   4: 100%|██████████| 35/35 [00:00<00:00, 96.70it/s, loss=21.771214]\n"
     ]
    },
    {
     "name": "stdout",
     "output_type": "stream",
     "text": [
      "\n",
      "\n",
      "###################### Start to Train NN model ##########################\n"
     ]
    },
    {
     "name": "stderr",
     "output_type": "stream",
     "text": [
      "epoch   5: 100%|██████████| 35/35 [00:00<00:00, 89.70it/s, loss=18.88655] \n"
     ]
    },
    {
     "name": "stdout",
     "output_type": "stream",
     "text": [
      "\n",
      "\n",
      "###################### Start to Train NN model ##########################\n"
     ]
    },
    {
     "name": "stderr",
     "output_type": "stream",
     "text": [
      "epoch   6: 100%|██████████| 35/35 [00:00<00:00, 91.65it/s, loss=16.904013]\n"
     ]
    },
    {
     "name": "stdout",
     "output_type": "stream",
     "text": [
      "\n",
      "\n",
      "###################### Start to Train NN model ##########################\n"
     ]
    },
    {
     "name": "stderr",
     "output_type": "stream",
     "text": [
      "epoch   7: 100%|██████████| 35/35 [00:00<00:00, 92.56it/s, loss=18.219675]\n"
     ]
    },
    {
     "name": "stdout",
     "output_type": "stream",
     "text": [
      "\n",
      "\n",
      "###################### Start to Train NN model ##########################\n"
     ]
    },
    {
     "name": "stderr",
     "output_type": "stream",
     "text": [
      "epoch   8: 100%|██████████| 35/35 [00:00<00:00, 92.00it/s, loss=12.971382]\n"
     ]
    },
    {
     "name": "stdout",
     "output_type": "stream",
     "text": [
      "The trained model has been saved!\n",
      "\n",
      "\n",
      "###################### Start to Train NN model ##########################\n"
     ]
    },
    {
     "name": "stderr",
     "output_type": "stream",
     "text": [
      "epoch   9: 100%|██████████| 35/35 [00:00<00:00, 87.87it/s, loss=12.423264] \n"
     ]
    },
    {
     "name": "stdout",
     "output_type": "stream",
     "text": [
      "The trained model has been saved!\n",
      "\n",
      "\n",
      "###################### Start to Train NN model ##########################\n"
     ]
    },
    {
     "name": "stderr",
     "output_type": "stream",
     "text": [
      "epoch  10: 100%|██████████| 35/35 [00:00<00:00, 88.13it/s, loss=11.710434]\n"
     ]
    },
    {
     "name": "stdout",
     "output_type": "stream",
     "text": [
      "The trained model has been saved!\n",
      "\n",
      "\n",
      "###################### Start to Train NN model ##########################\n"
     ]
    },
    {
     "name": "stderr",
     "output_type": "stream",
     "text": [
      "epoch  11: 100%|██████████| 35/35 [00:00<00:00, 95.14it/s, loss=9.659962] \n"
     ]
    },
    {
     "name": "stdout",
     "output_type": "stream",
     "text": [
      "\n",
      "\n",
      "###################### Start to Train NN model ##########################\n"
     ]
    },
    {
     "name": "stderr",
     "output_type": "stream",
     "text": [
      "epoch  12: 100%|██████████| 35/35 [00:00<00:00, 93.95it/s, loss=9.922068]  \n"
     ]
    },
    {
     "name": "stdout",
     "output_type": "stream",
     "text": [
      "The trained model has been saved!\n",
      "\n",
      "\n",
      "###################### Start to Train NN model ##########################\n"
     ]
    },
    {
     "name": "stderr",
     "output_type": "stream",
     "text": [
      "epoch  13: 100%|██████████| 35/35 [00:00<00:00, 101.93it/s, loss=10.210461]\n"
     ]
    },
    {
     "name": "stdout",
     "output_type": "stream",
     "text": [
      "The trained model has been saved!\n",
      "\n",
      "\n",
      "###################### Start to Train NN model ##########################\n"
     ]
    },
    {
     "name": "stderr",
     "output_type": "stream",
     "text": [
      "epoch  14: 100%|██████████| 35/35 [00:00<00:00, 96.92it/s, loss=10.454232]  \n"
     ]
    },
    {
     "name": "stdout",
     "output_type": "stream",
     "text": [
      "The trained model has been saved!\n",
      "\n",
      "\n",
      "###################### Start to Train NN model ##########################\n"
     ]
    },
    {
     "name": "stderr",
     "output_type": "stream",
     "text": [
      "epoch  15: 100%|██████████| 35/35 [00:00<00:00, 103.16it/s, loss=10.530528]\n"
     ]
    },
    {
     "name": "stdout",
     "output_type": "stream",
     "text": [
      "\n",
      "\n",
      "###################### Start to Train NN model ##########################\n"
     ]
    },
    {
     "name": "stderr",
     "output_type": "stream",
     "text": [
      "epoch  16: 100%|██████████| 35/35 [00:00<00:00, 102.17it/s, loss=10.496821]\n"
     ]
    },
    {
     "name": "stdout",
     "output_type": "stream",
     "text": [
      "The trained model has been saved!\n",
      "\n",
      "\n",
      "###################### Start to Train NN model ##########################\n"
     ]
    },
    {
     "name": "stderr",
     "output_type": "stream",
     "text": [
      "epoch  17: 100%|██████████| 35/35 [00:00<00:00, 103.05it/s, loss=8.392992] \n"
     ]
    },
    {
     "name": "stdout",
     "output_type": "stream",
     "text": [
      "\n",
      "\n",
      "###################### Start to Train NN model ##########################\n"
     ]
    },
    {
     "name": "stderr",
     "output_type": "stream",
     "text": [
      "epoch  18: 100%|██████████| 35/35 [00:00<00:00, 98.24it/s, loss=10.24355] \n"
     ]
    },
    {
     "name": "stdout",
     "output_type": "stream",
     "text": [
      "\n",
      "\n",
      "###################### Start to Train NN model ##########################\n"
     ]
    },
    {
     "name": "stderr",
     "output_type": "stream",
     "text": [
      "epoch  19: 100%|██████████| 35/35 [00:00<00:00, 92.52it/s, loss=8.688379] \n"
     ]
    },
    {
     "name": "stdout",
     "output_type": "stream",
     "text": [
      "The trained model has been saved!\n",
      "\n",
      "\n",
      "###################### Start to Train NN model ##########################\n"
     ]
    },
    {
     "name": "stderr",
     "output_type": "stream",
     "text": [
      "epoch  20: 100%|██████████| 35/35 [00:00<00:00, 89.49it/s, loss=8.902601] \n"
     ]
    },
    {
     "name": "stdout",
     "output_type": "stream",
     "text": [
      "\n",
      "\n",
      "###################### Start to Train NN model ##########################\n"
     ]
    },
    {
     "name": "stderr",
     "output_type": "stream",
     "text": [
      "epoch  21: 100%|██████████| 35/35 [00:00<00:00, 86.92it/s, loss=8.792563] \n"
     ]
    },
    {
     "name": "stdout",
     "output_type": "stream",
     "text": [
      "\n",
      "\n",
      "###################### Start to Train NN model ##########################\n"
     ]
    },
    {
     "name": "stderr",
     "output_type": "stream",
     "text": [
      "epoch  22: 100%|██████████| 35/35 [00:00<00:00, 80.38it/s, loss=9.46642]  \n"
     ]
    },
    {
     "name": "stdout",
     "output_type": "stream",
     "text": [
      "The trained model has been saved!\n",
      "\n",
      "\n",
      "###################### Start to Train NN model ##########################\n"
     ]
    },
    {
     "name": "stderr",
     "output_type": "stream",
     "text": [
      "epoch  23: 100%|██████████| 35/35 [00:00<00:00, 118.40it/s, loss=9.968562]\n"
     ]
    },
    {
     "name": "stdout",
     "output_type": "stream",
     "text": [
      "\n",
      "\n",
      "###################### Start to Train NN model ##########################\n"
     ]
    },
    {
     "name": "stderr",
     "output_type": "stream",
     "text": [
      "epoch  24: 100%|██████████| 35/35 [00:00<00:00, 107.20it/s, loss=9.24517]  \n"
     ]
    },
    {
     "name": "stdout",
     "output_type": "stream",
     "text": [
      "The trained model has been saved!\n",
      "\n",
      "\n",
      "###################### Start to Train NN model ##########################\n"
     ]
    },
    {
     "name": "stderr",
     "output_type": "stream",
     "text": [
      "epoch  25: 100%|██████████| 35/35 [00:00<00:00, 128.31it/s, loss=8.195494] \n"
     ]
    },
    {
     "name": "stdout",
     "output_type": "stream",
     "text": [
      "The trained model has been saved!\n",
      "\n",
      "\n",
      "###################### Start to Train NN model ##########################\n"
     ]
    },
    {
     "name": "stderr",
     "output_type": "stream",
     "text": [
      "epoch  26: 100%|██████████| 35/35 [00:00<00:00, 110.22it/s, loss=8.964568] \n"
     ]
    },
    {
     "name": "stdout",
     "output_type": "stream",
     "text": [
      "\n",
      "\n",
      "###################### Start to Train NN model ##########################\n"
     ]
    },
    {
     "name": "stderr",
     "output_type": "stream",
     "text": [
      "epoch  27: 100%|██████████| 35/35 [00:00<00:00, 91.04it/s, loss=8.375317]\n"
     ]
    },
    {
     "name": "stdout",
     "output_type": "stream",
     "text": [
      "The trained model has been saved!\n",
      "\n",
      "\n",
      "###################### Start to Train NN model ##########################\n"
     ]
    },
    {
     "name": "stderr",
     "output_type": "stream",
     "text": [
      "epoch  28: 100%|██████████| 35/35 [00:00<00:00, 133.98it/s, loss=8.298643] \n"
     ]
    },
    {
     "name": "stdout",
     "output_type": "stream",
     "text": [
      "\n",
      "\n",
      "###################### Start to Train NN model ##########################\n"
     ]
    },
    {
     "name": "stderr",
     "output_type": "stream",
     "text": [
      "epoch  29: 100%|██████████| 35/35 [00:00<00:00, 131.37it/s, loss=9.657543] \n"
     ]
    },
    {
     "name": "stdout",
     "output_type": "stream",
     "text": [
      "\n",
      "\n",
      "###################### Start to Train NN model ##########################\n"
     ]
    },
    {
     "name": "stderr",
     "output_type": "stream",
     "text": [
      "epoch  30: 100%|██████████| 35/35 [00:00<00:00, 136.74it/s, loss=8.714913] \n"
     ]
    },
    {
     "name": "stdout",
     "output_type": "stream",
     "text": [
      "\n",
      "\n",
      "###################### Start to Train NN model ##########################\n"
     ]
    },
    {
     "name": "stderr",
     "output_type": "stream",
     "text": [
      "epoch  31: 100%|██████████| 35/35 [00:00<00:00, 103.58it/s, loss=9.584526] \n"
     ]
    },
    {
     "name": "stdout",
     "output_type": "stream",
     "text": [
      "The trained model has been saved!\n",
      "\n",
      "\n",
      "###################### Start to Train NN model ##########################\n"
     ]
    },
    {
     "name": "stderr",
     "output_type": "stream",
     "text": [
      "epoch  32: 100%|██████████| 35/35 [00:00<00:00, 98.21it/s, loss=7.663735]  \n"
     ]
    },
    {
     "name": "stdout",
     "output_type": "stream",
     "text": [
      "The trained model has been saved!\n",
      "\n",
      "\n",
      "###################### Start to Train NN model ##########################\n"
     ]
    },
    {
     "name": "stderr",
     "output_type": "stream",
     "text": [
      "epoch  33: 100%|██████████| 35/35 [00:00<00:00, 103.05it/s, loss=7.934949] \n"
     ]
    },
    {
     "name": "stdout",
     "output_type": "stream",
     "text": [
      "The trained model has been saved!\n",
      "\n",
      "\n",
      "###################### Start to Train NN model ##########################\n"
     ]
    },
    {
     "name": "stderr",
     "output_type": "stream",
     "text": [
      "epoch  34: 100%|██████████| 35/35 [00:00<00:00, 106.37it/s, loss=8.363222] \n"
     ]
    },
    {
     "name": "stdout",
     "output_type": "stream",
     "text": [
      "The trained model has been saved!\n",
      "\n",
      "\n",
      "###################### Start to Train NN model ##########################\n"
     ]
    },
    {
     "name": "stderr",
     "output_type": "stream",
     "text": [
      "epoch  35: 100%|██████████| 35/35 [00:00<00:00, 121.23it/s, loss=8.117952] \n"
     ]
    },
    {
     "name": "stdout",
     "output_type": "stream",
     "text": [
      "The trained model has been saved!\n",
      "\n",
      "\n",
      "###################### Start to Train NN model ##########################\n"
     ]
    },
    {
     "name": "stderr",
     "output_type": "stream",
     "text": [
      "epoch  36: 100%|██████████| 35/35 [00:00<00:00, 89.39it/s, loss=8.899958] \n"
     ]
    },
    {
     "name": "stdout",
     "output_type": "stream",
     "text": [
      "\n",
      "\n",
      "###################### Start to Train NN model ##########################\n"
     ]
    },
    {
     "name": "stderr",
     "output_type": "stream",
     "text": [
      "epoch  37: 100%|██████████| 35/35 [00:00<00:00, 95.20it/s, loss=8.756074] \n"
     ]
    },
    {
     "name": "stdout",
     "output_type": "stream",
     "text": [
      "\n",
      "\n",
      "###################### Start to Train NN model ##########################\n"
     ]
    },
    {
     "name": "stderr",
     "output_type": "stream",
     "text": [
      "epoch  38: 100%|██████████| 35/35 [00:00<00:00, 111.20it/s, loss=7.491739] \n"
     ]
    },
    {
     "name": "stdout",
     "output_type": "stream",
     "text": [
      "The trained model has been saved!\n",
      "\n",
      "\n",
      "###################### Start to Train NN model ##########################\n"
     ]
    },
    {
     "name": "stderr",
     "output_type": "stream",
     "text": [
      "epoch  39: 100%|██████████| 35/35 [00:00<00:00, 100.88it/s, loss=7.129682] \n"
     ]
    },
    {
     "name": "stdout",
     "output_type": "stream",
     "text": [
      "The trained model has been saved!\n",
      "\n",
      "\n",
      "###################### Start to Train NN model ##########################\n"
     ]
    },
    {
     "name": "stderr",
     "output_type": "stream",
     "text": [
      "epoch  40: 100%|██████████| 35/35 [00:00<00:00, 79.05it/s, loss=7.410129] \n"
     ]
    },
    {
     "name": "stdout",
     "output_type": "stream",
     "text": [
      "\n",
      "\n",
      "###################### Start to Train NN model ##########################\n"
     ]
    },
    {
     "name": "stderr",
     "output_type": "stream",
     "text": [
      "epoch  41: 100%|██████████| 35/35 [00:00<00:00, 102.58it/s, loss=7.3187943]\n"
     ]
    },
    {
     "name": "stdout",
     "output_type": "stream",
     "text": [
      "\n",
      "\n",
      "###################### Start to Train NN model ##########################\n"
     ]
    },
    {
     "name": "stderr",
     "output_type": "stream",
     "text": [
      "epoch  42: 100%|██████████| 35/35 [00:00<00:00, 102.90it/s, loss=8.274997]\n"
     ]
    },
    {
     "name": "stdout",
     "output_type": "stream",
     "text": [
      "\n",
      "\n",
      "###################### Start to Train NN model ##########################\n"
     ]
    },
    {
     "name": "stderr",
     "output_type": "stream",
     "text": [
      "epoch  43: 100%|██████████| 35/35 [00:00<00:00, 125.74it/s, loss=8.532068] \n"
     ]
    },
    {
     "name": "stdout",
     "output_type": "stream",
     "text": [
      "\n",
      "\n",
      "###################### Start to Train NN model ##########################\n"
     ]
    },
    {
     "name": "stderr",
     "output_type": "stream",
     "text": [
      "epoch  44: 100%|██████████| 35/35 [00:00<00:00, 100.21it/s, loss=7.944391] \n"
     ]
    },
    {
     "name": "stdout",
     "output_type": "stream",
     "text": [
      "\n",
      "\n",
      "###################### Start to Train NN model ##########################\n"
     ]
    },
    {
     "name": "stderr",
     "output_type": "stream",
     "text": [
      "epoch  45: 100%|██████████| 35/35 [00:00<00:00, 129.73it/s, loss=8.359046] \n"
     ]
    },
    {
     "name": "stdout",
     "output_type": "stream",
     "text": [
      "The trained model has been saved!\n",
      "\n",
      "\n",
      "###################### Start to Train NN model ##########################\n"
     ]
    },
    {
     "name": "stderr",
     "output_type": "stream",
     "text": [
      "epoch  46: 100%|██████████| 35/35 [00:00<00:00, 132.67it/s, loss=8.393671] \n"
     ]
    },
    {
     "name": "stdout",
     "output_type": "stream",
     "text": [
      "The trained model has been saved!\n",
      "\n",
      "\n",
      "###################### Start to Train NN model ##########################\n"
     ]
    },
    {
     "name": "stderr",
     "output_type": "stream",
     "text": [
      "epoch  47: 100%|██████████| 35/35 [00:00<00:00, 114.03it/s, loss=7.235966] \n"
     ]
    },
    {
     "name": "stdout",
     "output_type": "stream",
     "text": [
      "\n",
      "\n",
      "###################### Start to Train NN model ##########################\n"
     ]
    },
    {
     "name": "stderr",
     "output_type": "stream",
     "text": [
      "epoch  48: 100%|██████████| 35/35 [00:00<00:00, 124.70it/s, loss=7.570338] \n"
     ]
    },
    {
     "name": "stdout",
     "output_type": "stream",
     "text": [
      "The trained model has been saved!\n",
      "\n",
      "\n",
      "###################### Start to Train NN model ##########################\n"
     ]
    },
    {
     "name": "stderr",
     "output_type": "stream",
     "text": [
      "epoch  49: 100%|██████████| 35/35 [00:00<00:00, 119.58it/s, loss=8.177521] \n"
     ]
    },
    {
     "name": "stdout",
     "output_type": "stream",
     "text": [
      "\n",
      "\n",
      "###################### Start to Train NN model ##########################\n"
     ]
    },
    {
     "name": "stderr",
     "output_type": "stream",
     "text": [
      "epoch  50: 100%|██████████| 35/35 [00:00<00:00, 116.53it/s, loss=7.8773856]\n"
     ]
    },
    {
     "name": "stdout",
     "output_type": "stream",
     "text": [
      "The trained model has been saved!\n",
      "\n",
      "\n",
      "###################### Start to Train NN model ##########################\n"
     ]
    },
    {
     "name": "stderr",
     "output_type": "stream",
     "text": [
      "epoch  51: 100%|██████████| 35/35 [00:00<00:00, 115.00it/s, loss=9.185612] \n"
     ]
    },
    {
     "name": "stdout",
     "output_type": "stream",
     "text": [
      "The trained model has been saved!\n",
      "\n",
      "\n",
      "###################### Start to Train NN model ##########################\n"
     ]
    },
    {
     "name": "stderr",
     "output_type": "stream",
     "text": [
      "epoch  52: 100%|██████████| 35/35 [00:00<00:00, 117.47it/s, loss=7.7837496]\n"
     ]
    },
    {
     "name": "stdout",
     "output_type": "stream",
     "text": [
      "The trained model has been saved!\n",
      "\n",
      "\n",
      "###################### Start to Train NN model ##########################\n"
     ]
    },
    {
     "name": "stderr",
     "output_type": "stream",
     "text": [
      "epoch  53: 100%|██████████| 35/35 [00:00<00:00, 117.17it/s, loss=8.442226] \n"
     ]
    },
    {
     "name": "stdout",
     "output_type": "stream",
     "text": [
      "\n",
      "\n",
      "###################### Start to Train NN model ##########################\n"
     ]
    },
    {
     "name": "stderr",
     "output_type": "stream",
     "text": [
      "epoch  54: 100%|██████████| 35/35 [00:00<00:00, 124.00it/s, loss=7.5888715]\n"
     ]
    },
    {
     "name": "stdout",
     "output_type": "stream",
     "text": [
      "\n",
      "\n",
      "###################### Start to Train NN model ##########################\n"
     ]
    },
    {
     "name": "stderr",
     "output_type": "stream",
     "text": [
      "epoch  55: 100%|██████████| 35/35 [00:00<00:00, 121.83it/s, loss=7.863094] \n"
     ]
    },
    {
     "name": "stdout",
     "output_type": "stream",
     "text": [
      "\n",
      "\n",
      "###################### Start to Train NN model ##########################\n"
     ]
    },
    {
     "name": "stderr",
     "output_type": "stream",
     "text": [
      "epoch  56: 100%|██████████| 35/35 [00:00<00:00, 114.05it/s, loss=8.725311] \n"
     ]
    },
    {
     "name": "stdout",
     "output_type": "stream",
     "text": [
      "\n",
      "\n",
      "###################### Start to Train NN model ##########################\n"
     ]
    },
    {
     "name": "stderr",
     "output_type": "stream",
     "text": [
      "epoch  57: 100%|██████████| 35/35 [00:00<00:00, 127.36it/s, loss=8.8485775]\n"
     ]
    },
    {
     "name": "stdout",
     "output_type": "stream",
     "text": [
      "\n",
      "\n",
      "###################### Start to Train NN model ##########################\n"
     ]
    },
    {
     "name": "stderr",
     "output_type": "stream",
     "text": [
      "epoch  58: 100%|██████████| 35/35 [00:00<00:00, 133.08it/s, loss=8.118309] \n"
     ]
    },
    {
     "name": "stdout",
     "output_type": "stream",
     "text": [
      "The trained model has been saved!\n",
      "\n",
      "\n",
      "###################### Start to Train NN model ##########################\n"
     ]
    },
    {
     "name": "stderr",
     "output_type": "stream",
     "text": [
      "epoch  59: 100%|██████████| 35/35 [00:00<00:00, 103.90it/s, loss=7.862981] \n"
     ]
    },
    {
     "name": "stdout",
     "output_type": "stream",
     "text": [
      "The trained model has been saved!\n",
      "\n",
      "\n",
      "###################### Start to Train NN model ##########################\n"
     ]
    },
    {
     "name": "stderr",
     "output_type": "stream",
     "text": [
      "epoch  60: 100%|██████████| 35/35 [00:00<00:00, 108.54it/s, loss=7.4464254]\n"
     ]
    },
    {
     "name": "stdout",
     "output_type": "stream",
     "text": [
      "\n",
      "\n",
      "###################### Start to Train NN model ##########################\n"
     ]
    },
    {
     "name": "stderr",
     "output_type": "stream",
     "text": [
      "epoch  61: 100%|██████████| 35/35 [00:00<00:00, 119.55it/s, loss=8.294071] \n"
     ]
    },
    {
     "name": "stdout",
     "output_type": "stream",
     "text": [
      "The trained model has been saved!\n",
      "\n",
      "\n",
      "###################### Start to Train NN model ##########################\n"
     ]
    },
    {
     "name": "stderr",
     "output_type": "stream",
     "text": [
      "epoch  62: 100%|██████████| 35/35 [00:00<00:00, 102.51it/s, loss=7.39532]  \n"
     ]
    },
    {
     "name": "stdout",
     "output_type": "stream",
     "text": [
      "\n",
      "\n",
      "###################### Start to Train NN model ##########################\n"
     ]
    },
    {
     "name": "stderr",
     "output_type": "stream",
     "text": [
      "epoch  63: 100%|██████████| 35/35 [00:00<00:00, 109.96it/s, loss=7.872875] \n"
     ]
    },
    {
     "name": "stdout",
     "output_type": "stream",
     "text": [
      "The trained model has been saved!\n",
      "\n",
      "\n",
      "###################### Start to Train NN model ##########################\n"
     ]
    },
    {
     "name": "stderr",
     "output_type": "stream",
     "text": [
      "epoch  64: 100%|██████████| 35/35 [00:00<00:00, 104.56it/s, loss=7.098506] \n"
     ]
    },
    {
     "name": "stdout",
     "output_type": "stream",
     "text": [
      "The trained model has been saved!\n",
      "\n",
      "\n",
      "###################### Start to Train NN model ##########################\n"
     ]
    },
    {
     "name": "stderr",
     "output_type": "stream",
     "text": [
      "epoch  65: 100%|██████████| 35/35 [00:00<00:00, 130.49it/s, loss=7.487703] \n"
     ]
    },
    {
     "name": "stdout",
     "output_type": "stream",
     "text": [
      "\n",
      "\n",
      "###################### Start to Train NN model ##########################\n"
     ]
    },
    {
     "name": "stderr",
     "output_type": "stream",
     "text": [
      "epoch  66: 100%|██████████| 35/35 [00:00<00:00, 118.29it/s, loss=7.0818114]\n"
     ]
    },
    {
     "name": "stdout",
     "output_type": "stream",
     "text": [
      "\n",
      "\n",
      "###################### Start to Train NN model ##########################\n"
     ]
    },
    {
     "name": "stderr",
     "output_type": "stream",
     "text": [
      "epoch  67: 100%|██████████| 35/35 [00:00<00:00, 106.92it/s, loss=6.936797] \n"
     ]
    },
    {
     "name": "stdout",
     "output_type": "stream",
     "text": [
      "\n",
      "\n",
      "###################### Start to Train NN model ##########################\n"
     ]
    },
    {
     "name": "stderr",
     "output_type": "stream",
     "text": [
      "epoch  68: 100%|██████████| 35/35 [00:00<00:00, 102.43it/s, loss=7.723247] \n"
     ]
    },
    {
     "name": "stdout",
     "output_type": "stream",
     "text": [
      "\n",
      "\n",
      "###################### Start to Train NN model ##########################\n"
     ]
    },
    {
     "name": "stderr",
     "output_type": "stream",
     "text": [
      "epoch  69: 100%|██████████| 35/35 [00:00<00:00, 123.89it/s, loss=8.485058] \n"
     ]
    },
    {
     "name": "stdout",
     "output_type": "stream",
     "text": [
      "\n",
      "\n",
      "###################### Start to Train NN model ##########################\n"
     ]
    },
    {
     "name": "stderr",
     "output_type": "stream",
     "text": [
      "epoch  70: 100%|██████████| 35/35 [00:00<00:00, 91.23it/s, loss=8.049396] \n"
     ]
    },
    {
     "name": "stdout",
     "output_type": "stream",
     "text": [
      "\n",
      "\n",
      "###################### Start to Train NN model ##########################\n"
     ]
    },
    {
     "name": "stderr",
     "output_type": "stream",
     "text": [
      "epoch  71: 100%|██████████| 35/35 [00:00<00:00, 82.31it/s, loss=6.7613125]\n"
     ]
    },
    {
     "name": "stdout",
     "output_type": "stream",
     "text": [
      "The trained model has been saved!\n",
      "\n",
      "\n",
      "###################### Start to Train NN model ##########################\n"
     ]
    },
    {
     "name": "stderr",
     "output_type": "stream",
     "text": [
      "epoch  72: 100%|██████████| 35/35 [00:00<00:00, 89.73it/s, loss=6.958836] \n"
     ]
    },
    {
     "name": "stdout",
     "output_type": "stream",
     "text": [
      "\n",
      "\n",
      "###################### Start to Train NN model ##########################\n"
     ]
    },
    {
     "name": "stderr",
     "output_type": "stream",
     "text": [
      "epoch  73: 100%|██████████| 35/35 [00:00<00:00, 101.12it/s, loss=7.7073956]\n"
     ]
    },
    {
     "name": "stdout",
     "output_type": "stream",
     "text": [
      "\n",
      "\n",
      "###################### Start to Train NN model ##########################\n"
     ]
    },
    {
     "name": "stderr",
     "output_type": "stream",
     "text": [
      "epoch  74: 100%|██████████| 35/35 [00:00<00:00, 92.10it/s, loss=7.46107]  \n"
     ]
    },
    {
     "name": "stdout",
     "output_type": "stream",
     "text": [
      "\n",
      "\n",
      "###################### Start to Train NN model ##########################\n"
     ]
    },
    {
     "name": "stderr",
     "output_type": "stream",
     "text": [
      "epoch  75: 100%|██████████| 35/35 [00:00<00:00, 96.87it/s, loss=7.535527] \n"
     ]
    },
    {
     "name": "stdout",
     "output_type": "stream",
     "text": [
      "\n",
      "\n",
      "###################### Start to Train NN model ##########################\n"
     ]
    },
    {
     "name": "stderr",
     "output_type": "stream",
     "text": [
      "epoch  76: 100%|██████████| 35/35 [00:00<00:00, 97.29it/s, loss=6.376187] \n"
     ]
    },
    {
     "name": "stdout",
     "output_type": "stream",
     "text": [
      "\n",
      "\n",
      "###################### Start to Train NN model ##########################\n"
     ]
    },
    {
     "name": "stderr",
     "output_type": "stream",
     "text": [
      "epoch  77: 100%|██████████| 35/35 [00:00<00:00, 94.49it/s, loss=7.8042445]\n"
     ]
    },
    {
     "name": "stdout",
     "output_type": "stream",
     "text": [
      "\n",
      "\n",
      "###################### Start to Train NN model ##########################\n"
     ]
    },
    {
     "name": "stderr",
     "output_type": "stream",
     "text": [
      "epoch  78: 100%|██████████| 35/35 [00:00<00:00, 95.61it/s, loss=7.3285537]\n"
     ]
    },
    {
     "name": "stdout",
     "output_type": "stream",
     "text": [
      "\n",
      "\n",
      "###################### Start to Train NN model ##########################\n"
     ]
    },
    {
     "name": "stderr",
     "output_type": "stream",
     "text": [
      "epoch  79: 100%|██████████| 35/35 [00:00<00:00, 89.15it/s, loss=7.393475] \n"
     ]
    },
    {
     "name": "stdout",
     "output_type": "stream",
     "text": [
      "The trained model has been saved!\n",
      "\n",
      "\n",
      "###################### Start to Train NN model ##########################\n"
     ]
    },
    {
     "name": "stderr",
     "output_type": "stream",
     "text": [
      "epoch  80: 100%|██████████| 35/35 [00:00<00:00, 96.62it/s, loss=6.836832] \n"
     ]
    },
    {
     "name": "stdout",
     "output_type": "stream",
     "text": [
      "\n",
      "\n",
      "###################### Start to Train NN model ##########################\n"
     ]
    },
    {
     "name": "stderr",
     "output_type": "stream",
     "text": [
      "epoch  81: 100%|██████████| 35/35 [00:00<00:00, 96.34it/s, loss=6.925745] \n"
     ]
    },
    {
     "name": "stdout",
     "output_type": "stream",
     "text": [
      "\n",
      "\n",
      "###################### Start to Train NN model ##########################\n"
     ]
    },
    {
     "name": "stderr",
     "output_type": "stream",
     "text": [
      "epoch  82: 100%|██████████| 35/35 [00:00<00:00, 90.89it/s, loss=7.061757] \n"
     ]
    },
    {
     "name": "stdout",
     "output_type": "stream",
     "text": [
      "\n",
      "\n",
      "###################### Start to Train NN model ##########################\n"
     ]
    },
    {
     "name": "stderr",
     "output_type": "stream",
     "text": [
      "epoch  83: 100%|██████████| 35/35 [00:00<00:00, 99.40it/s, loss=6.5854445] \n"
     ]
    },
    {
     "name": "stdout",
     "output_type": "stream",
     "text": [
      "\n",
      "\n",
      "###################### Start to Train NN model ##########################\n"
     ]
    },
    {
     "name": "stderr",
     "output_type": "stream",
     "text": [
      "epoch  84: 100%|██████████| 35/35 [00:00<00:00, 94.80it/s, loss=7.328378] \n"
     ]
    },
    {
     "name": "stdout",
     "output_type": "stream",
     "text": [
      "\n",
      "\n",
      "###################### Start to Train NN model ##########################\n"
     ]
    },
    {
     "name": "stderr",
     "output_type": "stream",
     "text": [
      "epoch  85: 100%|██████████| 35/35 [00:00<00:00, 95.18it/s, loss=6.6668563]\n"
     ]
    },
    {
     "name": "stdout",
     "output_type": "stream",
     "text": [
      "\n",
      "\n",
      "###################### Start to Train NN model ##########################\n"
     ]
    },
    {
     "name": "stderr",
     "output_type": "stream",
     "text": [
      "epoch  86: 100%|██████████| 35/35 [00:00<00:00, 100.46it/s, loss=7.792408] \n"
     ]
    },
    {
     "name": "stdout",
     "output_type": "stream",
     "text": [
      "\n",
      "\n",
      "###################### Start to Train NN model ##########################\n"
     ]
    },
    {
     "name": "stderr",
     "output_type": "stream",
     "text": [
      "epoch  87: 100%|██████████| 35/35 [00:00<00:00, 100.66it/s, loss=7.2059164]\n"
     ]
    },
    {
     "name": "stdout",
     "output_type": "stream",
     "text": [
      "\n",
      "\n",
      "###################### Start to Train NN model ##########################\n"
     ]
    },
    {
     "name": "stderr",
     "output_type": "stream",
     "text": [
      "epoch  88: 100%|██████████| 35/35 [00:00<00:00, 97.90it/s, loss=6.527699] \n"
     ]
    },
    {
     "name": "stdout",
     "output_type": "stream",
     "text": [
      "\n",
      "\n",
      "###################### Start to Train NN model ##########################\n"
     ]
    },
    {
     "name": "stderr",
     "output_type": "stream",
     "text": [
      "epoch  89: 100%|██████████| 35/35 [00:00<00:00, 100.03it/s, loss=7.0560637]\n"
     ]
    },
    {
     "name": "stdout",
     "output_type": "stream",
     "text": [
      "The trained model has been saved!\n",
      "\n",
      "\n",
      "###################### Start to Train NN model ##########################\n"
     ]
    },
    {
     "name": "stderr",
     "output_type": "stream",
     "text": [
      "epoch  90: 100%|██████████| 35/35 [00:00<00:00, 97.39it/s, loss=7.307324] \n"
     ]
    },
    {
     "name": "stdout",
     "output_type": "stream",
     "text": [
      "\n",
      "\n",
      "###################### Start to Train NN model ##########################\n"
     ]
    },
    {
     "name": "stderr",
     "output_type": "stream",
     "text": [
      "epoch  91: 100%|██████████| 35/35 [00:00<00:00, 85.75it/s, loss=6.4096184]\n"
     ]
    },
    {
     "name": "stdout",
     "output_type": "stream",
     "text": [
      "\n",
      "\n",
      "###################### Start to Train NN model ##########################\n"
     ]
    },
    {
     "name": "stderr",
     "output_type": "stream",
     "text": [
      "epoch  92: 100%|██████████| 35/35 [00:00<00:00, 94.50it/s, loss=6.627584] \n"
     ]
    },
    {
     "name": "stdout",
     "output_type": "stream",
     "text": [
      "\n",
      "\n",
      "###################### Start to Train NN model ##########################\n"
     ]
    },
    {
     "name": "stderr",
     "output_type": "stream",
     "text": [
      "epoch  93: 100%|██████████| 35/35 [00:00<00:00, 98.97it/s, loss=6.6148257] \n"
     ]
    },
    {
     "name": "stdout",
     "output_type": "stream",
     "text": [
      "\n",
      "\n",
      "###################### Start to Train NN model ##########################\n"
     ]
    },
    {
     "name": "stderr",
     "output_type": "stream",
     "text": [
      "epoch  94: 100%|██████████| 35/35 [00:00<00:00, 94.92it/s, loss=8.149495] \n"
     ]
    },
    {
     "name": "stdout",
     "output_type": "stream",
     "text": [
      "The trained model has been saved!\n",
      "\n",
      "\n",
      "###################### Start to Train NN model ##########################\n"
     ]
    },
    {
     "name": "stderr",
     "output_type": "stream",
     "text": [
      "epoch  95: 100%|██████████| 35/35 [00:00<00:00, 98.30it/s, loss=6.381692]  \n"
     ]
    },
    {
     "name": "stdout",
     "output_type": "stream",
     "text": [
      "The trained model has been saved!\n",
      "\n",
      "\n",
      "###################### Start to Train NN model ##########################\n"
     ]
    },
    {
     "name": "stderr",
     "output_type": "stream",
     "text": [
      "epoch  96: 100%|██████████| 35/35 [00:00<00:00, 114.89it/s, loss=8.350165] \n"
     ]
    },
    {
     "name": "stdout",
     "output_type": "stream",
     "text": [
      "The trained model has been saved!\n",
      "\n",
      "\n",
      "###################### Start to Train NN model ##########################\n"
     ]
    },
    {
     "name": "stderr",
     "output_type": "stream",
     "text": [
      "epoch  97: 100%|██████████| 35/35 [00:00<00:00, 123.42it/s, loss=5.8184614]\n"
     ]
    },
    {
     "name": "stdout",
     "output_type": "stream",
     "text": [
      "The trained model has been saved!\n",
      "\n",
      "\n",
      "###################### Start to Train NN model ##########################\n"
     ]
    },
    {
     "name": "stderr",
     "output_type": "stream",
     "text": [
      "epoch  98: 100%|██████████| 35/35 [00:00<00:00, 125.46it/s, loss=8.272497] \n"
     ]
    },
    {
     "name": "stdout",
     "output_type": "stream",
     "text": [
      "\n",
      "\n",
      "###################### Start to Train NN model ##########################\n"
     ]
    },
    {
     "name": "stderr",
     "output_type": "stream",
     "text": [
      "epoch  99: 100%|██████████| 35/35 [00:00<00:00, 105.99it/s, loss=6.3683553]\n"
     ]
    },
    {
     "name": "stdout",
     "output_type": "stream",
     "text": [
      "\n",
      "\n",
      "###################### Start to Train NN model ##########################\n"
     ]
    },
    {
     "name": "stderr",
     "output_type": "stream",
     "text": [
      "epoch  100: 100%|██████████| 35/35 [00:00<00:00, 127.51it/s, loss=7.297438] \n"
     ]
    },
    {
     "name": "stdout",
     "output_type": "stream",
     "text": [
      "The trained model has been saved!\n",
      "\n",
      "\n",
      "###################### Start to Train NN model ##########################\n"
     ]
    },
    {
     "name": "stderr",
     "output_type": "stream",
     "text": [
      "epoch  101: 100%|██████████| 35/35 [00:00<00:00, 130.40it/s, loss=7.2593093]\n"
     ]
    },
    {
     "name": "stdout",
     "output_type": "stream",
     "text": [
      "The trained model has been saved!\n",
      "\n",
      "\n",
      "###################### Start to Train NN model ##########################\n"
     ]
    },
    {
     "name": "stderr",
     "output_type": "stream",
     "text": [
      "epoch  102: 100%|██████████| 35/35 [00:00<00:00, 131.44it/s, loss=6.7325225]\n"
     ]
    },
    {
     "name": "stdout",
     "output_type": "stream",
     "text": [
      "\n",
      "\n",
      "###################### Start to Train NN model ##########################\n"
     ]
    },
    {
     "name": "stderr",
     "output_type": "stream",
     "text": [
      "epoch  103: 100%|██████████| 35/35 [00:00<00:00, 119.31it/s, loss=7.7902355]\n"
     ]
    },
    {
     "name": "stdout",
     "output_type": "stream",
     "text": [
      "\n",
      "\n",
      "###################### Start to Train NN model ##########################\n"
     ]
    },
    {
     "name": "stderr",
     "output_type": "stream",
     "text": [
      "epoch  104: 100%|██████████| 35/35 [00:00<00:00, 114.78it/s, loss=6.9767094]\n"
     ]
    },
    {
     "name": "stdout",
     "output_type": "stream",
     "text": [
      "The trained model has been saved!\n",
      "\n",
      "\n",
      "###################### Start to Train NN model ##########################\n"
     ]
    },
    {
     "name": "stderr",
     "output_type": "stream",
     "text": [
      "epoch  105: 100%|██████████| 35/35 [00:00<00:00, 107.49it/s, loss=6.616013] \n"
     ]
    },
    {
     "name": "stdout",
     "output_type": "stream",
     "text": [
      "The trained model has been saved!\n",
      "\n",
      "\n",
      "###################### Start to Train NN model ##########################\n"
     ]
    },
    {
     "name": "stderr",
     "output_type": "stream",
     "text": [
      "epoch  106: 100%|██████████| 35/35 [00:00<00:00, 100.65it/s, loss=7.1953]   \n"
     ]
    },
    {
     "name": "stdout",
     "output_type": "stream",
     "text": [
      "\n",
      "\n",
      "###################### Start to Train NN model ##########################\n"
     ]
    },
    {
     "name": "stderr",
     "output_type": "stream",
     "text": [
      "epoch  107: 100%|██████████| 35/35 [00:00<00:00, 109.00it/s, loss=7.2464457]\n"
     ]
    },
    {
     "name": "stdout",
     "output_type": "stream",
     "text": [
      "The trained model has been saved!\n",
      "\n",
      "\n",
      "###################### Start to Train NN model ##########################\n"
     ]
    },
    {
     "name": "stderr",
     "output_type": "stream",
     "text": [
      "epoch  108: 100%|██████████| 35/35 [00:00<00:00, 103.16it/s, loss=7.7488914]\n"
     ]
    },
    {
     "name": "stdout",
     "output_type": "stream",
     "text": [
      "\n",
      "\n",
      "###################### Start to Train NN model ##########################\n"
     ]
    },
    {
     "name": "stderr",
     "output_type": "stream",
     "text": [
      "epoch  109: 100%|██████████| 35/35 [00:00<00:00, 109.68it/s, loss=7.2966485]\n"
     ]
    },
    {
     "name": "stdout",
     "output_type": "stream",
     "text": [
      "\n",
      "\n",
      "###################### Start to Train NN model ##########################\n"
     ]
    },
    {
     "name": "stderr",
     "output_type": "stream",
     "text": [
      "epoch  110: 100%|██████████| 35/35 [00:00<00:00, 117.26it/s, loss=6.6054564]\n"
     ]
    },
    {
     "name": "stdout",
     "output_type": "stream",
     "text": [
      "\n",
      "\n",
      "###################### Start to Train NN model ##########################\n"
     ]
    },
    {
     "name": "stderr",
     "output_type": "stream",
     "text": [
      "epoch  111: 100%|██████████| 35/35 [00:00<00:00, 122.06it/s, loss=6.723047] \n"
     ]
    },
    {
     "name": "stdout",
     "output_type": "stream",
     "text": [
      "\n",
      "\n",
      "###################### Start to Train NN model ##########################\n"
     ]
    },
    {
     "name": "stderr",
     "output_type": "stream",
     "text": [
      "epoch  112: 100%|██████████| 35/35 [00:00<00:00, 116.48it/s, loss=5.9104934]\n"
     ]
    },
    {
     "name": "stdout",
     "output_type": "stream",
     "text": [
      "\n",
      "\n",
      "###################### Start to Train NN model ##########################\n"
     ]
    },
    {
     "name": "stderr",
     "output_type": "stream",
     "text": [
      "epoch  113: 100%|██████████| 35/35 [00:00<00:00, 114.32it/s, loss=7.467372] \n"
     ]
    },
    {
     "name": "stdout",
     "output_type": "stream",
     "text": [
      "\n",
      "\n",
      "###################### Start to Train NN model ##########################\n"
     ]
    },
    {
     "name": "stderr",
     "output_type": "stream",
     "text": [
      "epoch  114: 100%|██████████| 35/35 [00:00<00:00, 107.24it/s, loss=7.059842] \n"
     ]
    },
    {
     "name": "stdout",
     "output_type": "stream",
     "text": [
      "\n",
      "\n",
      "###################### Start to Train NN model ##########################\n"
     ]
    },
    {
     "name": "stderr",
     "output_type": "stream",
     "text": [
      "epoch  115: 100%|██████████| 35/35 [00:00<00:00, 126.31it/s, loss=6.3247175]\n"
     ]
    },
    {
     "name": "stdout",
     "output_type": "stream",
     "text": [
      "\n",
      "\n",
      "###################### Start to Train NN model ##########################\n"
     ]
    },
    {
     "name": "stderr",
     "output_type": "stream",
     "text": [
      "epoch  116: 100%|██████████| 35/35 [00:00<00:00, 126.64it/s, loss=7.23412]  \n"
     ]
    },
    {
     "name": "stdout",
     "output_type": "stream",
     "text": [
      "\n",
      "\n",
      "###################### Start to Train NN model ##########################\n"
     ]
    },
    {
     "name": "stderr",
     "output_type": "stream",
     "text": [
      "epoch  117: 100%|██████████| 35/35 [00:00<00:00, 131.61it/s, loss=7.2693534]\n"
     ]
    },
    {
     "name": "stdout",
     "output_type": "stream",
     "text": [
      "\n",
      "\n",
      "###################### Start to Train NN model ##########################\n"
     ]
    },
    {
     "name": "stderr",
     "output_type": "stream",
     "text": [
      "epoch  118: 100%|██████████| 35/35 [00:00<00:00, 131.85it/s, loss=6.8281317]\n"
     ]
    },
    {
     "name": "stdout",
     "output_type": "stream",
     "text": [
      "\n",
      "\n",
      "###################### Start to Train NN model ##########################\n"
     ]
    },
    {
     "name": "stderr",
     "output_type": "stream",
     "text": [
      "epoch  119: 100%|██████████| 35/35 [00:00<00:00, 128.92it/s, loss=7.0700536]\n"
     ]
    },
    {
     "name": "stdout",
     "output_type": "stream",
     "text": [
      "\n",
      "\n",
      "###################### Start to Train NN model ##########################\n"
     ]
    },
    {
     "name": "stderr",
     "output_type": "stream",
     "text": [
      "epoch  120: 100%|██████████| 35/35 [00:00<00:00, 130.08it/s, loss=7.5215526]\n"
     ]
    },
    {
     "name": "stdout",
     "output_type": "stream",
     "text": [
      "The trained model has been saved!\n",
      "\n",
      "\n",
      "###################### Start to Train NN model ##########################\n"
     ]
    },
    {
     "name": "stderr",
     "output_type": "stream",
     "text": [
      "epoch  121: 100%|██████████| 35/35 [00:00<00:00, 131.00it/s, loss=6.7572055]\n"
     ]
    },
    {
     "name": "stdout",
     "output_type": "stream",
     "text": [
      "\n",
      "\n",
      "###################### Start to Train NN model ##########################\n"
     ]
    },
    {
     "name": "stderr",
     "output_type": "stream",
     "text": [
      "epoch  122: 100%|██████████| 35/35 [00:00<00:00, 124.96it/s, loss=6.7917585]\n"
     ]
    },
    {
     "name": "stdout",
     "output_type": "stream",
     "text": [
      "\n",
      "\n",
      "###################### Start to Train NN model ##########################\n"
     ]
    },
    {
     "name": "stderr",
     "output_type": "stream",
     "text": [
      "epoch  123: 100%|██████████| 35/35 [00:00<00:00, 121.60it/s, loss=7.7640743]\n"
     ]
    },
    {
     "name": "stdout",
     "output_type": "stream",
     "text": [
      "The trained model has been saved!\n",
      "\n",
      "\n",
      "###################### Start to Train NN model ##########################\n"
     ]
    },
    {
     "name": "stderr",
     "output_type": "stream",
     "text": [
      "epoch  124: 100%|██████████| 35/35 [00:00<00:00, 124.95it/s, loss=6.2714424]\n"
     ]
    },
    {
     "name": "stdout",
     "output_type": "stream",
     "text": [
      "The trained model has been saved!\n",
      "\n",
      "\n",
      "###################### Start to Train NN model ##########################\n"
     ]
    },
    {
     "name": "stderr",
     "output_type": "stream",
     "text": [
      "epoch  125: 100%|██████████| 35/35 [00:00<00:00, 130.78it/s, loss=7.151111] \n"
     ]
    },
    {
     "name": "stdout",
     "output_type": "stream",
     "text": [
      "\n",
      "\n",
      "###################### Start to Train NN model ##########################\n"
     ]
    },
    {
     "name": "stderr",
     "output_type": "stream",
     "text": [
      "epoch  126: 100%|██████████| 35/35 [00:00<00:00, 131.41it/s, loss=6.099311] \n"
     ]
    },
    {
     "name": "stdout",
     "output_type": "stream",
     "text": [
      "The trained model has been saved!\n",
      "\n",
      "\n",
      "###################### Start to Train NN model ##########################\n"
     ]
    },
    {
     "name": "stderr",
     "output_type": "stream",
     "text": [
      "epoch  127: 100%|██████████| 35/35 [00:00<00:00, 126.62it/s, loss=7.759324] \n"
     ]
    },
    {
     "name": "stdout",
     "output_type": "stream",
     "text": [
      "\n",
      "\n",
      "###################### Start to Train NN model ##########################\n"
     ]
    },
    {
     "name": "stderr",
     "output_type": "stream",
     "text": [
      "epoch  128: 100%|██████████| 35/35 [00:00<00:00, 132.10it/s, loss=7.093877] \n"
     ]
    },
    {
     "name": "stdout",
     "output_type": "stream",
     "text": [
      "The trained model has been saved!\n",
      "\n",
      "\n",
      "###################### Start to Train NN model ##########################\n"
     ]
    },
    {
     "name": "stderr",
     "output_type": "stream",
     "text": [
      "epoch  129: 100%|██████████| 35/35 [00:00<00:00, 126.14it/s, loss=6.029511] \n"
     ]
    },
    {
     "name": "stdout",
     "output_type": "stream",
     "text": [
      "The trained model has been saved!\n",
      "\n",
      "\n",
      "###################### Start to Train NN model ##########################\n"
     ]
    },
    {
     "name": "stderr",
     "output_type": "stream",
     "text": [
      "epoch  130: 100%|██████████| 35/35 [00:00<00:00, 126.03it/s, loss=6.1863403]\n"
     ]
    },
    {
     "name": "stdout",
     "output_type": "stream",
     "text": [
      "\n",
      "\n",
      "###################### Start to Train NN model ##########################\n"
     ]
    },
    {
     "name": "stderr",
     "output_type": "stream",
     "text": [
      "epoch  131: 100%|██████████| 35/35 [00:00<00:00, 125.43it/s, loss=5.9416947]\n"
     ]
    },
    {
     "name": "stdout",
     "output_type": "stream",
     "text": [
      "\n",
      "\n",
      "###################### Start to Train NN model ##########################\n"
     ]
    },
    {
     "name": "stderr",
     "output_type": "stream",
     "text": [
      "epoch  132: 100%|██████████| 35/35 [00:00<00:00, 133.62it/s, loss=6.6105046]\n"
     ]
    },
    {
     "name": "stdout",
     "output_type": "stream",
     "text": [
      "\n",
      "\n",
      "###################### Start to Train NN model ##########################\n"
     ]
    },
    {
     "name": "stderr",
     "output_type": "stream",
     "text": [
      "epoch  133: 100%|██████████| 35/35 [00:00<00:00, 133.62it/s, loss=7.5644245]\n"
     ]
    },
    {
     "name": "stdout",
     "output_type": "stream",
     "text": [
      "\n",
      "\n",
      "###################### Start to Train NN model ##########################\n"
     ]
    },
    {
     "name": "stderr",
     "output_type": "stream",
     "text": [
      "epoch  134: 100%|██████████| 35/35 [00:00<00:00, 139.17it/s, loss=7.4557023]\n"
     ]
    },
    {
     "name": "stdout",
     "output_type": "stream",
     "text": [
      "\n",
      "\n",
      "###################### Start to Train NN model ##########################\n"
     ]
    },
    {
     "name": "stderr",
     "output_type": "stream",
     "text": [
      "epoch  135: 100%|██████████| 35/35 [00:00<00:00, 134.49it/s, loss=6.9083486]\n"
     ]
    },
    {
     "name": "stdout",
     "output_type": "stream",
     "text": [
      "\n",
      "\n",
      "###################### Start to Train NN model ##########################\n"
     ]
    },
    {
     "name": "stderr",
     "output_type": "stream",
     "text": [
      "epoch  136: 100%|██████████| 35/35 [00:00<00:00, 131.73it/s, loss=7.6509056]\n"
     ]
    },
    {
     "name": "stdout",
     "output_type": "stream",
     "text": [
      "\n",
      "\n",
      "###################### Start to Train NN model ##########################\n"
     ]
    },
    {
     "name": "stderr",
     "output_type": "stream",
     "text": [
      "epoch  137: 100%|██████████| 35/35 [00:00<00:00, 123.67it/s, loss=6.0831833]\n"
     ]
    },
    {
     "name": "stdout",
     "output_type": "stream",
     "text": [
      "\n",
      "\n",
      "###################### Start to Train NN model ##########################\n"
     ]
    },
    {
     "name": "stderr",
     "output_type": "stream",
     "text": [
      "epoch  138: 100%|██████████| 35/35 [00:00<00:00, 123.32it/s, loss=6.76252]  \n"
     ]
    },
    {
     "name": "stdout",
     "output_type": "stream",
     "text": [
      "The trained model has been saved!\n",
      "\n",
      "\n",
      "###################### Start to Train NN model ##########################\n"
     ]
    },
    {
     "name": "stderr",
     "output_type": "stream",
     "text": [
      "epoch  139: 100%|██████████| 35/35 [00:00<00:00, 133.08it/s, loss=6.2074757]\n"
     ]
    },
    {
     "name": "stdout",
     "output_type": "stream",
     "text": [
      "\n",
      "\n",
      "###################### Start to Train NN model ##########################\n"
     ]
    },
    {
     "name": "stderr",
     "output_type": "stream",
     "text": [
      "epoch  140: 100%|██████████| 35/35 [00:00<00:00, 132.55it/s, loss=7.1674743]\n"
     ]
    },
    {
     "name": "stdout",
     "output_type": "stream",
     "text": [
      "\n",
      "\n",
      "###################### Start to Train NN model ##########################\n"
     ]
    },
    {
     "name": "stderr",
     "output_type": "stream",
     "text": [
      "epoch  141: 100%|██████████| 35/35 [00:00<00:00, 132.79it/s, loss=7.7115593]\n"
     ]
    },
    {
     "name": "stdout",
     "output_type": "stream",
     "text": [
      "\n",
      "\n",
      "###################### Start to Train NN model ##########################\n"
     ]
    },
    {
     "name": "stderr",
     "output_type": "stream",
     "text": [
      "epoch  142: 100%|██████████| 35/35 [00:00<00:00, 130.09it/s, loss=7.2938848]\n"
     ]
    },
    {
     "name": "stdout",
     "output_type": "stream",
     "text": [
      "\n",
      "\n",
      "###################### Start to Train NN model ##########################\n"
     ]
    },
    {
     "name": "stderr",
     "output_type": "stream",
     "text": [
      "epoch  143: 100%|██████████| 35/35 [00:00<00:00, 133.60it/s, loss=7.723706] \n"
     ]
    },
    {
     "name": "stdout",
     "output_type": "stream",
     "text": [
      "\n",
      "\n",
      "###################### Start to Train NN model ##########################\n"
     ]
    },
    {
     "name": "stderr",
     "output_type": "stream",
     "text": [
      "epoch  144: 100%|██████████| 35/35 [00:00<00:00, 126.71it/s, loss=5.9172525]\n"
     ]
    },
    {
     "name": "stdout",
     "output_type": "stream",
     "text": [
      "\n",
      "\n",
      "###################### Start to Train NN model ##########################\n"
     ]
    },
    {
     "name": "stderr",
     "output_type": "stream",
     "text": [
      "epoch  145: 100%|██████████| 35/35 [00:00<00:00, 125.35it/s, loss=6.034609] \n"
     ]
    },
    {
     "name": "stdout",
     "output_type": "stream",
     "text": [
      "\n",
      "\n",
      "###################### Start to Train NN model ##########################\n"
     ]
    },
    {
     "name": "stderr",
     "output_type": "stream",
     "text": [
      "epoch  146: 100%|██████████| 35/35 [00:00<00:00, 127.83it/s, loss=6.883986] \n"
     ]
    },
    {
     "name": "stdout",
     "output_type": "stream",
     "text": [
      "\n",
      "\n",
      "###################### Start to Train NN model ##########################\n"
     ]
    },
    {
     "name": "stderr",
     "output_type": "stream",
     "text": [
      "epoch  147: 100%|██████████| 35/35 [00:00<00:00, 124.04it/s, loss=6.1448646]\n"
     ]
    },
    {
     "name": "stdout",
     "output_type": "stream",
     "text": [
      "\n",
      "\n",
      "###################### Start to Train NN model ##########################\n"
     ]
    },
    {
     "name": "stderr",
     "output_type": "stream",
     "text": [
      "epoch  148: 100%|██████████| 35/35 [00:00<00:00, 114.80it/s, loss=5.881096] \n"
     ]
    },
    {
     "name": "stdout",
     "output_type": "stream",
     "text": [
      "\n",
      "\n",
      "###################### Start to Train NN model ##########################\n"
     ]
    },
    {
     "name": "stderr",
     "output_type": "stream",
     "text": [
      "epoch  149: 100%|██████████| 35/35 [00:00<00:00, 96.40it/s, loss=6.7483063] \n"
     ]
    },
    {
     "name": "stdout",
     "output_type": "stream",
     "text": [
      "\n",
      "\n",
      "###################### Start to Train NN model ##########################\n"
     ]
    },
    {
     "name": "stderr",
     "output_type": "stream",
     "text": [
      "epoch  150: 100%|██████████| 35/35 [00:00<00:00, 122.59it/s, loss=6.4379945]\n"
     ]
    },
    {
     "name": "stdout",
     "output_type": "stream",
     "text": [
      "\n",
      "\n",
      "###################### Start to Train NN model ##########################\n"
     ]
    },
    {
     "name": "stderr",
     "output_type": "stream",
     "text": [
      "epoch  151: 100%|██████████| 35/35 [00:00<00:00, 113.56it/s, loss=6.830641] \n"
     ]
    },
    {
     "name": "stdout",
     "output_type": "stream",
     "text": [
      "\n",
      "\n",
      "###################### Start to Train NN model ##########################\n"
     ]
    },
    {
     "name": "stderr",
     "output_type": "stream",
     "text": [
      "epoch  152: 100%|██████████| 35/35 [00:00<00:00, 127.57it/s, loss=6.495335] \n"
     ]
    },
    {
     "name": "stdout",
     "output_type": "stream",
     "text": [
      "\n",
      "\n",
      "###################### Start to Train NN model ##########################\n"
     ]
    },
    {
     "name": "stderr",
     "output_type": "stream",
     "text": [
      "epoch  153: 100%|██████████| 35/35 [00:00<00:00, 124.78it/s, loss=6.366724] \n"
     ]
    },
    {
     "name": "stdout",
     "output_type": "stream",
     "text": [
      "The trained model has been saved!\n",
      "\n",
      "\n",
      "###################### Start to Train NN model ##########################\n"
     ]
    },
    {
     "name": "stderr",
     "output_type": "stream",
     "text": [
      "epoch  154: 100%|██████████| 35/35 [00:00<00:00, 122.12it/s, loss=7.7199183]\n"
     ]
    },
    {
     "name": "stdout",
     "output_type": "stream",
     "text": [
      "\n",
      "\n",
      "###################### Start to Train NN model ##########################\n"
     ]
    },
    {
     "name": "stderr",
     "output_type": "stream",
     "text": [
      "epoch  155: 100%|██████████| 35/35 [00:00<00:00, 122.62it/s, loss=6.6502047]\n"
     ]
    },
    {
     "name": "stdout",
     "output_type": "stream",
     "text": [
      "\n",
      "\n",
      "###################### Start to Train NN model ##########################\n"
     ]
    },
    {
     "name": "stderr",
     "output_type": "stream",
     "text": [
      "epoch  156: 100%|██████████| 35/35 [00:00<00:00, 119.91it/s, loss=5.785605] \n"
     ]
    },
    {
     "name": "stdout",
     "output_type": "stream",
     "text": [
      "\n",
      "\n",
      "###################### Start to Train NN model ##########################\n"
     ]
    },
    {
     "name": "stderr",
     "output_type": "stream",
     "text": [
      "epoch  157: 100%|██████████| 35/35 [00:00<00:00, 111.88it/s, loss=7.270385] \n"
     ]
    },
    {
     "name": "stdout",
     "output_type": "stream",
     "text": [
      "\n",
      "\n",
      "###################### Start to Train NN model ##########################\n"
     ]
    },
    {
     "name": "stderr",
     "output_type": "stream",
     "text": [
      "epoch  158: 100%|██████████| 35/35 [00:00<00:00, 124.28it/s, loss=6.1905446]\n"
     ]
    },
    {
     "name": "stdout",
     "output_type": "stream",
     "text": [
      "\n",
      "\n",
      "###################### Start to Train NN model ##########################\n"
     ]
    },
    {
     "name": "stderr",
     "output_type": "stream",
     "text": [
      "epoch  159: 100%|██████████| 35/35 [00:00<00:00, 120.35it/s, loss=6.414803] \n"
     ]
    },
    {
     "name": "stdout",
     "output_type": "stream",
     "text": [
      "\n",
      "\n",
      "###################### Start to Train NN model ##########################\n"
     ]
    },
    {
     "name": "stderr",
     "output_type": "stream",
     "text": [
      "epoch  160: 100%|██████████| 35/35 [00:00<00:00, 114.61it/s, loss=6.098513] \n"
     ]
    },
    {
     "name": "stdout",
     "output_type": "stream",
     "text": [
      "\n",
      "\n",
      "###################### Start to Train NN model ##########################\n"
     ]
    },
    {
     "name": "stderr",
     "output_type": "stream",
     "text": [
      "epoch  161: 100%|██████████| 35/35 [00:00<00:00, 123.56it/s, loss=5.7790766]\n"
     ]
    },
    {
     "name": "stdout",
     "output_type": "stream",
     "text": [
      "\n",
      "\n",
      "###################### Start to Train NN model ##########################\n"
     ]
    },
    {
     "name": "stderr",
     "output_type": "stream",
     "text": [
      "epoch  162: 100%|██████████| 35/35 [00:00<00:00, 121.54it/s, loss=7.515005] \n"
     ]
    },
    {
     "name": "stdout",
     "output_type": "stream",
     "text": [
      "\n",
      "\n",
      "###################### Start to Train NN model ##########################\n"
     ]
    },
    {
     "name": "stderr",
     "output_type": "stream",
     "text": [
      "epoch  163: 100%|██████████| 35/35 [00:00<00:00, 120.61it/s, loss=5.8343396]\n"
     ]
    },
    {
     "name": "stdout",
     "output_type": "stream",
     "text": [
      "\n",
      "\n",
      "###################### Start to Train NN model ##########################\n"
     ]
    },
    {
     "name": "stderr",
     "output_type": "stream",
     "text": [
      "epoch  164: 100%|██████████| 35/35 [00:00<00:00, 123.11it/s, loss=7.105351] \n"
     ]
    },
    {
     "name": "stdout",
     "output_type": "stream",
     "text": [
      "\n",
      "\n",
      "###################### Start to Train NN model ##########################\n"
     ]
    },
    {
     "name": "stderr",
     "output_type": "stream",
     "text": [
      "epoch  165: 100%|██████████| 35/35 [00:00<00:00, 123.95it/s, loss=6.112097] \n"
     ]
    },
    {
     "name": "stdout",
     "output_type": "stream",
     "text": [
      "\n",
      "\n",
      "###################### Start to Train NN model ##########################\n"
     ]
    },
    {
     "name": "stderr",
     "output_type": "stream",
     "text": [
      "epoch  166: 100%|██████████| 35/35 [00:00<00:00, 89.60it/s, loss=7.0272465]\n"
     ]
    },
    {
     "name": "stdout",
     "output_type": "stream",
     "text": [
      "\n",
      "\n",
      "###################### Start to Train NN model ##########################\n"
     ]
    },
    {
     "name": "stderr",
     "output_type": "stream",
     "text": [
      "epoch  167: 100%|██████████| 35/35 [00:00<00:00, 120.63it/s, loss=7.2364626]\n"
     ]
    },
    {
     "name": "stdout",
     "output_type": "stream",
     "text": [
      "\n",
      "\n",
      "###################### Start to Train NN model ##########################\n"
     ]
    },
    {
     "name": "stderr",
     "output_type": "stream",
     "text": [
      "epoch  168: 100%|██████████| 35/35 [00:00<00:00, 124.50it/s, loss=6.886362] \n"
     ]
    },
    {
     "name": "stdout",
     "output_type": "stream",
     "text": [
      "\n",
      "\n",
      "###################### Start to Train NN model ##########################\n"
     ]
    },
    {
     "name": "stderr",
     "output_type": "stream",
     "text": [
      "epoch  169: 100%|██████████| 35/35 [00:00<00:00, 124.30it/s, loss=6.6099315]\n"
     ]
    },
    {
     "name": "stdout",
     "output_type": "stream",
     "text": [
      "\n",
      "\n",
      "###################### Start to Train NN model ##########################\n"
     ]
    },
    {
     "name": "stderr",
     "output_type": "stream",
     "text": [
      "epoch  170: 100%|██████████| 35/35 [00:00<00:00, 128.66it/s, loss=6.4620943]\n"
     ]
    },
    {
     "name": "stdout",
     "output_type": "stream",
     "text": [
      "\n",
      "\n",
      "###################### Start to Train NN model ##########################\n"
     ]
    },
    {
     "name": "stderr",
     "output_type": "stream",
     "text": [
      "epoch  171: 100%|██████████| 35/35 [00:00<00:00, 133.59it/s, loss=6.450925] \n"
     ]
    },
    {
     "name": "stdout",
     "output_type": "stream",
     "text": [
      "\n",
      "\n",
      "###################### Start to Train NN model ##########################\n"
     ]
    },
    {
     "name": "stderr",
     "output_type": "stream",
     "text": [
      "epoch  172: 100%|██████████| 35/35 [00:00<00:00, 134.54it/s, loss=6.516861] \n"
     ]
    },
    {
     "name": "stdout",
     "output_type": "stream",
     "text": [
      "\n",
      "\n",
      "###################### Start to Train NN model ##########################\n"
     ]
    },
    {
     "name": "stderr",
     "output_type": "stream",
     "text": [
      "epoch  173: 100%|██████████| 35/35 [00:00<00:00, 121.35it/s, loss=6.662261] \n"
     ]
    },
    {
     "name": "stdout",
     "output_type": "stream",
     "text": [
      "The trained model has been saved!\n",
      "\n",
      "\n",
      "###################### Start to Train NN model ##########################\n"
     ]
    },
    {
     "name": "stderr",
     "output_type": "stream",
     "text": [
      "epoch  174: 100%|██████████| 35/35 [00:00<00:00, 133.39it/s, loss=6.703295] \n"
     ]
    },
    {
     "name": "stdout",
     "output_type": "stream",
     "text": [
      "\n",
      "\n",
      "###################### Start to Train NN model ##########################\n"
     ]
    },
    {
     "name": "stderr",
     "output_type": "stream",
     "text": [
      "epoch  175: 100%|██████████| 35/35 [00:00<00:00, 124.66it/s, loss=6.5772]   \n"
     ]
    },
    {
     "name": "stdout",
     "output_type": "stream",
     "text": [
      "\n",
      "\n",
      "###################### Start to Train NN model ##########################\n"
     ]
    },
    {
     "name": "stderr",
     "output_type": "stream",
     "text": [
      "epoch  176: 100%|██████████| 35/35 [00:00<00:00, 115.65it/s, loss=6.461434] \n"
     ]
    },
    {
     "name": "stdout",
     "output_type": "stream",
     "text": [
      "\n",
      "\n",
      "###################### Start to Train NN model ##########################\n"
     ]
    },
    {
     "name": "stderr",
     "output_type": "stream",
     "text": [
      "epoch  177: 100%|██████████| 35/35 [00:00<00:00, 126.36it/s, loss=6.901916] \n"
     ]
    },
    {
     "name": "stdout",
     "output_type": "stream",
     "text": [
      "\n",
      "\n",
      "###################### Start to Train NN model ##########################\n"
     ]
    },
    {
     "name": "stderr",
     "output_type": "stream",
     "text": [
      "epoch  178: 100%|██████████| 35/35 [00:00<00:00, 125.45it/s, loss=5.721919] \n"
     ]
    },
    {
     "name": "stdout",
     "output_type": "stream",
     "text": [
      "\n",
      "\n",
      "###################### Start to Train NN model ##########################\n"
     ]
    },
    {
     "name": "stderr",
     "output_type": "stream",
     "text": [
      "epoch  179: 100%|██████████| 35/35 [00:00<00:00, 126.67it/s, loss=6.948291] \n"
     ]
    },
    {
     "name": "stdout",
     "output_type": "stream",
     "text": [
      "\n",
      "\n",
      "###################### Start to Train NN model ##########################\n"
     ]
    },
    {
     "name": "stderr",
     "output_type": "stream",
     "text": [
      "epoch  180: 100%|██████████| 35/35 [00:00<00:00, 136.18it/s, loss=6.2778916]\n"
     ]
    },
    {
     "name": "stdout",
     "output_type": "stream",
     "text": [
      "\n",
      "\n",
      "###################### Start to Train NN model ##########################\n"
     ]
    },
    {
     "name": "stderr",
     "output_type": "stream",
     "text": [
      "epoch  181: 100%|██████████| 35/35 [00:00<00:00, 133.15it/s, loss=6.492282] \n"
     ]
    },
    {
     "name": "stdout",
     "output_type": "stream",
     "text": [
      "\n",
      "\n",
      "###################### Start to Train NN model ##########################\n"
     ]
    },
    {
     "name": "stderr",
     "output_type": "stream",
     "text": [
      "epoch  182: 100%|██████████| 35/35 [00:00<00:00, 133.42it/s, loss=7.855933] \n"
     ]
    },
    {
     "name": "stdout",
     "output_type": "stream",
     "text": [
      "\n",
      "\n",
      "###################### Start to Train NN model ##########################\n"
     ]
    },
    {
     "name": "stderr",
     "output_type": "stream",
     "text": [
      "epoch  183: 100%|██████████| 35/35 [00:00<00:00, 125.52it/s, loss=6.3243585]\n"
     ]
    },
    {
     "name": "stdout",
     "output_type": "stream",
     "text": [
      "The trained model has been saved!\n",
      "\n",
      "\n",
      "###################### Start to Train NN model ##########################\n"
     ]
    },
    {
     "name": "stderr",
     "output_type": "stream",
     "text": [
      "epoch  184: 100%|██████████| 35/35 [00:00<00:00, 127.24it/s, loss=6.683196] \n"
     ]
    },
    {
     "name": "stdout",
     "output_type": "stream",
     "text": [
      "\n",
      "\n",
      "###################### Start to Train NN model ##########################\n"
     ]
    },
    {
     "name": "stderr",
     "output_type": "stream",
     "text": [
      "epoch  185: 100%|██████████| 35/35 [00:00<00:00, 125.50it/s, loss=7.0546227]\n"
     ]
    },
    {
     "name": "stdout",
     "output_type": "stream",
     "text": [
      "\n",
      "\n",
      "###################### Start to Train NN model ##########################\n"
     ]
    },
    {
     "name": "stderr",
     "output_type": "stream",
     "text": [
      "epoch  186: 100%|██████████| 35/35 [00:00<00:00, 128.57it/s, loss=5.7760134]\n"
     ]
    },
    {
     "name": "stdout",
     "output_type": "stream",
     "text": [
      "\n",
      "\n",
      "###################### Start to Train NN model ##########################\n"
     ]
    },
    {
     "name": "stderr",
     "output_type": "stream",
     "text": [
      "epoch  187: 100%|██████████| 35/35 [00:00<00:00, 129.77it/s, loss=5.963994] \n"
     ]
    },
    {
     "name": "stdout",
     "output_type": "stream",
     "text": [
      "\n",
      "\n",
      "###################### Start to Train NN model ##########################\n"
     ]
    },
    {
     "name": "stderr",
     "output_type": "stream",
     "text": [
      "epoch  188: 100%|██████████| 35/35 [00:00<00:00, 128.84it/s, loss=6.341151] \n"
     ]
    },
    {
     "name": "stdout",
     "output_type": "stream",
     "text": [
      "\n",
      "\n",
      "###################### Start to Train NN model ##########################\n"
     ]
    },
    {
     "name": "stderr",
     "output_type": "stream",
     "text": [
      "epoch  189: 100%|██████████| 35/35 [00:00<00:00, 125.74it/s, loss=6.2482734]\n"
     ]
    },
    {
     "name": "stdout",
     "output_type": "stream",
     "text": [
      "\n",
      "\n",
      "###################### Start to Train NN model ##########################\n"
     ]
    },
    {
     "name": "stderr",
     "output_type": "stream",
     "text": [
      "epoch  190: 100%|██████████| 35/35 [00:00<00:00, 129.25it/s, loss=6.4319177]\n"
     ]
    },
    {
     "name": "stdout",
     "output_type": "stream",
     "text": [
      "\n",
      "\n",
      "###################### Start to Train NN model ##########################\n"
     ]
    },
    {
     "name": "stderr",
     "output_type": "stream",
     "text": [
      "epoch  191: 100%|██████████| 35/35 [00:00<00:00, 112.20it/s, loss=6.2716517]\n"
     ]
    },
    {
     "name": "stdout",
     "output_type": "stream",
     "text": [
      "\n",
      "\n",
      "###################### Start to Train NN model ##########################\n"
     ]
    },
    {
     "name": "stderr",
     "output_type": "stream",
     "text": [
      "epoch  192: 100%|██████████| 35/35 [00:00<00:00, 119.89it/s, loss=6.520668] \n"
     ]
    },
    {
     "name": "stdout",
     "output_type": "stream",
     "text": [
      "\n",
      "\n",
      "###################### Start to Train NN model ##########################\n"
     ]
    },
    {
     "name": "stderr",
     "output_type": "stream",
     "text": [
      "epoch  193: 100%|██████████| 35/35 [00:00<00:00, 118.42it/s, loss=6.6707573]\n"
     ]
    },
    {
     "name": "stdout",
     "output_type": "stream",
     "text": [
      "\n",
      "\n",
      "###################### Start to Train NN model ##########################\n"
     ]
    },
    {
     "name": "stderr",
     "output_type": "stream",
     "text": [
      "epoch  194: 100%|██████████| 35/35 [00:00<00:00, 95.40it/s, loss=6.262403] \n"
     ]
    },
    {
     "name": "stdout",
     "output_type": "stream",
     "text": [
      "\n",
      "\n",
      "###################### Start to Train NN model ##########################\n"
     ]
    },
    {
     "name": "stderr",
     "output_type": "stream",
     "text": [
      "epoch  195: 100%|██████████| 35/35 [00:00<00:00, 111.71it/s, loss=6.245907] \n"
     ]
    },
    {
     "name": "stdout",
     "output_type": "stream",
     "text": [
      "\n",
      "\n",
      "###################### Start to Train NN model ##########################\n"
     ]
    },
    {
     "name": "stderr",
     "output_type": "stream",
     "text": [
      "epoch  196: 100%|██████████| 35/35 [00:00<00:00, 116.70it/s, loss=6.571861] \n"
     ]
    },
    {
     "name": "stdout",
     "output_type": "stream",
     "text": [
      "\n",
      "\n",
      "###################### Start to Train NN model ##########################\n"
     ]
    },
    {
     "name": "stderr",
     "output_type": "stream",
     "text": [
      "epoch  197: 100%|██████████| 35/35 [00:00<00:00, 90.87it/s, loss=7.1258087] \n"
     ]
    },
    {
     "name": "stdout",
     "output_type": "stream",
     "text": [
      "\n",
      "\n",
      "###################### Start to Train NN model ##########################\n"
     ]
    },
    {
     "name": "stderr",
     "output_type": "stream",
     "text": [
      "epoch  198: 100%|██████████| 35/35 [00:00<00:00, 96.92it/s, loss=5.1861477]\n"
     ]
    },
    {
     "name": "stdout",
     "output_type": "stream",
     "text": [
      "\n",
      "\n",
      "###################### Start to Train NN model ##########################\n"
     ]
    },
    {
     "name": "stderr",
     "output_type": "stream",
     "text": [
      "epoch  199: 100%|██████████| 35/35 [00:00<00:00, 83.82it/s, loss=5.6910076]\n"
     ]
    },
    {
     "name": "stdout",
     "output_type": "stream",
     "text": [
      "\n",
      "\n",
      "###################### Start to Train NN model ##########################\n"
     ]
    },
    {
     "name": "stderr",
     "output_type": "stream",
     "text": [
      "epoch  200: 100%|██████████| 35/35 [00:00<00:00, 94.90it/s, loss=7.0466566]\n"
     ]
    },
    {
     "name": "stdout",
     "output_type": "stream",
     "text": [
      "\n",
      "\n",
      "###################### Start to Train NN model ##########################\n"
     ]
    },
    {
     "name": "stderr",
     "output_type": "stream",
     "text": [
      "epoch  201: 100%|██████████| 35/35 [00:00<00:00, 94.23it/s, loss=5.630603] \n"
     ]
    },
    {
     "name": "stdout",
     "output_type": "stream",
     "text": [
      "The trained model has been saved!\n",
      "\n",
      "\n",
      "###################### Start to Train NN model ##########################\n"
     ]
    },
    {
     "name": "stderr",
     "output_type": "stream",
     "text": [
      "epoch  202: 100%|██████████| 35/35 [00:00<00:00, 101.34it/s, loss=7.0943904]\n"
     ]
    },
    {
     "name": "stdout",
     "output_type": "stream",
     "text": [
      "\n",
      "\n",
      "###################### Start to Train NN model ##########################\n"
     ]
    },
    {
     "name": "stderr",
     "output_type": "stream",
     "text": [
      "epoch  203: 100%|██████████| 35/35 [00:00<00:00, 99.19it/s, loss=6.1936026]\n"
     ]
    },
    {
     "name": "stdout",
     "output_type": "stream",
     "text": [
      "The trained model has been saved!\n",
      "\n",
      "\n",
      "###################### Start to Train NN model ##########################\n"
     ]
    },
    {
     "name": "stderr",
     "output_type": "stream",
     "text": [
      "epoch  204: 100%|██████████| 35/35 [00:00<00:00, 96.27it/s, loss=5.058902] \n"
     ]
    },
    {
     "name": "stdout",
     "output_type": "stream",
     "text": [
      "\n",
      "\n",
      "###################### Start to Train NN model ##########################\n"
     ]
    },
    {
     "name": "stderr",
     "output_type": "stream",
     "text": [
      "epoch  205: 100%|██████████| 35/35 [00:00<00:00, 87.92it/s, loss=6.3477983]\n"
     ]
    },
    {
     "name": "stdout",
     "output_type": "stream",
     "text": [
      "\n",
      "\n",
      "###################### Start to Train NN model ##########################\n"
     ]
    },
    {
     "name": "stderr",
     "output_type": "stream",
     "text": [
      "epoch  206: 100%|██████████| 35/35 [00:00<00:00, 92.38it/s, loss=5.5881724]\n"
     ]
    },
    {
     "name": "stdout",
     "output_type": "stream",
     "text": [
      "\n",
      "\n",
      "###################### Start to Train NN model ##########################\n"
     ]
    },
    {
     "name": "stderr",
     "output_type": "stream",
     "text": [
      "epoch  207: 100%|██████████| 35/35 [00:00<00:00, 89.78it/s, loss=6.2242384]\n"
     ]
    },
    {
     "name": "stdout",
     "output_type": "stream",
     "text": [
      "\n",
      "\n",
      "###################### Start to Train NN model ##########################\n"
     ]
    },
    {
     "name": "stderr",
     "output_type": "stream",
     "text": [
      "epoch  208: 100%|██████████| 35/35 [00:00<00:00, 96.73it/s, loss=6.8977175]\n"
     ]
    },
    {
     "name": "stdout",
     "output_type": "stream",
     "text": [
      "\n",
      "\n",
      "###################### Start to Train NN model ##########################\n"
     ]
    },
    {
     "name": "stderr",
     "output_type": "stream",
     "text": [
      "epoch  209: 100%|██████████| 35/35 [00:00<00:00, 99.67it/s, loss=6.612794]  \n"
     ]
    },
    {
     "name": "stdout",
     "output_type": "stream",
     "text": [
      "\n",
      "\n",
      "###################### Start to Train NN model ##########################\n"
     ]
    },
    {
     "name": "stderr",
     "output_type": "stream",
     "text": [
      "epoch  210: 100%|██████████| 35/35 [00:00<00:00, 93.89it/s, loss=5.857013] \n"
     ]
    },
    {
     "name": "stdout",
     "output_type": "stream",
     "text": [
      "\n",
      "\n",
      "###################### Start to Train NN model ##########################\n"
     ]
    },
    {
     "name": "stderr",
     "output_type": "stream",
     "text": [
      "epoch  211: 100%|██████████| 35/35 [00:00<00:00, 98.20it/s, loss=5.2310953]\n"
     ]
    },
    {
     "name": "stdout",
     "output_type": "stream",
     "text": [
      "\n",
      "\n",
      "###################### Start to Train NN model ##########################\n"
     ]
    },
    {
     "name": "stderr",
     "output_type": "stream",
     "text": [
      "epoch  212: 100%|██████████| 35/35 [00:00<00:00, 96.94it/s, loss=5.5448656]\n"
     ]
    },
    {
     "name": "stdout",
     "output_type": "stream",
     "text": [
      "\n",
      "\n",
      "###################### Start to Train NN model ##########################\n"
     ]
    },
    {
     "name": "stderr",
     "output_type": "stream",
     "text": [
      "epoch  213: 100%|██████████| 35/35 [00:00<00:00, 96.56it/s, loss=6.0088162]\n"
     ]
    },
    {
     "name": "stdout",
     "output_type": "stream",
     "text": [
      "\n",
      "\n",
      "###################### Start to Train NN model ##########################\n"
     ]
    },
    {
     "name": "stderr",
     "output_type": "stream",
     "text": [
      "epoch  214: 100%|██████████| 35/35 [00:00<00:00, 100.97it/s, loss=5.653676] \n"
     ]
    },
    {
     "name": "stdout",
     "output_type": "stream",
     "text": [
      "The trained model has been saved!\n",
      "\n",
      "\n",
      "###################### Start to Train NN model ##########################\n"
     ]
    },
    {
     "name": "stderr",
     "output_type": "stream",
     "text": [
      "epoch  215: 100%|██████████| 35/35 [00:00<00:00, 97.61it/s, loss=6.965753] \n"
     ]
    },
    {
     "name": "stdout",
     "output_type": "stream",
     "text": [
      "\n",
      "\n",
      "###################### Start to Train NN model ##########################\n"
     ]
    },
    {
     "name": "stderr",
     "output_type": "stream",
     "text": [
      "epoch  216: 100%|██████████| 35/35 [00:00<00:00, 93.12it/s, loss=6.657643] \n"
     ]
    },
    {
     "name": "stdout",
     "output_type": "stream",
     "text": [
      "\n",
      "\n",
      "###################### Start to Train NN model ##########################\n"
     ]
    },
    {
     "name": "stderr",
     "output_type": "stream",
     "text": [
      "epoch  217: 100%|██████████| 35/35 [00:00<00:00, 101.12it/s, loss=6.159051] \n"
     ]
    },
    {
     "name": "stdout",
     "output_type": "stream",
     "text": [
      "\n",
      "\n",
      "###################### Start to Train NN model ##########################\n"
     ]
    },
    {
     "name": "stderr",
     "output_type": "stream",
     "text": [
      "epoch  218: 100%|██████████| 35/35 [00:00<00:00, 94.56it/s, loss=6.053153] \n"
     ]
    },
    {
     "name": "stdout",
     "output_type": "stream",
     "text": [
      "\n",
      "\n",
      "###################### Start to Train NN model ##########################\n"
     ]
    },
    {
     "name": "stderr",
     "output_type": "stream",
     "text": [
      "epoch  219: 100%|██████████| 35/35 [00:00<00:00, 97.47it/s, loss=6.327837] \n"
     ]
    },
    {
     "name": "stdout",
     "output_type": "stream",
     "text": [
      "\n",
      "\n",
      "###################### Start to Train NN model ##########################\n"
     ]
    },
    {
     "name": "stderr",
     "output_type": "stream",
     "text": [
      "epoch  220: 100%|██████████| 35/35 [00:00<00:00, 98.92it/s, loss=5.443939]  \n"
     ]
    },
    {
     "name": "stdout",
     "output_type": "stream",
     "text": [
      "\n",
      "\n",
      "###################### Start to Train NN model ##########################\n"
     ]
    },
    {
     "name": "stderr",
     "output_type": "stream",
     "text": [
      "epoch  221: 100%|██████████| 35/35 [00:00<00:00, 97.68it/s, loss=6.1925607]\n"
     ]
    },
    {
     "name": "stdout",
     "output_type": "stream",
     "text": [
      "\n",
      "\n",
      "###################### Start to Train NN model ##########################\n"
     ]
    },
    {
     "name": "stderr",
     "output_type": "stream",
     "text": [
      "epoch  222: 100%|██████████| 35/35 [00:00<00:00, 99.28it/s, loss=5.921982]  \n"
     ]
    },
    {
     "name": "stdout",
     "output_type": "stream",
     "text": [
      "The trained model has been saved!\n",
      "\n",
      "\n",
      "###################### Start to Train NN model ##########################\n"
     ]
    },
    {
     "name": "stderr",
     "output_type": "stream",
     "text": [
      "epoch  223: 100%|██████████| 35/35 [00:00<00:00, 100.34it/s, loss=5.670339] \n"
     ]
    },
    {
     "name": "stdout",
     "output_type": "stream",
     "text": [
      "\n",
      "\n",
      "###################### Start to Train NN model ##########################\n"
     ]
    },
    {
     "name": "stderr",
     "output_type": "stream",
     "text": [
      "epoch  224: 100%|██████████| 35/35 [00:00<00:00, 93.16it/s, loss=6.179187] \n"
     ]
    },
    {
     "name": "stdout",
     "output_type": "stream",
     "text": [
      "\n",
      "\n",
      "###################### Start to Train NN model ##########################\n"
     ]
    },
    {
     "name": "stderr",
     "output_type": "stream",
     "text": [
      "epoch  225: 100%|██████████| 35/35 [00:00<00:00, 96.33it/s, loss=6.3387]   \n"
     ]
    },
    {
     "name": "stdout",
     "output_type": "stream",
     "text": [
      "\n",
      "\n",
      "###################### Start to Train NN model ##########################\n"
     ]
    },
    {
     "name": "stderr",
     "output_type": "stream",
     "text": [
      "epoch  226: 100%|██████████| 35/35 [00:00<00:00, 93.88it/s, loss=6.569145] \n"
     ]
    },
    {
     "name": "stdout",
     "output_type": "stream",
     "text": [
      "\n",
      "\n",
      "###################### Start to Train NN model ##########################\n"
     ]
    },
    {
     "name": "stderr",
     "output_type": "stream",
     "text": [
      "epoch  227: 100%|██████████| 35/35 [00:00<00:00, 94.23it/s, loss=6.4292283]\n"
     ]
    },
    {
     "name": "stdout",
     "output_type": "stream",
     "text": [
      "\n",
      "\n",
      "###################### Start to Train NN model ##########################\n"
     ]
    },
    {
     "name": "stderr",
     "output_type": "stream",
     "text": [
      "epoch  228: 100%|██████████| 35/35 [00:00<00:00, 100.30it/s, loss=5.9204764]\n"
     ]
    },
    {
     "name": "stdout",
     "output_type": "stream",
     "text": [
      "\n",
      "\n",
      "###################### Start to Train NN model ##########################\n"
     ]
    },
    {
     "name": "stderr",
     "output_type": "stream",
     "text": [
      "epoch  229: 100%|██████████| 35/35 [00:00<00:00, 94.93it/s, loss=6.1460643]\n"
     ]
    },
    {
     "name": "stdout",
     "output_type": "stream",
     "text": [
      "\n",
      "\n",
      "###################### Start to Train NN model ##########################\n"
     ]
    },
    {
     "name": "stderr",
     "output_type": "stream",
     "text": [
      "epoch  230: 100%|██████████| 35/35 [00:00<00:00, 98.82it/s, loss=5.8550224] \n"
     ]
    },
    {
     "name": "stdout",
     "output_type": "stream",
     "text": [
      "\n",
      "\n",
      "###################### Start to Train NN model ##########################\n"
     ]
    },
    {
     "name": "stderr",
     "output_type": "stream",
     "text": [
      "epoch  231: 100%|██████████| 35/35 [00:00<00:00, 96.40it/s, loss=6.060266]  \n"
     ]
    },
    {
     "name": "stdout",
     "output_type": "stream",
     "text": [
      "\n",
      "\n",
      "###################### Start to Train NN model ##########################\n"
     ]
    },
    {
     "name": "stderr",
     "output_type": "stream",
     "text": [
      "epoch  232: 100%|██████████| 35/35 [00:00<00:00, 95.00it/s, loss=6.362774] \n"
     ]
    },
    {
     "name": "stdout",
     "output_type": "stream",
     "text": [
      "\n",
      "\n",
      "###################### Start to Train NN model ##########################\n"
     ]
    },
    {
     "name": "stderr",
     "output_type": "stream",
     "text": [
      "epoch  233: 100%|██████████| 35/35 [00:00<00:00, 98.23it/s, loss=6.47142]  \n"
     ]
    },
    {
     "name": "stdout",
     "output_type": "stream",
     "text": [
      "\n",
      "\n",
      "###################### Start to Train NN model ##########################\n"
     ]
    },
    {
     "name": "stderr",
     "output_type": "stream",
     "text": [
      "epoch  234: 100%|██████████| 35/35 [00:00<00:00, 95.42it/s, loss=6.381025] \n"
     ]
    },
    {
     "name": "stdout",
     "output_type": "stream",
     "text": [
      "\n",
      "\n",
      "###################### Start to Train NN model ##########################\n"
     ]
    },
    {
     "name": "stderr",
     "output_type": "stream",
     "text": [
      "epoch  235: 100%|██████████| 35/35 [00:00<00:00, 94.84it/s, loss=8.077417] \n"
     ]
    },
    {
     "name": "stdout",
     "output_type": "stream",
     "text": [
      "\n",
      "\n",
      "###################### Start to Train NN model ##########################\n"
     ]
    },
    {
     "name": "stderr",
     "output_type": "stream",
     "text": [
      "epoch  236: 100%|██████████| 35/35 [00:00<00:00, 92.19it/s, loss=5.682914] \n"
     ]
    },
    {
     "name": "stdout",
     "output_type": "stream",
     "text": [
      "\n",
      "\n",
      "###################### Start to Train NN model ##########################\n"
     ]
    },
    {
     "name": "stderr",
     "output_type": "stream",
     "text": [
      "epoch  237: 100%|██████████| 35/35 [00:00<00:00, 90.42it/s, loss=6.4122276]\n"
     ]
    },
    {
     "name": "stdout",
     "output_type": "stream",
     "text": [
      "\n",
      "\n",
      "###################### Start to Train NN model ##########################\n"
     ]
    },
    {
     "name": "stderr",
     "output_type": "stream",
     "text": [
      "epoch  238: 100%|██████████| 35/35 [00:00<00:00, 99.45it/s, loss=7.0076756] \n"
     ]
    },
    {
     "name": "stdout",
     "output_type": "stream",
     "text": [
      "\n",
      "\n",
      "###################### Start to Train NN model ##########################\n"
     ]
    },
    {
     "name": "stderr",
     "output_type": "stream",
     "text": [
      "epoch  239: 100%|██████████| 35/35 [00:00<00:00, 89.84it/s, loss=7.1205087]\n"
     ]
    },
    {
     "name": "stdout",
     "output_type": "stream",
     "text": [
      "\n",
      "\n",
      "###################### Start to Train NN model ##########################\n"
     ]
    },
    {
     "name": "stderr",
     "output_type": "stream",
     "text": [
      "epoch  240: 100%|██████████| 35/35 [00:00<00:00, 91.39it/s, loss=6.25685]  \n"
     ]
    },
    {
     "name": "stdout",
     "output_type": "stream",
     "text": [
      "\n",
      "\n",
      "###################### Start to Train NN model ##########################\n"
     ]
    },
    {
     "name": "stderr",
     "output_type": "stream",
     "text": [
      "epoch  241: 100%|██████████| 35/35 [00:00<00:00, 100.36it/s, loss=6.0367446]\n"
     ]
    },
    {
     "name": "stdout",
     "output_type": "stream",
     "text": [
      "\n",
      "\n",
      "###################### Start to Train NN model ##########################\n"
     ]
    },
    {
     "name": "stderr",
     "output_type": "stream",
     "text": [
      "epoch  242: 100%|██████████| 35/35 [00:00<00:00, 102.57it/s, loss=5.9943495]\n"
     ]
    },
    {
     "name": "stdout",
     "output_type": "stream",
     "text": [
      "\n",
      "\n",
      "###################### Start to Train NN model ##########################\n"
     ]
    },
    {
     "name": "stderr",
     "output_type": "stream",
     "text": [
      "epoch  243: 100%|██████████| 35/35 [00:00<00:00, 96.51it/s, loss=6.9666185]\n"
     ]
    },
    {
     "name": "stdout",
     "output_type": "stream",
     "text": [
      "\n",
      "\n",
      "###################### Start to Train NN model ##########################\n"
     ]
    },
    {
     "name": "stderr",
     "output_type": "stream",
     "text": [
      "epoch  244: 100%|██████████| 35/35 [00:00<00:00, 97.96it/s, loss=6.2949142]\n"
     ]
    },
    {
     "name": "stdout",
     "output_type": "stream",
     "text": [
      "\n",
      "\n",
      "###################### Start to Train NN model ##########################\n"
     ]
    },
    {
     "name": "stderr",
     "output_type": "stream",
     "text": [
      "epoch  245: 100%|██████████| 35/35 [00:00<00:00, 97.75it/s, loss=6.5699997]\n"
     ]
    },
    {
     "name": "stdout",
     "output_type": "stream",
     "text": [
      "\n",
      "\n",
      "###################### Start to Train NN model ##########################\n"
     ]
    },
    {
     "name": "stderr",
     "output_type": "stream",
     "text": [
      "epoch  246: 100%|██████████| 35/35 [00:00<00:00, 99.31it/s, loss=5.6622458] \n"
     ]
    },
    {
     "name": "stdout",
     "output_type": "stream",
     "text": [
      "\n",
      "\n",
      "###################### Start to Train NN model ##########################\n"
     ]
    },
    {
     "name": "stderr",
     "output_type": "stream",
     "text": [
      "epoch  247: 100%|██████████| 35/35 [00:00<00:00, 72.06it/s, loss=5.8011374]\n"
     ]
    },
    {
     "name": "stdout",
     "output_type": "stream",
     "text": [
      "\n",
      "\n",
      "###################### Start to Train NN model ##########################\n"
     ]
    },
    {
     "name": "stderr",
     "output_type": "stream",
     "text": [
      "epoch  248: 100%|██████████| 35/35 [00:00<00:00, 86.40it/s, loss=6.7369585]\n"
     ]
    },
    {
     "name": "stdout",
     "output_type": "stream",
     "text": [
      "\n",
      "\n",
      "###################### Start to Train NN model ##########################\n"
     ]
    },
    {
     "name": "stderr",
     "output_type": "stream",
     "text": [
      "epoch  249: 100%|██████████| 35/35 [00:00<00:00, 94.76it/s, loss=5.3583684]\n"
     ]
    },
    {
     "name": "stdout",
     "output_type": "stream",
     "text": [
      "\n",
      "\n",
      "###################### Start to Train NN model ##########################\n"
     ]
    },
    {
     "name": "stderr",
     "output_type": "stream",
     "text": [
      "epoch  250: 100%|██████████| 35/35 [00:00<00:00, 92.34it/s, loss=7.415492] \n"
     ]
    },
    {
     "name": "stdout",
     "output_type": "stream",
     "text": [
      "\n",
      "\n",
      "###################### Start to Train NN model ##########################\n"
     ]
    },
    {
     "name": "stderr",
     "output_type": "stream",
     "text": [
      "epoch  251: 100%|██████████| 35/35 [00:00<00:00, 97.40it/s, loss=6.6075096]\n"
     ]
    },
    {
     "name": "stdout",
     "output_type": "stream",
     "text": [
      "\n",
      "\n",
      "###################### Start to Train NN model ##########################\n"
     ]
    },
    {
     "name": "stderr",
     "output_type": "stream",
     "text": [
      "epoch  252: 100%|██████████| 35/35 [00:00<00:00, 101.01it/s, loss=6.1826024]\n"
     ]
    },
    {
     "name": "stdout",
     "output_type": "stream",
     "text": [
      "\n",
      "\n",
      "###################### Start to Train NN model ##########################\n"
     ]
    },
    {
     "name": "stderr",
     "output_type": "stream",
     "text": [
      "epoch  253: 100%|██████████| 35/35 [00:00<00:00, 91.31it/s, loss=5.5310464]\n"
     ]
    },
    {
     "name": "stdout",
     "output_type": "stream",
     "text": [
      "The trained model has been saved!\n",
      "\n",
      "\n",
      "###################### Start to Train NN model ##########################\n"
     ]
    },
    {
     "name": "stderr",
     "output_type": "stream",
     "text": [
      "epoch  254: 100%|██████████| 35/35 [00:00<00:00, 97.83it/s, loss=5.5584497]\n"
     ]
    },
    {
     "name": "stdout",
     "output_type": "stream",
     "text": [
      "\n",
      "\n",
      "###################### Start to Train NN model ##########################\n"
     ]
    },
    {
     "name": "stderr",
     "output_type": "stream",
     "text": [
      "epoch  255: 100%|██████████| 35/35 [00:00<00:00, 98.49it/s, loss=5.1912866]\n"
     ]
    },
    {
     "name": "stdout",
     "output_type": "stream",
     "text": [
      "\n",
      "\n",
      "###################### Start to Train NN model ##########################\n"
     ]
    },
    {
     "name": "stderr",
     "output_type": "stream",
     "text": [
      "epoch  256: 100%|██████████| 35/35 [00:00<00:00, 97.28it/s, loss=7.428299] \n"
     ]
    },
    {
     "name": "stdout",
     "output_type": "stream",
     "text": [
      "\n",
      "\n",
      "###################### Start to Train NN model ##########################\n"
     ]
    },
    {
     "name": "stderr",
     "output_type": "stream",
     "text": [
      "epoch  257: 100%|██████████| 35/35 [00:00<00:00, 96.73it/s, loss=5.789828]  \n"
     ]
    },
    {
     "name": "stdout",
     "output_type": "stream",
     "text": [
      "\n",
      "\n",
      "###################### Start to Train NN model ##########################\n"
     ]
    },
    {
     "name": "stderr",
     "output_type": "stream",
     "text": [
      "epoch  258: 100%|██████████| 35/35 [00:00<00:00, 74.93it/s, loss=5.5628204]\n"
     ]
    },
    {
     "name": "stdout",
     "output_type": "stream",
     "text": [
      "\n",
      "\n",
      "###################### Start to Train NN model ##########################\n"
     ]
    },
    {
     "name": "stderr",
     "output_type": "stream",
     "text": [
      "epoch  259: 100%|██████████| 35/35 [00:00<00:00, 92.55it/s, loss=5.165462] \n"
     ]
    },
    {
     "name": "stdout",
     "output_type": "stream",
     "text": [
      "\n",
      "\n",
      "###################### Start to Train NN model ##########################\n"
     ]
    },
    {
     "name": "stderr",
     "output_type": "stream",
     "text": [
      "epoch  260: 100%|██████████| 35/35 [00:00<00:00, 97.40it/s, loss=7.309286] \n"
     ]
    },
    {
     "name": "stdout",
     "output_type": "stream",
     "text": [
      "\n",
      "\n",
      "###################### Start to Train NN model ##########################\n"
     ]
    },
    {
     "name": "stderr",
     "output_type": "stream",
     "text": [
      "epoch  261: 100%|██████████| 35/35 [00:00<00:00, 100.08it/s, loss=6.652652]\n"
     ]
    },
    {
     "name": "stdout",
     "output_type": "stream",
     "text": [
      "\n",
      "\n",
      "###################### Start to Train NN model ##########################\n"
     ]
    },
    {
     "name": "stderr",
     "output_type": "stream",
     "text": [
      "epoch  262: 100%|██████████| 35/35 [00:00<00:00, 97.49it/s, loss=5.3453183]\n"
     ]
    },
    {
     "name": "stdout",
     "output_type": "stream",
     "text": [
      "\n",
      "\n",
      "###################### Start to Train NN model ##########################\n"
     ]
    },
    {
     "name": "stderr",
     "output_type": "stream",
     "text": [
      "epoch  263: 100%|██████████| 35/35 [00:00<00:00, 89.25it/s, loss=6.405177] \n"
     ]
    },
    {
     "name": "stdout",
     "output_type": "stream",
     "text": [
      "\n",
      "\n",
      "###################### Start to Train NN model ##########################\n"
     ]
    },
    {
     "name": "stderr",
     "output_type": "stream",
     "text": [
      "epoch  264: 100%|██████████| 35/35 [00:00<00:00, 93.28it/s, loss=6.5653324]\n"
     ]
    },
    {
     "name": "stdout",
     "output_type": "stream",
     "text": [
      "\n",
      "\n",
      "###################### Start to Train NN model ##########################\n"
     ]
    },
    {
     "name": "stderr",
     "output_type": "stream",
     "text": [
      "epoch  265: 100%|██████████| 35/35 [00:00<00:00, 94.84it/s, loss=6.07771]  \n"
     ]
    },
    {
     "name": "stdout",
     "output_type": "stream",
     "text": [
      "\n",
      "\n",
      "###################### Start to Train NN model ##########################\n"
     ]
    },
    {
     "name": "stderr",
     "output_type": "stream",
     "text": [
      "epoch  266: 100%|██████████| 35/35 [00:00<00:00, 92.64it/s, loss=5.2565875]\n"
     ]
    },
    {
     "name": "stdout",
     "output_type": "stream",
     "text": [
      "\n",
      "\n",
      "###################### Start to Train NN model ##########################\n"
     ]
    },
    {
     "name": "stderr",
     "output_type": "stream",
     "text": [
      "epoch  267: 100%|██████████| 35/35 [00:00<00:00, 98.59it/s, loss=6.257653] \n"
     ]
    },
    {
     "name": "stdout",
     "output_type": "stream",
     "text": [
      "\n",
      "\n",
      "###################### Start to Train NN model ##########################\n"
     ]
    },
    {
     "name": "stderr",
     "output_type": "stream",
     "text": [
      "epoch  268: 100%|██████████| 35/35 [00:00<00:00, 86.15it/s, loss=5.772591] \n"
     ]
    },
    {
     "name": "stdout",
     "output_type": "stream",
     "text": [
      "\n",
      "\n",
      "###################### Start to Train NN model ##########################\n"
     ]
    },
    {
     "name": "stderr",
     "output_type": "stream",
     "text": [
      "epoch  269: 100%|██████████| 35/35 [00:00<00:00, 105.74it/s, loss=5.5786777]\n"
     ]
    },
    {
     "name": "stdout",
     "output_type": "stream",
     "text": [
      "\n",
      "\n",
      "###################### Start to Train NN model ##########################\n"
     ]
    },
    {
     "name": "stderr",
     "output_type": "stream",
     "text": [
      "epoch  270: 100%|██████████| 35/35 [00:00<00:00, 131.39it/s, loss=6.020113] \n"
     ]
    },
    {
     "name": "stdout",
     "output_type": "stream",
     "text": [
      "\n",
      "\n",
      "###################### Start to Train NN model ##########################\n"
     ]
    },
    {
     "name": "stderr",
     "output_type": "stream",
     "text": [
      "epoch  271: 100%|██████████| 35/35 [00:00<00:00, 131.82it/s, loss=6.19668]  \n"
     ]
    },
    {
     "name": "stdout",
     "output_type": "stream",
     "text": [
      "\n",
      "\n",
      "###################### Start to Train NN model ##########################\n"
     ]
    },
    {
     "name": "stderr",
     "output_type": "stream",
     "text": [
      "epoch  272: 100%|██████████| 35/35 [00:00<00:00, 107.23it/s, loss=5.682423] \n"
     ]
    },
    {
     "name": "stdout",
     "output_type": "stream",
     "text": [
      "\n",
      "\n",
      "###################### Start to Train NN model ##########################\n"
     ]
    },
    {
     "name": "stderr",
     "output_type": "stream",
     "text": [
      "epoch  273: 100%|██████████| 35/35 [00:00<00:00, 103.65it/s, loss=5.589709] \n"
     ]
    },
    {
     "name": "stdout",
     "output_type": "stream",
     "text": [
      "\n",
      "\n",
      "###################### Start to Train NN model ##########################\n"
     ]
    },
    {
     "name": "stderr",
     "output_type": "stream",
     "text": [
      "epoch  274: 100%|██████████| 35/35 [00:00<00:00, 119.88it/s, loss=5.5529575]\n"
     ]
    },
    {
     "name": "stdout",
     "output_type": "stream",
     "text": [
      "\n",
      "\n",
      "###################### Start to Train NN model ##########################\n"
     ]
    },
    {
     "name": "stderr",
     "output_type": "stream",
     "text": [
      "epoch  275: 100%|██████████| 35/35 [00:00<00:00, 133.33it/s, loss=5.400289] \n"
     ]
    },
    {
     "name": "stdout",
     "output_type": "stream",
     "text": [
      "\n",
      "\n",
      "###################### Start to Train NN model ##########################\n"
     ]
    },
    {
     "name": "stderr",
     "output_type": "stream",
     "text": [
      "epoch  276: 100%|██████████| 35/35 [00:00<00:00, 106.04it/s, loss=6.6145196]\n"
     ]
    },
    {
     "name": "stdout",
     "output_type": "stream",
     "text": [
      "\n",
      "\n",
      "###################### Start to Train NN model ##########################\n"
     ]
    },
    {
     "name": "stderr",
     "output_type": "stream",
     "text": [
      "epoch  277: 100%|██████████| 35/35 [00:00<00:00, 100.52it/s, loss=5.7138085]\n"
     ]
    },
    {
     "name": "stdout",
     "output_type": "stream",
     "text": [
      "\n",
      "\n",
      "###################### Start to Train NN model ##########################\n"
     ]
    },
    {
     "name": "stderr",
     "output_type": "stream",
     "text": [
      "epoch  278: 100%|██████████| 35/35 [00:00<00:00, 128.95it/s, loss=5.905864] \n"
     ]
    },
    {
     "name": "stdout",
     "output_type": "stream",
     "text": [
      "\n",
      "\n",
      "###################### Start to Train NN model ##########################\n"
     ]
    },
    {
     "name": "stderr",
     "output_type": "stream",
     "text": [
      "epoch  279: 100%|██████████| 35/35 [00:00<00:00, 123.24it/s, loss=5.6494617]\n"
     ]
    },
    {
     "name": "stdout",
     "output_type": "stream",
     "text": [
      "\n",
      "\n",
      "###################### Start to Train NN model ##########################\n"
     ]
    },
    {
     "name": "stderr",
     "output_type": "stream",
     "text": [
      "epoch  280: 100%|██████████| 35/35 [00:00<00:00, 121.81it/s, loss=6.3369665]\n"
     ]
    },
    {
     "name": "stdout",
     "output_type": "stream",
     "text": [
      "\n",
      "\n",
      "###################### Start to Train NN model ##########################\n"
     ]
    },
    {
     "name": "stderr",
     "output_type": "stream",
     "text": [
      "epoch  281: 100%|██████████| 35/35 [00:00<00:00, 116.31it/s, loss=5.690845] \n"
     ]
    },
    {
     "name": "stdout",
     "output_type": "stream",
     "text": [
      "\n",
      "\n",
      "###################### Start to Train NN model ##########################\n"
     ]
    },
    {
     "name": "stderr",
     "output_type": "stream",
     "text": [
      "epoch  282: 100%|██████████| 35/35 [00:00<00:00, 123.10it/s, loss=6.435529] \n"
     ]
    },
    {
     "name": "stdout",
     "output_type": "stream",
     "text": [
      "\n",
      "\n",
      "###################### Start to Train NN model ##########################\n"
     ]
    },
    {
     "name": "stderr",
     "output_type": "stream",
     "text": [
      "epoch  283: 100%|██████████| 35/35 [00:00<00:00, 121.08it/s, loss=6.3373327]\n"
     ]
    },
    {
     "name": "stdout",
     "output_type": "stream",
     "text": [
      "The trained model has been saved!\n",
      "\n",
      "\n",
      "###################### Start to Train NN model ##########################\n"
     ]
    },
    {
     "name": "stderr",
     "output_type": "stream",
     "text": [
      "epoch  284: 100%|██████████| 35/35 [00:00<00:00, 130.91it/s, loss=5.5884104]\n"
     ]
    },
    {
     "name": "stdout",
     "output_type": "stream",
     "text": [
      "\n",
      "\n",
      "###################### Start to Train NN model ##########################\n"
     ]
    },
    {
     "name": "stderr",
     "output_type": "stream",
     "text": [
      "epoch  285: 100%|██████████| 35/35 [00:00<00:00, 112.83it/s, loss=5.7214837]\n"
     ]
    },
    {
     "name": "stdout",
     "output_type": "stream",
     "text": [
      "\n",
      "\n",
      "###################### Start to Train NN model ##########################\n"
     ]
    },
    {
     "name": "stderr",
     "output_type": "stream",
     "text": [
      "epoch  286: 100%|██████████| 35/35 [00:00<00:00, 126.52it/s, loss=6.289266] \n"
     ]
    },
    {
     "name": "stdout",
     "output_type": "stream",
     "text": [
      "\n",
      "\n",
      "###################### Start to Train NN model ##########################\n"
     ]
    },
    {
     "name": "stderr",
     "output_type": "stream",
     "text": [
      "epoch  287: 100%|██████████| 35/35 [00:00<00:00, 130.46it/s, loss=5.882549] \n"
     ]
    },
    {
     "name": "stdout",
     "output_type": "stream",
     "text": [
      "\n",
      "\n",
      "###################### Start to Train NN model ##########################\n"
     ]
    },
    {
     "name": "stderr",
     "output_type": "stream",
     "text": [
      "epoch  288: 100%|██████████| 35/35 [00:00<00:00, 129.95it/s, loss=6.386254] \n"
     ]
    },
    {
     "name": "stdout",
     "output_type": "stream",
     "text": [
      "\n",
      "\n",
      "###################### Start to Train NN model ##########################\n"
     ]
    },
    {
     "name": "stderr",
     "output_type": "stream",
     "text": [
      "epoch  289: 100%|██████████| 35/35 [00:00<00:00, 127.39it/s, loss=4.57385]  \n"
     ]
    },
    {
     "name": "stdout",
     "output_type": "stream",
     "text": [
      "\n",
      "\n",
      "###################### Start to Train NN model ##########################\n"
     ]
    },
    {
     "name": "stderr",
     "output_type": "stream",
     "text": [
      "epoch  290: 100%|██████████| 35/35 [00:00<00:00, 123.25it/s, loss=5.4842176]\n"
     ]
    },
    {
     "name": "stdout",
     "output_type": "stream",
     "text": [
      "\n",
      "\n",
      "###################### Start to Train NN model ##########################\n"
     ]
    },
    {
     "name": "stderr",
     "output_type": "stream",
     "text": [
      "epoch  291: 100%|██████████| 35/35 [00:00<00:00, 132.79it/s, loss=5.244699] \n"
     ]
    },
    {
     "name": "stdout",
     "output_type": "stream",
     "text": [
      "\n",
      "\n",
      "###################### Start to Train NN model ##########################\n"
     ]
    },
    {
     "name": "stderr",
     "output_type": "stream",
     "text": [
      "epoch  292: 100%|██████████| 35/35 [00:00<00:00, 116.22it/s, loss=6.139468] \n"
     ]
    },
    {
     "name": "stdout",
     "output_type": "stream",
     "text": [
      "\n",
      "\n",
      "###################### Start to Train NN model ##########################\n"
     ]
    },
    {
     "name": "stderr",
     "output_type": "stream",
     "text": [
      "epoch  293: 100%|██████████| 35/35 [00:00<00:00, 116.18it/s, loss=6.2903814]\n"
     ]
    },
    {
     "name": "stdout",
     "output_type": "stream",
     "text": [
      "The trained model has been saved!\n",
      "\n",
      "\n",
      "###################### Start to Train NN model ##########################\n"
     ]
    },
    {
     "name": "stderr",
     "output_type": "stream",
     "text": [
      "epoch  294: 100%|██████████| 35/35 [00:00<00:00, 122.40it/s, loss=6.0133805]\n"
     ]
    },
    {
     "name": "stdout",
     "output_type": "stream",
     "text": [
      "\n",
      "\n",
      "###################### Start to Train NN model ##########################\n"
     ]
    },
    {
     "name": "stderr",
     "output_type": "stream",
     "text": [
      "epoch  295: 100%|██████████| 35/35 [00:00<00:00, 123.75it/s, loss=6.753465] \n"
     ]
    },
    {
     "name": "stdout",
     "output_type": "stream",
     "text": [
      "The trained model has been saved!\n",
      "\n",
      "\n",
      "###################### Start to Train NN model ##########################\n"
     ]
    },
    {
     "name": "stderr",
     "output_type": "stream",
     "text": [
      "epoch  296: 100%|██████████| 35/35 [00:00<00:00, 126.87it/s, loss=5.68014]  \n"
     ]
    },
    {
     "name": "stdout",
     "output_type": "stream",
     "text": [
      "\n",
      "\n",
      "###################### Start to Train NN model ##########################\n"
     ]
    },
    {
     "name": "stderr",
     "output_type": "stream",
     "text": [
      "epoch  297: 100%|██████████| 35/35 [00:00<00:00, 135.37it/s, loss=5.950937] \n"
     ]
    },
    {
     "name": "stdout",
     "output_type": "stream",
     "text": [
      "\n",
      "\n",
      "###################### Start to Train NN model ##########################\n"
     ]
    },
    {
     "name": "stderr",
     "output_type": "stream",
     "text": [
      "epoch  298: 100%|██████████| 35/35 [00:00<00:00, 126.61it/s, loss=5.634354] \n"
     ]
    },
    {
     "name": "stdout",
     "output_type": "stream",
     "text": [
      "\n",
      "\n",
      "###################### Start to Train NN model ##########################\n"
     ]
    },
    {
     "name": "stderr",
     "output_type": "stream",
     "text": [
      "epoch  299: 100%|██████████| 35/35 [00:00<00:00, 115.61it/s, loss=6.8281693]\n"
     ]
    },
    {
     "name": "stdout",
     "output_type": "stream",
     "text": [
      "\n",
      "\n",
      "###################### Start to Train NN model ##########################\n"
     ]
    },
    {
     "name": "stderr",
     "output_type": "stream",
     "text": [
      "epoch  300: 100%|██████████| 35/35 [00:00<00:00, 127.54it/s, loss=5.517043] \n"
     ]
    },
    {
     "name": "stdout",
     "output_type": "stream",
     "text": [
      "\n",
      "\n",
      "###################### Start to Train NN model ##########################\n"
     ]
    },
    {
     "name": "stderr",
     "output_type": "stream",
     "text": [
      "epoch  301: 100%|██████████| 35/35 [00:00<00:00, 130.40it/s, loss=5.6247787]\n"
     ]
    },
    {
     "name": "stdout",
     "output_type": "stream",
     "text": [
      "\n",
      "\n",
      "###################### Start to Train NN model ##########################\n"
     ]
    },
    {
     "name": "stderr",
     "output_type": "stream",
     "text": [
      "epoch  302: 100%|██████████| 35/35 [00:00<00:00, 127.55it/s, loss=5.6921697]\n"
     ]
    },
    {
     "name": "stdout",
     "output_type": "stream",
     "text": [
      "\n",
      "\n",
      "###################### Start to Train NN model ##########################\n"
     ]
    },
    {
     "name": "stderr",
     "output_type": "stream",
     "text": [
      "epoch  303: 100%|██████████| 35/35 [00:00<00:00, 123.10it/s, loss=5.9435725]\n"
     ]
    },
    {
     "name": "stdout",
     "output_type": "stream",
     "text": [
      "\n",
      "\n",
      "###################### Start to Train NN model ##########################\n"
     ]
    },
    {
     "name": "stderr",
     "output_type": "stream",
     "text": [
      "epoch  304: 100%|██████████| 35/35 [00:00<00:00, 124.51it/s, loss=5.791421] \n"
     ]
    },
    {
     "name": "stdout",
     "output_type": "stream",
     "text": [
      "\n",
      "\n",
      "###################### Start to Train NN model ##########################\n"
     ]
    },
    {
     "name": "stderr",
     "output_type": "stream",
     "text": [
      "epoch  305: 100%|██████████| 35/35 [00:00<00:00, 130.88it/s, loss=5.803887] \n"
     ]
    },
    {
     "name": "stdout",
     "output_type": "stream",
     "text": [
      "\n",
      "\n",
      "###################### Start to Train NN model ##########################\n"
     ]
    },
    {
     "name": "stderr",
     "output_type": "stream",
     "text": [
      "epoch  306: 100%|██████████| 35/35 [00:00<00:00, 117.27it/s, loss=5.426326] \n"
     ]
    },
    {
     "name": "stdout",
     "output_type": "stream",
     "text": [
      "\n",
      "\n",
      "###################### Start to Train NN model ##########################\n"
     ]
    },
    {
     "name": "stderr",
     "output_type": "stream",
     "text": [
      "epoch  307: 100%|██████████| 35/35 [00:00<00:00, 126.99it/s, loss=5.9407706]\n"
     ]
    },
    {
     "name": "stdout",
     "output_type": "stream",
     "text": [
      "\n",
      "\n",
      "###################### Start to Train NN model ##########################\n"
     ]
    },
    {
     "name": "stderr",
     "output_type": "stream",
     "text": [
      "epoch  308: 100%|██████████| 35/35 [00:00<00:00, 132.91it/s, loss=5.946392] \n"
     ]
    },
    {
     "name": "stdout",
     "output_type": "stream",
     "text": [
      "\n",
      "\n",
      "###################### Start to Train NN model ##########################\n"
     ]
    },
    {
     "name": "stderr",
     "output_type": "stream",
     "text": [
      "epoch  309: 100%|██████████| 35/35 [00:00<00:00, 119.57it/s, loss=6.228194] \n"
     ]
    },
    {
     "name": "stdout",
     "output_type": "stream",
     "text": [
      "\n",
      "\n",
      "###################### Start to Train NN model ##########################\n"
     ]
    },
    {
     "name": "stderr",
     "output_type": "stream",
     "text": [
      "epoch  310: 100%|██████████| 35/35 [00:00<00:00, 132.33it/s, loss=5.7693095]\n"
     ]
    },
    {
     "name": "stdout",
     "output_type": "stream",
     "text": [
      "\n",
      "\n",
      "###################### Start to Train NN model ##########################\n"
     ]
    },
    {
     "name": "stderr",
     "output_type": "stream",
     "text": [
      "epoch  311: 100%|██████████| 35/35 [00:00<00:00, 123.25it/s, loss=5.280152] \n"
     ]
    },
    {
     "name": "stdout",
     "output_type": "stream",
     "text": [
      "\n",
      "\n",
      "###################### Start to Train NN model ##########################\n"
     ]
    },
    {
     "name": "stderr",
     "output_type": "stream",
     "text": [
      "epoch  312: 100%|██████████| 35/35 [00:00<00:00, 129.96it/s, loss=5.032621] \n"
     ]
    },
    {
     "name": "stdout",
     "output_type": "stream",
     "text": [
      "\n",
      "\n",
      "###################### Start to Train NN model ##########################\n"
     ]
    },
    {
     "name": "stderr",
     "output_type": "stream",
     "text": [
      "epoch  313: 100%|██████████| 35/35 [00:00<00:00, 122.31it/s, loss=6.43016]  \n"
     ]
    },
    {
     "name": "stdout",
     "output_type": "stream",
     "text": [
      "\n",
      "\n",
      "###################### Start to Train NN model ##########################\n"
     ]
    },
    {
     "name": "stderr",
     "output_type": "stream",
     "text": [
      "epoch  314: 100%|██████████| 35/35 [00:00<00:00, 115.40it/s, loss=5.3593044]\n"
     ]
    },
    {
     "name": "stdout",
     "output_type": "stream",
     "text": [
      "\n",
      "\n",
      "###################### Start to Train NN model ##########################\n"
     ]
    },
    {
     "name": "stderr",
     "output_type": "stream",
     "text": [
      "epoch  315: 100%|██████████| 35/35 [00:00<00:00, 126.12it/s, loss=7.064092] \n"
     ]
    },
    {
     "name": "stdout",
     "output_type": "stream",
     "text": [
      "\n",
      "\n",
      "###################### Start to Train NN model ##########################\n"
     ]
    },
    {
     "name": "stderr",
     "output_type": "stream",
     "text": [
      "epoch  316: 100%|██████████| 35/35 [00:00<00:00, 124.49it/s, loss=5.3254094]\n"
     ]
    },
    {
     "name": "stdout",
     "output_type": "stream",
     "text": [
      "\n",
      "\n",
      "###################### Start to Train NN model ##########################\n"
     ]
    },
    {
     "name": "stderr",
     "output_type": "stream",
     "text": [
      "epoch  317: 100%|██████████| 35/35 [00:00<00:00, 129.71it/s, loss=6.00709]  \n"
     ]
    },
    {
     "name": "stdout",
     "output_type": "stream",
     "text": [
      "\n",
      "\n",
      "###################### Start to Train NN model ##########################\n"
     ]
    },
    {
     "name": "stderr",
     "output_type": "stream",
     "text": [
      "epoch  318: 100%|██████████| 35/35 [00:00<00:00, 129.62it/s, loss=5.4395294]\n"
     ]
    },
    {
     "name": "stdout",
     "output_type": "stream",
     "text": [
      "\n",
      "\n",
      "###################### Start to Train NN model ##########################\n"
     ]
    },
    {
     "name": "stderr",
     "output_type": "stream",
     "text": [
      "epoch  319: 100%|██████████| 35/35 [00:00<00:00, 127.74it/s, loss=5.4681005]\n"
     ]
    },
    {
     "name": "stdout",
     "output_type": "stream",
     "text": [
      "\n",
      "\n",
      "###################### Start to Train NN model ##########################\n"
     ]
    },
    {
     "name": "stderr",
     "output_type": "stream",
     "text": [
      "epoch  320: 100%|██████████| 35/35 [00:00<00:00, 131.91it/s, loss=5.6656013]\n"
     ]
    },
    {
     "name": "stdout",
     "output_type": "stream",
     "text": [
      "\n",
      "\n",
      "###################### Start to Train NN model ##########################\n"
     ]
    },
    {
     "name": "stderr",
     "output_type": "stream",
     "text": [
      "epoch  321: 100%|██████████| 35/35 [00:00<00:00, 117.68it/s, loss=5.4126573]\n"
     ]
    },
    {
     "name": "stdout",
     "output_type": "stream",
     "text": [
      "\n",
      "\n",
      "###################### Start to Train NN model ##########################\n"
     ]
    },
    {
     "name": "stderr",
     "output_type": "stream",
     "text": [
      "epoch  322: 100%|██████████| 35/35 [00:00<00:00, 85.29it/s, loss=5.769313] \n"
     ]
    },
    {
     "name": "stdout",
     "output_type": "stream",
     "text": [
      "\n",
      "\n",
      "###################### Start to Train NN model ##########################\n"
     ]
    },
    {
     "name": "stderr",
     "output_type": "stream",
     "text": [
      "epoch  323: 100%|██████████| 35/35 [00:00<00:00, 118.83it/s, loss=6.669984] \n"
     ]
    },
    {
     "name": "stdout",
     "output_type": "stream",
     "text": [
      "\n",
      "\n",
      "###################### Start to Train NN model ##########################\n"
     ]
    },
    {
     "name": "stderr",
     "output_type": "stream",
     "text": [
      "epoch  324: 100%|██████████| 35/35 [00:00<00:00, 109.52it/s, loss=5.251984] \n"
     ]
    },
    {
     "name": "stdout",
     "output_type": "stream",
     "text": [
      "\n",
      "\n",
      "###################### Start to Train NN model ##########################\n"
     ]
    },
    {
     "name": "stderr",
     "output_type": "stream",
     "text": [
      "epoch  325: 100%|██████████| 35/35 [00:00<00:00, 128.84it/s, loss=6.2310414]\n"
     ]
    },
    {
     "name": "stdout",
     "output_type": "stream",
     "text": [
      "\n",
      "\n",
      "###################### Start to Train NN model ##########################\n"
     ]
    },
    {
     "name": "stderr",
     "output_type": "stream",
     "text": [
      "epoch  326: 100%|██████████| 35/35 [00:00<00:00, 120.18it/s, loss=5.0524206]\n"
     ]
    },
    {
     "name": "stdout",
     "output_type": "stream",
     "text": [
      "\n",
      "\n",
      "###################### Start to Train NN model ##########################\n"
     ]
    },
    {
     "name": "stderr",
     "output_type": "stream",
     "text": [
      "epoch  327: 100%|██████████| 35/35 [00:00<00:00, 132.75it/s, loss=5.2873144]\n"
     ]
    },
    {
     "name": "stdout",
     "output_type": "stream",
     "text": [
      "\n",
      "\n",
      "###################### Start to Train NN model ##########################\n"
     ]
    },
    {
     "name": "stderr",
     "output_type": "stream",
     "text": [
      "epoch  328: 100%|██████████| 35/35 [00:00<00:00, 122.33it/s, loss=5.305305] \n"
     ]
    },
    {
     "name": "stdout",
     "output_type": "stream",
     "text": [
      "\n",
      "\n",
      "###################### Start to Train NN model ##########################\n"
     ]
    },
    {
     "name": "stderr",
     "output_type": "stream",
     "text": [
      "epoch  329: 100%|██████████| 35/35 [00:00<00:00, 122.32it/s, loss=5.2435026]\n"
     ]
    },
    {
     "name": "stdout",
     "output_type": "stream",
     "text": [
      "\n",
      "\n",
      "###################### Start to Train NN model ##########################\n"
     ]
    },
    {
     "name": "stderr",
     "output_type": "stream",
     "text": [
      "epoch  330: 100%|██████████| 35/35 [00:00<00:00, 130.65it/s, loss=6.6629596]\n"
     ]
    },
    {
     "name": "stdout",
     "output_type": "stream",
     "text": [
      "\n",
      "\n",
      "###################### Start to Train NN model ##########################\n"
     ]
    },
    {
     "name": "stderr",
     "output_type": "stream",
     "text": [
      "epoch  331: 100%|██████████| 35/35 [00:00<00:00, 95.38it/s, loss=4.949254] \n"
     ]
    },
    {
     "name": "stdout",
     "output_type": "stream",
     "text": [
      "\n",
      "\n",
      "###################### Start to Train NN model ##########################\n"
     ]
    },
    {
     "name": "stderr",
     "output_type": "stream",
     "text": [
      "epoch  332: 100%|██████████| 35/35 [00:00<00:00, 92.10it/s, loss=6.0659523]\n"
     ]
    },
    {
     "name": "stdout",
     "output_type": "stream",
     "text": [
      "\n",
      "\n",
      "###################### Start to Train NN model ##########################\n"
     ]
    },
    {
     "name": "stderr",
     "output_type": "stream",
     "text": [
      "epoch  333: 100%|██████████| 35/35 [00:00<00:00, 86.52it/s, loss=7.4764485]\n"
     ]
    },
    {
     "name": "stdout",
     "output_type": "stream",
     "text": [
      "\n",
      "\n",
      "###################### Start to Train NN model ##########################\n"
     ]
    },
    {
     "name": "stderr",
     "output_type": "stream",
     "text": [
      "epoch  334: 100%|██████████| 35/35 [00:00<00:00, 103.43it/s, loss=5.9200554]\n"
     ]
    },
    {
     "name": "stdout",
     "output_type": "stream",
     "text": [
      "\n",
      "\n",
      "###################### Start to Train NN model ##########################\n"
     ]
    },
    {
     "name": "stderr",
     "output_type": "stream",
     "text": [
      "epoch  335: 100%|██████████| 35/35 [00:00<00:00, 98.56it/s, loss=5.6998386] \n"
     ]
    },
    {
     "name": "stdout",
     "output_type": "stream",
     "text": [
      "\n",
      "\n",
      "###################### Start to Train NN model ##########################\n"
     ]
    },
    {
     "name": "stderr",
     "output_type": "stream",
     "text": [
      "epoch  336: 100%|██████████| 35/35 [00:00<00:00, 97.99it/s, loss=7.1919847] \n"
     ]
    },
    {
     "name": "stdout",
     "output_type": "stream",
     "text": [
      "\n",
      "\n",
      "###################### Start to Train NN model ##########################\n"
     ]
    },
    {
     "name": "stderr",
     "output_type": "stream",
     "text": [
      "epoch  337: 100%|██████████| 35/35 [00:00<00:00, 103.24it/s, loss=6.8626246]\n"
     ]
    },
    {
     "name": "stdout",
     "output_type": "stream",
     "text": [
      "\n",
      "\n",
      "###################### Start to Train NN model ##########################\n"
     ]
    },
    {
     "name": "stderr",
     "output_type": "stream",
     "text": [
      "epoch  338: 100%|██████████| 35/35 [00:00<00:00, 101.80it/s, loss=7.499725] \n"
     ]
    },
    {
     "name": "stdout",
     "output_type": "stream",
     "text": [
      "\n",
      "\n",
      "###################### Start to Train NN model ##########################\n"
     ]
    },
    {
     "name": "stderr",
     "output_type": "stream",
     "text": [
      "epoch  339: 100%|██████████| 35/35 [00:00<00:00, 127.41it/s, loss=5.4849167]\n"
     ]
    },
    {
     "name": "stdout",
     "output_type": "stream",
     "text": [
      "\n",
      "\n",
      "###################### Start to Train NN model ##########################\n"
     ]
    },
    {
     "name": "stderr",
     "output_type": "stream",
     "text": [
      "epoch  340: 100%|██████████| 35/35 [00:00<00:00, 121.86it/s, loss=5.8666987]\n"
     ]
    },
    {
     "name": "stdout",
     "output_type": "stream",
     "text": [
      "\n",
      "\n",
      "###################### Start to Train NN model ##########################\n"
     ]
    },
    {
     "name": "stderr",
     "output_type": "stream",
     "text": [
      "epoch  341: 100%|██████████| 35/35 [00:00<00:00, 124.70it/s, loss=5.6452928]\n"
     ]
    },
    {
     "name": "stdout",
     "output_type": "stream",
     "text": [
      "\n",
      "\n",
      "###################### Start to Train NN model ##########################\n"
     ]
    },
    {
     "name": "stderr",
     "output_type": "stream",
     "text": [
      "epoch  342: 100%|██████████| 35/35 [00:00<00:00, 132.74it/s, loss=6.257602] \n"
     ]
    },
    {
     "name": "stdout",
     "output_type": "stream",
     "text": [
      "\n",
      "\n",
      "###################### Start to Train NN model ##########################\n"
     ]
    },
    {
     "name": "stderr",
     "output_type": "stream",
     "text": [
      "epoch  343: 100%|██████████| 35/35 [00:00<00:00, 105.04it/s, loss=5.6941905]\n"
     ]
    },
    {
     "name": "stdout",
     "output_type": "stream",
     "text": [
      "\n",
      "\n",
      "###################### Start to Train NN model ##########################\n"
     ]
    },
    {
     "name": "stderr",
     "output_type": "stream",
     "text": [
      "epoch  344: 100%|██████████| 35/35 [00:00<00:00, 113.48it/s, loss=6.0625024]\n"
     ]
    },
    {
     "name": "stdout",
     "output_type": "stream",
     "text": [
      "\n",
      "\n",
      "###################### Start to Train NN model ##########################\n"
     ]
    },
    {
     "name": "stderr",
     "output_type": "stream",
     "text": [
      "epoch  345: 100%|██████████| 35/35 [00:00<00:00, 96.08it/s, loss=6.841035] \n"
     ]
    },
    {
     "name": "stdout",
     "output_type": "stream",
     "text": [
      "\n",
      "\n",
      "###################### Start to Train NN model ##########################\n"
     ]
    },
    {
     "name": "stderr",
     "output_type": "stream",
     "text": [
      "epoch  346: 100%|██████████| 35/35 [00:00<00:00, 98.30it/s, loss=5.848304]  \n"
     ]
    },
    {
     "name": "stdout",
     "output_type": "stream",
     "text": [
      "\n",
      "\n",
      "###################### Start to Train NN model ##########################\n"
     ]
    },
    {
     "name": "stderr",
     "output_type": "stream",
     "text": [
      "epoch  347: 100%|██████████| 35/35 [00:00<00:00, 104.45it/s, loss=5.4651446]\n"
     ]
    },
    {
     "name": "stdout",
     "output_type": "stream",
     "text": [
      "\n",
      "\n",
      "###################### Start to Train NN model ##########################\n"
     ]
    },
    {
     "name": "stderr",
     "output_type": "stream",
     "text": [
      "epoch  348: 100%|██████████| 35/35 [00:00<00:00, 83.91it/s, loss=5.3669043]\n"
     ]
    },
    {
     "name": "stdout",
     "output_type": "stream",
     "text": [
      "\n",
      "\n",
      "###################### Start to Train NN model ##########################\n"
     ]
    },
    {
     "name": "stderr",
     "output_type": "stream",
     "text": [
      "epoch  349: 100%|██████████| 35/35 [00:00<00:00, 87.17it/s, loss=6.0040174]\n"
     ]
    },
    {
     "name": "stdout",
     "output_type": "stream",
     "text": [
      "\n",
      "\n",
      "###################### Start to Train NN model ##########################\n"
     ]
    },
    {
     "name": "stderr",
     "output_type": "stream",
     "text": [
      "epoch  350: 100%|██████████| 35/35 [00:00<00:00, 93.28it/s, loss=5.9599066]\n"
     ]
    },
    {
     "name": "stdout",
     "output_type": "stream",
     "text": [
      "\n",
      "\n",
      "###################### Start to Train NN model ##########################\n"
     ]
    },
    {
     "name": "stderr",
     "output_type": "stream",
     "text": [
      "epoch  351: 100%|██████████| 35/35 [00:00<00:00, 104.47it/s, loss=5.433211] \n"
     ]
    },
    {
     "name": "stdout",
     "output_type": "stream",
     "text": [
      "\n",
      "\n",
      "###################### Start to Train NN model ##########################\n"
     ]
    },
    {
     "name": "stderr",
     "output_type": "stream",
     "text": [
      "epoch  352: 100%|██████████| 35/35 [00:00<00:00, 97.77it/s, loss=5.3501415]\n"
     ]
    },
    {
     "name": "stdout",
     "output_type": "stream",
     "text": [
      "\n",
      "\n",
      "###################### Start to Train NN model ##########################\n"
     ]
    },
    {
     "name": "stderr",
     "output_type": "stream",
     "text": [
      "epoch  353: 100%|██████████| 35/35 [00:00<00:00, 113.80it/s, loss=6.094118] \n"
     ]
    },
    {
     "name": "stdout",
     "output_type": "stream",
     "text": [
      "\n",
      "\n",
      "###################### Start to Train NN model ##########################\n"
     ]
    },
    {
     "name": "stderr",
     "output_type": "stream",
     "text": [
      "epoch  354: 100%|██████████| 35/35 [00:00<00:00, 104.07it/s, loss=5.3463016]\n"
     ]
    },
    {
     "name": "stdout",
     "output_type": "stream",
     "text": [
      "\n",
      "\n",
      "###################### Start to Train NN model ##########################\n"
     ]
    },
    {
     "name": "stderr",
     "output_type": "stream",
     "text": [
      "epoch  355: 100%|██████████| 35/35 [00:00<00:00, 120.25it/s, loss=6.3959775]\n"
     ]
    },
    {
     "name": "stdout",
     "output_type": "stream",
     "text": [
      "\n",
      "\n",
      "###################### Start to Train NN model ##########################\n"
     ]
    },
    {
     "name": "stderr",
     "output_type": "stream",
     "text": [
      "epoch  356: 100%|██████████| 35/35 [00:00<00:00, 109.26it/s, loss=6.0767736]\n"
     ]
    },
    {
     "name": "stdout",
     "output_type": "stream",
     "text": [
      "\n",
      "\n",
      "###################### Start to Train NN model ##########################\n"
     ]
    },
    {
     "name": "stderr",
     "output_type": "stream",
     "text": [
      "epoch  357: 100%|██████████| 35/35 [00:00<00:00, 107.53it/s, loss=5.2717805]\n"
     ]
    },
    {
     "name": "stdout",
     "output_type": "stream",
     "text": [
      "\n",
      "\n",
      "###################### Start to Train NN model ##########################\n"
     ]
    },
    {
     "name": "stderr",
     "output_type": "stream",
     "text": [
      "epoch  358: 100%|██████████| 35/35 [00:00<00:00, 131.40it/s, loss=5.0701737]\n"
     ]
    },
    {
     "name": "stdout",
     "output_type": "stream",
     "text": [
      "\n",
      "\n",
      "###################### Start to Train NN model ##########################\n"
     ]
    },
    {
     "name": "stderr",
     "output_type": "stream",
     "text": [
      "epoch  359: 100%|██████████| 35/35 [00:00<00:00, 124.09it/s, loss=5.7286158]\n"
     ]
    },
    {
     "name": "stdout",
     "output_type": "stream",
     "text": [
      "\n",
      "\n",
      "###################### Start to Train NN model ##########################\n"
     ]
    },
    {
     "name": "stderr",
     "output_type": "stream",
     "text": [
      "epoch  360: 100%|██████████| 35/35 [00:00<00:00, 122.90it/s, loss=5.800799] \n"
     ]
    },
    {
     "name": "stdout",
     "output_type": "stream",
     "text": [
      "\n",
      "\n",
      "###################### Start to Train NN model ##########################\n"
     ]
    },
    {
     "name": "stderr",
     "output_type": "stream",
     "text": [
      "epoch  361: 100%|██████████| 35/35 [00:00<00:00, 129.85it/s, loss=5.6931705]\n"
     ]
    },
    {
     "name": "stdout",
     "output_type": "stream",
     "text": [
      "\n",
      "\n",
      "###################### Start to Train NN model ##########################\n"
     ]
    },
    {
     "name": "stderr",
     "output_type": "stream",
     "text": [
      "epoch  362: 100%|██████████| 35/35 [00:00<00:00, 113.58it/s, loss=6.1370296]\n"
     ]
    },
    {
     "name": "stdout",
     "output_type": "stream",
     "text": [
      "\n",
      "\n",
      "###################### Start to Train NN model ##########################\n"
     ]
    },
    {
     "name": "stderr",
     "output_type": "stream",
     "text": [
      "epoch  363: 100%|██████████| 35/35 [00:00<00:00, 115.92it/s, loss=5.7192497]\n"
     ]
    },
    {
     "name": "stdout",
     "output_type": "stream",
     "text": [
      "\n",
      "\n",
      "###################### Start to Train NN model ##########################\n"
     ]
    },
    {
     "name": "stderr",
     "output_type": "stream",
     "text": [
      "epoch  364: 100%|██████████| 35/35 [00:00<00:00, 102.52it/s, loss=5.8421817]\n"
     ]
    },
    {
     "name": "stdout",
     "output_type": "stream",
     "text": [
      "\n",
      "\n",
      "###################### Start to Train NN model ##########################\n"
     ]
    },
    {
     "name": "stderr",
     "output_type": "stream",
     "text": [
      "epoch  365: 100%|██████████| 35/35 [00:00<00:00, 107.36it/s, loss=5.8883715]\n"
     ]
    },
    {
     "name": "stdout",
     "output_type": "stream",
     "text": [
      "\n",
      "\n",
      "###################### Start to Train NN model ##########################\n"
     ]
    },
    {
     "name": "stderr",
     "output_type": "stream",
     "text": [
      "epoch  366: 100%|██████████| 35/35 [00:00<00:00, 98.07it/s, loss=5.787224] \n"
     ]
    },
    {
     "name": "stdout",
     "output_type": "stream",
     "text": [
      "\n",
      "\n",
      "###################### Start to Train NN model ##########################\n"
     ]
    },
    {
     "name": "stderr",
     "output_type": "stream",
     "text": [
      "epoch  367: 100%|██████████| 35/35 [00:00<00:00, 104.21it/s, loss=4.8991003]\n"
     ]
    },
    {
     "name": "stdout",
     "output_type": "stream",
     "text": [
      "\n",
      "\n",
      "###################### Start to Train NN model ##########################\n"
     ]
    },
    {
     "name": "stderr",
     "output_type": "stream",
     "text": [
      "epoch  368: 100%|██████████| 35/35 [00:00<00:00, 111.67it/s, loss=5.606218] \n"
     ]
    },
    {
     "name": "stdout",
     "output_type": "stream",
     "text": [
      "\n",
      "\n",
      "###################### Start to Train NN model ##########################\n"
     ]
    },
    {
     "name": "stderr",
     "output_type": "stream",
     "text": [
      "epoch  369: 100%|██████████| 35/35 [00:00<00:00, 126.72it/s, loss=5.934606] \n"
     ]
    },
    {
     "name": "stdout",
     "output_type": "stream",
     "text": [
      "\n",
      "\n",
      "###################### Start to Train NN model ##########################\n"
     ]
    },
    {
     "name": "stderr",
     "output_type": "stream",
     "text": [
      "epoch  370: 100%|██████████| 35/35 [00:00<00:00, 106.82it/s, loss=5.474487] \n"
     ]
    },
    {
     "name": "stdout",
     "output_type": "stream",
     "text": [
      "\n",
      "\n",
      "###################### Start to Train NN model ##########################\n"
     ]
    },
    {
     "name": "stderr",
     "output_type": "stream",
     "text": [
      "epoch  371: 100%|██████████| 35/35 [00:00<00:00, 114.52it/s, loss=6.6352453]\n"
     ]
    },
    {
     "name": "stdout",
     "output_type": "stream",
     "text": [
      "\n",
      "\n",
      "###################### Start to Train NN model ##########################\n"
     ]
    },
    {
     "name": "stderr",
     "output_type": "stream",
     "text": [
      "epoch  372: 100%|██████████| 35/35 [00:00<00:00, 118.34it/s, loss=6.6700897]\n"
     ]
    },
    {
     "name": "stdout",
     "output_type": "stream",
     "text": [
      "\n",
      "\n",
      "###################### Start to Train NN model ##########################\n"
     ]
    },
    {
     "name": "stderr",
     "output_type": "stream",
     "text": [
      "epoch  373: 100%|██████████| 35/35 [00:00<00:00, 113.64it/s, loss=5.1835155]\n"
     ]
    },
    {
     "name": "stdout",
     "output_type": "stream",
     "text": [
      "\n",
      "\n",
      "###################### Start to Train NN model ##########################\n"
     ]
    },
    {
     "name": "stderr",
     "output_type": "stream",
     "text": [
      "epoch  374: 100%|██████████| 35/35 [00:00<00:00, 100.17it/s, loss=5.6630406]\n"
     ]
    },
    {
     "name": "stdout",
     "output_type": "stream",
     "text": [
      "\n",
      "\n",
      "###################### Start to Train NN model ##########################\n"
     ]
    },
    {
     "name": "stderr",
     "output_type": "stream",
     "text": [
      "epoch  375: 100%|██████████| 35/35 [00:00<00:00, 102.53it/s, loss=5.823659] \n"
     ]
    },
    {
     "name": "stdout",
     "output_type": "stream",
     "text": [
      "\n",
      "\n",
      "###################### Start to Train NN model ##########################\n"
     ]
    },
    {
     "name": "stderr",
     "output_type": "stream",
     "text": [
      "epoch  376: 100%|██████████| 35/35 [00:00<00:00, 97.74it/s, loss=5.7955112]\n"
     ]
    },
    {
     "name": "stdout",
     "output_type": "stream",
     "text": [
      "\n",
      "\n",
      "###################### Start to Train NN model ##########################\n"
     ]
    },
    {
     "name": "stderr",
     "output_type": "stream",
     "text": [
      "epoch  377: 100%|██████████| 35/35 [00:00<00:00, 79.56it/s, loss=5.7076116]\n"
     ]
    },
    {
     "name": "stdout",
     "output_type": "stream",
     "text": [
      "\n",
      "\n",
      "###################### Start to Train NN model ##########################\n"
     ]
    },
    {
     "name": "stderr",
     "output_type": "stream",
     "text": [
      "epoch  378: 100%|██████████| 35/35 [00:00<00:00, 77.50it/s, loss=5.409125] \n"
     ]
    },
    {
     "name": "stdout",
     "output_type": "stream",
     "text": [
      "\n",
      "\n",
      "###################### Start to Train NN model ##########################\n"
     ]
    },
    {
     "name": "stderr",
     "output_type": "stream",
     "text": [
      "epoch  379: 100%|██████████| 35/35 [00:00<00:00, 91.13it/s, loss=7.4079313]\n"
     ]
    },
    {
     "name": "stdout",
     "output_type": "stream",
     "text": [
      "\n",
      "\n",
      "###################### Start to Train NN model ##########################\n"
     ]
    },
    {
     "name": "stderr",
     "output_type": "stream",
     "text": [
      "epoch  380: 100%|██████████| 35/35 [00:00<00:00, 88.47it/s, loss=5.5294614]\n"
     ]
    },
    {
     "name": "stdout",
     "output_type": "stream",
     "text": [
      "\n",
      "\n",
      "###################### Start to Train NN model ##########################\n"
     ]
    },
    {
     "name": "stderr",
     "output_type": "stream",
     "text": [
      "epoch  381: 100%|██████████| 35/35 [00:00<00:00, 87.55it/s, loss=5.994374] \n"
     ]
    },
    {
     "name": "stdout",
     "output_type": "stream",
     "text": [
      "\n",
      "\n",
      "###################### Start to Train NN model ##########################\n"
     ]
    },
    {
     "name": "stderr",
     "output_type": "stream",
     "text": [
      "epoch  382: 100%|██████████| 35/35 [00:00<00:00, 93.16it/s, loss=5.9386816]\n"
     ]
    },
    {
     "name": "stdout",
     "output_type": "stream",
     "text": [
      "\n",
      "\n",
      "###################### Start to Train NN model ##########################\n"
     ]
    },
    {
     "name": "stderr",
     "output_type": "stream",
     "text": [
      "epoch  383: 100%|██████████| 35/35 [00:00<00:00, 85.71it/s, loss=5.9563355]\n"
     ]
    },
    {
     "name": "stdout",
     "output_type": "stream",
     "text": [
      "\n",
      "\n",
      "###################### Start to Train NN model ##########################\n"
     ]
    },
    {
     "name": "stderr",
     "output_type": "stream",
     "text": [
      "epoch  384: 100%|██████████| 35/35 [00:00<00:00, 88.93it/s, loss=6.079581] \n"
     ]
    },
    {
     "name": "stdout",
     "output_type": "stream",
     "text": [
      "\n",
      "\n",
      "###################### Start to Train NN model ##########################\n"
     ]
    },
    {
     "name": "stderr",
     "output_type": "stream",
     "text": [
      "epoch  385: 100%|██████████| 35/35 [00:00<00:00, 85.28it/s, loss=6.0660076]\n"
     ]
    },
    {
     "name": "stdout",
     "output_type": "stream",
     "text": [
      "\n",
      "\n",
      "###################### Start to Train NN model ##########################\n"
     ]
    },
    {
     "name": "stderr",
     "output_type": "stream",
     "text": [
      "epoch  386: 100%|██████████| 35/35 [00:00<00:00, 87.57it/s, loss=5.4940796]\n"
     ]
    },
    {
     "name": "stdout",
     "output_type": "stream",
     "text": [
      "\n",
      "\n",
      "###################### Start to Train NN model ##########################\n"
     ]
    },
    {
     "name": "stderr",
     "output_type": "stream",
     "text": [
      "epoch  387: 100%|██████████| 35/35 [00:00<00:00, 92.95it/s, loss=6.1923203]\n"
     ]
    },
    {
     "name": "stdout",
     "output_type": "stream",
     "text": [
      "\n",
      "\n",
      "###################### Start to Train NN model ##########################\n"
     ]
    },
    {
     "name": "stderr",
     "output_type": "stream",
     "text": [
      "epoch  388: 100%|██████████| 35/35 [00:00<00:00, 94.45it/s, loss=5.5884695]\n"
     ]
    },
    {
     "name": "stdout",
     "output_type": "stream",
     "text": [
      "\n",
      "\n",
      "###################### Start to Train NN model ##########################\n"
     ]
    },
    {
     "name": "stderr",
     "output_type": "stream",
     "text": [
      "epoch  389: 100%|██████████| 35/35 [00:00<00:00, 92.60it/s, loss=6.1475573]\n"
     ]
    },
    {
     "name": "stdout",
     "output_type": "stream",
     "text": [
      "\n",
      "\n",
      "###################### Start to Train NN model ##########################\n"
     ]
    },
    {
     "name": "stderr",
     "output_type": "stream",
     "text": [
      "epoch  390: 100%|██████████| 35/35 [00:00<00:00, 101.15it/s, loss=5.589973] \n"
     ]
    },
    {
     "name": "stdout",
     "output_type": "stream",
     "text": [
      "\n",
      "\n",
      "###################### Start to Train NN model ##########################\n"
     ]
    },
    {
     "name": "stderr",
     "output_type": "stream",
     "text": [
      "epoch  391: 100%|██████████| 35/35 [00:00<00:00, 92.79it/s, loss=5.046722] \n"
     ]
    },
    {
     "name": "stdout",
     "output_type": "stream",
     "text": [
      "\n",
      "\n",
      "###################### Start to Train NN model ##########################\n"
     ]
    },
    {
     "name": "stderr",
     "output_type": "stream",
     "text": [
      "epoch  392: 100%|██████████| 35/35 [00:00<00:00, 105.66it/s, loss=5.2407503]\n"
     ]
    },
    {
     "name": "stdout",
     "output_type": "stream",
     "text": [
      "\n",
      "\n",
      "###################### Start to Train NN model ##########################\n"
     ]
    },
    {
     "name": "stderr",
     "output_type": "stream",
     "text": [
      "epoch  393: 100%|██████████| 35/35 [00:00<00:00, 122.00it/s, loss=6.569901] \n"
     ]
    },
    {
     "name": "stdout",
     "output_type": "stream",
     "text": [
      "\n",
      "\n",
      "###################### Start to Train NN model ##########################\n"
     ]
    },
    {
     "name": "stderr",
     "output_type": "stream",
     "text": [
      "epoch  394: 100%|██████████| 35/35 [00:00<00:00, 112.34it/s, loss=5.7503796]\n"
     ]
    },
    {
     "name": "stdout",
     "output_type": "stream",
     "text": [
      "\n",
      "\n",
      "###################### Start to Train NN model ##########################\n"
     ]
    },
    {
     "name": "stderr",
     "output_type": "stream",
     "text": [
      "epoch  395: 100%|██████████| 35/35 [00:00<00:00, 104.06it/s, loss=5.3250275]\n"
     ]
    },
    {
     "name": "stdout",
     "output_type": "stream",
     "text": [
      "\n",
      "\n",
      "###################### Start to Train NN model ##########################\n"
     ]
    },
    {
     "name": "stderr",
     "output_type": "stream",
     "text": [
      "epoch  396: 100%|██████████| 35/35 [00:00<00:00, 111.93it/s, loss=6.7502627]\n"
     ]
    },
    {
     "name": "stdout",
     "output_type": "stream",
     "text": [
      "\n",
      "\n",
      "###################### Start to Train NN model ##########################\n"
     ]
    },
    {
     "name": "stderr",
     "output_type": "stream",
     "text": [
      "epoch  397: 100%|██████████| 35/35 [00:00<00:00, 108.79it/s, loss=5.928806] \n"
     ]
    },
    {
     "name": "stdout",
     "output_type": "stream",
     "text": [
      "\n",
      "\n",
      "###################### Start to Train NN model ##########################\n"
     ]
    },
    {
     "name": "stderr",
     "output_type": "stream",
     "text": [
      "epoch  398: 100%|██████████| 35/35 [00:00<00:00, 112.81it/s, loss=6.4592953]\n"
     ]
    },
    {
     "name": "stdout",
     "output_type": "stream",
     "text": [
      "\n",
      "\n",
      "###################### Start to Train NN model ##########################\n"
     ]
    },
    {
     "name": "stderr",
     "output_type": "stream",
     "text": [
      "epoch  399: 100%|██████████| 35/35 [00:00<00:00, 111.94it/s, loss=5.7394624]\n"
     ]
    },
    {
     "name": "stdout",
     "output_type": "stream",
     "text": [
      "\n",
      "\n",
      "###################### Start to Train NN model ##########################\n"
     ]
    },
    {
     "name": "stderr",
     "output_type": "stream",
     "text": [
      "epoch  400: 100%|██████████| 35/35 [00:00<00:00, 126.68it/s, loss=5.566861] \n"
     ]
    },
    {
     "name": "stdout",
     "output_type": "stream",
     "text": [
      "\n",
      "\n",
      "###################### Start to Train NN model ##########################\n"
     ]
    },
    {
     "name": "stderr",
     "output_type": "stream",
     "text": [
      "epoch  401: 100%|██████████| 35/35 [00:00<00:00, 114.23it/s, loss=4.878543] \n"
     ]
    },
    {
     "name": "stdout",
     "output_type": "stream",
     "text": [
      "\n",
      "\n",
      "###################### Start to Train NN model ##########################\n"
     ]
    },
    {
     "name": "stderr",
     "output_type": "stream",
     "text": [
      "epoch  402: 100%|██████████| 35/35 [00:00<00:00, 102.39it/s, loss=6.1912823]\n"
     ]
    },
    {
     "name": "stdout",
     "output_type": "stream",
     "text": [
      "\n",
      "\n",
      "###################### Start to Train NN model ##########################\n"
     ]
    },
    {
     "name": "stderr",
     "output_type": "stream",
     "text": [
      "epoch  403: 100%|██████████| 35/35 [00:00<00:00, 112.13it/s, loss=5.5747457]\n"
     ]
    },
    {
     "name": "stdout",
     "output_type": "stream",
     "text": [
      "\n",
      "\n",
      "###################### Start to Train NN model ##########################\n"
     ]
    },
    {
     "name": "stderr",
     "output_type": "stream",
     "text": [
      "epoch  404: 100%|██████████| 35/35 [00:00<00:00, 115.54it/s, loss=5.3979025]\n"
     ]
    },
    {
     "name": "stdout",
     "output_type": "stream",
     "text": [
      "\n",
      "\n",
      "###################### Start to Train NN model ##########################\n"
     ]
    },
    {
     "name": "stderr",
     "output_type": "stream",
     "text": [
      "epoch  405: 100%|██████████| 35/35 [00:00<00:00, 100.79it/s, loss=5.7068005]\n"
     ]
    },
    {
     "name": "stdout",
     "output_type": "stream",
     "text": [
      "\n",
      "\n",
      "###################### Start to Train NN model ##########################\n"
     ]
    },
    {
     "name": "stderr",
     "output_type": "stream",
     "text": [
      "epoch  406: 100%|██████████| 35/35 [00:00<00:00, 105.21it/s, loss=6.564208] \n"
     ]
    },
    {
     "name": "stdout",
     "output_type": "stream",
     "text": [
      "\n",
      "\n",
      "###################### Start to Train NN model ##########################\n"
     ]
    },
    {
     "name": "stderr",
     "output_type": "stream",
     "text": [
      "epoch  407: 100%|██████████| 35/35 [00:00<00:00, 105.26it/s, loss=8.22506]  \n"
     ]
    },
    {
     "name": "stdout",
     "output_type": "stream",
     "text": [
      "\n",
      "\n",
      "###################### Start to Train NN model ##########################\n"
     ]
    },
    {
     "name": "stderr",
     "output_type": "stream",
     "text": [
      "epoch  408: 100%|██████████| 35/35 [00:00<00:00, 112.64it/s, loss=6.359043] \n"
     ]
    },
    {
     "name": "stdout",
     "output_type": "stream",
     "text": [
      "\n",
      "\n",
      "###################### Start to Train NN model ##########################\n"
     ]
    },
    {
     "name": "stderr",
     "output_type": "stream",
     "text": [
      "epoch  409: 100%|██████████| 35/35 [00:00<00:00, 102.74it/s, loss=7.0381265]\n"
     ]
    },
    {
     "name": "stdout",
     "output_type": "stream",
     "text": [
      "\n",
      "\n",
      "###################### Start to Train NN model ##########################\n"
     ]
    },
    {
     "name": "stderr",
     "output_type": "stream",
     "text": [
      "epoch  410: 100%|██████████| 35/35 [00:00<00:00, 114.17it/s, loss=5.451325] \n"
     ]
    },
    {
     "name": "stdout",
     "output_type": "stream",
     "text": [
      "\n",
      "\n",
      "###################### Start to Train NN model ##########################\n"
     ]
    },
    {
     "name": "stderr",
     "output_type": "stream",
     "text": [
      "epoch  411: 100%|██████████| 35/35 [00:00<00:00, 118.31it/s, loss=5.4873886]\n"
     ]
    },
    {
     "name": "stdout",
     "output_type": "stream",
     "text": [
      "\n",
      "\n",
      "###################### Start to Train NN model ##########################\n"
     ]
    },
    {
     "name": "stderr",
     "output_type": "stream",
     "text": [
      "epoch  412: 100%|██████████| 35/35 [00:00<00:00, 107.29it/s, loss=5.7845545]\n"
     ]
    },
    {
     "name": "stdout",
     "output_type": "stream",
     "text": [
      "\n",
      "\n",
      "###################### Start to Train NN model ##########################\n"
     ]
    },
    {
     "name": "stderr",
     "output_type": "stream",
     "text": [
      "epoch  413: 100%|██████████| 35/35 [00:00<00:00, 115.45it/s, loss=5.7734585]\n"
     ]
    },
    {
     "name": "stdout",
     "output_type": "stream",
     "text": [
      "\n",
      "\n",
      "###################### Start to Train NN model ##########################\n"
     ]
    },
    {
     "name": "stderr",
     "output_type": "stream",
     "text": [
      "epoch  414: 100%|██████████| 35/35 [00:00<00:00, 114.20it/s, loss=4.993191] \n"
     ]
    },
    {
     "name": "stdout",
     "output_type": "stream",
     "text": [
      "\n",
      "\n",
      "###################### Start to Train NN model ##########################\n"
     ]
    },
    {
     "name": "stderr",
     "output_type": "stream",
     "text": [
      "epoch  415: 100%|██████████| 35/35 [00:00<00:00, 125.46it/s, loss=5.667954] \n"
     ]
    },
    {
     "name": "stdout",
     "output_type": "stream",
     "text": [
      "\n",
      "\n",
      "###################### Start to Train NN model ##########################\n"
     ]
    },
    {
     "name": "stderr",
     "output_type": "stream",
     "text": [
      "epoch  416: 100%|██████████| 35/35 [00:00<00:00, 130.85it/s, loss=5.796485] \n"
     ]
    },
    {
     "name": "stdout",
     "output_type": "stream",
     "text": [
      "\n",
      "\n",
      "###################### Start to Train NN model ##########################\n"
     ]
    },
    {
     "name": "stderr",
     "output_type": "stream",
     "text": [
      "epoch  417: 100%|██████████| 35/35 [00:00<00:00, 133.60it/s, loss=5.883214] \n"
     ]
    },
    {
     "name": "stdout",
     "output_type": "stream",
     "text": [
      "\n",
      "\n",
      "###################### Start to Train NN model ##########################\n"
     ]
    },
    {
     "name": "stderr",
     "output_type": "stream",
     "text": [
      "epoch  418: 100%|██████████| 35/35 [00:00<00:00, 117.66it/s, loss=7.117867] \n"
     ]
    },
    {
     "name": "stdout",
     "output_type": "stream",
     "text": [
      "\n",
      "\n",
      "###################### Start to Train NN model ##########################\n"
     ]
    },
    {
     "name": "stderr",
     "output_type": "stream",
     "text": [
      "epoch  419: 100%|██████████| 35/35 [00:00<00:00, 99.59it/s, loss=7.658655]  \n"
     ]
    },
    {
     "name": "stdout",
     "output_type": "stream",
     "text": [
      "\n",
      "\n",
      "###################### Start to Train NN model ##########################\n"
     ]
    },
    {
     "name": "stderr",
     "output_type": "stream",
     "text": [
      "epoch  420: 100%|██████████| 35/35 [00:00<00:00, 112.85it/s, loss=5.2595506]\n"
     ]
    },
    {
     "name": "stdout",
     "output_type": "stream",
     "text": [
      "\n",
      "\n",
      "###################### Start to Train NN model ##########################\n"
     ]
    },
    {
     "name": "stderr",
     "output_type": "stream",
     "text": [
      "epoch  421: 100%|██████████| 35/35 [00:00<00:00, 108.03it/s, loss=6.049206] \n"
     ]
    },
    {
     "name": "stdout",
     "output_type": "stream",
     "text": [
      "\n",
      "\n",
      "###################### Start to Train NN model ##########################\n"
     ]
    },
    {
     "name": "stderr",
     "output_type": "stream",
     "text": [
      "epoch  422: 100%|██████████| 35/35 [00:00<00:00, 113.42it/s, loss=4.8835006]\n"
     ]
    },
    {
     "name": "stdout",
     "output_type": "stream",
     "text": [
      "\n",
      "\n",
      "###################### Start to Train NN model ##########################\n"
     ]
    },
    {
     "name": "stderr",
     "output_type": "stream",
     "text": [
      "epoch  423: 100%|██████████| 35/35 [00:00<00:00, 98.64it/s, loss=5.394531] \n"
     ]
    },
    {
     "name": "stdout",
     "output_type": "stream",
     "text": [
      "\n",
      "\n",
      "###################### Start to Train NN model ##########################\n"
     ]
    },
    {
     "name": "stderr",
     "output_type": "stream",
     "text": [
      "epoch  424: 100%|██████████| 35/35 [00:00<00:00, 108.20it/s, loss=6.2788963]\n"
     ]
    },
    {
     "name": "stdout",
     "output_type": "stream",
     "text": [
      "\n",
      "\n",
      "###################### Start to Train NN model ##########################\n"
     ]
    },
    {
     "name": "stderr",
     "output_type": "stream",
     "text": [
      "epoch  425: 100%|██████████| 35/35 [00:00<00:00, 114.02it/s, loss=6.254136] \n"
     ]
    },
    {
     "name": "stdout",
     "output_type": "stream",
     "text": [
      "\n",
      "\n",
      "###################### Start to Train NN model ##########################\n"
     ]
    },
    {
     "name": "stderr",
     "output_type": "stream",
     "text": [
      "epoch  426: 100%|██████████| 35/35 [00:00<00:00, 127.68it/s, loss=6.9807534]\n"
     ]
    },
    {
     "name": "stdout",
     "output_type": "stream",
     "text": [
      "\n",
      "\n",
      "###################### Start to Train NN model ##########################\n"
     ]
    },
    {
     "name": "stderr",
     "output_type": "stream",
     "text": [
      "epoch  427: 100%|██████████| 35/35 [00:00<00:00, 105.92it/s, loss=6.0831575]\n"
     ]
    },
    {
     "name": "stdout",
     "output_type": "stream",
     "text": [
      "\n",
      "\n",
      "###################### Start to Train NN model ##########################\n"
     ]
    },
    {
     "name": "stderr",
     "output_type": "stream",
     "text": [
      "epoch  428: 100%|██████████| 35/35 [00:00<00:00, 129.20it/s, loss=6.1108527]\n"
     ]
    },
    {
     "name": "stdout",
     "output_type": "stream",
     "text": [
      "\n",
      "\n",
      "###################### Start to Train NN model ##########################\n"
     ]
    },
    {
     "name": "stderr",
     "output_type": "stream",
     "text": [
      "epoch  429: 100%|██████████| 35/35 [00:00<00:00, 123.39it/s, loss=5.5361376]\n"
     ]
    },
    {
     "name": "stdout",
     "output_type": "stream",
     "text": [
      "\n",
      "\n",
      "###################### Start to Train NN model ##########################\n"
     ]
    },
    {
     "name": "stderr",
     "output_type": "stream",
     "text": [
      "epoch  430: 100%|██████████| 35/35 [00:00<00:00, 102.75it/s, loss=5.2849793]\n"
     ]
    },
    {
     "name": "stdout",
     "output_type": "stream",
     "text": [
      "The trained model has been saved!\n",
      "\n",
      "\n",
      "###################### Start to Train NN model ##########################\n"
     ]
    },
    {
     "name": "stderr",
     "output_type": "stream",
     "text": [
      "epoch  431: 100%|██████████| 35/35 [00:00<00:00, 114.30it/s, loss=7.0093803]\n"
     ]
    },
    {
     "name": "stdout",
     "output_type": "stream",
     "text": [
      "\n",
      "\n",
      "###################### Start to Train NN model ##########################\n"
     ]
    },
    {
     "name": "stderr",
     "output_type": "stream",
     "text": [
      "epoch  432: 100%|██████████| 35/35 [00:00<00:00, 119.01it/s, loss=6.339]    \n"
     ]
    },
    {
     "name": "stdout",
     "output_type": "stream",
     "text": [
      "\n",
      "\n",
      "###################### Start to Train NN model ##########################\n"
     ]
    },
    {
     "name": "stderr",
     "output_type": "stream",
     "text": [
      "epoch  433: 100%|██████████| 35/35 [00:00<00:00, 119.50it/s, loss=5.206052] \n"
     ]
    },
    {
     "name": "stdout",
     "output_type": "stream",
     "text": [
      "\n",
      "\n",
      "###################### Start to Train NN model ##########################\n"
     ]
    },
    {
     "name": "stderr",
     "output_type": "stream",
     "text": [
      "epoch  434: 100%|██████████| 35/35 [00:00<00:00, 122.81it/s, loss=6.47865]  \n"
     ]
    },
    {
     "name": "stdout",
     "output_type": "stream",
     "text": [
      "\n",
      "\n",
      "###################### Start to Train NN model ##########################\n"
     ]
    },
    {
     "name": "stderr",
     "output_type": "stream",
     "text": [
      "epoch  435: 100%|██████████| 35/35 [00:00<00:00, 108.99it/s, loss=5.2989197]\n"
     ]
    },
    {
     "name": "stdout",
     "output_type": "stream",
     "text": [
      "\n",
      "\n",
      "###################### Start to Train NN model ##########################\n"
     ]
    },
    {
     "name": "stderr",
     "output_type": "stream",
     "text": [
      "epoch  436: 100%|██████████| 35/35 [00:00<00:00, 118.83it/s, loss=6.278841] \n"
     ]
    },
    {
     "name": "stdout",
     "output_type": "stream",
     "text": [
      "\n",
      "\n",
      "###################### Start to Train NN model ##########################\n"
     ]
    },
    {
     "name": "stderr",
     "output_type": "stream",
     "text": [
      "epoch  437: 100%|██████████| 35/35 [00:00<00:00, 109.42it/s, loss=5.8982553]\n"
     ]
    },
    {
     "name": "stdout",
     "output_type": "stream",
     "text": [
      "\n",
      "\n",
      "###################### Start to Train NN model ##########################\n"
     ]
    },
    {
     "name": "stderr",
     "output_type": "stream",
     "text": [
      "epoch  438: 100%|██████████| 35/35 [00:00<00:00, 118.02it/s, loss=7.8395047]\n"
     ]
    },
    {
     "name": "stdout",
     "output_type": "stream",
     "text": [
      "\n",
      "\n",
      "###################### Start to Train NN model ##########################\n"
     ]
    },
    {
     "name": "stderr",
     "output_type": "stream",
     "text": [
      "epoch  439: 100%|██████████| 35/35 [00:00<00:00, 110.34it/s, loss=5.0109587]\n"
     ]
    },
    {
     "name": "stdout",
     "output_type": "stream",
     "text": [
      "\n",
      "\n",
      "###################### Start to Train NN model ##########################\n"
     ]
    },
    {
     "name": "stderr",
     "output_type": "stream",
     "text": [
      "epoch  440: 100%|██████████| 35/35 [00:00<00:00, 99.82it/s, loss=6.684358]  \n"
     ]
    },
    {
     "name": "stdout",
     "output_type": "stream",
     "text": [
      "\n",
      "\n",
      "###################### Start to Train NN model ##########################\n"
     ]
    },
    {
     "name": "stderr",
     "output_type": "stream",
     "text": [
      "epoch  441: 100%|██████████| 35/35 [00:00<00:00, 132.61it/s, loss=5.2707086]\n"
     ]
    },
    {
     "name": "stdout",
     "output_type": "stream",
     "text": [
      "\n",
      "\n",
      "###################### Start to Train NN model ##########################\n"
     ]
    },
    {
     "name": "stderr",
     "output_type": "stream",
     "text": [
      "epoch  442: 100%|██████████| 35/35 [00:00<00:00, 128.22it/s, loss=5.021225] \n"
     ]
    },
    {
     "name": "stdout",
     "output_type": "stream",
     "text": [
      "\n",
      "\n",
      "###################### Start to Train NN model ##########################\n"
     ]
    },
    {
     "name": "stderr",
     "output_type": "stream",
     "text": [
      "epoch  443: 100%|██████████| 35/35 [00:00<00:00, 114.25it/s, loss=5.1860266]\n"
     ]
    },
    {
     "name": "stdout",
     "output_type": "stream",
     "text": [
      "\n",
      "\n",
      "###################### Start to Train NN model ##########################\n"
     ]
    },
    {
     "name": "stderr",
     "output_type": "stream",
     "text": [
      "epoch  444: 100%|██████████| 35/35 [00:00<00:00, 103.07it/s, loss=5.9471993]\n"
     ]
    },
    {
     "name": "stdout",
     "output_type": "stream",
     "text": [
      "\n",
      "\n",
      "###################### Start to Train NN model ##########################\n"
     ]
    },
    {
     "name": "stderr",
     "output_type": "stream",
     "text": [
      "epoch  445: 100%|██████████| 35/35 [00:00<00:00, 104.76it/s, loss=5.4038916]\n"
     ]
    },
    {
     "name": "stdout",
     "output_type": "stream",
     "text": [
      "\n",
      "\n",
      "###################### Start to Train NN model ##########################\n"
     ]
    },
    {
     "name": "stderr",
     "output_type": "stream",
     "text": [
      "epoch  446: 100%|██████████| 35/35 [00:00<00:00, 126.34it/s, loss=5.833473] \n"
     ]
    },
    {
     "name": "stdout",
     "output_type": "stream",
     "text": [
      "\n",
      "\n",
      "###################### Start to Train NN model ##########################\n"
     ]
    },
    {
     "name": "stderr",
     "output_type": "stream",
     "text": [
      "epoch  447: 100%|██████████| 35/35 [00:00<00:00, 123.90it/s, loss=5.2604427]\n"
     ]
    },
    {
     "name": "stdout",
     "output_type": "stream",
     "text": [
      "\n",
      "\n",
      "###################### Start to Train NN model ##########################\n"
     ]
    },
    {
     "name": "stderr",
     "output_type": "stream",
     "text": [
      "epoch  448: 100%|██████████| 35/35 [00:00<00:00, 104.74it/s, loss=5.31602]  \n"
     ]
    },
    {
     "name": "stdout",
     "output_type": "stream",
     "text": [
      "\n",
      "\n",
      "###################### Start to Train NN model ##########################\n"
     ]
    },
    {
     "name": "stderr",
     "output_type": "stream",
     "text": [
      "epoch  449: 100%|██████████| 35/35 [00:00<00:00, 115.20it/s, loss=5.845309] \n"
     ]
    },
    {
     "name": "stdout",
     "output_type": "stream",
     "text": [
      "\n",
      "\n",
      "###################### Start to Train NN model ##########################\n"
     ]
    },
    {
     "name": "stderr",
     "output_type": "stream",
     "text": [
      "epoch  450: 100%|██████████| 35/35 [00:00<00:00, 118.32it/s, loss=5.5692363]\n"
     ]
    },
    {
     "name": "stdout",
     "output_type": "stream",
     "text": [
      "\n",
      "\n",
      "###################### Start to Train NN model ##########################\n"
     ]
    },
    {
     "name": "stderr",
     "output_type": "stream",
     "text": [
      "epoch  451: 100%|██████████| 35/35 [00:00<00:00, 104.46it/s, loss=5.3257113]\n"
     ]
    },
    {
     "name": "stdout",
     "output_type": "stream",
     "text": [
      "\n",
      "\n",
      "###################### Start to Train NN model ##########################\n"
     ]
    },
    {
     "name": "stderr",
     "output_type": "stream",
     "text": [
      "epoch  452: 100%|██████████| 35/35 [00:00<00:00, 110.16it/s, loss=5.753426] \n"
     ]
    },
    {
     "name": "stdout",
     "output_type": "stream",
     "text": [
      "\n",
      "\n",
      "###################### Start to Train NN model ##########################\n"
     ]
    },
    {
     "name": "stderr",
     "output_type": "stream",
     "text": [
      "epoch  453: 100%|██████████| 35/35 [00:00<00:00, 99.26it/s, loss=6.3044634] \n"
     ]
    },
    {
     "name": "stdout",
     "output_type": "stream",
     "text": [
      "\n",
      "\n",
      "###################### Start to Train NN model ##########################\n"
     ]
    },
    {
     "name": "stderr",
     "output_type": "stream",
     "text": [
      "epoch  454: 100%|██████████| 35/35 [00:00<00:00, 105.96it/s, loss=5.6431646]\n"
     ]
    },
    {
     "name": "stdout",
     "output_type": "stream",
     "text": [
      "\n",
      "\n",
      "###################### Start to Train NN model ##########################\n"
     ]
    },
    {
     "name": "stderr",
     "output_type": "stream",
     "text": [
      "epoch  455: 100%|██████████| 35/35 [00:00<00:00, 107.32it/s, loss=5.8524146]\n"
     ]
    },
    {
     "name": "stdout",
     "output_type": "stream",
     "text": [
      "\n",
      "\n",
      "###################### Start to Train NN model ##########################\n"
     ]
    },
    {
     "name": "stderr",
     "output_type": "stream",
     "text": [
      "epoch  456: 100%|██████████| 35/35 [00:00<00:00, 121.28it/s, loss=6.396143] \n"
     ]
    },
    {
     "name": "stdout",
     "output_type": "stream",
     "text": [
      "\n",
      "\n",
      "###################### Start to Train NN model ##########################\n"
     ]
    },
    {
     "name": "stderr",
     "output_type": "stream",
     "text": [
      "epoch  457: 100%|██████████| 35/35 [00:00<00:00, 116.36it/s, loss=5.401928] \n"
     ]
    },
    {
     "name": "stdout",
     "output_type": "stream",
     "text": [
      "\n",
      "\n",
      "###################### Start to Train NN model ##########################\n"
     ]
    },
    {
     "name": "stderr",
     "output_type": "stream",
     "text": [
      "epoch  458: 100%|██████████| 35/35 [00:00<00:00, 109.20it/s, loss=5.4553976]\n"
     ]
    },
    {
     "name": "stdout",
     "output_type": "stream",
     "text": [
      "\n",
      "\n",
      "###################### Start to Train NN model ##########################\n"
     ]
    },
    {
     "name": "stderr",
     "output_type": "stream",
     "text": [
      "epoch  459: 100%|██████████| 35/35 [00:00<00:00, 112.12it/s, loss=5.76918]  \n"
     ]
    },
    {
     "name": "stdout",
     "output_type": "stream",
     "text": [
      "\n",
      "\n",
      "###################### Start to Train NN model ##########################\n"
     ]
    },
    {
     "name": "stderr",
     "output_type": "stream",
     "text": [
      "epoch  460: 100%|██████████| 35/35 [00:00<00:00, 106.94it/s, loss=5.808505] \n"
     ]
    },
    {
     "name": "stdout",
     "output_type": "stream",
     "text": [
      "\n",
      "\n",
      "###################### Start to Train NN model ##########################\n"
     ]
    },
    {
     "name": "stderr",
     "output_type": "stream",
     "text": [
      "epoch  461: 100%|██████████| 35/35 [00:00<00:00, 107.80it/s, loss=5.5047827]\n"
     ]
    },
    {
     "name": "stdout",
     "output_type": "stream",
     "text": [
      "\n",
      "\n",
      "###################### Start to Train NN model ##########################\n"
     ]
    },
    {
     "name": "stderr",
     "output_type": "stream",
     "text": [
      "epoch  462: 100%|██████████| 35/35 [00:00<00:00, 108.80it/s, loss=5.170729] \n"
     ]
    },
    {
     "name": "stdout",
     "output_type": "stream",
     "text": [
      "\n",
      "\n",
      "###################### Start to Train NN model ##########################\n"
     ]
    },
    {
     "name": "stderr",
     "output_type": "stream",
     "text": [
      "epoch  463: 100%|██████████| 35/35 [00:00<00:00, 109.55it/s, loss=5.8996267]\n"
     ]
    },
    {
     "name": "stdout",
     "output_type": "stream",
     "text": [
      "\n",
      "\n",
      "###################### Start to Train NN model ##########################\n"
     ]
    },
    {
     "name": "stderr",
     "output_type": "stream",
     "text": [
      "epoch  464: 100%|██████████| 35/35 [00:00<00:00, 110.70it/s, loss=5.729629] \n"
     ]
    },
    {
     "name": "stdout",
     "output_type": "stream",
     "text": [
      "\n",
      "\n",
      "###################### Start to Train NN model ##########################\n"
     ]
    },
    {
     "name": "stderr",
     "output_type": "stream",
     "text": [
      "epoch  465: 100%|██████████| 35/35 [00:00<00:00, 116.04it/s, loss=6.585787] \n"
     ]
    },
    {
     "name": "stdout",
     "output_type": "stream",
     "text": [
      "\n",
      "\n",
      "###################### Start to Train NN model ##########################\n"
     ]
    },
    {
     "name": "stderr",
     "output_type": "stream",
     "text": [
      "epoch  466: 100%|██████████| 35/35 [00:00<00:00, 102.37it/s, loss=6.1747394]\n"
     ]
    },
    {
     "name": "stdout",
     "output_type": "stream",
     "text": [
      "\n",
      "\n",
      "###################### Start to Train NN model ##########################\n"
     ]
    },
    {
     "name": "stderr",
     "output_type": "stream",
     "text": [
      "epoch  467: 100%|██████████| 35/35 [00:00<00:00, 117.70it/s, loss=5.50356]  \n"
     ]
    },
    {
     "name": "stdout",
     "output_type": "stream",
     "text": [
      "\n",
      "\n",
      "###################### Start to Train NN model ##########################\n"
     ]
    },
    {
     "name": "stderr",
     "output_type": "stream",
     "text": [
      "epoch  468: 100%|██████████| 35/35 [00:00<00:00, 109.92it/s, loss=5.6637726]\n"
     ]
    },
    {
     "name": "stdout",
     "output_type": "stream",
     "text": [
      "\n",
      "\n",
      "###################### Start to Train NN model ##########################\n"
     ]
    },
    {
     "name": "stderr",
     "output_type": "stream",
     "text": [
      "epoch  469: 100%|██████████| 35/35 [00:00<00:00, 108.36it/s, loss=5.678506] \n"
     ]
    },
    {
     "name": "stdout",
     "output_type": "stream",
     "text": [
      "\n",
      "\n",
      "###################### Start to Train NN model ##########################\n"
     ]
    },
    {
     "name": "stderr",
     "output_type": "stream",
     "text": [
      "epoch  470: 100%|██████████| 35/35 [00:00<00:00, 107.33it/s, loss=6.072945] \n"
     ]
    },
    {
     "name": "stdout",
     "output_type": "stream",
     "text": [
      "\n",
      "\n",
      "###################### Start to Train NN model ##########################\n"
     ]
    },
    {
     "name": "stderr",
     "output_type": "stream",
     "text": [
      "epoch  471: 100%|██████████| 35/35 [00:00<00:00, 113.28it/s, loss=5.9493985]\n"
     ]
    },
    {
     "name": "stdout",
     "output_type": "stream",
     "text": [
      "\n",
      "\n",
      "###################### Start to Train NN model ##########################\n"
     ]
    },
    {
     "name": "stderr",
     "output_type": "stream",
     "text": [
      "epoch  472: 100%|██████████| 35/35 [00:00<00:00, 119.98it/s, loss=6.0890875]\n"
     ]
    },
    {
     "name": "stdout",
     "output_type": "stream",
     "text": [
      "\n",
      "\n",
      "###################### Start to Train NN model ##########################\n"
     ]
    },
    {
     "name": "stderr",
     "output_type": "stream",
     "text": [
      "epoch  473: 100%|██████████| 35/35 [00:00<00:00, 111.70it/s, loss=5.2000985]\n"
     ]
    },
    {
     "name": "stdout",
     "output_type": "stream",
     "text": [
      "\n",
      "\n",
      "###################### Start to Train NN model ##########################\n"
     ]
    },
    {
     "name": "stderr",
     "output_type": "stream",
     "text": [
      "epoch  474: 100%|██████████| 35/35 [00:00<00:00, 114.48it/s, loss=6.1896253]\n"
     ]
    },
    {
     "name": "stdout",
     "output_type": "stream",
     "text": [
      "\n",
      "\n",
      "###################### Start to Train NN model ##########################\n"
     ]
    },
    {
     "name": "stderr",
     "output_type": "stream",
     "text": [
      "epoch  475: 100%|██████████| 35/35 [00:00<00:00, 108.60it/s, loss=5.842054] \n"
     ]
    },
    {
     "name": "stdout",
     "output_type": "stream",
     "text": [
      "\n",
      "\n",
      "###################### Start to Train NN model ##########################\n"
     ]
    },
    {
     "name": "stderr",
     "output_type": "stream",
     "text": [
      "epoch  476: 100%|██████████| 35/35 [00:00<00:00, 113.40it/s, loss=5.5052953]\n"
     ]
    },
    {
     "name": "stdout",
     "output_type": "stream",
     "text": [
      "\n",
      "\n",
      "###################### Start to Train NN model ##########################\n"
     ]
    },
    {
     "name": "stderr",
     "output_type": "stream",
     "text": [
      "epoch  477: 100%|██████████| 35/35 [00:00<00:00, 102.27it/s, loss=5.702295] \n"
     ]
    },
    {
     "name": "stdout",
     "output_type": "stream",
     "text": [
      "\n",
      "\n",
      "###################### Start to Train NN model ##########################\n"
     ]
    },
    {
     "name": "stderr",
     "output_type": "stream",
     "text": [
      "epoch  478: 100%|██████████| 35/35 [00:00<00:00, 118.97it/s, loss=5.8398714]\n"
     ]
    },
    {
     "name": "stdout",
     "output_type": "stream",
     "text": [
      "\n",
      "\n",
      "###################### Start to Train NN model ##########################\n"
     ]
    },
    {
     "name": "stderr",
     "output_type": "stream",
     "text": [
      "epoch  479: 100%|██████████| 35/35 [00:00<00:00, 107.18it/s, loss=5.613333] \n"
     ]
    },
    {
     "name": "stdout",
     "output_type": "stream",
     "text": [
      "\n",
      "\n",
      "###################### Start to Train NN model ##########################\n"
     ]
    },
    {
     "name": "stderr",
     "output_type": "stream",
     "text": [
      "epoch  480: 100%|██████████| 35/35 [00:00<00:00, 97.02it/s, loss=6.4242287]\n"
     ]
    },
    {
     "name": "stdout",
     "output_type": "stream",
     "text": [
      "\n",
      "\n",
      "###################### Start to Train NN model ##########################\n"
     ]
    },
    {
     "name": "stderr",
     "output_type": "stream",
     "text": [
      "epoch  481: 100%|██████████| 35/35 [00:00<00:00, 110.31it/s, loss=5.555458] \n"
     ]
    },
    {
     "name": "stdout",
     "output_type": "stream",
     "text": [
      "\n",
      "\n",
      "###################### Start to Train NN model ##########################\n"
     ]
    },
    {
     "name": "stderr",
     "output_type": "stream",
     "text": [
      "epoch  482: 100%|██████████| 35/35 [00:00<00:00, 122.03it/s, loss=5.8425655]\n"
     ]
    },
    {
     "name": "stdout",
     "output_type": "stream",
     "text": [
      "\n",
      "\n",
      "###################### Start to Train NN model ##########################\n"
     ]
    },
    {
     "name": "stderr",
     "output_type": "stream",
     "text": [
      "epoch  483: 100%|██████████| 35/35 [00:00<00:00, 106.58it/s, loss=6.1659565]\n"
     ]
    },
    {
     "name": "stdout",
     "output_type": "stream",
     "text": [
      "\n",
      "\n",
      "###################### Start to Train NN model ##########################\n"
     ]
    },
    {
     "name": "stderr",
     "output_type": "stream",
     "text": [
      "epoch  484: 100%|██████████| 35/35 [00:00<00:00, 99.34it/s, loss=5.134061]  \n"
     ]
    },
    {
     "name": "stdout",
     "output_type": "stream",
     "text": [
      "\n",
      "\n",
      "###################### Start to Train NN model ##########################\n"
     ]
    },
    {
     "name": "stderr",
     "output_type": "stream",
     "text": [
      "epoch  485: 100%|██████████| 35/35 [00:00<00:00, 115.34it/s, loss=5.3535547]\n"
     ]
    },
    {
     "name": "stdout",
     "output_type": "stream",
     "text": [
      "\n",
      "\n",
      "###################### Start to Train NN model ##########################\n"
     ]
    },
    {
     "name": "stderr",
     "output_type": "stream",
     "text": [
      "epoch  486: 100%|██████████| 35/35 [00:00<00:00, 115.76it/s, loss=5.540717] \n"
     ]
    },
    {
     "name": "stdout",
     "output_type": "stream",
     "text": [
      "\n",
      "\n",
      "###################### Start to Train NN model ##########################\n"
     ]
    },
    {
     "name": "stderr",
     "output_type": "stream",
     "text": [
      "epoch  487: 100%|██████████| 35/35 [00:00<00:00, 112.27it/s, loss=5.7354136]\n"
     ]
    },
    {
     "name": "stdout",
     "output_type": "stream",
     "text": [
      "\n",
      "\n",
      "###################### Start to Train NN model ##########################\n"
     ]
    },
    {
     "name": "stderr",
     "output_type": "stream",
     "text": [
      "epoch  488: 100%|██████████| 35/35 [00:00<00:00, 111.68it/s, loss=6.439689] \n"
     ]
    },
    {
     "name": "stdout",
     "output_type": "stream",
     "text": [
      "\n",
      "\n",
      "###################### Start to Train NN model ##########################\n"
     ]
    },
    {
     "name": "stderr",
     "output_type": "stream",
     "text": [
      "epoch  489: 100%|██████████| 35/35 [00:00<00:00, 103.36it/s, loss=6.2028213]\n"
     ]
    },
    {
     "name": "stdout",
     "output_type": "stream",
     "text": [
      "\n",
      "\n",
      "###################### Start to Train NN model ##########################\n"
     ]
    },
    {
     "name": "stderr",
     "output_type": "stream",
     "text": [
      "epoch  490: 100%|██████████| 35/35 [00:00<00:00, 113.14it/s, loss=5.5400085]\n"
     ]
    },
    {
     "name": "stdout",
     "output_type": "stream",
     "text": [
      "\n",
      "\n",
      "###################### Start to Train NN model ##########################\n"
     ]
    },
    {
     "name": "stderr",
     "output_type": "stream",
     "text": [
      "epoch  491: 100%|██████████| 35/35 [00:00<00:00, 102.31it/s, loss=6.368141] \n"
     ]
    },
    {
     "name": "stdout",
     "output_type": "stream",
     "text": [
      "\n",
      "\n",
      "###################### Start to Train NN model ##########################\n"
     ]
    },
    {
     "name": "stderr",
     "output_type": "stream",
     "text": [
      "epoch  492: 100%|██████████| 35/35 [00:00<00:00, 112.28it/s, loss=5.449715] \n"
     ]
    },
    {
     "name": "stdout",
     "output_type": "stream",
     "text": [
      "\n",
      "\n",
      "###################### Start to Train NN model ##########################\n"
     ]
    },
    {
     "name": "stderr",
     "output_type": "stream",
     "text": [
      "epoch  493: 100%|██████████| 35/35 [00:00<00:00, 114.43it/s, loss=6.0517097]\n"
     ]
    },
    {
     "name": "stdout",
     "output_type": "stream",
     "text": [
      "\n",
      "\n",
      "###################### Start to Train NN model ##########################\n"
     ]
    },
    {
     "name": "stderr",
     "output_type": "stream",
     "text": [
      "epoch  494: 100%|██████████| 35/35 [00:00<00:00, 115.94it/s, loss=5.801283] \n"
     ]
    },
    {
     "name": "stdout",
     "output_type": "stream",
     "text": [
      "\n",
      "\n",
      "###################### Start to Train NN model ##########################\n"
     ]
    },
    {
     "name": "stderr",
     "output_type": "stream",
     "text": [
      "epoch  495: 100%|██████████| 35/35 [00:00<00:00, 115.22it/s, loss=6.34824]  \n"
     ]
    },
    {
     "name": "stdout",
     "output_type": "stream",
     "text": [
      "\n",
      "\n",
      "###################### Start to Train NN model ##########################\n"
     ]
    },
    {
     "name": "stderr",
     "output_type": "stream",
     "text": [
      "epoch  496: 100%|██████████| 35/35 [00:00<00:00, 113.91it/s, loss=5.321352] \n"
     ]
    },
    {
     "name": "stdout",
     "output_type": "stream",
     "text": [
      "\n",
      "\n",
      "###################### Start to Train NN model ##########################\n"
     ]
    },
    {
     "name": "stderr",
     "output_type": "stream",
     "text": [
      "epoch  497: 100%|██████████| 35/35 [00:00<00:00, 106.95it/s, loss=5.150739] \n"
     ]
    },
    {
     "name": "stdout",
     "output_type": "stream",
     "text": [
      "\n",
      "\n",
      "###################### Start to Train NN model ##########################\n"
     ]
    },
    {
     "name": "stderr",
     "output_type": "stream",
     "text": [
      "epoch  498: 100%|██████████| 35/35 [00:00<00:00, 116.88it/s, loss=5.7873373]\n"
     ]
    },
    {
     "name": "stdout",
     "output_type": "stream",
     "text": [
      "\n",
      "\n",
      "###################### Start to Train NN model ##########################\n"
     ]
    },
    {
     "name": "stderr",
     "output_type": "stream",
     "text": [
      "epoch  499: 100%|██████████| 35/35 [00:00<00:00, 108.06it/s, loss=6.210466] \n"
     ]
    },
    {
     "name": "stdout",
     "output_type": "stream",
     "text": [
      "Loading Pretrained models 1 (GPU)!\n"
     ]
    },
    {
     "ename": "RuntimeError",
     "evalue": "Expected all tensors to be on the same device, but found at least two devices, cpu and cuda:0! (when checking arugment for argument mat1 in method wrapper_addmm)",
     "output_type": "error",
     "traceback": [
      "\u001b[0;31m---------------------------------------------------------------------------\u001b[0m",
      "\u001b[0;31mRuntimeError\u001b[0m                              Traceback (most recent call last)",
      "\u001b[0;32m<ipython-input-4-16b5a66fcd83>\u001b[0m in \u001b[0;36m<module>\u001b[0;34m\u001b[0m\n\u001b[1;32m     34\u001b[0m                   \u001b[0mlearning_rate\u001b[0m\u001b[0;34m,\u001b[0m\u001b[0;34m\u001b[0m\u001b[0;34m\u001b[0m\u001b[0m\n\u001b[1;32m     35\u001b[0m                   \u001b[0mmax_epoch\u001b[0m\u001b[0;34m,\u001b[0m\u001b[0;34m\u001b[0m\u001b[0;34m\u001b[0m\u001b[0m\n\u001b[0;32m---> 36\u001b[0;31m                   check_freq)\n\u001b[0m",
      "\u001b[0;32m<ipython-input-2-7b5f97ca7a70>\u001b[0m in \u001b[0;36mtrain_deepreg\u001b[0;34m(trn_file, val_file, tst_file, normalization_type, gpu_id, trn_batch_size, val_batch_size, tst_batch_size, layer_num, input_dim, hidden_dim, output_dim, learning_rate, max_epoch, check_freq)\u001b[0m\n\u001b[1;32m    127\u001b[0m \u001b[0;34m\u001b[0m\u001b[0m\n\u001b[1;32m    128\u001b[0m     \u001b[0;31m# check its performance on training set\u001b[0m\u001b[0;34m\u001b[0m\u001b[0;34m\u001b[0m\u001b[0;34m\u001b[0m\u001b[0m\n\u001b[0;32m--> 129\u001b[0;31m     \u001b[0mtrn_rmse\u001b[0m\u001b[0;34m,\u001b[0m \u001b[0mtrn_gt_pred_dict\u001b[0m \u001b[0;34m=\u001b[0m \u001b[0mval_deepreg\u001b[0m\u001b[0;34m(\u001b[0m\u001b[0mbest_Net\u001b[0m\u001b[0;34m,\u001b[0m \u001b[0mtrn_loader\u001b[0m\u001b[0;34m,\u001b[0m \u001b[0mdevice\u001b[0m\u001b[0;34m,\u001b[0m \u001b[0ml2_loss_func\u001b[0m\u001b[0;34m)\u001b[0m\u001b[0;34m\u001b[0m\u001b[0;34m\u001b[0m\u001b[0m\n\u001b[0m\u001b[1;32m    130\u001b[0m \u001b[0;34m\u001b[0m\u001b[0m\n\u001b[1;32m    131\u001b[0m     \u001b[0;31m# check its performance on validation set\u001b[0m\u001b[0;34m\u001b[0m\u001b[0;34m\u001b[0m\u001b[0;34m\u001b[0m\u001b[0m\n",
      "\u001b[0;32m<ipython-input-3-772cea6ac121>\u001b[0m in \u001b[0;36mval_deepreg\u001b[0;34m(model, data_loader, device, l2_loss_func)\u001b[0m\n\u001b[1;32m      8\u001b[0m             \u001b[0mX_features\u001b[0m \u001b[0;34m=\u001b[0m \u001b[0mX_features\u001b[0m\u001b[0;34m.\u001b[0m\u001b[0mto\u001b[0m\u001b[0;34m(\u001b[0m\u001b[0mdevice\u001b[0m\u001b[0;34m)\u001b[0m\u001b[0;34m.\u001b[0m\u001b[0mfloat\u001b[0m\u001b[0;34m(\u001b[0m\u001b[0;34m)\u001b[0m\u001b[0;34m\u001b[0m\u001b[0;34m\u001b[0m\u001b[0m\n\u001b[1;32m      9\u001b[0m             \u001b[0mY_targets\u001b[0m \u001b[0;34m=\u001b[0m \u001b[0mY_targets\u001b[0m\u001b[0;34m.\u001b[0m\u001b[0mto\u001b[0m\u001b[0;34m(\u001b[0m\u001b[0mdevice\u001b[0m\u001b[0;34m)\u001b[0m\u001b[0;34m.\u001b[0m\u001b[0mflatten\u001b[0m\u001b[0;34m(\u001b[0m\u001b[0;34m)\u001b[0m\u001b[0;34m.\u001b[0m\u001b[0mfloat\u001b[0m\u001b[0;34m(\u001b[0m\u001b[0;34m)\u001b[0m\u001b[0;34m\u001b[0m\u001b[0;34m\u001b[0m\u001b[0m\n\u001b[0;32m---> 10\u001b[0;31m             \u001b[0mY_prediction\u001b[0m \u001b[0;34m=\u001b[0m \u001b[0mmodel\u001b[0m\u001b[0;34m(\u001b[0m\u001b[0mX_features\u001b[0m\u001b[0;34m)\u001b[0m\u001b[0;34m.\u001b[0m\u001b[0mflatten\u001b[0m\u001b[0;34m(\u001b[0m\u001b[0;34m)\u001b[0m\u001b[0;34m.\u001b[0m\u001b[0mfloat\u001b[0m\u001b[0;34m(\u001b[0m\u001b[0;34m)\u001b[0m\u001b[0;34m.\u001b[0m\u001b[0mdetach\u001b[0m\u001b[0;34m(\u001b[0m\u001b[0;34m)\u001b[0m\u001b[0;34m\u001b[0m\u001b[0;34m\u001b[0m\u001b[0m\n\u001b[0m\u001b[1;32m     11\u001b[0m             \u001b[0mcur_mse\u001b[0m \u001b[0;34m=\u001b[0m \u001b[0ml2_loss_func\u001b[0m\u001b[0;34m(\u001b[0m\u001b[0mY_prediction\u001b[0m\u001b[0;34m,\u001b[0m \u001b[0mY_targets\u001b[0m\u001b[0;34m)\u001b[0m\u001b[0;34m\u001b[0m\u001b[0;34m\u001b[0m\u001b[0m\n\u001b[1;32m     12\u001b[0m             \u001b[0mcur_mse\u001b[0m \u001b[0;34m=\u001b[0m \u001b[0mtorch\u001b[0m\u001b[0;34m.\u001b[0m\u001b[0msqrt\u001b[0m\u001b[0;34m(\u001b[0m\u001b[0mcur_mse\u001b[0m\u001b[0;34m)\u001b[0m \u001b[0;31m#RMSE\u001b[0m\u001b[0;34m\u001b[0m\u001b[0;34m\u001b[0m\u001b[0m\n",
      "\u001b[0;32m~/anaconda3/envs/fair_gpu/lib/python3.6/site-packages/torch/nn/modules/module.py\u001b[0m in \u001b[0;36m_call_impl\u001b[0;34m(self, *input, **kwargs)\u001b[0m\n\u001b[1;32m   1049\u001b[0m         if not (self._backward_hooks or self._forward_hooks or self._forward_pre_hooks or _global_backward_hooks\n\u001b[1;32m   1050\u001b[0m                 or _global_forward_hooks or _global_forward_pre_hooks):\n\u001b[0;32m-> 1051\u001b[0;31m             \u001b[0;32mreturn\u001b[0m \u001b[0mforward_call\u001b[0m\u001b[0;34m(\u001b[0m\u001b[0;34m*\u001b[0m\u001b[0minput\u001b[0m\u001b[0;34m,\u001b[0m \u001b[0;34m**\u001b[0m\u001b[0mkwargs\u001b[0m\u001b[0;34m)\u001b[0m\u001b[0;34m\u001b[0m\u001b[0;34m\u001b[0m\u001b[0m\n\u001b[0m\u001b[1;32m   1052\u001b[0m         \u001b[0;31m# Do not call functions when jit is used\u001b[0m\u001b[0;34m\u001b[0m\u001b[0;34m\u001b[0m\u001b[0;34m\u001b[0m\u001b[0m\n\u001b[1;32m   1053\u001b[0m         \u001b[0mfull_backward_hooks\u001b[0m\u001b[0;34m,\u001b[0m \u001b[0mnon_full_backward_hooks\u001b[0m \u001b[0;34m=\u001b[0m \u001b[0;34m[\u001b[0m\u001b[0;34m]\u001b[0m\u001b[0;34m,\u001b[0m \u001b[0;34m[\u001b[0m\u001b[0;34m]\u001b[0m\u001b[0;34m\u001b[0m\u001b[0;34m\u001b[0m\u001b[0m\n",
      "\u001b[0;32m/mnt/524C890E4C88EDD3/Projects/FAIR-UMN/FAIR-UMN-CDMS/src/DNN_Regression/model_files/nn_model.py\u001b[0m in \u001b[0;36mforward\u001b[0;34m(self, input_data)\u001b[0m\n\u001b[1;32m     30\u001b[0m         \u001b[0;32mfor\u001b[0m \u001b[0mlayer\u001b[0m \u001b[0;32min\u001b[0m \u001b[0mself\u001b[0m\u001b[0;34m.\u001b[0m\u001b[0mdeepreg_layers\u001b[0m\u001b[0;34m:\u001b[0m\u001b[0;34m\u001b[0m\u001b[0;34m\u001b[0m\u001b[0m\n\u001b[1;32m     31\u001b[0m             \u001b[0;32mif\u001b[0m \u001b[0mlayer_count\u001b[0m \u001b[0;34m==\u001b[0m \u001b[0;36m0\u001b[0m\u001b[0;34m:\u001b[0m \u001b[0;31m#--- the input layer\u001b[0m\u001b[0;34m\u001b[0m\u001b[0;34m\u001b[0m\u001b[0m\n\u001b[0;32m---> 32\u001b[0;31m                 \u001b[0moutput_data\u001b[0m \u001b[0;34m=\u001b[0m \u001b[0mlayer\u001b[0m\u001b[0;34m(\u001b[0m\u001b[0minput_data\u001b[0m\u001b[0;34m)\u001b[0m\u001b[0;34m\u001b[0m\u001b[0;34m\u001b[0m\u001b[0m\n\u001b[0m\u001b[1;32m     33\u001b[0m             \u001b[0;32melse\u001b[0m\u001b[0;34m:\u001b[0m\u001b[0;34m\u001b[0m\u001b[0;34m\u001b[0m\u001b[0m\n\u001b[1;32m     34\u001b[0m                 \u001b[0moutput_data\u001b[0m \u001b[0;34m=\u001b[0m \u001b[0mlayer\u001b[0m\u001b[0;34m(\u001b[0m\u001b[0moutput_data\u001b[0m\u001b[0;34m)\u001b[0m\u001b[0;34m\u001b[0m\u001b[0;34m\u001b[0m\u001b[0m\n",
      "\u001b[0;32m~/anaconda3/envs/fair_gpu/lib/python3.6/site-packages/torch/nn/modules/module.py\u001b[0m in \u001b[0;36m_call_impl\u001b[0;34m(self, *input, **kwargs)\u001b[0m\n\u001b[1;32m   1049\u001b[0m         if not (self._backward_hooks or self._forward_hooks or self._forward_pre_hooks or _global_backward_hooks\n\u001b[1;32m   1050\u001b[0m                 or _global_forward_hooks or _global_forward_pre_hooks):\n\u001b[0;32m-> 1051\u001b[0;31m             \u001b[0;32mreturn\u001b[0m \u001b[0mforward_call\u001b[0m\u001b[0;34m(\u001b[0m\u001b[0;34m*\u001b[0m\u001b[0minput\u001b[0m\u001b[0;34m,\u001b[0m \u001b[0;34m**\u001b[0m\u001b[0mkwargs\u001b[0m\u001b[0;34m)\u001b[0m\u001b[0;34m\u001b[0m\u001b[0;34m\u001b[0m\u001b[0m\n\u001b[0m\u001b[1;32m   1052\u001b[0m         \u001b[0;31m# Do not call functions when jit is used\u001b[0m\u001b[0;34m\u001b[0m\u001b[0;34m\u001b[0m\u001b[0;34m\u001b[0m\u001b[0m\n\u001b[1;32m   1053\u001b[0m         \u001b[0mfull_backward_hooks\u001b[0m\u001b[0;34m,\u001b[0m \u001b[0mnon_full_backward_hooks\u001b[0m \u001b[0;34m=\u001b[0m \u001b[0;34m[\u001b[0m\u001b[0;34m]\u001b[0m\u001b[0;34m,\u001b[0m \u001b[0;34m[\u001b[0m\u001b[0;34m]\u001b[0m\u001b[0;34m\u001b[0m\u001b[0;34m\u001b[0m\u001b[0m\n",
      "\u001b[0;32m~/anaconda3/envs/fair_gpu/lib/python3.6/site-packages/torch/nn/modules/linear.py\u001b[0m in \u001b[0;36mforward\u001b[0;34m(self, input)\u001b[0m\n\u001b[1;32m     94\u001b[0m \u001b[0;34m\u001b[0m\u001b[0m\n\u001b[1;32m     95\u001b[0m     \u001b[0;32mdef\u001b[0m \u001b[0mforward\u001b[0m\u001b[0;34m(\u001b[0m\u001b[0mself\u001b[0m\u001b[0;34m,\u001b[0m \u001b[0minput\u001b[0m\u001b[0;34m:\u001b[0m \u001b[0mTensor\u001b[0m\u001b[0;34m)\u001b[0m \u001b[0;34m->\u001b[0m \u001b[0mTensor\u001b[0m\u001b[0;34m:\u001b[0m\u001b[0;34m\u001b[0m\u001b[0;34m\u001b[0m\u001b[0m\n\u001b[0;32m---> 96\u001b[0;31m         \u001b[0;32mreturn\u001b[0m \u001b[0mF\u001b[0m\u001b[0;34m.\u001b[0m\u001b[0mlinear\u001b[0m\u001b[0;34m(\u001b[0m\u001b[0minput\u001b[0m\u001b[0;34m,\u001b[0m \u001b[0mself\u001b[0m\u001b[0;34m.\u001b[0m\u001b[0mweight\u001b[0m\u001b[0;34m,\u001b[0m \u001b[0mself\u001b[0m\u001b[0;34m.\u001b[0m\u001b[0mbias\u001b[0m\u001b[0;34m)\u001b[0m\u001b[0;34m\u001b[0m\u001b[0;34m\u001b[0m\u001b[0m\n\u001b[0m\u001b[1;32m     97\u001b[0m \u001b[0;34m\u001b[0m\u001b[0m\n\u001b[1;32m     98\u001b[0m     \u001b[0;32mdef\u001b[0m \u001b[0mextra_repr\u001b[0m\u001b[0;34m(\u001b[0m\u001b[0mself\u001b[0m\u001b[0;34m)\u001b[0m \u001b[0;34m->\u001b[0m \u001b[0mstr\u001b[0m\u001b[0;34m:\u001b[0m\u001b[0;34m\u001b[0m\u001b[0;34m\u001b[0m\u001b[0m\n",
      "\u001b[0;32m~/anaconda3/envs/fair_gpu/lib/python3.6/site-packages/torch/nn/functional.py\u001b[0m in \u001b[0;36mlinear\u001b[0;34m(input, weight, bias)\u001b[0m\n\u001b[1;32m   1845\u001b[0m     \u001b[0;32mif\u001b[0m \u001b[0mhas_torch_function_variadic\u001b[0m\u001b[0;34m(\u001b[0m\u001b[0minput\u001b[0m\u001b[0;34m,\u001b[0m \u001b[0mweight\u001b[0m\u001b[0;34m)\u001b[0m\u001b[0;34m:\u001b[0m\u001b[0;34m\u001b[0m\u001b[0;34m\u001b[0m\u001b[0m\n\u001b[1;32m   1846\u001b[0m         \u001b[0;32mreturn\u001b[0m \u001b[0mhandle_torch_function\u001b[0m\u001b[0;34m(\u001b[0m\u001b[0mlinear\u001b[0m\u001b[0;34m,\u001b[0m \u001b[0;34m(\u001b[0m\u001b[0minput\u001b[0m\u001b[0;34m,\u001b[0m \u001b[0mweight\u001b[0m\u001b[0;34m)\u001b[0m\u001b[0;34m,\u001b[0m \u001b[0minput\u001b[0m\u001b[0;34m,\u001b[0m \u001b[0mweight\u001b[0m\u001b[0;34m,\u001b[0m \u001b[0mbias\u001b[0m\u001b[0;34m=\u001b[0m\u001b[0mbias\u001b[0m\u001b[0;34m)\u001b[0m\u001b[0;34m\u001b[0m\u001b[0;34m\u001b[0m\u001b[0m\n\u001b[0;32m-> 1847\u001b[0;31m     \u001b[0;32mreturn\u001b[0m \u001b[0mtorch\u001b[0m\u001b[0;34m.\u001b[0m\u001b[0m_C\u001b[0m\u001b[0;34m.\u001b[0m\u001b[0m_nn\u001b[0m\u001b[0;34m.\u001b[0m\u001b[0mlinear\u001b[0m\u001b[0;34m(\u001b[0m\u001b[0minput\u001b[0m\u001b[0;34m,\u001b[0m \u001b[0mweight\u001b[0m\u001b[0;34m,\u001b[0m \u001b[0mbias\u001b[0m\u001b[0;34m)\u001b[0m\u001b[0;34m\u001b[0m\u001b[0;34m\u001b[0m\u001b[0m\n\u001b[0m\u001b[1;32m   1848\u001b[0m \u001b[0;34m\u001b[0m\u001b[0m\n\u001b[1;32m   1849\u001b[0m \u001b[0;34m\u001b[0m\u001b[0m\n",
      "\u001b[0;31mRuntimeError\u001b[0m: Expected all tensors to be on the same device, but found at least two devices, cpu and cuda:0! (when checking arugment for argument mat1 in method wrapper_addmm)"
     ]
    }
   ],
   "source": [
    "if __name__ == '__main__':\n",
    "    ################ Parameters Settings ######################\n",
    "    trn_file = '../../data/dnn_dataset/training.csv'\n",
    "    val_file = '../../data/dnn_dataset/validation.csv'\n",
    "    tst_file = '../../data/dnn_dataset/hos.csv'\n",
    "    normalization_type = 'StandardScaler'\n",
    "    gpu_id = 0\n",
    "    trn_batch_size = 128\n",
    "    val_batch_size = 128\n",
    "    tst_batch_size = 128\n",
    "    layer_num = 10\n",
    "    input_dim = 19\n",
    "    hidden_dim = 32\n",
    "    output_dim = 1\n",
    "    learning_rate = 1e-3\n",
    "    \n",
    "    max_epoch = 500\n",
    "    check_freq = 1\n",
    "    \n",
    "    \n",
    "    ################ Start Training ######################\n",
    "    train_deepreg(trn_file,\n",
    "                  val_file, \n",
    "                  tst_file, \n",
    "                  normalization_type, \n",
    "                  gpu_id, \n",
    "                  trn_batch_size, \n",
    "                  val_batch_size, \n",
    "                  tst_batch_size,\n",
    "                  layer_num, \n",
    "                  input_dim, \n",
    "                  hidden_dim, \n",
    "                  output_dim,\n",
    "                  learning_rate,\n",
    "                  max_epoch,\n",
    "                  check_freq)"
   ]
  },
  {
   "cell_type": "code",
   "execution_count": null,
   "id": "9925d7c5",
   "metadata": {},
   "outputs": [],
   "source": []
  },
  {
   "cell_type": "code",
   "execution_count": null,
   "id": "5e4815fc",
   "metadata": {},
   "outputs": [],
   "source": []
  }
 ],
 "metadata": {
  "kernelspec": {
   "display_name": "Python 3",
   "language": "python",
   "name": "python3"
  },
  "language_info": {
   "codemirror_mode": {
    "name": "ipython",
    "version": 3
   },
   "file_extension": ".py",
   "mimetype": "text/x-python",
   "name": "python",
   "nbconvert_exporter": "python",
   "pygments_lexer": "ipython3",
   "version": "3.6.13"
  }
 },
 "nbformat": 4,
 "nbformat_minor": 5
}
