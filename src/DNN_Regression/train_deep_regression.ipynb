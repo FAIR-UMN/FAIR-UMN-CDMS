{
 "cells": [
  {
   "cell_type": "markdown",
   "id": "8b0fe9b2",
   "metadata": {},
   "source": [
    "## Train deep regression model\n",
    "\n",
    "This script trains the deep regression model and its output is under \"**/deepnn**\" which will be generated automatically.\n",
    "\n",
    "It will use the python files under \"**/model_files**\" which includes the model definiton and other fuctions such as data loading and generating figures."
   ]
  },
  {
   "cell_type": "markdown",
   "id": "4fd72fb2",
   "metadata": {},
   "source": [
    "First, let's import packages."
   ]
  },
  {
   "cell_type": "code",
   "execution_count": 1,
   "id": "e767e54a",
   "metadata": {},
   "outputs": [],
   "source": [
    "#------ import packages ------#\n",
    "import torch\n",
    "from model_files.util import *\n",
    "from model_files.nn_model import *\n",
    "from tqdm import tqdm\n",
    "import pandas as pd\n",
    "import copy\n",
    "import matplotlib.pyplot as plt\n",
    "import seaborn as sns\n",
    "import os\n",
    "import glob\n",
    "# from pytorch_lightning.callbacks.early_stopping import EarlyStopping\n",
    "# from torchsample.modules import ModuleTrainer\n",
    "\n",
    "#plt.style.use(\"seaborn\")\n",
    "#plt.style.use(\"ggplot\")\n",
    "#plt.style.use(\"bmh\")\n",
    "plt.style.use(\"seaborn-darkgrid\")\n",
    "#plt.style.use(\"seaborn-deep\")\n",
    "#plt.style.use(\"tableau-colorblind10\")"
   ]
  },
  {
   "cell_type": "markdown",
   "id": "d31e3ead",
   "metadata": {},
   "source": [
    "The function **train_deepreg** will start to train our deep regression models. It will call functions defined in **/model_files**. So please remember to have the **/model_files** before you run the code."
   ]
  },
  {
   "cell_type": "code",
   "execution_count": 2,
   "id": "a5d5a7bf",
   "metadata": {},
   "outputs": [],
   "source": [
    "#------ define the function for training------#\n",
    "def train_deepreg(trn_file, val_file, tst_file, \n",
    "                  normalization_type, gpu_id, \n",
    "                  trn_batch_size, val_batch_size, tst_batch_size,\n",
    "                  layer_num, input_dim, hidden_dim, output_dim,learning_rate,max_epoch,check_freq):\n",
    "    \n",
    "    # set up folders to have training results\n",
    "    dir_name = 'deepnn_results/training_results/'\n",
    "    dir_model_name = 'deepnn_results/training_models'\n",
    "    dir_name_test = 'deepnn_results/test_results/'\n",
    "    make_dir([dir_name, dir_model_name, dir_name_test])\n",
    "    \n",
    "    # set up device\n",
    "    device = torch.device(\"cuda:{}\".format(gpu_id) if torch.cuda.is_available() else \"cpu\")\n",
    "    print(device)\n",
    "    \n",
    "    # load training set, validation set, and held-out (test) set\n",
    "    scaler_save_file_name = os.path.join(dir_model_name, '{}_scaler.gz'.format(normalization_type))\n",
    "    scaler = generate_scaler(trn_file, scaler_save_file_name, normalization_type)\n",
    "    \n",
    "    #--- process training data, val data, test\n",
    "    trn_features, trn_targets = get_normalized_dataset(trn_file, scaler)\n",
    "    val_features, val_targets = get_normalized_dataset(val_file, scaler)\n",
    "    tst_features, tst_targets = get_normalized_dataset(tst_file, scaler)\n",
    "    \n",
    "    #--- put data into dataloader\n",
    "    trn_num = len(trn_targets)\n",
    "    val_num = len(val_targets)\n",
    "    tst_num = len(tst_targets)\n",
    "    trn_loader = prepare_data(trn_features, trn_targets, trn_batch_size, trn_num)\n",
    "    val_loader = prepare_data(val_features, val_targets, val_batch_size, val_num)\n",
    "    tst_loader = prepare_data(tst_features, tst_targets, tst_batch_size, tst_num)\n",
    "    \n",
    "    #--- create model\n",
    "    deep_reg_Net = DeepReg(layer_num, input_dim, hidden_dim, output_dim)\n",
    "    print(deep_reg_Net)\n",
    "    \n",
    "    deep_reg_Net.to(device)\n",
    "    \n",
    "    \n",
    "    #--- optimizer\n",
    "    optimizer = torch.optim.Adam(params=deep_reg_Net.parameters(), lr=learning_rate)\n",
    "    \n",
    "    #--- loss fuction\n",
    "    l2_loss_func = L2_Func()\n",
    "    \n",
    "    \n",
    "    #---- start to train our network\n",
    "    total_trn_loss = []\n",
    "    total_trn_RMSE = []\n",
    "    total_val_RMSE = []\n",
    "    total_epoch = []\n",
    "\n",
    "    train_RMSE = []\n",
    "    val_RMSE = []\n",
    "\n",
    "    best_RMSE = float('inf')\n",
    "    best_epoch = 0\n",
    "    \n",
    "    for epoch in range(max_epoch):\n",
    "        print('')\n",
    "        print('')\n",
    "        print('###################### Start to Train NN model ##########################')\n",
    "        deep_reg_Net.train()\n",
    "        epoch_loss = []\n",
    "        progress = tqdm(total=len(trn_loader), desc='epoch % 3d' % epoch)\n",
    "        for step, (X_features, Y_targets, idx) in enumerate(trn_loader):\n",
    "            # zero the parameter gradients\n",
    "            optimizer.zero_grad()\n",
    "            \n",
    "        \n",
    "            ################## Get Training & Traget Dataset ##################\n",
    "            X_features = X_features.to(device).float()\n",
    "            Y_targets = Y_targets.to(device).flatten().float()\n",
    "            \n",
    "            # forward + backward + optimize\n",
    "            Y_prediction = deep_reg_Net(X_features).flatten().float()\n",
    "            loss = l2_loss_func(Y_prediction, Y_targets)  # MSE loss\n",
    "            loss = torch.sqrt(loss) #RMSE\n",
    "            loss.backward()\n",
    "            optimizer.step()\n",
    "            \n",
    "            #---finished update in one batch\n",
    "            epoch_loss.append(loss.data.cpu().numpy())\n",
    "            progress.set_postfix({'loss': loss.data.cpu().numpy()})\n",
    "            progress.update()\n",
    "        progress.close()\n",
    "        total_trn_loss.append(np.mean(epoch_loss))  #---- finished one epoch\n",
    "        \n",
    "        \n",
    "        #------ validation our model\n",
    "        if epoch%check_freq==0:\n",
    "            trn_rmse, gt_pred_dict = val_deepreg(deep_reg_Net, trn_loader, device, l2_loss_func)\n",
    "            total_trn_RMSE.append(trn_rmse)\n",
    "            \n",
    "            val_rmse, gt_pred_dict = val_deepreg(deep_reg_Net, val_loader, device, l2_loss_func)\n",
    "            total_val_RMSE.append(val_rmse)\n",
    "\n",
    "            if best_RMSE > val_rmse:\n",
    "                best_RMSE = val_rmse\n",
    "                best_epoch = epoch\n",
    "                ################ check and always save the best model we have\n",
    "                model_file_name = os.path.join(dir_model_name, 'best_net_L{}_H{}.pt'.format(layer_num, hidden_dim))\n",
    "                save_model(deep_reg_Net.eval(), model_file_name)\n",
    "            figure_name = os.path.join(dir_name, 'train_val_mse_L{}_H{}.png'.format(layer_num, hidden_dim))\n",
    "            display_RMSE(total_trn_RMSE, total_val_RMSE, check_freq, figure_name)\n",
    "            figure_name = os.path.join(dir_name, 'train_loss_L{}_H{}.png'.format(layer_num, hidden_dim))\n",
    "            display_train_loss(total_trn_loss, figure_name)\n",
    "    \n",
    "    ###### after traing, let's get the best and verify its performance on training/validation/test set again!\n",
    "    # load the best net\n",
    "    model_file_name = os.path.join(dir_model_name, 'best_net_L{}_H{}.pt'.format(layer_num, hidden_dim))\n",
    "    best_Net = DeepReg(layer_num, input_dim, hidden_dim, output_dim)\n",
    "    if torch.cuda.is_available():\n",
    "        try:\n",
    "            best_Net.load_state_dict(torch.load(model_file_name, map_location='cuda:{}'.format(gpu_id)))\n",
    "            print('Loading Pretrained models 1 (GPU)!')\n",
    "        except:\n",
    "            best_Net = nn.DataParallel(best_Net)\n",
    "            best_Net.load_state_dict(torch.load(model_file_name, map_location='cuda:{}'.format(gpu_id)))\n",
    "            print('Loading Pretrained models 2 (GPU)!')\n",
    "    else:\n",
    "        device = torch.device(\"cuda:{}\".format(gpu_id) if torch.cuda.is_available() else \"cpu\")\n",
    "        best_Net.load_state_dict(torch.load(model_file_name, map_location=torch.device('cpu')))\n",
    "        print('Loading Pretrained models on CPU!')\n",
    "        \n",
    "        \n",
    "    # check its performance on training set\n",
    "    trn_rmse, trn_gt_pred_dict = val_deepreg(best_Net, trn_loader, device, l2_loss_func)\n",
    "    \n",
    "    # check its performance on validation set\n",
    "    val_rmse, val_gt_pred_dict = val_deepreg(best_Net, val_loader, device, l2_loss_func)\n",
    "    \n",
    "    # check its performance on test set\n",
    "    tst_rmse, tst_gt_pred_dict = val_deepreg(best_Net, tst_loader, device, l2_loss_func)\n",
    "    \n",
    "    \n",
    "    #----------- Finally, let's save our results---------------#\n",
    "    trn_pred_file = os.path.join(dir_name_test, 'train_prediction_L{}_H{}.csv'.format(layer_num, hidden_dim))\n",
    "    trn_df = pd.DataFrame.from_dict(trn_gt_pred_dict)\n",
    "    trn_df.to_csv(trn_pred_file, index=False)\n",
    "    \n",
    "    val_pred_file = os.path.join(dir_name_test, 'validation_prediction_L{}_H{}.csv'.format(layer_num, hidden_dim))\n",
    "    val_df = pd.DataFrame.from_dict(val_gt_pred_dict)\n",
    "    val_df.to_csv(val_pred_file, index=False)\n",
    "    \n",
    "    tst_pred_file = os.path.join(dir_name_test, 'hos_test_prediction_L{}_H{}.csv'.format(layer_num, hidden_dim))\n",
    "    tst_df = pd.DataFrame.from_dict(tst_gt_pred_dict)\n",
    "    tst_df.to_csv(tst_pred_file, index=False)\n",
    "    \n",
    "    final_RMSE_dict = {'Type':['Train_RMSE', 'Validation_RMSE', 'Test_RMSE'],\n",
    "                       'RMSE':[trn_rmse, val_rmse, tst_rmse]}\n",
    "    \n",
    "    final_RMSE_df = pd.DataFrame.from_dict(final_RMSE_dict)\n",
    "    final_RMSE_file = os.path.join(dir_name_test, 'final_RMSE_L{}_H{}.csv'.format(layer_num, hidden_dim))\n",
    "    final_RMSE_df.to_csv(final_RMSE_file, index=False)\n",
    "    \n",
    "    print('')\n",
    "    print('')\n",
    "    print('>>>Congrats! The DNN regression model has been trained and saved!')"
   ]
  },
  {
   "cell_type": "markdown",
   "id": "31bf274b",
   "metadata": {},
   "source": [
    "The function **deep_reg_val** is a validation function. It will test how our deep regression model works on validation set."
   ]
  },
  {
   "cell_type": "code",
   "execution_count": 3,
   "id": "be49b3a1",
   "metadata": {},
   "outputs": [],
   "source": [
    "#------ define function for validation------#\n",
    "def val_deepreg(model, data_loader, device, l2_loss_func):\n",
    "    model.eval()\n",
    "    RMSE = []\n",
    "    gt_pred_dict = {'Y_True':[], 'Y_Prediction':[]}\n",
    "    with torch.no_grad():\n",
    "        for step, (X_features, Y_targets, idx) in enumerate(data_loader):\n",
    "            X_features = X_features.to(device).float()\n",
    "            Y_targets = Y_targets.to(device).flatten().float()\n",
    "            Y_prediction = model(X_features).flatten().float().detach()\n",
    "            cur_mse = l2_loss_func(Y_prediction, Y_targets)\n",
    "            cur_mse = torch.sqrt(cur_mse) #RMSE\n",
    "            RMSE.append(cur_mse.item())\n",
    "            ##### let's save our ground truth and predictions\n",
    "            Y_truth_list = list(Y_targets.cpu().numpy().flatten())\n",
    "            Y_prediction_list = list(Y_prediction.cpu().numpy().flatten())\n",
    "            gt_pred_dict['Y_True'].extend(Y_truth_list)\n",
    "            gt_pred_dict['Y_Prediction'].extend(Y_prediction_list)\n",
    "    avg_rmse = np.mean(RMSE)\n",
    "    return avg_rmse, gt_pred_dict"
   ]
  },
  {
   "cell_type": "markdown",
   "id": "77b0237b",
   "metadata": {},
   "source": [
    "The function **deep_reg_test** is a test function. It will test how our deep regression model works on test set."
   ]
  },
  {
   "cell_type": "markdown",
   "id": "537bc637",
   "metadata": {},
   "source": [
    "Below, we start to run our code."
   ]
  },
  {
   "cell_type": "code",
   "execution_count": 4,
   "id": "ab759d28",
   "metadata": {},
   "outputs": [
    {
     "name": "stdout",
     "output_type": "stream",
     "text": [
      "cpu\n",
      "DeepReg(\n",
      "  (deepreg_layers): ModuleList(\n",
      "    (0): Linear(in_features=19, out_features=32, bias=True)\n",
      "    (1): BatchNorm1d(32, eps=1e-05, momentum=0.1, affine=True, track_running_stats=True)\n",
      "    (2): LeakyReLU(negative_slope=0.01)\n",
      "    (3): Dropout(p=0.5, inplace=False)\n",
      "    (4): Linear(in_features=32, out_features=32, bias=True)\n",
      "    (5): BatchNorm1d(32, eps=1e-05, momentum=0.1, affine=True, track_running_stats=True)\n",
      "    (6): LeakyReLU(negative_slope=0.01)\n",
      "    (7): Dropout(p=0.5, inplace=False)\n",
      "    (8): Linear(in_features=32, out_features=32, bias=True)\n",
      "    (9): BatchNorm1d(32, eps=1e-05, momentum=0.1, affine=True, track_running_stats=True)\n",
      "    (10): LeakyReLU(negative_slope=0.01)\n",
      "    (11): Dropout(p=0.5, inplace=False)\n",
      "    (12): Linear(in_features=32, out_features=32, bias=True)\n",
      "    (13): BatchNorm1d(32, eps=1e-05, momentum=0.1, affine=True, track_running_stats=True)\n",
      "    (14): LeakyReLU(negative_slope=0.01)\n",
      "    (15): Dropout(p=0.5, inplace=False)\n",
      "    (16): Linear(in_features=32, out_features=32, bias=True)\n",
      "    (17): BatchNorm1d(32, eps=1e-05, momentum=0.1, affine=True, track_running_stats=True)\n",
      "    (18): LeakyReLU(negative_slope=0.01)\n",
      "    (19): Dropout(p=0.5, inplace=False)\n",
      "    (20): Linear(in_features=32, out_features=32, bias=True)\n",
      "    (21): BatchNorm1d(32, eps=1e-05, momentum=0.1, affine=True, track_running_stats=True)\n",
      "    (22): LeakyReLU(negative_slope=0.01)\n",
      "    (23): Dropout(p=0.5, inplace=False)\n",
      "    (24): Linear(in_features=32, out_features=32, bias=True)\n",
      "    (25): BatchNorm1d(32, eps=1e-05, momentum=0.1, affine=True, track_running_stats=True)\n",
      "    (26): LeakyReLU(negative_slope=0.01)\n",
      "    (27): Dropout(p=0.5, inplace=False)\n",
      "    (28): Linear(in_features=32, out_features=32, bias=True)\n",
      "    (29): BatchNorm1d(32, eps=1e-05, momentum=0.1, affine=True, track_running_stats=True)\n",
      "    (30): LeakyReLU(negative_slope=0.01)\n",
      "    (31): Dropout(p=0.5, inplace=False)\n",
      "    (32): Linear(in_features=32, out_features=32, bias=True)\n",
      "    (33): BatchNorm1d(32, eps=1e-05, momentum=0.1, affine=True, track_running_stats=True)\n",
      "    (34): LeakyReLU(negative_slope=0.01)\n",
      "    (35): Dropout(p=0.5, inplace=False)\n",
      "    (36): Linear(in_features=32, out_features=1, bias=True)\n",
      "  )\n",
      ")\n",
      "\n",
      "\n",
      "###################### Start to Train NN model ##########################\n"
     ]
    },
    {
     "name": "stderr",
     "output_type": "stream",
     "text": [
      "epoch   0: 100%|██████████| 35/35 [00:00<00:00, 89.78it/s, loss=23.399767]\n"
     ]
    },
    {
     "name": "stdout",
     "output_type": "stream",
     "text": [
      "The trained model has been saved!\n",
      "\n",
      "\n",
      "###################### Start to Train NN model ##########################\n"
     ]
    },
    {
     "name": "stderr",
     "output_type": "stream",
     "text": [
      "epoch   1: 100%|██████████| 35/35 [00:00<00:00, 76.60it/s, loss=23.864504]\n"
     ]
    },
    {
     "name": "stdout",
     "output_type": "stream",
     "text": [
      "The trained model has been saved!\n",
      "\n",
      "\n",
      "###################### Start to Train NN model ##########################\n"
     ]
    },
    {
     "name": "stderr",
     "output_type": "stream",
     "text": [
      "epoch   2: 100%|██████████| 35/35 [00:00<00:00, 101.03it/s, loss=22.45286] \n"
     ]
    },
    {
     "name": "stdout",
     "output_type": "stream",
     "text": [
      "\n",
      "\n",
      "###################### Start to Train NN model ##########################\n"
     ]
    },
    {
     "name": "stderr",
     "output_type": "stream",
     "text": [
      "epoch   3: 100%|██████████| 35/35 [00:00<00:00, 100.70it/s, loss=23.265469]\n"
     ]
    },
    {
     "name": "stdout",
     "output_type": "stream",
     "text": [
      "\n",
      "\n",
      "###################### Start to Train NN model ##########################\n"
     ]
    },
    {
     "name": "stderr",
     "output_type": "stream",
     "text": [
      "epoch   4: 100%|██████████| 35/35 [00:00<00:00, 152.11it/s, loss=21.888342]\n"
     ]
    },
    {
     "name": "stdout",
     "output_type": "stream",
     "text": [
      "\n",
      "\n",
      "###################### Start to Train NN model ##########################\n"
     ]
    },
    {
     "name": "stderr",
     "output_type": "stream",
     "text": [
      "epoch   5: 100%|██████████| 35/35 [00:00<00:00, 140.52it/s, loss=21.78597] \n"
     ]
    },
    {
     "name": "stdout",
     "output_type": "stream",
     "text": [
      "\n",
      "\n",
      "###################### Start to Train NN model ##########################\n"
     ]
    },
    {
     "name": "stderr",
     "output_type": "stream",
     "text": [
      "epoch   6: 100%|██████████| 35/35 [00:00<00:00, 158.15it/s, loss=16.880276]\n"
     ]
    },
    {
     "name": "stdout",
     "output_type": "stream",
     "text": [
      "\n",
      "\n",
      "###################### Start to Train NN model ##########################\n"
     ]
    },
    {
     "name": "stderr",
     "output_type": "stream",
     "text": [
      "epoch   7: 100%|██████████| 35/35 [00:00<00:00, 147.21it/s, loss=17.399452]\n"
     ]
    },
    {
     "name": "stdout",
     "output_type": "stream",
     "text": [
      "\n",
      "\n",
      "###################### Start to Train NN model ##########################\n"
     ]
    },
    {
     "name": "stderr",
     "output_type": "stream",
     "text": [
      "epoch   8: 100%|██████████| 35/35 [00:00<00:00, 155.92it/s, loss=15.330032] \n"
     ]
    },
    {
     "name": "stdout",
     "output_type": "stream",
     "text": [
      "The trained model has been saved!\n",
      "\n",
      "\n",
      "###################### Start to Train NN model ##########################\n"
     ]
    },
    {
     "name": "stderr",
     "output_type": "stream",
     "text": [
      "epoch   9: 100%|██████████| 35/35 [00:00<00:00, 157.50it/s, loss=14.415941]\n"
     ]
    },
    {
     "name": "stdout",
     "output_type": "stream",
     "text": [
      "The trained model has been saved!\n",
      "\n",
      "\n",
      "###################### Start to Train NN model ##########################\n"
     ]
    },
    {
     "name": "stderr",
     "output_type": "stream",
     "text": [
      "epoch  10: 100%|██████████| 35/35 [00:00<00:00, 107.56it/s, loss=12.301162]\n"
     ]
    },
    {
     "name": "stdout",
     "output_type": "stream",
     "text": [
      "The trained model has been saved!\n",
      "\n",
      "\n",
      "###################### Start to Train NN model ##########################\n"
     ]
    },
    {
     "name": "stderr",
     "output_type": "stream",
     "text": [
      "epoch  11: 100%|██████████| 35/35 [00:00<00:00, 145.20it/s, loss=11.725796] \n"
     ]
    },
    {
     "name": "stdout",
     "output_type": "stream",
     "text": [
      "\n",
      "\n",
      "###################### Start to Train NN model ##########################\n"
     ]
    },
    {
     "name": "stderr",
     "output_type": "stream",
     "text": [
      "epoch  12: 100%|██████████| 35/35 [00:00<00:00, 135.68it/s, loss=10.453757] \n"
     ]
    },
    {
     "name": "stdout",
     "output_type": "stream",
     "text": [
      "The trained model has been saved!\n",
      "\n",
      "\n",
      "###################### Start to Train NN model ##########################\n"
     ]
    },
    {
     "name": "stderr",
     "output_type": "stream",
     "text": [
      "epoch  13: 100%|██████████| 35/35 [00:00<00:00, 103.62it/s, loss=9.956411]  \n"
     ]
    },
    {
     "name": "stdout",
     "output_type": "stream",
     "text": [
      "The trained model has been saved!\n",
      "\n",
      "\n",
      "###################### Start to Train NN model ##########################\n"
     ]
    },
    {
     "name": "stderr",
     "output_type": "stream",
     "text": [
      "epoch  14: 100%|██████████| 35/35 [00:00<00:00, 152.64it/s, loss=9.395988]  \n"
     ]
    },
    {
     "name": "stdout",
     "output_type": "stream",
     "text": [
      "\n",
      "\n",
      "###################### Start to Train NN model ##########################\n"
     ]
    },
    {
     "name": "stderr",
     "output_type": "stream",
     "text": [
      "epoch  15: 100%|██████████| 35/35 [00:00<00:00, 142.14it/s, loss=9.355781] \n"
     ]
    },
    {
     "name": "stdout",
     "output_type": "stream",
     "text": [
      "The trained model has been saved!\n",
      "\n",
      "\n",
      "###################### Start to Train NN model ##########################\n"
     ]
    },
    {
     "name": "stderr",
     "output_type": "stream",
     "text": [
      "epoch  16: 100%|██████████| 35/35 [00:00<00:00, 150.77it/s, loss=9.130983] \n"
     ]
    },
    {
     "name": "stdout",
     "output_type": "stream",
     "text": [
      "The trained model has been saved!\n",
      "\n",
      "\n",
      "###################### Start to Train NN model ##########################\n"
     ]
    },
    {
     "name": "stderr",
     "output_type": "stream",
     "text": [
      "epoch  17: 100%|██████████| 35/35 [00:00<00:00, 165.09it/s, loss=9.718044] \n"
     ]
    },
    {
     "name": "stdout",
     "output_type": "stream",
     "text": [
      "The trained model has been saved!\n",
      "\n",
      "\n",
      "###################### Start to Train NN model ##########################\n"
     ]
    },
    {
     "name": "stderr",
     "output_type": "stream",
     "text": [
      "epoch  18: 100%|██████████| 35/35 [00:00<00:00, 133.83it/s, loss=8.658824] \n"
     ]
    },
    {
     "name": "stdout",
     "output_type": "stream",
     "text": [
      "\n",
      "\n",
      "###################### Start to Train NN model ##########################\n"
     ]
    },
    {
     "name": "stderr",
     "output_type": "stream",
     "text": [
      "epoch  19: 100%|██████████| 35/35 [00:00<00:00, 147.86it/s, loss=9.194437] \n"
     ]
    },
    {
     "name": "stdout",
     "output_type": "stream",
     "text": [
      "The trained model has been saved!\n",
      "\n",
      "\n",
      "###################### Start to Train NN model ##########################\n"
     ]
    },
    {
     "name": "stderr",
     "output_type": "stream",
     "text": [
      "epoch  20: 100%|██████████| 35/35 [00:00<00:00, 148.51it/s, loss=8.830789] \n"
     ]
    },
    {
     "name": "stdout",
     "output_type": "stream",
     "text": [
      "\n",
      "\n",
      "###################### Start to Train NN model ##########################\n"
     ]
    },
    {
     "name": "stderr",
     "output_type": "stream",
     "text": [
      "epoch  21: 100%|██████████| 35/35 [00:00<00:00, 159.02it/s, loss=9.099995] \n"
     ]
    },
    {
     "name": "stdout",
     "output_type": "stream",
     "text": [
      "\n",
      "\n",
      "###################### Start to Train NN model ##########################\n"
     ]
    },
    {
     "name": "stderr",
     "output_type": "stream",
     "text": [
      "epoch  22: 100%|██████████| 35/35 [00:00<00:00, 118.52it/s, loss=8.940172] \n"
     ]
    },
    {
     "name": "stdout",
     "output_type": "stream",
     "text": [
      "The trained model has been saved!\n",
      "\n",
      "\n",
      "###################### Start to Train NN model ##########################\n"
     ]
    },
    {
     "name": "stderr",
     "output_type": "stream",
     "text": [
      "epoch  23: 100%|██████████| 35/35 [00:00<00:00, 148.57it/s, loss=9.173716] \n"
     ]
    },
    {
     "name": "stdout",
     "output_type": "stream",
     "text": [
      "\n",
      "\n",
      "###################### Start to Train NN model ##########################\n"
     ]
    },
    {
     "name": "stderr",
     "output_type": "stream",
     "text": [
      "epoch  24: 100%|██████████| 35/35 [00:00<00:00, 147.19it/s, loss=8.81585]  \n"
     ]
    },
    {
     "name": "stdout",
     "output_type": "stream",
     "text": [
      "The trained model has been saved!\n",
      "\n",
      "\n",
      "###################### Start to Train NN model ##########################\n"
     ]
    },
    {
     "name": "stderr",
     "output_type": "stream",
     "text": [
      "epoch  25: 100%|██████████| 35/35 [00:00<00:00, 103.78it/s, loss=9.235724]\n"
     ]
    },
    {
     "name": "stdout",
     "output_type": "stream",
     "text": [
      "The trained model has been saved!\n",
      "\n",
      "\n",
      "###################### Start to Train NN model ##########################\n"
     ]
    },
    {
     "name": "stderr",
     "output_type": "stream",
     "text": [
      "epoch  26: 100%|██████████| 35/35 [00:00<00:00, 158.43it/s, loss=9.228515] \n"
     ]
    },
    {
     "name": "stdout",
     "output_type": "stream",
     "text": [
      "\n",
      "\n",
      "###################### Start to Train NN model ##########################\n"
     ]
    },
    {
     "name": "stderr",
     "output_type": "stream",
     "text": [
      "epoch  27: 100%|██████████| 35/35 [00:00<00:00, 150.72it/s, loss=7.4632688]\n"
     ]
    },
    {
     "name": "stdout",
     "output_type": "stream",
     "text": [
      "\n",
      "\n",
      "###################### Start to Train NN model ##########################\n"
     ]
    },
    {
     "name": "stderr",
     "output_type": "stream",
     "text": [
      "epoch  28: 100%|██████████| 35/35 [00:00<00:00, 135.14it/s, loss=7.984932]  \n"
     ]
    },
    {
     "name": "stdout",
     "output_type": "stream",
     "text": [
      "\n",
      "\n",
      "###################### Start to Train NN model ##########################\n"
     ]
    },
    {
     "name": "stderr",
     "output_type": "stream",
     "text": [
      "epoch  29: 100%|██████████| 35/35 [00:00<00:00, 155.03it/s, loss=8.371384] \n"
     ]
    },
    {
     "name": "stdout",
     "output_type": "stream",
     "text": [
      "The trained model has been saved!\n",
      "\n",
      "\n",
      "###################### Start to Train NN model ##########################\n"
     ]
    },
    {
     "name": "stderr",
     "output_type": "stream",
     "text": [
      "epoch  30: 100%|██████████| 35/35 [00:00<00:00, 154.89it/s, loss=8.230519] \n"
     ]
    },
    {
     "name": "stdout",
     "output_type": "stream",
     "text": [
      "\n",
      "\n",
      "###################### Start to Train NN model ##########################\n"
     ]
    },
    {
     "name": "stderr",
     "output_type": "stream",
     "text": [
      "epoch  31: 100%|██████████| 35/35 [00:00<00:00, 156.52it/s, loss=8.235827] \n"
     ]
    },
    {
     "name": "stdout",
     "output_type": "stream",
     "text": [
      "The trained model has been saved!\n",
      "\n",
      "\n",
      "###################### Start to Train NN model ##########################\n"
     ]
    },
    {
     "name": "stderr",
     "output_type": "stream",
     "text": [
      "epoch  32: 100%|██████████| 35/35 [00:00<00:00, 150.96it/s, loss=9.976031] \n"
     ]
    },
    {
     "name": "stdout",
     "output_type": "stream",
     "text": [
      "The trained model has been saved!\n",
      "\n",
      "\n",
      "###################### Start to Train NN model ##########################\n"
     ]
    },
    {
     "name": "stderr",
     "output_type": "stream",
     "text": [
      "epoch  33: 100%|██████████| 35/35 [00:00<00:00, 134.64it/s, loss=9.14348]  \n"
     ]
    },
    {
     "name": "stdout",
     "output_type": "stream",
     "text": [
      "\n",
      "\n",
      "###################### Start to Train NN model ##########################\n"
     ]
    },
    {
     "name": "stderr",
     "output_type": "stream",
     "text": [
      "epoch  34: 100%|██████████| 35/35 [00:00<00:00, 137.53it/s, loss=9.648601] \n"
     ]
    },
    {
     "name": "stdout",
     "output_type": "stream",
     "text": [
      "\n",
      "\n",
      "###################### Start to Train NN model ##########################\n"
     ]
    },
    {
     "name": "stderr",
     "output_type": "stream",
     "text": [
      "epoch  35: 100%|██████████| 35/35 [00:00<00:00, 163.02it/s, loss=7.5981708]\n"
     ]
    },
    {
     "name": "stdout",
     "output_type": "stream",
     "text": [
      "The trained model has been saved!\n",
      "\n",
      "\n",
      "###################### Start to Train NN model ##########################\n"
     ]
    },
    {
     "name": "stderr",
     "output_type": "stream",
     "text": [
      "epoch  36: 100%|██████████| 35/35 [00:00<00:00, 124.36it/s, loss=8.523422] \n"
     ]
    },
    {
     "name": "stdout",
     "output_type": "stream",
     "text": [
      "The trained model has been saved!\n",
      "\n",
      "\n",
      "###################### Start to Train NN model ##########################\n"
     ]
    },
    {
     "name": "stderr",
     "output_type": "stream",
     "text": [
      "epoch  37: 100%|██████████| 35/35 [00:00<00:00, 144.35it/s, loss=8.684393] \n"
     ]
    },
    {
     "name": "stdout",
     "output_type": "stream",
     "text": [
      "The trained model has been saved!\n",
      "\n",
      "\n",
      "###################### Start to Train NN model ##########################\n"
     ]
    },
    {
     "name": "stderr",
     "output_type": "stream",
     "text": [
      "epoch  38: 100%|██████████| 35/35 [00:00<00:00, 130.52it/s, loss=8.682481] \n"
     ]
    },
    {
     "name": "stdout",
     "output_type": "stream",
     "text": [
      "The trained model has been saved!\n",
      "\n",
      "\n",
      "###################### Start to Train NN model ##########################\n"
     ]
    },
    {
     "name": "stderr",
     "output_type": "stream",
     "text": [
      "epoch  39: 100%|██████████| 35/35 [00:00<00:00, 166.20it/s, loss=8.583975] \n"
     ]
    },
    {
     "name": "stdout",
     "output_type": "stream",
     "text": [
      "\n",
      "\n",
      "###################### Start to Train NN model ##########################\n"
     ]
    },
    {
     "name": "stderr",
     "output_type": "stream",
     "text": [
      "epoch  40: 100%|██████████| 35/35 [00:00<00:00, 131.28it/s, loss=7.920874] \n"
     ]
    },
    {
     "name": "stdout",
     "output_type": "stream",
     "text": [
      "\n",
      "\n",
      "###################### Start to Train NN model ##########################\n"
     ]
    },
    {
     "name": "stderr",
     "output_type": "stream",
     "text": [
      "epoch  41: 100%|██████████| 35/35 [00:00<00:00, 148.44it/s, loss=8.377198] \n"
     ]
    },
    {
     "name": "stdout",
     "output_type": "stream",
     "text": [
      "\n",
      "\n",
      "###################### Start to Train NN model ##########################\n"
     ]
    },
    {
     "name": "stderr",
     "output_type": "stream",
     "text": [
      "epoch  42: 100%|██████████| 35/35 [00:00<00:00, 152.60it/s, loss=6.852213] \n"
     ]
    },
    {
     "name": "stdout",
     "output_type": "stream",
     "text": [
      "The trained model has been saved!\n",
      "\n",
      "\n",
      "###################### Start to Train NN model ##########################\n"
     ]
    },
    {
     "name": "stderr",
     "output_type": "stream",
     "text": [
      "epoch  43: 100%|██████████| 35/35 [00:00<00:00, 139.51it/s, loss=8.103797] \n"
     ]
    },
    {
     "name": "stdout",
     "output_type": "stream",
     "text": [
      "\n",
      "\n",
      "###################### Start to Train NN model ##########################\n"
     ]
    },
    {
     "name": "stderr",
     "output_type": "stream",
     "text": [
      "epoch  44: 100%|██████████| 35/35 [00:00<00:00, 148.74it/s, loss=8.186876] \n"
     ]
    },
    {
     "name": "stdout",
     "output_type": "stream",
     "text": [
      "\n",
      "\n",
      "###################### Start to Train NN model ##########################\n"
     ]
    },
    {
     "name": "stderr",
     "output_type": "stream",
     "text": [
      "epoch  45: 100%|██████████| 35/35 [00:00<00:00, 157.71it/s, loss=7.8630834]\n"
     ]
    },
    {
     "name": "stdout",
     "output_type": "stream",
     "text": [
      "\n",
      "\n",
      "###################### Start to Train NN model ##########################\n"
     ]
    },
    {
     "name": "stderr",
     "output_type": "stream",
     "text": [
      "epoch  46: 100%|██████████| 35/35 [00:00<00:00, 137.26it/s, loss=7.7954073]\n"
     ]
    },
    {
     "name": "stdout",
     "output_type": "stream",
     "text": [
      "\n",
      "\n",
      "###################### Start to Train NN model ##########################\n"
     ]
    },
    {
     "name": "stderr",
     "output_type": "stream",
     "text": [
      "epoch  47: 100%|██████████| 35/35 [00:00<00:00, 132.01it/s, loss=7.7509913]\n"
     ]
    },
    {
     "name": "stdout",
     "output_type": "stream",
     "text": [
      "The trained model has been saved!\n",
      "\n",
      "\n",
      "###################### Start to Train NN model ##########################\n"
     ]
    },
    {
     "name": "stderr",
     "output_type": "stream",
     "text": [
      "epoch  48: 100%|██████████| 35/35 [00:00<00:00, 167.64it/s, loss=8.435386] \n"
     ]
    },
    {
     "name": "stdout",
     "output_type": "stream",
     "text": [
      "The trained model has been saved!\n",
      "\n",
      "\n",
      "###################### Start to Train NN model ##########################\n"
     ]
    },
    {
     "name": "stderr",
     "output_type": "stream",
     "text": [
      "epoch  49: 100%|██████████| 35/35 [00:00<00:00, 145.94it/s, loss=8.376239] \n"
     ]
    },
    {
     "name": "stdout",
     "output_type": "stream",
     "text": [
      "\n",
      "\n",
      "###################### Start to Train NN model ##########################\n"
     ]
    },
    {
     "name": "stderr",
     "output_type": "stream",
     "text": [
      "epoch  50: 100%|██████████| 35/35 [00:00<00:00, 149.11it/s, loss=7.5962067]\n"
     ]
    },
    {
     "name": "stdout",
     "output_type": "stream",
     "text": [
      "\n",
      "\n",
      "###################### Start to Train NN model ##########################\n"
     ]
    },
    {
     "name": "stderr",
     "output_type": "stream",
     "text": [
      "epoch  51: 100%|██████████| 35/35 [00:00<00:00, 150.71it/s, loss=8.340732] \n"
     ]
    },
    {
     "name": "stdout",
     "output_type": "stream",
     "text": [
      "\n",
      "\n",
      "###################### Start to Train NN model ##########################\n"
     ]
    },
    {
     "name": "stderr",
     "output_type": "stream",
     "text": [
      "epoch  52: 100%|██████████| 35/35 [00:00<00:00, 132.74it/s, loss=8.377645] \n"
     ]
    },
    {
     "name": "stdout",
     "output_type": "stream",
     "text": [
      "\n",
      "\n",
      "###################### Start to Train NN model ##########################\n"
     ]
    },
    {
     "name": "stderr",
     "output_type": "stream",
     "text": [
      "epoch  53: 100%|██████████| 35/35 [00:00<00:00, 148.57it/s, loss=7.5877085]\n"
     ]
    },
    {
     "name": "stdout",
     "output_type": "stream",
     "text": [
      "\n",
      "\n",
      "###################### Start to Train NN model ##########################\n"
     ]
    },
    {
     "name": "stderr",
     "output_type": "stream",
     "text": [
      "epoch  54: 100%|██████████| 35/35 [00:00<00:00, 124.24it/s, loss=8.024471] \n"
     ]
    },
    {
     "name": "stdout",
     "output_type": "stream",
     "text": [
      "\n",
      "\n",
      "###################### Start to Train NN model ##########################\n"
     ]
    },
    {
     "name": "stderr",
     "output_type": "stream",
     "text": [
      "epoch  55: 100%|██████████| 35/35 [00:00<00:00, 153.20it/s, loss=7.7130036]\n"
     ]
    },
    {
     "name": "stdout",
     "output_type": "stream",
     "text": [
      "\n",
      "\n",
      "###################### Start to Train NN model ##########################\n"
     ]
    },
    {
     "name": "stderr",
     "output_type": "stream",
     "text": [
      "epoch  56: 100%|██████████| 35/35 [00:00<00:00, 162.23it/s, loss=7.2083507]\n"
     ]
    },
    {
     "name": "stdout",
     "output_type": "stream",
     "text": [
      "\n",
      "\n",
      "###################### Start to Train NN model ##########################\n"
     ]
    },
    {
     "name": "stderr",
     "output_type": "stream",
     "text": [
      "epoch  57: 100%|██████████| 35/35 [00:00<00:00, 125.97it/s, loss=8.513981] \n"
     ]
    },
    {
     "name": "stdout",
     "output_type": "stream",
     "text": [
      "The trained model has been saved!\n",
      "\n",
      "\n",
      "###################### Start to Train NN model ##########################\n"
     ]
    },
    {
     "name": "stderr",
     "output_type": "stream",
     "text": [
      "epoch  58: 100%|██████████| 35/35 [00:00<00:00, 139.86it/s, loss=8.868747] \n"
     ]
    },
    {
     "name": "stdout",
     "output_type": "stream",
     "text": [
      "The trained model has been saved!\n",
      "\n",
      "\n",
      "###################### Start to Train NN model ##########################\n"
     ]
    },
    {
     "name": "stderr",
     "output_type": "stream",
     "text": [
      "epoch  59: 100%|██████████| 35/35 [00:00<00:00, 160.73it/s, loss=8.195661] \n"
     ]
    },
    {
     "name": "stdout",
     "output_type": "stream",
     "text": [
      "\n",
      "\n",
      "###################### Start to Train NN model ##########################\n"
     ]
    },
    {
     "name": "stderr",
     "output_type": "stream",
     "text": [
      "epoch  60: 100%|██████████| 35/35 [00:00<00:00, 149.62it/s, loss=7.780572] \n"
     ]
    },
    {
     "name": "stdout",
     "output_type": "stream",
     "text": [
      "\n",
      "\n",
      "###################### Start to Train NN model ##########################\n"
     ]
    },
    {
     "name": "stderr",
     "output_type": "stream",
     "text": [
      "epoch  61: 100%|██████████| 35/35 [00:00<00:00, 158.40it/s, loss=7.945923] \n"
     ]
    },
    {
     "name": "stdout",
     "output_type": "stream",
     "text": [
      "\n",
      "\n",
      "###################### Start to Train NN model ##########################\n"
     ]
    },
    {
     "name": "stderr",
     "output_type": "stream",
     "text": [
      "epoch  62: 100%|██████████| 35/35 [00:00<00:00, 146.30it/s, loss=7.056329] \n"
     ]
    },
    {
     "name": "stdout",
     "output_type": "stream",
     "text": [
      "The trained model has been saved!\n",
      "\n",
      "\n",
      "###################### Start to Train NN model ##########################\n"
     ]
    },
    {
     "name": "stderr",
     "output_type": "stream",
     "text": [
      "epoch  63: 100%|██████████| 35/35 [00:00<00:00, 125.84it/s, loss=7.851666] \n"
     ]
    },
    {
     "name": "stdout",
     "output_type": "stream",
     "text": [
      "The trained model has been saved!\n",
      "\n",
      "\n",
      "###################### Start to Train NN model ##########################\n"
     ]
    },
    {
     "name": "stderr",
     "output_type": "stream",
     "text": [
      "epoch  64: 100%|██████████| 35/35 [00:00<00:00, 165.72it/s, loss=7.638823] \n"
     ]
    },
    {
     "name": "stdout",
     "output_type": "stream",
     "text": [
      "The trained model has been saved!\n",
      "\n",
      "\n",
      "###################### Start to Train NN model ##########################\n"
     ]
    },
    {
     "name": "stderr",
     "output_type": "stream",
     "text": [
      "epoch  65: 100%|██████████| 35/35 [00:00<00:00, 153.07it/s, loss=7.4835443]\n"
     ]
    },
    {
     "name": "stdout",
     "output_type": "stream",
     "text": [
      "The trained model has been saved!\n",
      "\n",
      "\n",
      "###################### Start to Train NN model ##########################\n"
     ]
    },
    {
     "name": "stderr",
     "output_type": "stream",
     "text": [
      "epoch  66: 100%|██████████| 35/35 [00:00<00:00, 160.32it/s, loss=6.8208456]\n"
     ]
    },
    {
     "name": "stdout",
     "output_type": "stream",
     "text": [
      "\n",
      "\n",
      "###################### Start to Train NN model ##########################\n"
     ]
    },
    {
     "name": "stderr",
     "output_type": "stream",
     "text": [
      "epoch  67: 100%|██████████| 35/35 [00:00<00:00, 134.97it/s, loss=8.284702] \n"
     ]
    },
    {
     "name": "stdout",
     "output_type": "stream",
     "text": [
      "\n",
      "\n",
      "###################### Start to Train NN model ##########################\n"
     ]
    },
    {
     "name": "stderr",
     "output_type": "stream",
     "text": [
      "epoch  68: 100%|██████████| 35/35 [00:00<00:00, 144.87it/s, loss=7.817034] \n"
     ]
    },
    {
     "name": "stdout",
     "output_type": "stream",
     "text": [
      "\n",
      "\n",
      "###################### Start to Train NN model ##########################\n"
     ]
    },
    {
     "name": "stderr",
     "output_type": "stream",
     "text": [
      "epoch  69: 100%|██████████| 35/35 [00:00<00:00, 150.03it/s, loss=9.090223] \n"
     ]
    },
    {
     "name": "stdout",
     "output_type": "stream",
     "text": [
      "\n",
      "\n",
      "###################### Start to Train NN model ##########################\n"
     ]
    },
    {
     "name": "stderr",
     "output_type": "stream",
     "text": [
      "epoch  70: 100%|██████████| 35/35 [00:00<00:00, 120.02it/s, loss=8.72918]  \n"
     ]
    },
    {
     "name": "stdout",
     "output_type": "stream",
     "text": [
      "\n",
      "\n",
      "###################### Start to Train NN model ##########################\n"
     ]
    },
    {
     "name": "stderr",
     "output_type": "stream",
     "text": [
      "epoch  71: 100%|██████████| 35/35 [00:00<00:00, 127.54it/s, loss=7.204796] \n"
     ]
    },
    {
     "name": "stdout",
     "output_type": "stream",
     "text": [
      "\n",
      "\n",
      "###################### Start to Train NN model ##########################\n"
     ]
    },
    {
     "name": "stderr",
     "output_type": "stream",
     "text": [
      "epoch  72: 100%|██████████| 35/35 [00:00<00:00, 133.05it/s, loss=7.7747126]\n"
     ]
    },
    {
     "name": "stdout",
     "output_type": "stream",
     "text": [
      "The trained model has been saved!\n",
      "\n",
      "\n",
      "###################### Start to Train NN model ##########################\n"
     ]
    },
    {
     "name": "stderr",
     "output_type": "stream",
     "text": [
      "epoch  73: 100%|██████████| 35/35 [00:00<00:00, 135.35it/s, loss=7.1260033]\n"
     ]
    },
    {
     "name": "stdout",
     "output_type": "stream",
     "text": [
      "\n",
      "\n",
      "###################### Start to Train NN model ##########################\n"
     ]
    },
    {
     "name": "stderr",
     "output_type": "stream",
     "text": [
      "epoch  74: 100%|██████████| 35/35 [00:00<00:00, 127.41it/s, loss=7.4386997]\n"
     ]
    },
    {
     "name": "stdout",
     "output_type": "stream",
     "text": [
      "\n",
      "\n",
      "###################### Start to Train NN model ##########################\n"
     ]
    },
    {
     "name": "stderr",
     "output_type": "stream",
     "text": [
      "epoch  75: 100%|██████████| 35/35 [00:00<00:00, 140.55it/s, loss=7.5937614]\n"
     ]
    },
    {
     "name": "stdout",
     "output_type": "stream",
     "text": [
      "\n",
      "\n",
      "###################### Start to Train NN model ##########################\n"
     ]
    },
    {
     "name": "stderr",
     "output_type": "stream",
     "text": [
      "epoch  76: 100%|██████████| 35/35 [00:00<00:00, 141.28it/s, loss=7.39288]  \n"
     ]
    },
    {
     "name": "stdout",
     "output_type": "stream",
     "text": [
      "\n",
      "\n",
      "###################### Start to Train NN model ##########################\n"
     ]
    },
    {
     "name": "stderr",
     "output_type": "stream",
     "text": [
      "epoch  77: 100%|██████████| 35/35 [00:00<00:00, 139.93it/s, loss=7.1781416]\n"
     ]
    },
    {
     "name": "stdout",
     "output_type": "stream",
     "text": [
      "\n",
      "\n",
      "###################### Start to Train NN model ##########################\n"
     ]
    },
    {
     "name": "stderr",
     "output_type": "stream",
     "text": [
      "epoch  78: 100%|██████████| 35/35 [00:00<00:00, 143.03it/s, loss=8.300893] \n"
     ]
    },
    {
     "name": "stdout",
     "output_type": "stream",
     "text": [
      "\n",
      "\n",
      "###################### Start to Train NN model ##########################\n"
     ]
    },
    {
     "name": "stderr",
     "output_type": "stream",
     "text": [
      "epoch  79: 100%|██████████| 35/35 [00:00<00:00, 148.23it/s, loss=7.424081] \n"
     ]
    },
    {
     "name": "stdout",
     "output_type": "stream",
     "text": [
      "The trained model has been saved!\n",
      "\n",
      "\n",
      "###################### Start to Train NN model ##########################\n"
     ]
    },
    {
     "name": "stderr",
     "output_type": "stream",
     "text": [
      "epoch  80: 100%|██████████| 35/35 [00:00<00:00, 139.63it/s, loss=8.508722] \n"
     ]
    },
    {
     "name": "stdout",
     "output_type": "stream",
     "text": [
      "\n",
      "\n",
      "###################### Start to Train NN model ##########################\n"
     ]
    },
    {
     "name": "stderr",
     "output_type": "stream",
     "text": [
      "epoch  81: 100%|██████████| 35/35 [00:00<00:00, 135.62it/s, loss=6.9162264]\n"
     ]
    },
    {
     "name": "stdout",
     "output_type": "stream",
     "text": [
      "\n",
      "\n",
      "###################### Start to Train NN model ##########################\n"
     ]
    },
    {
     "name": "stderr",
     "output_type": "stream",
     "text": [
      "epoch  82: 100%|██████████| 35/35 [00:00<00:00, 153.75it/s, loss=7.141133] \n"
     ]
    },
    {
     "name": "stdout",
     "output_type": "stream",
     "text": [
      "The trained model has been saved!\n",
      "\n",
      "\n",
      "###################### Start to Train NN model ##########################\n"
     ]
    },
    {
     "name": "stderr",
     "output_type": "stream",
     "text": [
      "epoch  83: 100%|██████████| 35/35 [00:00<00:00, 156.97it/s, loss=8.378855] \n"
     ]
    },
    {
     "name": "stdout",
     "output_type": "stream",
     "text": [
      "The trained model has been saved!\n",
      "\n",
      "\n",
      "###################### Start to Train NN model ##########################\n"
     ]
    },
    {
     "name": "stderr",
     "output_type": "stream",
     "text": [
      "epoch  84: 100%|██████████| 35/35 [00:00<00:00, 149.11it/s, loss=7.0883503]\n"
     ]
    },
    {
     "name": "stdout",
     "output_type": "stream",
     "text": [
      "\n",
      "\n",
      "###################### Start to Train NN model ##########################\n"
     ]
    },
    {
     "name": "stderr",
     "output_type": "stream",
     "text": [
      "epoch  85: 100%|██████████| 35/35 [00:00<00:00, 135.56it/s, loss=7.6582336]\n"
     ]
    },
    {
     "name": "stdout",
     "output_type": "stream",
     "text": [
      "\n",
      "\n",
      "###################### Start to Train NN model ##########################\n"
     ]
    },
    {
     "name": "stderr",
     "output_type": "stream",
     "text": [
      "epoch  86: 100%|██████████| 35/35 [00:00<00:00, 156.58it/s, loss=7.4012365]\n"
     ]
    },
    {
     "name": "stdout",
     "output_type": "stream",
     "text": [
      "The trained model has been saved!\n",
      "\n",
      "\n",
      "###################### Start to Train NN model ##########################\n"
     ]
    },
    {
     "name": "stderr",
     "output_type": "stream",
     "text": [
      "epoch  87: 100%|██████████| 35/35 [00:00<00:00, 165.87it/s, loss=7.897633] \n"
     ]
    },
    {
     "name": "stdout",
     "output_type": "stream",
     "text": [
      "The trained model has been saved!\n",
      "\n",
      "\n",
      "###################### Start to Train NN model ##########################\n"
     ]
    },
    {
     "name": "stderr",
     "output_type": "stream",
     "text": [
      "epoch  88: 100%|██████████| 35/35 [00:00<00:00, 147.91it/s, loss=7.142014] \n"
     ]
    },
    {
     "name": "stdout",
     "output_type": "stream",
     "text": [
      "The trained model has been saved!\n",
      "\n",
      "\n",
      "###################### Start to Train NN model ##########################\n"
     ]
    },
    {
     "name": "stderr",
     "output_type": "stream",
     "text": [
      "epoch  89: 100%|██████████| 35/35 [00:00<00:00, 165.81it/s, loss=7.5284886]\n"
     ]
    },
    {
     "name": "stdout",
     "output_type": "stream",
     "text": [
      "\n",
      "\n",
      "###################### Start to Train NN model ##########################\n"
     ]
    },
    {
     "name": "stderr",
     "output_type": "stream",
     "text": [
      "epoch  90: 100%|██████████| 35/35 [00:00<00:00, 132.38it/s, loss=7.194983] \n"
     ]
    },
    {
     "name": "stdout",
     "output_type": "stream",
     "text": [
      "\n",
      "\n",
      "###################### Start to Train NN model ##########################\n"
     ]
    },
    {
     "name": "stderr",
     "output_type": "stream",
     "text": [
      "epoch  91: 100%|██████████| 35/35 [00:00<00:00, 141.02it/s, loss=7.631758] \n"
     ]
    },
    {
     "name": "stdout",
     "output_type": "stream",
     "text": [
      "\n",
      "\n",
      "###################### Start to Train NN model ##########################\n"
     ]
    },
    {
     "name": "stderr",
     "output_type": "stream",
     "text": [
      "epoch  92: 100%|██████████| 35/35 [00:00<00:00, 120.93it/s, loss=8.984378] \n"
     ]
    },
    {
     "name": "stdout",
     "output_type": "stream",
     "text": [
      "\n",
      "\n",
      "###################### Start to Train NN model ##########################\n"
     ]
    },
    {
     "name": "stderr",
     "output_type": "stream",
     "text": [
      "epoch  93: 100%|██████████| 35/35 [00:00<00:00, 144.14it/s, loss=9.074337] \n"
     ]
    },
    {
     "name": "stdout",
     "output_type": "stream",
     "text": [
      "\n",
      "\n",
      "###################### Start to Train NN model ##########################\n"
     ]
    },
    {
     "name": "stderr",
     "output_type": "stream",
     "text": [
      "epoch  94: 100%|██████████| 35/35 [00:00<00:00, 147.14it/s, loss=7.29858]  \n"
     ]
    },
    {
     "name": "stdout",
     "output_type": "stream",
     "text": [
      "\n",
      "\n",
      "###################### Start to Train NN model ##########################\n"
     ]
    },
    {
     "name": "stderr",
     "output_type": "stream",
     "text": [
      "epoch  95: 100%|██████████| 35/35 [00:00<00:00, 148.17it/s, loss=7.57387]  \n"
     ]
    },
    {
     "name": "stdout",
     "output_type": "stream",
     "text": [
      "\n",
      "\n",
      "###################### Start to Train NN model ##########################\n"
     ]
    },
    {
     "name": "stderr",
     "output_type": "stream",
     "text": [
      "epoch  96: 100%|██████████| 35/35 [00:00<00:00, 171.63it/s, loss=6.90933]  \n"
     ]
    },
    {
     "name": "stdout",
     "output_type": "stream",
     "text": [
      "\n",
      "\n",
      "###################### Start to Train NN model ##########################\n"
     ]
    },
    {
     "name": "stderr",
     "output_type": "stream",
     "text": [
      "epoch  97: 100%|██████████| 35/35 [00:00<00:00, 154.21it/s, loss=7.499206] \n"
     ]
    },
    {
     "name": "stdout",
     "output_type": "stream",
     "text": [
      "\n",
      "\n",
      "###################### Start to Train NN model ##########################\n"
     ]
    },
    {
     "name": "stderr",
     "output_type": "stream",
     "text": [
      "epoch  98: 100%|██████████| 35/35 [00:00<00:00, 152.63it/s, loss=6.6711245]\n"
     ]
    },
    {
     "name": "stdout",
     "output_type": "stream",
     "text": [
      "The trained model has been saved!\n",
      "\n",
      "\n",
      "###################### Start to Train NN model ##########################\n"
     ]
    },
    {
     "name": "stderr",
     "output_type": "stream",
     "text": [
      "epoch  99: 100%|██████████| 35/35 [00:00<00:00, 143.34it/s, loss=7.109347] \n"
     ]
    },
    {
     "name": "stdout",
     "output_type": "stream",
     "text": [
      "The trained model has been saved!\n",
      "\n",
      "\n",
      "###################### Start to Train NN model ##########################\n"
     ]
    },
    {
     "name": "stderr",
     "output_type": "stream",
     "text": [
      "epoch  100: 100%|██████████| 35/35 [00:00<00:00, 140.69it/s, loss=7.3383846]\n"
     ]
    },
    {
     "name": "stdout",
     "output_type": "stream",
     "text": [
      "\n",
      "\n",
      "###################### Start to Train NN model ##########################\n"
     ]
    },
    {
     "name": "stderr",
     "output_type": "stream",
     "text": [
      "epoch  101: 100%|██████████| 35/35 [00:00<00:00, 154.12it/s, loss=7.6001043]\n"
     ]
    },
    {
     "name": "stdout",
     "output_type": "stream",
     "text": [
      "\n",
      "\n",
      "###################### Start to Train NN model ##########################\n"
     ]
    },
    {
     "name": "stderr",
     "output_type": "stream",
     "text": [
      "epoch  102: 100%|██████████| 35/35 [00:00<00:00, 163.36it/s, loss=8.1564455]\n"
     ]
    },
    {
     "name": "stdout",
     "output_type": "stream",
     "text": [
      "The trained model has been saved!\n",
      "\n",
      "\n",
      "###################### Start to Train NN model ##########################\n"
     ]
    },
    {
     "name": "stderr",
     "output_type": "stream",
     "text": [
      "epoch  103: 100%|██████████| 35/35 [00:00<00:00, 152.41it/s, loss=7.3002634]\n"
     ]
    },
    {
     "name": "stdout",
     "output_type": "stream",
     "text": [
      "\n",
      "\n",
      "###################### Start to Train NN model ##########################\n"
     ]
    },
    {
     "name": "stderr",
     "output_type": "stream",
     "text": [
      "epoch  104: 100%|██████████| 35/35 [00:00<00:00, 156.73it/s, loss=8.867609] \n"
     ]
    },
    {
     "name": "stdout",
     "output_type": "stream",
     "text": [
      "\n",
      "\n",
      "###################### Start to Train NN model ##########################\n"
     ]
    },
    {
     "name": "stderr",
     "output_type": "stream",
     "text": [
      "epoch  105: 100%|██████████| 35/35 [00:00<00:00, 137.61it/s, loss=7.26727]  \n"
     ]
    },
    {
     "name": "stdout",
     "output_type": "stream",
     "text": [
      "The trained model has been saved!\n",
      "\n",
      "\n",
      "###################### Start to Train NN model ##########################\n"
     ]
    },
    {
     "name": "stderr",
     "output_type": "stream",
     "text": [
      "epoch  106: 100%|██████████| 35/35 [00:00<00:00, 154.30it/s, loss=7.8889437]\n"
     ]
    },
    {
     "name": "stdout",
     "output_type": "stream",
     "text": [
      "\n",
      "\n",
      "###################### Start to Train NN model ##########################\n"
     ]
    },
    {
     "name": "stderr",
     "output_type": "stream",
     "text": [
      "epoch  107: 100%|██████████| 35/35 [00:00<00:00, 147.15it/s, loss=6.5606813]\n"
     ]
    },
    {
     "name": "stdout",
     "output_type": "stream",
     "text": [
      "The trained model has been saved!\n",
      "\n",
      "\n",
      "###################### Start to Train NN model ##########################\n"
     ]
    },
    {
     "name": "stderr",
     "output_type": "stream",
     "text": [
      "epoch  108: 100%|██████████| 35/35 [00:00<00:00, 153.31it/s, loss=6.9890604]\n"
     ]
    },
    {
     "name": "stdout",
     "output_type": "stream",
     "text": [
      "\n",
      "\n",
      "###################### Start to Train NN model ##########################\n"
     ]
    },
    {
     "name": "stderr",
     "output_type": "stream",
     "text": [
      "epoch  109: 100%|██████████| 35/35 [00:00<00:00, 127.39it/s, loss=7.75752]  \n"
     ]
    },
    {
     "name": "stdout",
     "output_type": "stream",
     "text": [
      "\n",
      "\n",
      "###################### Start to Train NN model ##########################\n"
     ]
    },
    {
     "name": "stderr",
     "output_type": "stream",
     "text": [
      "epoch  110: 100%|██████████| 35/35 [00:00<00:00, 157.31it/s, loss=6.257988] \n"
     ]
    },
    {
     "name": "stdout",
     "output_type": "stream",
     "text": [
      "The trained model has been saved!\n",
      "\n",
      "\n",
      "###################### Start to Train NN model ##########################\n"
     ]
    },
    {
     "name": "stderr",
     "output_type": "stream",
     "text": [
      "epoch  111: 100%|██████████| 35/35 [00:00<00:00, 144.49it/s, loss=6.2215214]\n"
     ]
    },
    {
     "name": "stdout",
     "output_type": "stream",
     "text": [
      "\n",
      "\n",
      "###################### Start to Train NN model ##########################\n"
     ]
    },
    {
     "name": "stderr",
     "output_type": "stream",
     "text": [
      "epoch  112: 100%|██████████| 35/35 [00:00<00:00, 146.35it/s, loss=7.949399] \n"
     ]
    },
    {
     "name": "stdout",
     "output_type": "stream",
     "text": [
      "\n",
      "\n",
      "###################### Start to Train NN model ##########################\n"
     ]
    },
    {
     "name": "stderr",
     "output_type": "stream",
     "text": [
      "epoch  113: 100%|██████████| 35/35 [00:00<00:00, 153.72it/s, loss=7.8252482]\n"
     ]
    },
    {
     "name": "stdout",
     "output_type": "stream",
     "text": [
      "The trained model has been saved!\n",
      "\n",
      "\n",
      "###################### Start to Train NN model ##########################\n"
     ]
    },
    {
     "name": "stderr",
     "output_type": "stream",
     "text": [
      "epoch  114: 100%|██████████| 35/35 [00:00<00:00, 142.82it/s, loss=8.007248] \n"
     ]
    },
    {
     "name": "stdout",
     "output_type": "stream",
     "text": [
      "\n",
      "\n",
      "###################### Start to Train NN model ##########################\n"
     ]
    },
    {
     "name": "stderr",
     "output_type": "stream",
     "text": [
      "epoch  115: 100%|██████████| 35/35 [00:00<00:00, 147.74it/s, loss=7.65112]  \n"
     ]
    },
    {
     "name": "stdout",
     "output_type": "stream",
     "text": [
      "The trained model has been saved!\n",
      "\n",
      "\n",
      "###################### Start to Train NN model ##########################\n"
     ]
    },
    {
     "name": "stderr",
     "output_type": "stream",
     "text": [
      "epoch  116: 100%|██████████| 35/35 [00:00<00:00, 136.04it/s, loss=7.3033667]\n"
     ]
    },
    {
     "name": "stdout",
     "output_type": "stream",
     "text": [
      "\n",
      "\n",
      "###################### Start to Train NN model ##########################\n"
     ]
    },
    {
     "name": "stderr",
     "output_type": "stream",
     "text": [
      "epoch  117: 100%|██████████| 35/35 [00:00<00:00, 156.68it/s, loss=7.1306186]\n"
     ]
    },
    {
     "name": "stdout",
     "output_type": "stream",
     "text": [
      "\n",
      "\n",
      "###################### Start to Train NN model ##########################\n"
     ]
    },
    {
     "name": "stderr",
     "output_type": "stream",
     "text": [
      "epoch  118: 100%|██████████| 35/35 [00:00<00:00, 152.10it/s, loss=7.251288] \n"
     ]
    },
    {
     "name": "stdout",
     "output_type": "stream",
     "text": [
      "The trained model has been saved!\n",
      "\n",
      "\n",
      "###################### Start to Train NN model ##########################\n"
     ]
    },
    {
     "name": "stderr",
     "output_type": "stream",
     "text": [
      "epoch  119: 100%|██████████| 35/35 [00:00<00:00, 145.53it/s, loss=6.729712] \n"
     ]
    },
    {
     "name": "stdout",
     "output_type": "stream",
     "text": [
      "The trained model has been saved!\n",
      "\n",
      "\n",
      "###################### Start to Train NN model ##########################\n"
     ]
    },
    {
     "name": "stderr",
     "output_type": "stream",
     "text": [
      "epoch  120: 100%|██████████| 35/35 [00:00<00:00, 144.13it/s, loss=6.4824476]\n"
     ]
    },
    {
     "name": "stdout",
     "output_type": "stream",
     "text": [
      "\n",
      "\n",
      "###################### Start to Train NN model ##########################\n"
     ]
    },
    {
     "name": "stderr",
     "output_type": "stream",
     "text": [
      "epoch  121: 100%|██████████| 35/35 [00:00<00:00, 138.33it/s, loss=6.685501] \n"
     ]
    },
    {
     "name": "stdout",
     "output_type": "stream",
     "text": [
      "\n",
      "\n",
      "###################### Start to Train NN model ##########################\n"
     ]
    },
    {
     "name": "stderr",
     "output_type": "stream",
     "text": [
      "epoch  122: 100%|██████████| 35/35 [00:00<00:00, 146.35it/s, loss=7.8849087]\n"
     ]
    },
    {
     "name": "stdout",
     "output_type": "stream",
     "text": [
      "\n",
      "\n",
      "###################### Start to Train NN model ##########################\n"
     ]
    },
    {
     "name": "stderr",
     "output_type": "stream",
     "text": [
      "epoch  123: 100%|██████████| 35/35 [00:00<00:00, 157.72it/s, loss=6.9399924]\n"
     ]
    },
    {
     "name": "stdout",
     "output_type": "stream",
     "text": [
      "\n",
      "\n",
      "###################### Start to Train NN model ##########################\n"
     ]
    },
    {
     "name": "stderr",
     "output_type": "stream",
     "text": [
      "epoch  124: 100%|██████████| 35/35 [00:00<00:00, 133.10it/s, loss=6.65822]  \n"
     ]
    },
    {
     "name": "stdout",
     "output_type": "stream",
     "text": [
      "\n",
      "\n",
      "###################### Start to Train NN model ##########################\n"
     ]
    },
    {
     "name": "stderr",
     "output_type": "stream",
     "text": [
      "epoch  125: 100%|██████████| 35/35 [00:00<00:00, 133.57it/s, loss=8.13397]  \n"
     ]
    },
    {
     "name": "stdout",
     "output_type": "stream",
     "text": [
      "The trained model has been saved!\n",
      "\n",
      "\n",
      "###################### Start to Train NN model ##########################\n"
     ]
    },
    {
     "name": "stderr",
     "output_type": "stream",
     "text": [
      "epoch  126: 100%|██████████| 35/35 [00:00<00:00, 157.65it/s, loss=7.94157]  \n"
     ]
    },
    {
     "name": "stdout",
     "output_type": "stream",
     "text": [
      "\n",
      "\n",
      "###################### Start to Train NN model ##########################\n"
     ]
    },
    {
     "name": "stderr",
     "output_type": "stream",
     "text": [
      "epoch  127: 100%|██████████| 35/35 [00:00<00:00, 141.18it/s, loss=6.9286876]\n"
     ]
    },
    {
     "name": "stdout",
     "output_type": "stream",
     "text": [
      "\n",
      "\n",
      "###################### Start to Train NN model ##########################\n"
     ]
    },
    {
     "name": "stderr",
     "output_type": "stream",
     "text": [
      "epoch  128: 100%|██████████| 35/35 [00:00<00:00, 157.03it/s, loss=7.688252] \n"
     ]
    },
    {
     "name": "stdout",
     "output_type": "stream",
     "text": [
      "\n",
      "\n",
      "###################### Start to Train NN model ##########################\n"
     ]
    },
    {
     "name": "stderr",
     "output_type": "stream",
     "text": [
      "epoch  129: 100%|██████████| 35/35 [00:00<00:00, 151.14it/s, loss=7.042264] \n"
     ]
    },
    {
     "name": "stdout",
     "output_type": "stream",
     "text": [
      "\n",
      "\n",
      "###################### Start to Train NN model ##########################\n"
     ]
    },
    {
     "name": "stderr",
     "output_type": "stream",
     "text": [
      "epoch  130: 100%|██████████| 35/35 [00:00<00:00, 126.84it/s, loss=6.152751] \n"
     ]
    },
    {
     "name": "stdout",
     "output_type": "stream",
     "text": [
      "\n",
      "\n",
      "###################### Start to Train NN model ##########################\n"
     ]
    },
    {
     "name": "stderr",
     "output_type": "stream",
     "text": [
      "epoch  131: 100%|██████████| 35/35 [00:00<00:00, 144.16it/s, loss=7.0356774]\n"
     ]
    },
    {
     "name": "stdout",
     "output_type": "stream",
     "text": [
      "\n",
      "\n",
      "###################### Start to Train NN model ##########################\n"
     ]
    },
    {
     "name": "stderr",
     "output_type": "stream",
     "text": [
      "epoch  132: 100%|██████████| 35/35 [00:00<00:00, 158.61it/s, loss=7.0597796]\n"
     ]
    },
    {
     "name": "stdout",
     "output_type": "stream",
     "text": [
      "\n",
      "\n",
      "###################### Start to Train NN model ##########################\n"
     ]
    },
    {
     "name": "stderr",
     "output_type": "stream",
     "text": [
      "epoch  133: 100%|██████████| 35/35 [00:00<00:00, 143.48it/s, loss=6.4013205]\n"
     ]
    },
    {
     "name": "stdout",
     "output_type": "stream",
     "text": [
      "\n",
      "\n",
      "###################### Start to Train NN model ##########################\n"
     ]
    },
    {
     "name": "stderr",
     "output_type": "stream",
     "text": [
      "epoch  134: 100%|██████████| 35/35 [00:00<00:00, 132.46it/s, loss=8.22922]  \n"
     ]
    },
    {
     "name": "stdout",
     "output_type": "stream",
     "text": [
      "\n",
      "\n",
      "###################### Start to Train NN model ##########################\n"
     ]
    },
    {
     "name": "stderr",
     "output_type": "stream",
     "text": [
      "epoch  135: 100%|██████████| 35/35 [00:00<00:00, 134.76it/s, loss=6.6601233]\n"
     ]
    },
    {
     "name": "stdout",
     "output_type": "stream",
     "text": [
      "\n",
      "\n",
      "###################### Start to Train NN model ##########################\n"
     ]
    },
    {
     "name": "stderr",
     "output_type": "stream",
     "text": [
      "epoch  136: 100%|██████████| 35/35 [00:00<00:00, 155.13it/s, loss=6.835784] \n"
     ]
    },
    {
     "name": "stdout",
     "output_type": "stream",
     "text": [
      "\n",
      "\n",
      "###################### Start to Train NN model ##########################\n"
     ]
    },
    {
     "name": "stderr",
     "output_type": "stream",
     "text": [
      "epoch  137: 100%|██████████| 35/35 [00:00<00:00, 140.36it/s, loss=7.5167227]\n"
     ]
    },
    {
     "name": "stdout",
     "output_type": "stream",
     "text": [
      "\n",
      "\n",
      "###################### Start to Train NN model ##########################\n"
     ]
    },
    {
     "name": "stderr",
     "output_type": "stream",
     "text": [
      "epoch  138: 100%|██████████| 35/35 [00:00<00:00, 164.74it/s, loss=7.349367] \n"
     ]
    },
    {
     "name": "stdout",
     "output_type": "stream",
     "text": [
      "The trained model has been saved!\n",
      "\n",
      "\n",
      "###################### Start to Train NN model ##########################\n"
     ]
    },
    {
     "name": "stderr",
     "output_type": "stream",
     "text": [
      "epoch  139: 100%|██████████| 35/35 [00:00<00:00, 142.83it/s, loss=7.071217] \n"
     ]
    },
    {
     "name": "stdout",
     "output_type": "stream",
     "text": [
      "\n",
      "\n",
      "###################### Start to Train NN model ##########################\n"
     ]
    },
    {
     "name": "stderr",
     "output_type": "stream",
     "text": [
      "epoch  140: 100%|██████████| 35/35 [00:00<00:00, 150.84it/s, loss=6.84464]  \n"
     ]
    },
    {
     "name": "stdout",
     "output_type": "stream",
     "text": [
      "\n",
      "\n",
      "###################### Start to Train NN model ##########################\n"
     ]
    },
    {
     "name": "stderr",
     "output_type": "stream",
     "text": [
      "epoch  141: 100%|██████████| 35/35 [00:00<00:00, 132.23it/s, loss=6.3783183]\n"
     ]
    },
    {
     "name": "stdout",
     "output_type": "stream",
     "text": [
      "The trained model has been saved!\n",
      "\n",
      "\n",
      "###################### Start to Train NN model ##########################\n"
     ]
    },
    {
     "name": "stderr",
     "output_type": "stream",
     "text": [
      "epoch  142: 100%|██████████| 35/35 [00:00<00:00, 123.00it/s, loss=7.0037813]\n"
     ]
    },
    {
     "name": "stdout",
     "output_type": "stream",
     "text": [
      "\n",
      "\n",
      "###################### Start to Train NN model ##########################\n"
     ]
    },
    {
     "name": "stderr",
     "output_type": "stream",
     "text": [
      "epoch  143: 100%|██████████| 35/35 [00:00<00:00, 137.58it/s, loss=6.552427] \n"
     ]
    },
    {
     "name": "stdout",
     "output_type": "stream",
     "text": [
      "\n",
      "\n",
      "###################### Start to Train NN model ##########################\n"
     ]
    },
    {
     "name": "stderr",
     "output_type": "stream",
     "text": [
      "epoch  144: 100%|██████████| 35/35 [00:00<00:00, 154.05it/s, loss=6.4512496]\n"
     ]
    },
    {
     "name": "stdout",
     "output_type": "stream",
     "text": [
      "\n",
      "\n",
      "###################### Start to Train NN model ##########################\n"
     ]
    },
    {
     "name": "stderr",
     "output_type": "stream",
     "text": [
      "epoch  145: 100%|██████████| 35/35 [00:00<00:00, 151.01it/s, loss=7.6095943]\n"
     ]
    },
    {
     "name": "stdout",
     "output_type": "stream",
     "text": [
      "\n",
      "\n",
      "###################### Start to Train NN model ##########################\n"
     ]
    },
    {
     "name": "stderr",
     "output_type": "stream",
     "text": [
      "epoch  146: 100%|██████████| 35/35 [00:00<00:00, 162.20it/s, loss=7.7774973]\n"
     ]
    },
    {
     "name": "stdout",
     "output_type": "stream",
     "text": [
      "\n",
      "\n",
      "###################### Start to Train NN model ##########################\n"
     ]
    },
    {
     "name": "stderr",
     "output_type": "stream",
     "text": [
      "epoch  147: 100%|██████████| 35/35 [00:00<00:00, 148.01it/s, loss=7.2757754]\n"
     ]
    },
    {
     "name": "stdout",
     "output_type": "stream",
     "text": [
      "\n",
      "\n",
      "###################### Start to Train NN model ##########################\n"
     ]
    },
    {
     "name": "stderr",
     "output_type": "stream",
     "text": [
      "epoch  148: 100%|██████████| 35/35 [00:00<00:00, 152.83it/s, loss=5.903928] \n"
     ]
    },
    {
     "name": "stdout",
     "output_type": "stream",
     "text": [
      "\n",
      "\n",
      "###################### Start to Train NN model ##########################\n"
     ]
    },
    {
     "name": "stderr",
     "output_type": "stream",
     "text": [
      "epoch  149: 100%|██████████| 35/35 [00:00<00:00, 141.66it/s, loss=6.7107224]\n"
     ]
    },
    {
     "name": "stdout",
     "output_type": "stream",
     "text": [
      "\n",
      "\n",
      "###################### Start to Train NN model ##########################\n"
     ]
    },
    {
     "name": "stderr",
     "output_type": "stream",
     "text": [
      "epoch  150: 100%|██████████| 35/35 [00:00<00:00, 137.04it/s, loss=7.331171] \n"
     ]
    },
    {
     "name": "stdout",
     "output_type": "stream",
     "text": [
      "The trained model has been saved!\n",
      "\n",
      "\n",
      "###################### Start to Train NN model ##########################\n"
     ]
    },
    {
     "name": "stderr",
     "output_type": "stream",
     "text": [
      "epoch  151: 100%|██████████| 35/35 [00:00<00:00, 136.34it/s, loss=7.2609825]\n"
     ]
    },
    {
     "name": "stdout",
     "output_type": "stream",
     "text": [
      "The trained model has been saved!\n",
      "\n",
      "\n",
      "###################### Start to Train NN model ##########################\n"
     ]
    },
    {
     "name": "stderr",
     "output_type": "stream",
     "text": [
      "epoch  152: 100%|██████████| 35/35 [00:00<00:00, 135.02it/s, loss=7.241627] \n"
     ]
    },
    {
     "name": "stdout",
     "output_type": "stream",
     "text": [
      "\n",
      "\n",
      "###################### Start to Train NN model ##########################\n"
     ]
    },
    {
     "name": "stderr",
     "output_type": "stream",
     "text": [
      "epoch  153: 100%|██████████| 35/35 [00:00<00:00, 161.62it/s, loss=6.628206] \n"
     ]
    },
    {
     "name": "stdout",
     "output_type": "stream",
     "text": [
      "\n",
      "\n",
      "###################### Start to Train NN model ##########################\n"
     ]
    },
    {
     "name": "stderr",
     "output_type": "stream",
     "text": [
      "epoch  154: 100%|██████████| 35/35 [00:00<00:00, 130.37it/s, loss=6.9742]   \n"
     ]
    },
    {
     "name": "stdout",
     "output_type": "stream",
     "text": [
      "\n",
      "\n",
      "###################### Start to Train NN model ##########################\n"
     ]
    },
    {
     "name": "stderr",
     "output_type": "stream",
     "text": [
      "epoch  155: 100%|██████████| 35/35 [00:00<00:00, 153.69it/s, loss=6.5099554]\n"
     ]
    },
    {
     "name": "stdout",
     "output_type": "stream",
     "text": [
      "\n",
      "\n",
      "###################### Start to Train NN model ##########################\n"
     ]
    },
    {
     "name": "stderr",
     "output_type": "stream",
     "text": [
      "epoch  156: 100%|██████████| 35/35 [00:00<00:00, 171.48it/s, loss=7.4290676]\n"
     ]
    },
    {
     "name": "stdout",
     "output_type": "stream",
     "text": [
      "\n",
      "\n",
      "###################### Start to Train NN model ##########################\n"
     ]
    },
    {
     "name": "stderr",
     "output_type": "stream",
     "text": [
      "epoch  157: 100%|██████████| 35/35 [00:00<00:00, 143.31it/s, loss=7.23384]  \n"
     ]
    },
    {
     "name": "stdout",
     "output_type": "stream",
     "text": [
      "\n",
      "\n",
      "###################### Start to Train NN model ##########################\n"
     ]
    },
    {
     "name": "stderr",
     "output_type": "stream",
     "text": [
      "epoch  158: 100%|██████████| 35/35 [00:00<00:00, 135.07it/s, loss=6.7398033]\n"
     ]
    },
    {
     "name": "stdout",
     "output_type": "stream",
     "text": [
      "\n",
      "\n",
      "###################### Start to Train NN model ##########################\n"
     ]
    },
    {
     "name": "stderr",
     "output_type": "stream",
     "text": [
      "epoch  159: 100%|██████████| 35/35 [00:00<00:00, 135.56it/s, loss=6.337289] \n"
     ]
    },
    {
     "name": "stdout",
     "output_type": "stream",
     "text": [
      "\n",
      "\n",
      "###################### Start to Train NN model ##########################\n"
     ]
    },
    {
     "name": "stderr",
     "output_type": "stream",
     "text": [
      "epoch  160: 100%|██████████| 35/35 [00:00<00:00, 154.36it/s, loss=6.6993003]\n"
     ]
    },
    {
     "name": "stdout",
     "output_type": "stream",
     "text": [
      "\n",
      "\n",
      "###################### Start to Train NN model ##########################\n"
     ]
    },
    {
     "name": "stderr",
     "output_type": "stream",
     "text": [
      "epoch  161: 100%|██████████| 35/35 [00:00<00:00, 142.05it/s, loss=7.153393] \n"
     ]
    },
    {
     "name": "stdout",
     "output_type": "stream",
     "text": [
      "\n",
      "\n",
      "###################### Start to Train NN model ##########################\n"
     ]
    },
    {
     "name": "stderr",
     "output_type": "stream",
     "text": [
      "epoch  162: 100%|██████████| 35/35 [00:00<00:00, 138.00it/s, loss=6.3457427]\n"
     ]
    },
    {
     "name": "stdout",
     "output_type": "stream",
     "text": [
      "\n",
      "\n",
      "###################### Start to Train NN model ##########################\n"
     ]
    },
    {
     "name": "stderr",
     "output_type": "stream",
     "text": [
      "epoch  163: 100%|██████████| 35/35 [00:00<00:00, 144.92it/s, loss=7.026238] \n"
     ]
    },
    {
     "name": "stdout",
     "output_type": "stream",
     "text": [
      "\n",
      "\n",
      "###################### Start to Train NN model ##########################\n"
     ]
    },
    {
     "name": "stderr",
     "output_type": "stream",
     "text": [
      "epoch  164: 100%|██████████| 35/35 [00:00<00:00, 137.16it/s, loss=6.1500115]\n"
     ]
    },
    {
     "name": "stdout",
     "output_type": "stream",
     "text": [
      "\n",
      "\n",
      "###################### Start to Train NN model ##########################\n"
     ]
    },
    {
     "name": "stderr",
     "output_type": "stream",
     "text": [
      "epoch  165: 100%|██████████| 35/35 [00:00<00:00, 143.05it/s, loss=6.657652] \n"
     ]
    },
    {
     "name": "stdout",
     "output_type": "stream",
     "text": [
      "The trained model has been saved!\n",
      "\n",
      "\n",
      "###################### Start to Train NN model ##########################\n"
     ]
    },
    {
     "name": "stderr",
     "output_type": "stream",
     "text": [
      "epoch  166: 100%|██████████| 35/35 [00:00<00:00, 133.80it/s, loss=6.7612453]\n"
     ]
    },
    {
     "name": "stdout",
     "output_type": "stream",
     "text": [
      "\n",
      "\n",
      "###################### Start to Train NN model ##########################\n"
     ]
    },
    {
     "name": "stderr",
     "output_type": "stream",
     "text": [
      "epoch  167: 100%|██████████| 35/35 [00:00<00:00, 130.14it/s, loss=6.4850817]\n"
     ]
    },
    {
     "name": "stdout",
     "output_type": "stream",
     "text": [
      "\n",
      "\n",
      "###################### Start to Train NN model ##########################\n"
     ]
    },
    {
     "name": "stderr",
     "output_type": "stream",
     "text": [
      "epoch  168: 100%|██████████| 35/35 [00:00<00:00, 133.92it/s, loss=9.07536]  \n"
     ]
    },
    {
     "name": "stdout",
     "output_type": "stream",
     "text": [
      "\n",
      "\n",
      "###################### Start to Train NN model ##########################\n"
     ]
    },
    {
     "name": "stderr",
     "output_type": "stream",
     "text": [
      "epoch  169: 100%|██████████| 35/35 [00:00<00:00, 150.32it/s, loss=6.6373487]\n"
     ]
    },
    {
     "name": "stdout",
     "output_type": "stream",
     "text": [
      "\n",
      "\n",
      "###################### Start to Train NN model ##########################\n"
     ]
    },
    {
     "name": "stderr",
     "output_type": "stream",
     "text": [
      "epoch  170: 100%|██████████| 35/35 [00:00<00:00, 141.56it/s, loss=8.151523] \n"
     ]
    },
    {
     "name": "stdout",
     "output_type": "stream",
     "text": [
      "\n",
      "\n",
      "###################### Start to Train NN model ##########################\n"
     ]
    },
    {
     "name": "stderr",
     "output_type": "stream",
     "text": [
      "epoch  171: 100%|██████████| 35/35 [00:00<00:00, 152.44it/s, loss=7.671407] \n"
     ]
    },
    {
     "name": "stdout",
     "output_type": "stream",
     "text": [
      "\n",
      "\n",
      "###################### Start to Train NN model ##########################\n"
     ]
    },
    {
     "name": "stderr",
     "output_type": "stream",
     "text": [
      "epoch  172: 100%|██████████| 35/35 [00:00<00:00, 129.40it/s, loss=7.8289876]\n"
     ]
    },
    {
     "name": "stdout",
     "output_type": "stream",
     "text": [
      "\n",
      "\n",
      "###################### Start to Train NN model ##########################\n"
     ]
    },
    {
     "name": "stderr",
     "output_type": "stream",
     "text": [
      "epoch  173: 100%|██████████| 35/35 [00:00<00:00, 131.32it/s, loss=6.58359]  \n"
     ]
    },
    {
     "name": "stdout",
     "output_type": "stream",
     "text": [
      "The trained model has been saved!\n",
      "\n",
      "\n",
      "###################### Start to Train NN model ##########################\n"
     ]
    },
    {
     "name": "stderr",
     "output_type": "stream",
     "text": [
      "epoch  174: 100%|██████████| 35/35 [00:00<00:00, 156.10it/s, loss=7.1707435]\n"
     ]
    },
    {
     "name": "stdout",
     "output_type": "stream",
     "text": [
      "\n",
      "\n",
      "###################### Start to Train NN model ##########################\n"
     ]
    },
    {
     "name": "stderr",
     "output_type": "stream",
     "text": [
      "epoch  175: 100%|██████████| 35/35 [00:00<00:00, 147.44it/s, loss=7.1118846]\n"
     ]
    },
    {
     "name": "stdout",
     "output_type": "stream",
     "text": [
      "\n",
      "\n",
      "###################### Start to Train NN model ##########################\n"
     ]
    },
    {
     "name": "stderr",
     "output_type": "stream",
     "text": [
      "epoch  176: 100%|██████████| 35/35 [00:00<00:00, 137.84it/s, loss=8.7690935]\n"
     ]
    },
    {
     "name": "stdout",
     "output_type": "stream",
     "text": [
      "\n",
      "\n",
      "###################### Start to Train NN model ##########################\n"
     ]
    },
    {
     "name": "stderr",
     "output_type": "stream",
     "text": [
      "epoch  177: 100%|██████████| 35/35 [00:00<00:00, 150.86it/s, loss=6.0000005]\n"
     ]
    },
    {
     "name": "stdout",
     "output_type": "stream",
     "text": [
      "\n",
      "\n",
      "###################### Start to Train NN model ##########################\n"
     ]
    },
    {
     "name": "stderr",
     "output_type": "stream",
     "text": [
      "epoch  178: 100%|██████████| 35/35 [00:00<00:00, 139.80it/s, loss=6.956634] \n"
     ]
    },
    {
     "name": "stdout",
     "output_type": "stream",
     "text": [
      "\n",
      "\n",
      "###################### Start to Train NN model ##########################\n"
     ]
    },
    {
     "name": "stderr",
     "output_type": "stream",
     "text": [
      "epoch  179: 100%|██████████| 35/35 [00:00<00:00, 131.55it/s, loss=6.6706696]\n"
     ]
    },
    {
     "name": "stdout",
     "output_type": "stream",
     "text": [
      "\n",
      "\n",
      "###################### Start to Train NN model ##########################\n"
     ]
    },
    {
     "name": "stderr",
     "output_type": "stream",
     "text": [
      "epoch  180: 100%|██████████| 35/35 [00:00<00:00, 142.47it/s, loss=7.530219] \n"
     ]
    },
    {
     "name": "stdout",
     "output_type": "stream",
     "text": [
      "\n",
      "\n",
      "###################### Start to Train NN model ##########################\n"
     ]
    },
    {
     "name": "stderr",
     "output_type": "stream",
     "text": [
      "epoch  181: 100%|██████████| 35/35 [00:00<00:00, 150.44it/s, loss=7.6400714]\n"
     ]
    },
    {
     "name": "stdout",
     "output_type": "stream",
     "text": [
      "\n",
      "\n",
      "###################### Start to Train NN model ##########################\n"
     ]
    },
    {
     "name": "stderr",
     "output_type": "stream",
     "text": [
      "epoch  182: 100%|██████████| 35/35 [00:00<00:00, 167.46it/s, loss=6.612798] \n"
     ]
    },
    {
     "name": "stdout",
     "output_type": "stream",
     "text": [
      "\n",
      "\n",
      "###################### Start to Train NN model ##########################\n"
     ]
    },
    {
     "name": "stderr",
     "output_type": "stream",
     "text": [
      "epoch  183: 100%|██████████| 35/35 [00:00<00:00, 140.72it/s, loss=8.189113] \n"
     ]
    },
    {
     "name": "stdout",
     "output_type": "stream",
     "text": [
      "\n",
      "\n",
      "###################### Start to Train NN model ##########################\n"
     ]
    },
    {
     "name": "stderr",
     "output_type": "stream",
     "text": [
      "epoch  184: 100%|██████████| 35/35 [00:00<00:00, 140.16it/s, loss=7.3060026]\n"
     ]
    },
    {
     "name": "stdout",
     "output_type": "stream",
     "text": [
      "\n",
      "\n",
      "###################### Start to Train NN model ##########################\n"
     ]
    },
    {
     "name": "stderr",
     "output_type": "stream",
     "text": [
      "epoch  185: 100%|██████████| 35/35 [00:00<00:00, 158.27it/s, loss=6.930114] \n"
     ]
    },
    {
     "name": "stdout",
     "output_type": "stream",
     "text": [
      "\n",
      "\n",
      "###################### Start to Train NN model ##########################\n"
     ]
    },
    {
     "name": "stderr",
     "output_type": "stream",
     "text": [
      "epoch  186: 100%|██████████| 35/35 [00:00<00:00, 156.28it/s, loss=6.6800838]\n"
     ]
    },
    {
     "name": "stdout",
     "output_type": "stream",
     "text": [
      "\n",
      "\n",
      "###################### Start to Train NN model ##########################\n"
     ]
    },
    {
     "name": "stderr",
     "output_type": "stream",
     "text": [
      "epoch  187: 100%|██████████| 35/35 [00:00<00:00, 164.80it/s, loss=6.886651] \n"
     ]
    },
    {
     "name": "stdout",
     "output_type": "stream",
     "text": [
      "\n",
      "\n",
      "###################### Start to Train NN model ##########################\n"
     ]
    },
    {
     "name": "stderr",
     "output_type": "stream",
     "text": [
      "epoch  188: 100%|██████████| 35/35 [00:00<00:00, 147.36it/s, loss=6.3658]   \n"
     ]
    },
    {
     "name": "stdout",
     "output_type": "stream",
     "text": [
      "\n",
      "\n",
      "###################### Start to Train NN model ##########################\n"
     ]
    },
    {
     "name": "stderr",
     "output_type": "stream",
     "text": [
      "epoch  189: 100%|██████████| 35/35 [00:00<00:00, 124.40it/s, loss=7.067121] \n"
     ]
    },
    {
     "name": "stdout",
     "output_type": "stream",
     "text": [
      "\n",
      "\n",
      "###################### Start to Train NN model ##########################\n"
     ]
    },
    {
     "name": "stderr",
     "output_type": "stream",
     "text": [
      "epoch  190: 100%|██████████| 35/35 [00:00<00:00, 144.12it/s, loss=6.9379063]\n"
     ]
    },
    {
     "name": "stdout",
     "output_type": "stream",
     "text": [
      "The trained model has been saved!\n",
      "\n",
      "\n",
      "###################### Start to Train NN model ##########################\n"
     ]
    },
    {
     "name": "stderr",
     "output_type": "stream",
     "text": [
      "epoch  191: 100%|██████████| 35/35 [00:00<00:00, 136.37it/s, loss=6.7715745]\n"
     ]
    },
    {
     "name": "stdout",
     "output_type": "stream",
     "text": [
      "\n",
      "\n",
      "###################### Start to Train NN model ##########################\n"
     ]
    },
    {
     "name": "stderr",
     "output_type": "stream",
     "text": [
      "epoch  192: 100%|██████████| 35/35 [00:00<00:00, 138.90it/s, loss=6.952662] \n"
     ]
    },
    {
     "name": "stdout",
     "output_type": "stream",
     "text": [
      "\n",
      "\n",
      "###################### Start to Train NN model ##########################\n"
     ]
    },
    {
     "name": "stderr",
     "output_type": "stream",
     "text": [
      "epoch  193: 100%|██████████| 35/35 [00:00<00:00, 134.35it/s, loss=6.3476963]\n"
     ]
    },
    {
     "name": "stdout",
     "output_type": "stream",
     "text": [
      "\n",
      "\n",
      "###################### Start to Train NN model ##########################\n"
     ]
    },
    {
     "name": "stderr",
     "output_type": "stream",
     "text": [
      "epoch  194: 100%|██████████| 35/35 [00:00<00:00, 142.64it/s, loss=6.5180397]\n"
     ]
    },
    {
     "name": "stdout",
     "output_type": "stream",
     "text": [
      "\n",
      "\n",
      "###################### Start to Train NN model ##########################\n"
     ]
    },
    {
     "name": "stderr",
     "output_type": "stream",
     "text": [
      "epoch  195: 100%|██████████| 35/35 [00:00<00:00, 157.67it/s, loss=6.4964128]\n"
     ]
    },
    {
     "name": "stdout",
     "output_type": "stream",
     "text": [
      "The trained model has been saved!\n",
      "\n",
      "\n",
      "###################### Start to Train NN model ##########################\n"
     ]
    },
    {
     "name": "stderr",
     "output_type": "stream",
     "text": [
      "epoch  196: 100%|██████████| 35/35 [00:00<00:00, 156.27it/s, loss=7.0186915]\n"
     ]
    },
    {
     "name": "stdout",
     "output_type": "stream",
     "text": [
      "\n",
      "\n",
      "###################### Start to Train NN model ##########################\n"
     ]
    },
    {
     "name": "stderr",
     "output_type": "stream",
     "text": [
      "epoch  197: 100%|██████████| 35/35 [00:00<00:00, 138.58it/s, loss=6.216085] \n"
     ]
    },
    {
     "name": "stdout",
     "output_type": "stream",
     "text": [
      "\n",
      "\n",
      "###################### Start to Train NN model ##########################\n"
     ]
    },
    {
     "name": "stderr",
     "output_type": "stream",
     "text": [
      "epoch  198: 100%|██████████| 35/35 [00:00<00:00, 126.90it/s, loss=8.30219]  \n"
     ]
    },
    {
     "name": "stdout",
     "output_type": "stream",
     "text": [
      "\n",
      "\n",
      "###################### Start to Train NN model ##########################\n"
     ]
    },
    {
     "name": "stderr",
     "output_type": "stream",
     "text": [
      "epoch  199: 100%|██████████| 35/35 [00:00<00:00, 129.41it/s, loss=7.04805]  \n"
     ]
    },
    {
     "name": "stdout",
     "output_type": "stream",
     "text": [
      "\n",
      "\n",
      "###################### Start to Train NN model ##########################\n"
     ]
    },
    {
     "name": "stderr",
     "output_type": "stream",
     "text": [
      "epoch  200: 100%|██████████| 35/35 [00:00<00:00, 129.55it/s, loss=5.3224397]\n"
     ]
    },
    {
     "name": "stdout",
     "output_type": "stream",
     "text": [
      "\n",
      "\n",
      "###################### Start to Train NN model ##########################\n"
     ]
    },
    {
     "name": "stderr",
     "output_type": "stream",
     "text": [
      "epoch  201: 100%|██████████| 35/35 [00:00<00:00, 140.34it/s, loss=7.2588534]\n"
     ]
    },
    {
     "name": "stdout",
     "output_type": "stream",
     "text": [
      "\n",
      "\n",
      "###################### Start to Train NN model ##########################\n"
     ]
    },
    {
     "name": "stderr",
     "output_type": "stream",
     "text": [
      "epoch  202: 100%|██████████| 35/35 [00:00<00:00, 158.14it/s, loss=7.8967986]\n"
     ]
    },
    {
     "name": "stdout",
     "output_type": "stream",
     "text": [
      "\n",
      "\n",
      "###################### Start to Train NN model ##########################\n"
     ]
    },
    {
     "name": "stderr",
     "output_type": "stream",
     "text": [
      "epoch  203: 100%|██████████| 35/35 [00:00<00:00, 145.93it/s, loss=8.109691] \n"
     ]
    },
    {
     "name": "stdout",
     "output_type": "stream",
     "text": [
      "\n",
      "\n",
      "###################### Start to Train NN model ##########################\n"
     ]
    },
    {
     "name": "stderr",
     "output_type": "stream",
     "text": [
      "epoch  204: 100%|██████████| 35/35 [00:00<00:00, 161.37it/s, loss=6.76465]  \n"
     ]
    },
    {
     "name": "stdout",
     "output_type": "stream",
     "text": [
      "\n",
      "\n",
      "###################### Start to Train NN model ##########################\n"
     ]
    },
    {
     "name": "stderr",
     "output_type": "stream",
     "text": [
      "epoch  205: 100%|██████████| 35/35 [00:00<00:00, 143.49it/s, loss=6.753498] \n"
     ]
    },
    {
     "name": "stdout",
     "output_type": "stream",
     "text": [
      "\n",
      "\n",
      "###################### Start to Train NN model ##########################\n"
     ]
    },
    {
     "name": "stderr",
     "output_type": "stream",
     "text": [
      "epoch  206: 100%|██████████| 35/35 [00:00<00:00, 142.91it/s, loss=5.631932] \n"
     ]
    },
    {
     "name": "stdout",
     "output_type": "stream",
     "text": [
      "\n",
      "\n",
      "###################### Start to Train NN model ##########################\n"
     ]
    },
    {
     "name": "stderr",
     "output_type": "stream",
     "text": [
      "epoch  207: 100%|██████████| 35/35 [00:00<00:00, 130.81it/s, loss=7.11276]  \n"
     ]
    },
    {
     "name": "stdout",
     "output_type": "stream",
     "text": [
      "\n",
      "\n",
      "###################### Start to Train NN model ##########################\n"
     ]
    },
    {
     "name": "stderr",
     "output_type": "stream",
     "text": [
      "epoch  208: 100%|██████████| 35/35 [00:00<00:00, 144.86it/s, loss=6.2400093]\n"
     ]
    },
    {
     "name": "stdout",
     "output_type": "stream",
     "text": [
      "\n",
      "\n",
      "###################### Start to Train NN model ##########################\n"
     ]
    },
    {
     "name": "stderr",
     "output_type": "stream",
     "text": [
      "epoch  209: 100%|██████████| 35/35 [00:00<00:00, 152.78it/s, loss=7.393444] \n"
     ]
    },
    {
     "name": "stdout",
     "output_type": "stream",
     "text": [
      "\n",
      "\n",
      "###################### Start to Train NN model ##########################\n"
     ]
    },
    {
     "name": "stderr",
     "output_type": "stream",
     "text": [
      "epoch  210: 100%|██████████| 35/35 [00:00<00:00, 133.15it/s, loss=6.2300243]\n"
     ]
    },
    {
     "name": "stdout",
     "output_type": "stream",
     "text": [
      "\n",
      "\n",
      "###################### Start to Train NN model ##########################\n"
     ]
    },
    {
     "name": "stderr",
     "output_type": "stream",
     "text": [
      "epoch  211: 100%|██████████| 35/35 [00:00<00:00, 132.59it/s, loss=6.1741796]\n"
     ]
    },
    {
     "name": "stdout",
     "output_type": "stream",
     "text": [
      "\n",
      "\n",
      "###################### Start to Train NN model ##########################\n"
     ]
    },
    {
     "name": "stderr",
     "output_type": "stream",
     "text": [
      "epoch  212: 100%|██████████| 35/35 [00:00<00:00, 137.84it/s, loss=8.318293] \n"
     ]
    },
    {
     "name": "stdout",
     "output_type": "stream",
     "text": [
      "\n",
      "\n",
      "###################### Start to Train NN model ##########################\n"
     ]
    },
    {
     "name": "stderr",
     "output_type": "stream",
     "text": [
      "epoch  213: 100%|██████████| 35/35 [00:00<00:00, 137.67it/s, loss=6.5584955]\n"
     ]
    },
    {
     "name": "stdout",
     "output_type": "stream",
     "text": [
      "\n",
      "\n",
      "###################### Start to Train NN model ##########################\n"
     ]
    },
    {
     "name": "stderr",
     "output_type": "stream",
     "text": [
      "epoch  214: 100%|██████████| 35/35 [00:00<00:00, 148.38it/s, loss=6.1400537]\n"
     ]
    },
    {
     "name": "stdout",
     "output_type": "stream",
     "text": [
      "\n",
      "\n",
      "###################### Start to Train NN model ##########################\n"
     ]
    },
    {
     "name": "stderr",
     "output_type": "stream",
     "text": [
      "epoch  215: 100%|██████████| 35/35 [00:00<00:00, 149.47it/s, loss=6.5977]   \n"
     ]
    },
    {
     "name": "stdout",
     "output_type": "stream",
     "text": [
      "\n",
      "\n",
      "###################### Start to Train NN model ##########################\n"
     ]
    },
    {
     "name": "stderr",
     "output_type": "stream",
     "text": [
      "epoch  216: 100%|██████████| 35/35 [00:00<00:00, 143.70it/s, loss=7.013519] \n"
     ]
    },
    {
     "name": "stdout",
     "output_type": "stream",
     "text": [
      "\n",
      "\n",
      "###################### Start to Train NN model ##########################\n"
     ]
    },
    {
     "name": "stderr",
     "output_type": "stream",
     "text": [
      "epoch  217: 100%|██████████| 35/35 [00:00<00:00, 147.90it/s, loss=8.386522] \n"
     ]
    },
    {
     "name": "stdout",
     "output_type": "stream",
     "text": [
      "\n",
      "\n",
      "###################### Start to Train NN model ##########################\n"
     ]
    },
    {
     "name": "stderr",
     "output_type": "stream",
     "text": [
      "epoch  218: 100%|██████████| 35/35 [00:00<00:00, 155.32it/s, loss=7.1676254]\n"
     ]
    },
    {
     "name": "stdout",
     "output_type": "stream",
     "text": [
      "\n",
      "\n",
      "###################### Start to Train NN model ##########################\n"
     ]
    },
    {
     "name": "stderr",
     "output_type": "stream",
     "text": [
      "epoch  219: 100%|██████████| 35/35 [00:00<00:00, 131.18it/s, loss=6.83085]  \n"
     ]
    },
    {
     "name": "stdout",
     "output_type": "stream",
     "text": [
      "\n",
      "\n",
      "###################### Start to Train NN model ##########################\n"
     ]
    },
    {
     "name": "stderr",
     "output_type": "stream",
     "text": [
      "epoch  220: 100%|██████████| 35/35 [00:00<00:00, 137.24it/s, loss=5.2675543]\n"
     ]
    },
    {
     "name": "stdout",
     "output_type": "stream",
     "text": [
      "\n",
      "\n",
      "###################### Start to Train NN model ##########################\n"
     ]
    },
    {
     "name": "stderr",
     "output_type": "stream",
     "text": [
      "epoch  221: 100%|██████████| 35/35 [00:00<00:00, 147.31it/s, loss=6.746241] \n"
     ]
    },
    {
     "name": "stdout",
     "output_type": "stream",
     "text": [
      "\n",
      "\n",
      "###################### Start to Train NN model ##########################\n"
     ]
    },
    {
     "name": "stderr",
     "output_type": "stream",
     "text": [
      "epoch  222: 100%|██████████| 35/35 [00:00<00:00, 142.62it/s, loss=6.473834] \n"
     ]
    },
    {
     "name": "stdout",
     "output_type": "stream",
     "text": [
      "\n",
      "\n",
      "###################### Start to Train NN model ##########################\n"
     ]
    },
    {
     "name": "stderr",
     "output_type": "stream",
     "text": [
      "epoch  223: 100%|██████████| 35/35 [00:00<00:00, 155.73it/s, loss=6.7082257]\n"
     ]
    },
    {
     "name": "stdout",
     "output_type": "stream",
     "text": [
      "\n",
      "\n",
      "###################### Start to Train NN model ##########################\n"
     ]
    },
    {
     "name": "stderr",
     "output_type": "stream",
     "text": [
      "epoch  224: 100%|██████████| 35/35 [00:00<00:00, 138.96it/s, loss=6.2413135]\n"
     ]
    },
    {
     "name": "stdout",
     "output_type": "stream",
     "text": [
      "\n",
      "\n",
      "###################### Start to Train NN model ##########################\n"
     ]
    },
    {
     "name": "stderr",
     "output_type": "stream",
     "text": [
      "epoch  225: 100%|██████████| 35/35 [00:00<00:00, 156.69it/s, loss=5.6983833]\n"
     ]
    },
    {
     "name": "stdout",
     "output_type": "stream",
     "text": [
      "\n",
      "\n",
      "###################### Start to Train NN model ##########################\n"
     ]
    },
    {
     "name": "stderr",
     "output_type": "stream",
     "text": [
      "epoch  226: 100%|██████████| 35/35 [00:00<00:00, 153.63it/s, loss=6.0586343]\n"
     ]
    },
    {
     "name": "stdout",
     "output_type": "stream",
     "text": [
      "The trained model has been saved!\n",
      "\n",
      "\n",
      "###################### Start to Train NN model ##########################\n"
     ]
    },
    {
     "name": "stderr",
     "output_type": "stream",
     "text": [
      "epoch  227: 100%|██████████| 35/35 [00:00<00:00, 149.29it/s, loss=8.342351] \n"
     ]
    },
    {
     "name": "stdout",
     "output_type": "stream",
     "text": [
      "\n",
      "\n",
      "###################### Start to Train NN model ##########################\n"
     ]
    },
    {
     "name": "stderr",
     "output_type": "stream",
     "text": [
      "epoch  228: 100%|██████████| 35/35 [00:00<00:00, 150.13it/s, loss=7.259332] \n"
     ]
    },
    {
     "name": "stdout",
     "output_type": "stream",
     "text": [
      "\n",
      "\n",
      "###################### Start to Train NN model ##########################\n"
     ]
    },
    {
     "name": "stderr",
     "output_type": "stream",
     "text": [
      "epoch  229: 100%|██████████| 35/35 [00:00<00:00, 133.19it/s, loss=6.4825587]\n"
     ]
    },
    {
     "name": "stdout",
     "output_type": "stream",
     "text": [
      "The trained model has been saved!\n",
      "\n",
      "\n",
      "###################### Start to Train NN model ##########################\n"
     ]
    },
    {
     "name": "stderr",
     "output_type": "stream",
     "text": [
      "epoch  230: 100%|██████████| 35/35 [00:00<00:00, 131.07it/s, loss=6.945248] \n"
     ]
    },
    {
     "name": "stdout",
     "output_type": "stream",
     "text": [
      "\n",
      "\n",
      "###################### Start to Train NN model ##########################\n"
     ]
    },
    {
     "name": "stderr",
     "output_type": "stream",
     "text": [
      "epoch  231: 100%|██████████| 35/35 [00:00<00:00, 148.26it/s, loss=7.334403] \n"
     ]
    },
    {
     "name": "stdout",
     "output_type": "stream",
     "text": [
      "\n",
      "\n",
      "###################### Start to Train NN model ##########################\n"
     ]
    },
    {
     "name": "stderr",
     "output_type": "stream",
     "text": [
      "epoch  232: 100%|██████████| 35/35 [00:00<00:00, 157.62it/s, loss=6.590742] \n"
     ]
    },
    {
     "name": "stdout",
     "output_type": "stream",
     "text": [
      "\n",
      "\n",
      "###################### Start to Train NN model ##########################\n"
     ]
    },
    {
     "name": "stderr",
     "output_type": "stream",
     "text": [
      "epoch  233: 100%|██████████| 35/35 [00:00<00:00, 159.32it/s, loss=6.578809] \n"
     ]
    },
    {
     "name": "stdout",
     "output_type": "stream",
     "text": [
      "\n",
      "\n",
      "###################### Start to Train NN model ##########################\n"
     ]
    },
    {
     "name": "stderr",
     "output_type": "stream",
     "text": [
      "epoch  234: 100%|██████████| 35/35 [00:00<00:00, 145.00it/s, loss=6.3293395]\n"
     ]
    },
    {
     "name": "stdout",
     "output_type": "stream",
     "text": [
      "\n",
      "\n",
      "###################### Start to Train NN model ##########################\n"
     ]
    },
    {
     "name": "stderr",
     "output_type": "stream",
     "text": [
      "epoch  235: 100%|██████████| 35/35 [00:00<00:00, 139.93it/s, loss=6.8081117]\n"
     ]
    },
    {
     "name": "stdout",
     "output_type": "stream",
     "text": [
      "The trained model has been saved!\n",
      "\n",
      "\n",
      "###################### Start to Train NN model ##########################\n"
     ]
    },
    {
     "name": "stderr",
     "output_type": "stream",
     "text": [
      "epoch  236: 100%|██████████| 35/35 [00:00<00:00, 141.07it/s, loss=5.287445] \n"
     ]
    },
    {
     "name": "stdout",
     "output_type": "stream",
     "text": [
      "\n",
      "\n",
      "###################### Start to Train NN model ##########################\n"
     ]
    },
    {
     "name": "stderr",
     "output_type": "stream",
     "text": [
      "epoch  237: 100%|██████████| 35/35 [00:00<00:00, 139.26it/s, loss=6.113209] \n"
     ]
    },
    {
     "name": "stdout",
     "output_type": "stream",
     "text": [
      "\n",
      "\n",
      "###################### Start to Train NN model ##########################\n"
     ]
    },
    {
     "name": "stderr",
     "output_type": "stream",
     "text": [
      "epoch  238: 100%|██████████| 35/35 [00:00<00:00, 146.57it/s, loss=6.6251774]\n"
     ]
    },
    {
     "name": "stdout",
     "output_type": "stream",
     "text": [
      "\n",
      "\n",
      "###################### Start to Train NN model ##########################\n"
     ]
    },
    {
     "name": "stderr",
     "output_type": "stream",
     "text": [
      "epoch  239: 100%|██████████| 35/35 [00:00<00:00, 95.41it/s, loss=5.803836] \n"
     ]
    },
    {
     "name": "stdout",
     "output_type": "stream",
     "text": [
      "\n",
      "\n",
      "###################### Start to Train NN model ##########################\n"
     ]
    },
    {
     "name": "stderr",
     "output_type": "stream",
     "text": [
      "epoch  240: 100%|██████████| 35/35 [00:00<00:00, 142.47it/s, loss=6.067643] \n"
     ]
    },
    {
     "name": "stdout",
     "output_type": "stream",
     "text": [
      "The trained model has been saved!\n",
      "\n",
      "\n",
      "###################### Start to Train NN model ##########################\n"
     ]
    },
    {
     "name": "stderr",
     "output_type": "stream",
     "text": [
      "epoch  241: 100%|██████████| 35/35 [00:00<00:00, 121.16it/s, loss=7.7298107]\n"
     ]
    },
    {
     "name": "stdout",
     "output_type": "stream",
     "text": [
      "\n",
      "\n",
      "###################### Start to Train NN model ##########################\n"
     ]
    },
    {
     "name": "stderr",
     "output_type": "stream",
     "text": [
      "epoch  242: 100%|██████████| 35/35 [00:00<00:00, 128.81it/s, loss=5.7988987]\n"
     ]
    },
    {
     "name": "stdout",
     "output_type": "stream",
     "text": [
      "\n",
      "\n",
      "###################### Start to Train NN model ##########################\n"
     ]
    },
    {
     "name": "stderr",
     "output_type": "stream",
     "text": [
      "epoch  243: 100%|██████████| 35/35 [00:00<00:00, 129.00it/s, loss=5.549687] \n"
     ]
    },
    {
     "name": "stdout",
     "output_type": "stream",
     "text": [
      "\n",
      "\n",
      "###################### Start to Train NN model ##########################\n"
     ]
    },
    {
     "name": "stderr",
     "output_type": "stream",
     "text": [
      "epoch  244: 100%|██████████| 35/35 [00:00<00:00, 126.24it/s, loss=7.22467]  \n"
     ]
    },
    {
     "name": "stdout",
     "output_type": "stream",
     "text": [
      "The trained model has been saved!\n",
      "\n",
      "\n",
      "###################### Start to Train NN model ##########################\n"
     ]
    },
    {
     "name": "stderr",
     "output_type": "stream",
     "text": [
      "epoch  245: 100%|██████████| 35/35 [00:00<00:00, 149.73it/s, loss=6.545602] \n"
     ]
    },
    {
     "name": "stdout",
     "output_type": "stream",
     "text": [
      "\n",
      "\n",
      "###################### Start to Train NN model ##########################\n"
     ]
    },
    {
     "name": "stderr",
     "output_type": "stream",
     "text": [
      "epoch  246: 100%|██████████| 35/35 [00:00<00:00, 135.60it/s, loss=6.446148] \n"
     ]
    },
    {
     "name": "stdout",
     "output_type": "stream",
     "text": [
      "\n",
      "\n",
      "###################### Start to Train NN model ##########################\n"
     ]
    },
    {
     "name": "stderr",
     "output_type": "stream",
     "text": [
      "epoch  247: 100%|██████████| 35/35 [00:00<00:00, 139.84it/s, loss=6.2962475]\n"
     ]
    },
    {
     "name": "stdout",
     "output_type": "stream",
     "text": [
      "\n",
      "\n",
      "###################### Start to Train NN model ##########################\n"
     ]
    },
    {
     "name": "stderr",
     "output_type": "stream",
     "text": [
      "epoch  248: 100%|██████████| 35/35 [00:00<00:00, 134.32it/s, loss=7.665404] \n"
     ]
    },
    {
     "name": "stdout",
     "output_type": "stream",
     "text": [
      "\n",
      "\n",
      "###################### Start to Train NN model ##########################\n"
     ]
    },
    {
     "name": "stderr",
     "output_type": "stream",
     "text": [
      "epoch  249: 100%|██████████| 35/35 [00:00<00:00, 155.38it/s, loss=6.2008176]\n"
     ]
    },
    {
     "name": "stdout",
     "output_type": "stream",
     "text": [
      "The trained model has been saved!\n",
      "\n",
      "\n",
      "###################### Start to Train NN model ##########################\n"
     ]
    },
    {
     "name": "stderr",
     "output_type": "stream",
     "text": [
      "epoch  250: 100%|██████████| 35/35 [00:00<00:00, 160.76it/s, loss=6.620646] \n"
     ]
    },
    {
     "name": "stdout",
     "output_type": "stream",
     "text": [
      "\n",
      "\n",
      "###################### Start to Train NN model ##########################\n"
     ]
    },
    {
     "name": "stderr",
     "output_type": "stream",
     "text": [
      "epoch  251: 100%|██████████| 35/35 [00:00<00:00, 136.88it/s, loss=5.7082424]\n"
     ]
    },
    {
     "name": "stdout",
     "output_type": "stream",
     "text": [
      "\n",
      "\n",
      "###################### Start to Train NN model ##########################\n"
     ]
    },
    {
     "name": "stderr",
     "output_type": "stream",
     "text": [
      "epoch  252: 100%|██████████| 35/35 [00:00<00:00, 152.13it/s, loss=6.3502607]\n"
     ]
    },
    {
     "name": "stdout",
     "output_type": "stream",
     "text": [
      "\n",
      "\n",
      "###################### Start to Train NN model ##########################\n"
     ]
    },
    {
     "name": "stderr",
     "output_type": "stream",
     "text": [
      "epoch  253: 100%|██████████| 35/35 [00:00<00:00, 86.43it/s, loss=6.6117997] \n"
     ]
    },
    {
     "name": "stdout",
     "output_type": "stream",
     "text": [
      "\n",
      "\n",
      "###################### Start to Train NN model ##########################\n"
     ]
    },
    {
     "name": "stderr",
     "output_type": "stream",
     "text": [
      "epoch  254: 100%|██████████| 35/35 [00:00<00:00, 148.93it/s, loss=6.46545]  \n"
     ]
    },
    {
     "name": "stdout",
     "output_type": "stream",
     "text": [
      "\n",
      "\n",
      "###################### Start to Train NN model ##########################\n"
     ]
    },
    {
     "name": "stderr",
     "output_type": "stream",
     "text": [
      "epoch  255: 100%|██████████| 35/35 [00:00<00:00, 128.85it/s, loss=5.6139183]\n"
     ]
    },
    {
     "name": "stdout",
     "output_type": "stream",
     "text": [
      "The trained model has been saved!\n",
      "\n",
      "\n",
      "###################### Start to Train NN model ##########################\n"
     ]
    },
    {
     "name": "stderr",
     "output_type": "stream",
     "text": [
      "epoch  256: 100%|██████████| 35/35 [00:00<00:00, 146.65it/s, loss=6.125149] \n"
     ]
    },
    {
     "name": "stdout",
     "output_type": "stream",
     "text": [
      "\n",
      "\n",
      "###################### Start to Train NN model ##########################\n"
     ]
    },
    {
     "name": "stderr",
     "output_type": "stream",
     "text": [
      "epoch  257: 100%|██████████| 35/35 [00:00<00:00, 139.07it/s, loss=6.3498554]\n"
     ]
    },
    {
     "name": "stdout",
     "output_type": "stream",
     "text": [
      "\n",
      "\n",
      "###################### Start to Train NN model ##########################\n"
     ]
    },
    {
     "name": "stderr",
     "output_type": "stream",
     "text": [
      "epoch  258: 100%|██████████| 35/35 [00:00<00:00, 146.40it/s, loss=7.0803137]\n"
     ]
    },
    {
     "name": "stdout",
     "output_type": "stream",
     "text": [
      "The trained model has been saved!\n",
      "\n",
      "\n",
      "###################### Start to Train NN model ##########################\n"
     ]
    },
    {
     "name": "stderr",
     "output_type": "stream",
     "text": [
      "epoch  259: 100%|██████████| 35/35 [00:00<00:00, 142.57it/s, loss=6.806927] \n"
     ]
    },
    {
     "name": "stdout",
     "output_type": "stream",
     "text": [
      "\n",
      "\n",
      "###################### Start to Train NN model ##########################\n"
     ]
    },
    {
     "name": "stderr",
     "output_type": "stream",
     "text": [
      "epoch  260: 100%|██████████| 35/35 [00:00<00:00, 126.51it/s, loss=6.9354606]\n"
     ]
    },
    {
     "name": "stdout",
     "output_type": "stream",
     "text": [
      "\n",
      "\n",
      "###################### Start to Train NN model ##########################\n"
     ]
    },
    {
     "name": "stderr",
     "output_type": "stream",
     "text": [
      "epoch  261: 100%|██████████| 35/35 [00:00<00:00, 113.95it/s, loss=5.9836903]\n"
     ]
    },
    {
     "name": "stdout",
     "output_type": "stream",
     "text": [
      "\n",
      "\n",
      "###################### Start to Train NN model ##########################\n"
     ]
    },
    {
     "name": "stderr",
     "output_type": "stream",
     "text": [
      "epoch  262: 100%|██████████| 35/35 [00:00<00:00, 159.29it/s, loss=7.8875284]\n"
     ]
    },
    {
     "name": "stdout",
     "output_type": "stream",
     "text": [
      "\n",
      "\n",
      "###################### Start to Train NN model ##########################\n"
     ]
    },
    {
     "name": "stderr",
     "output_type": "stream",
     "text": [
      "epoch  263: 100%|██████████| 35/35 [00:00<00:00, 108.55it/s, loss=5.6035256]\n"
     ]
    },
    {
     "name": "stdout",
     "output_type": "stream",
     "text": [
      "\n",
      "\n",
      "###################### Start to Train NN model ##########################\n"
     ]
    },
    {
     "name": "stderr",
     "output_type": "stream",
     "text": [
      "epoch  264: 100%|██████████| 35/35 [00:00<00:00, 133.37it/s, loss=6.342315] \n"
     ]
    },
    {
     "name": "stdout",
     "output_type": "stream",
     "text": [
      "\n",
      "\n",
      "###################### Start to Train NN model ##########################\n"
     ]
    },
    {
     "name": "stderr",
     "output_type": "stream",
     "text": [
      "epoch  265: 100%|██████████| 35/35 [00:00<00:00, 150.53it/s, loss=5.7027016]\n"
     ]
    },
    {
     "name": "stdout",
     "output_type": "stream",
     "text": [
      "\n",
      "\n",
      "###################### Start to Train NN model ##########################\n"
     ]
    },
    {
     "name": "stderr",
     "output_type": "stream",
     "text": [
      "epoch  266: 100%|██████████| 35/35 [00:00<00:00, 142.10it/s, loss=5.6872077]\n"
     ]
    },
    {
     "name": "stdout",
     "output_type": "stream",
     "text": [
      "\n",
      "\n",
      "###################### Start to Train NN model ##########################\n"
     ]
    },
    {
     "name": "stderr",
     "output_type": "stream",
     "text": [
      "epoch  267: 100%|██████████| 35/35 [00:00<00:00, 129.81it/s, loss=5.7028623]\n"
     ]
    },
    {
     "name": "stdout",
     "output_type": "stream",
     "text": [
      "\n",
      "\n",
      "###################### Start to Train NN model ##########################\n"
     ]
    },
    {
     "name": "stderr",
     "output_type": "stream",
     "text": [
      "epoch  268: 100%|██████████| 35/35 [00:00<00:00, 92.50it/s, loss=6.011845] \n"
     ]
    },
    {
     "name": "stdout",
     "output_type": "stream",
     "text": [
      "\n",
      "\n",
      "###################### Start to Train NN model ##########################\n"
     ]
    },
    {
     "name": "stderr",
     "output_type": "stream",
     "text": [
      "epoch  269: 100%|██████████| 35/35 [00:00<00:00, 134.62it/s, loss=6.1746073]\n"
     ]
    },
    {
     "name": "stdout",
     "output_type": "stream",
     "text": [
      "\n",
      "\n",
      "###################### Start to Train NN model ##########################\n"
     ]
    },
    {
     "name": "stderr",
     "output_type": "stream",
     "text": [
      "epoch  270: 100%|██████████| 35/35 [00:00<00:00, 145.13it/s, loss=6.227852] \n"
     ]
    },
    {
     "name": "stdout",
     "output_type": "stream",
     "text": [
      "The trained model has been saved!\n",
      "\n",
      "\n",
      "###################### Start to Train NN model ##########################\n"
     ]
    },
    {
     "name": "stderr",
     "output_type": "stream",
     "text": [
      "epoch  271: 100%|██████████| 35/35 [00:00<00:00, 148.69it/s, loss=5.8630967]\n"
     ]
    },
    {
     "name": "stdout",
     "output_type": "stream",
     "text": [
      "\n",
      "\n",
      "###################### Start to Train NN model ##########################\n"
     ]
    },
    {
     "name": "stderr",
     "output_type": "stream",
     "text": [
      "epoch  272: 100%|██████████| 35/35 [00:00<00:00, 155.53it/s, loss=7.747435] \n"
     ]
    },
    {
     "name": "stdout",
     "output_type": "stream",
     "text": [
      "\n",
      "\n",
      "###################### Start to Train NN model ##########################\n"
     ]
    },
    {
     "name": "stderr",
     "output_type": "stream",
     "text": [
      "epoch  273: 100%|██████████| 35/35 [00:00<00:00, 137.47it/s, loss=5.6992135]\n"
     ]
    },
    {
     "name": "stdout",
     "output_type": "stream",
     "text": [
      "\n",
      "\n",
      "###################### Start to Train NN model ##########################\n"
     ]
    },
    {
     "name": "stderr",
     "output_type": "stream",
     "text": [
      "epoch  274: 100%|██████████| 35/35 [00:00<00:00, 126.78it/s, loss=6.5359797]\n"
     ]
    },
    {
     "name": "stdout",
     "output_type": "stream",
     "text": [
      "\n",
      "\n",
      "###################### Start to Train NN model ##########################\n"
     ]
    },
    {
     "name": "stderr",
     "output_type": "stream",
     "text": [
      "epoch  275: 100%|██████████| 35/35 [00:00<00:00, 131.97it/s, loss=5.972444] \n"
     ]
    },
    {
     "name": "stdout",
     "output_type": "stream",
     "text": [
      "\n",
      "\n",
      "###################### Start to Train NN model ##########################\n"
     ]
    },
    {
     "name": "stderr",
     "output_type": "stream",
     "text": [
      "epoch  276: 100%|██████████| 35/35 [00:00<00:00, 142.05it/s, loss=5.747186] \n"
     ]
    },
    {
     "name": "stdout",
     "output_type": "stream",
     "text": [
      "\n",
      "\n",
      "###################### Start to Train NN model ##########################\n"
     ]
    },
    {
     "name": "stderr",
     "output_type": "stream",
     "text": [
      "epoch  277: 100%|██████████| 35/35 [00:00<00:00, 155.13it/s, loss=5.9893847]\n"
     ]
    },
    {
     "name": "stdout",
     "output_type": "stream",
     "text": [
      "\n",
      "\n",
      "###################### Start to Train NN model ##########################\n"
     ]
    },
    {
     "name": "stderr",
     "output_type": "stream",
     "text": [
      "epoch  278: 100%|██████████| 35/35 [00:00<00:00, 125.28it/s, loss=6.5630155]\n"
     ]
    },
    {
     "name": "stdout",
     "output_type": "stream",
     "text": [
      "\n",
      "\n",
      "###################### Start to Train NN model ##########################\n"
     ]
    },
    {
     "name": "stderr",
     "output_type": "stream",
     "text": [
      "epoch  279: 100%|██████████| 35/35 [00:00<00:00, 144.62it/s, loss=7.3477483]\n"
     ]
    },
    {
     "name": "stdout",
     "output_type": "stream",
     "text": [
      "\n",
      "\n",
      "###################### Start to Train NN model ##########################\n"
     ]
    },
    {
     "name": "stderr",
     "output_type": "stream",
     "text": [
      "epoch  280: 100%|██████████| 35/35 [00:00<00:00, 152.09it/s, loss=6.529956] \n"
     ]
    },
    {
     "name": "stdout",
     "output_type": "stream",
     "text": [
      "\n",
      "\n",
      "###################### Start to Train NN model ##########################\n"
     ]
    },
    {
     "name": "stderr",
     "output_type": "stream",
     "text": [
      "epoch  281: 100%|██████████| 35/35 [00:00<00:00, 129.72it/s, loss=5.4683433]\n"
     ]
    },
    {
     "name": "stdout",
     "output_type": "stream",
     "text": [
      "\n",
      "\n",
      "###################### Start to Train NN model ##########################\n"
     ]
    },
    {
     "name": "stderr",
     "output_type": "stream",
     "text": [
      "epoch  282: 100%|██████████| 35/35 [00:00<00:00, 147.77it/s, loss=5.735566] \n"
     ]
    },
    {
     "name": "stdout",
     "output_type": "stream",
     "text": [
      "\n",
      "\n",
      "###################### Start to Train NN model ##########################\n"
     ]
    },
    {
     "name": "stderr",
     "output_type": "stream",
     "text": [
      "epoch  283: 100%|██████████| 35/35 [00:00<00:00, 136.86it/s, loss=5.876289] \n"
     ]
    },
    {
     "name": "stdout",
     "output_type": "stream",
     "text": [
      "\n",
      "\n",
      "###################### Start to Train NN model ##########################\n"
     ]
    },
    {
     "name": "stderr",
     "output_type": "stream",
     "text": [
      "epoch  284: 100%|██████████| 35/35 [00:00<00:00, 132.64it/s, loss=7.463406] \n"
     ]
    },
    {
     "name": "stdout",
     "output_type": "stream",
     "text": [
      "\n",
      "\n",
      "###################### Start to Train NN model ##########################\n"
     ]
    },
    {
     "name": "stderr",
     "output_type": "stream",
     "text": [
      "epoch  285: 100%|██████████| 35/35 [00:00<00:00, 159.20it/s, loss=6.3334665]\n"
     ]
    },
    {
     "name": "stdout",
     "output_type": "stream",
     "text": [
      "\n",
      "\n",
      "###################### Start to Train NN model ##########################\n"
     ]
    },
    {
     "name": "stderr",
     "output_type": "stream",
     "text": [
      "epoch  286: 100%|██████████| 35/35 [00:00<00:00, 127.97it/s, loss=5.986935] \n"
     ]
    },
    {
     "name": "stdout",
     "output_type": "stream",
     "text": [
      "\n",
      "\n",
      "###################### Start to Train NN model ##########################\n"
     ]
    },
    {
     "name": "stderr",
     "output_type": "stream",
     "text": [
      "epoch  287: 100%|██████████| 35/35 [00:00<00:00, 158.24it/s, loss=6.601125] \n"
     ]
    },
    {
     "name": "stdout",
     "output_type": "stream",
     "text": [
      "\n",
      "\n",
      "###################### Start to Train NN model ##########################\n"
     ]
    },
    {
     "name": "stderr",
     "output_type": "stream",
     "text": [
      "epoch  288: 100%|██████████| 35/35 [00:00<00:00, 160.45it/s, loss=6.0141516]\n"
     ]
    },
    {
     "name": "stdout",
     "output_type": "stream",
     "text": [
      "\n",
      "\n",
      "###################### Start to Train NN model ##########################\n"
     ]
    },
    {
     "name": "stderr",
     "output_type": "stream",
     "text": [
      "epoch  289: 100%|██████████| 35/35 [00:00<00:00, 161.05it/s, loss=6.599568] \n"
     ]
    },
    {
     "name": "stdout",
     "output_type": "stream",
     "text": [
      "\n",
      "\n",
      "###################### Start to Train NN model ##########################\n"
     ]
    },
    {
     "name": "stderr",
     "output_type": "stream",
     "text": [
      "epoch  290: 100%|██████████| 35/35 [00:00<00:00, 154.54it/s, loss=5.8385067]\n"
     ]
    },
    {
     "name": "stdout",
     "output_type": "stream",
     "text": [
      "\n",
      "\n",
      "###################### Start to Train NN model ##########################\n"
     ]
    },
    {
     "name": "stderr",
     "output_type": "stream",
     "text": [
      "epoch  291: 100%|██████████| 35/35 [00:00<00:00, 144.20it/s, loss=7.085094] \n"
     ]
    },
    {
     "name": "stdout",
     "output_type": "stream",
     "text": [
      "\n",
      "\n",
      "###################### Start to Train NN model ##########################\n"
     ]
    },
    {
     "name": "stderr",
     "output_type": "stream",
     "text": [
      "epoch  292: 100%|██████████| 35/35 [00:00<00:00, 130.94it/s, loss=5.7124834]\n"
     ]
    },
    {
     "name": "stdout",
     "output_type": "stream",
     "text": [
      "\n",
      "\n",
      "###################### Start to Train NN model ##########################\n"
     ]
    },
    {
     "name": "stderr",
     "output_type": "stream",
     "text": [
      "epoch  293: 100%|██████████| 35/35 [00:00<00:00, 153.64it/s, loss=5.823461] \n"
     ]
    },
    {
     "name": "stdout",
     "output_type": "stream",
     "text": [
      "\n",
      "\n",
      "###################### Start to Train NN model ##########################\n"
     ]
    },
    {
     "name": "stderr",
     "output_type": "stream",
     "text": [
      "epoch  294: 100%|██████████| 35/35 [00:00<00:00, 157.00it/s, loss=5.3512096]\n"
     ]
    },
    {
     "name": "stdout",
     "output_type": "stream",
     "text": [
      "\n",
      "\n",
      "###################### Start to Train NN model ##########################\n"
     ]
    },
    {
     "name": "stderr",
     "output_type": "stream",
     "text": [
      "epoch  295: 100%|██████████| 35/35 [00:00<00:00, 148.40it/s, loss=5.3524675]\n"
     ]
    },
    {
     "name": "stdout",
     "output_type": "stream",
     "text": [
      "\n",
      "\n",
      "###################### Start to Train NN model ##########################\n"
     ]
    },
    {
     "name": "stderr",
     "output_type": "stream",
     "text": [
      "epoch  296: 100%|██████████| 35/35 [00:00<00:00, 158.35it/s, loss=4.4671717]\n"
     ]
    },
    {
     "name": "stdout",
     "output_type": "stream",
     "text": [
      "\n",
      "\n",
      "###################### Start to Train NN model ##########################\n"
     ]
    },
    {
     "name": "stderr",
     "output_type": "stream",
     "text": [
      "epoch  297: 100%|██████████| 35/35 [00:00<00:00, 158.35it/s, loss=7.7987847]\n"
     ]
    },
    {
     "name": "stdout",
     "output_type": "stream",
     "text": [
      "\n",
      "\n",
      "###################### Start to Train NN model ##########################\n"
     ]
    },
    {
     "name": "stderr",
     "output_type": "stream",
     "text": [
      "epoch  298: 100%|██████████| 35/35 [00:00<00:00, 147.49it/s, loss=4.9495025]\n"
     ]
    },
    {
     "name": "stdout",
     "output_type": "stream",
     "text": [
      "\n",
      "\n",
      "###################### Start to Train NN model ##########################\n"
     ]
    },
    {
     "name": "stderr",
     "output_type": "stream",
     "text": [
      "epoch  299: 100%|██████████| 35/35 [00:00<00:00, 151.87it/s, loss=6.922901] \n"
     ]
    },
    {
     "name": "stdout",
     "output_type": "stream",
     "text": [
      "\n",
      "\n",
      "###################### Start to Train NN model ##########################\n"
     ]
    },
    {
     "name": "stderr",
     "output_type": "stream",
     "text": [
      "epoch  300: 100%|██████████| 35/35 [00:00<00:00, 152.49it/s, loss=6.695863] \n"
     ]
    },
    {
     "name": "stdout",
     "output_type": "stream",
     "text": [
      "\n",
      "\n",
      "###################### Start to Train NN model ##########################\n"
     ]
    },
    {
     "name": "stderr",
     "output_type": "stream",
     "text": [
      "epoch  301: 100%|██████████| 35/35 [00:00<00:00, 126.62it/s, loss=5.713064] \n"
     ]
    },
    {
     "name": "stdout",
     "output_type": "stream",
     "text": [
      "The trained model has been saved!\n",
      "\n",
      "\n",
      "###################### Start to Train NN model ##########################\n"
     ]
    },
    {
     "name": "stderr",
     "output_type": "stream",
     "text": [
      "epoch  302: 100%|██████████| 35/35 [00:00<00:00, 147.32it/s, loss=7.343668] \n"
     ]
    },
    {
     "name": "stdout",
     "output_type": "stream",
     "text": [
      "\n",
      "\n",
      "###################### Start to Train NN model ##########################\n"
     ]
    },
    {
     "name": "stderr",
     "output_type": "stream",
     "text": [
      "epoch  303: 100%|██████████| 35/35 [00:00<00:00, 145.10it/s, loss=6.150181] \n"
     ]
    },
    {
     "name": "stdout",
     "output_type": "stream",
     "text": [
      "\n",
      "\n",
      "###################### Start to Train NN model ##########################\n"
     ]
    },
    {
     "name": "stderr",
     "output_type": "stream",
     "text": [
      "epoch  304: 100%|██████████| 35/35 [00:00<00:00, 148.54it/s, loss=5.904015] \n"
     ]
    },
    {
     "name": "stdout",
     "output_type": "stream",
     "text": [
      "\n",
      "\n",
      "###################### Start to Train NN model ##########################\n"
     ]
    },
    {
     "name": "stderr",
     "output_type": "stream",
     "text": [
      "epoch  305: 100%|██████████| 35/35 [00:00<00:00, 157.28it/s, loss=5.4967227]\n"
     ]
    },
    {
     "name": "stdout",
     "output_type": "stream",
     "text": [
      "\n",
      "\n",
      "###################### Start to Train NN model ##########################\n"
     ]
    },
    {
     "name": "stderr",
     "output_type": "stream",
     "text": [
      "epoch  306: 100%|██████████| 35/35 [00:00<00:00, 155.89it/s, loss=5.534021] \n"
     ]
    },
    {
     "name": "stdout",
     "output_type": "stream",
     "text": [
      "\n",
      "\n",
      "###################### Start to Train NN model ##########################\n"
     ]
    },
    {
     "name": "stderr",
     "output_type": "stream",
     "text": [
      "epoch  307: 100%|██████████| 35/35 [00:00<00:00, 132.19it/s, loss=5.4117017]\n"
     ]
    },
    {
     "name": "stdout",
     "output_type": "stream",
     "text": [
      "The trained model has been saved!\n",
      "\n",
      "\n",
      "###################### Start to Train NN model ##########################\n"
     ]
    },
    {
     "name": "stderr",
     "output_type": "stream",
     "text": [
      "epoch  308: 100%|██████████| 35/35 [00:00<00:00, 128.04it/s, loss=6.740914] \n"
     ]
    },
    {
     "name": "stdout",
     "output_type": "stream",
     "text": [
      "\n",
      "\n",
      "###################### Start to Train NN model ##########################\n"
     ]
    },
    {
     "name": "stderr",
     "output_type": "stream",
     "text": [
      "epoch  309: 100%|██████████| 35/35 [00:00<00:00, 111.37it/s, loss=5.8142233]\n"
     ]
    },
    {
     "name": "stdout",
     "output_type": "stream",
     "text": [
      "\n",
      "\n",
      "###################### Start to Train NN model ##########################\n"
     ]
    },
    {
     "name": "stderr",
     "output_type": "stream",
     "text": [
      "epoch  310: 100%|██████████| 35/35 [00:00<00:00, 146.24it/s, loss=5.49061]  \n"
     ]
    },
    {
     "name": "stdout",
     "output_type": "stream",
     "text": [
      "\n",
      "\n",
      "###################### Start to Train NN model ##########################\n"
     ]
    },
    {
     "name": "stderr",
     "output_type": "stream",
     "text": [
      "epoch  311: 100%|██████████| 35/35 [00:00<00:00, 123.27it/s, loss=5.616301] \n"
     ]
    },
    {
     "name": "stdout",
     "output_type": "stream",
     "text": [
      "\n",
      "\n",
      "###################### Start to Train NN model ##########################\n"
     ]
    },
    {
     "name": "stderr",
     "output_type": "stream",
     "text": [
      "epoch  312: 100%|██████████| 35/35 [00:00<00:00, 144.93it/s, loss=5.5979505]\n"
     ]
    },
    {
     "name": "stdout",
     "output_type": "stream",
     "text": [
      "\n",
      "\n",
      "###################### Start to Train NN model ##########################\n"
     ]
    },
    {
     "name": "stderr",
     "output_type": "stream",
     "text": [
      "epoch  313: 100%|██████████| 35/35 [00:00<00:00, 128.44it/s, loss=7.5937624]\n"
     ]
    },
    {
     "name": "stdout",
     "output_type": "stream",
     "text": [
      "\n",
      "\n",
      "###################### Start to Train NN model ##########################\n"
     ]
    },
    {
     "name": "stderr",
     "output_type": "stream",
     "text": [
      "epoch  314: 100%|██████████| 35/35 [00:00<00:00, 156.44it/s, loss=5.7425056]\n"
     ]
    },
    {
     "name": "stdout",
     "output_type": "stream",
     "text": [
      "\n",
      "\n",
      "###################### Start to Train NN model ##########################\n"
     ]
    },
    {
     "name": "stderr",
     "output_type": "stream",
     "text": [
      "epoch  315: 100%|██████████| 35/35 [00:00<00:00, 132.27it/s, loss=5.2382383]\n"
     ]
    },
    {
     "name": "stdout",
     "output_type": "stream",
     "text": [
      "\n",
      "\n",
      "###################### Start to Train NN model ##########################\n"
     ]
    },
    {
     "name": "stderr",
     "output_type": "stream",
     "text": [
      "epoch  316: 100%|██████████| 35/35 [00:00<00:00, 141.36it/s, loss=6.1728415]\n"
     ]
    },
    {
     "name": "stdout",
     "output_type": "stream",
     "text": [
      "\n",
      "\n",
      "###################### Start to Train NN model ##########################\n"
     ]
    },
    {
     "name": "stderr",
     "output_type": "stream",
     "text": [
      "epoch  317: 100%|██████████| 35/35 [00:00<00:00, 158.32it/s, loss=5.53702]  \n"
     ]
    },
    {
     "name": "stdout",
     "output_type": "stream",
     "text": [
      "\n",
      "\n",
      "###################### Start to Train NN model ##########################\n"
     ]
    },
    {
     "name": "stderr",
     "output_type": "stream",
     "text": [
      "epoch  318: 100%|██████████| 35/35 [00:00<00:00, 148.55it/s, loss=5.932285] \n"
     ]
    },
    {
     "name": "stdout",
     "output_type": "stream",
     "text": [
      "\n",
      "\n",
      "###################### Start to Train NN model ##########################\n"
     ]
    },
    {
     "name": "stderr",
     "output_type": "stream",
     "text": [
      "epoch  319: 100%|██████████| 35/35 [00:00<00:00, 165.56it/s, loss=6.5015883]\n"
     ]
    },
    {
     "name": "stdout",
     "output_type": "stream",
     "text": [
      "\n",
      "\n",
      "###################### Start to Train NN model ##########################\n"
     ]
    },
    {
     "name": "stderr",
     "output_type": "stream",
     "text": [
      "epoch  320: 100%|██████████| 35/35 [00:00<00:00, 147.67it/s, loss=5.663725] \n"
     ]
    },
    {
     "name": "stdout",
     "output_type": "stream",
     "text": [
      "\n",
      "\n",
      "###################### Start to Train NN model ##########################\n"
     ]
    },
    {
     "name": "stderr",
     "output_type": "stream",
     "text": [
      "epoch  321: 100%|██████████| 35/35 [00:00<00:00, 130.96it/s, loss=5.5054054]\n"
     ]
    },
    {
     "name": "stdout",
     "output_type": "stream",
     "text": [
      "\n",
      "\n",
      "###################### Start to Train NN model ##########################\n"
     ]
    },
    {
     "name": "stderr",
     "output_type": "stream",
     "text": [
      "epoch  322: 100%|██████████| 35/35 [00:00<00:00, 131.95it/s, loss=5.796639] \n"
     ]
    },
    {
     "name": "stdout",
     "output_type": "stream",
     "text": [
      "\n",
      "\n",
      "###################### Start to Train NN model ##########################\n"
     ]
    },
    {
     "name": "stderr",
     "output_type": "stream",
     "text": [
      "epoch  323: 100%|██████████| 35/35 [00:00<00:00, 141.40it/s, loss=6.0562086]\n"
     ]
    },
    {
     "name": "stdout",
     "output_type": "stream",
     "text": [
      "\n",
      "\n",
      "###################### Start to Train NN model ##########################\n"
     ]
    },
    {
     "name": "stderr",
     "output_type": "stream",
     "text": [
      "epoch  324: 100%|██████████| 35/35 [00:00<00:00, 145.57it/s, loss=6.327237] \n"
     ]
    },
    {
     "name": "stdout",
     "output_type": "stream",
     "text": [
      "\n",
      "\n",
      "###################### Start to Train NN model ##########################\n"
     ]
    },
    {
     "name": "stderr",
     "output_type": "stream",
     "text": [
      "epoch  325: 100%|██████████| 35/35 [00:00<00:00, 128.85it/s, loss=6.664986] \n"
     ]
    },
    {
     "name": "stdout",
     "output_type": "stream",
     "text": [
      "\n",
      "\n",
      "###################### Start to Train NN model ##########################\n"
     ]
    },
    {
     "name": "stderr",
     "output_type": "stream",
     "text": [
      "epoch  326: 100%|██████████| 35/35 [00:00<00:00, 152.83it/s, loss=6.1231647]\n"
     ]
    },
    {
     "name": "stdout",
     "output_type": "stream",
     "text": [
      "\n",
      "\n",
      "###################### Start to Train NN model ##########################\n"
     ]
    },
    {
     "name": "stderr",
     "output_type": "stream",
     "text": [
      "epoch  327: 100%|██████████| 35/35 [00:00<00:00, 152.66it/s, loss=4.785399] \n"
     ]
    },
    {
     "name": "stdout",
     "output_type": "stream",
     "text": [
      "\n",
      "\n",
      "###################### Start to Train NN model ##########################\n"
     ]
    },
    {
     "name": "stderr",
     "output_type": "stream",
     "text": [
      "epoch  328: 100%|██████████| 35/35 [00:00<00:00, 143.15it/s, loss=5.6783233]\n"
     ]
    },
    {
     "name": "stdout",
     "output_type": "stream",
     "text": [
      "\n",
      "\n",
      "###################### Start to Train NN model ##########################\n"
     ]
    },
    {
     "name": "stderr",
     "output_type": "stream",
     "text": [
      "epoch  329: 100%|██████████| 35/35 [00:00<00:00, 135.57it/s, loss=7.6712203]\n"
     ]
    },
    {
     "name": "stdout",
     "output_type": "stream",
     "text": [
      "\n",
      "\n",
      "###################### Start to Train NN model ##########################\n"
     ]
    },
    {
     "name": "stderr",
     "output_type": "stream",
     "text": [
      "epoch  330: 100%|██████████| 35/35 [00:00<00:00, 149.92it/s, loss=5.7155495]\n"
     ]
    },
    {
     "name": "stdout",
     "output_type": "stream",
     "text": [
      "\n",
      "\n",
      "###################### Start to Train NN model ##########################\n"
     ]
    },
    {
     "name": "stderr",
     "output_type": "stream",
     "text": [
      "epoch  331: 100%|██████████| 35/35 [00:00<00:00, 119.29it/s, loss=7.1818953]\n"
     ]
    },
    {
     "name": "stdout",
     "output_type": "stream",
     "text": [
      "\n",
      "\n",
      "###################### Start to Train NN model ##########################\n"
     ]
    },
    {
     "name": "stderr",
     "output_type": "stream",
     "text": [
      "epoch  332: 100%|██████████| 35/35 [00:00<00:00, 137.12it/s, loss=6.1248503]\n"
     ]
    },
    {
     "name": "stdout",
     "output_type": "stream",
     "text": [
      "\n",
      "\n",
      "###################### Start to Train NN model ##########################\n"
     ]
    },
    {
     "name": "stderr",
     "output_type": "stream",
     "text": [
      "epoch  333: 100%|██████████| 35/35 [00:00<00:00, 143.90it/s, loss=5.513903] \n"
     ]
    },
    {
     "name": "stdout",
     "output_type": "stream",
     "text": [
      "\n",
      "\n",
      "###################### Start to Train NN model ##########################\n"
     ]
    },
    {
     "name": "stderr",
     "output_type": "stream",
     "text": [
      "epoch  334: 100%|██████████| 35/35 [00:00<00:00, 153.64it/s, loss=6.1326637]\n"
     ]
    },
    {
     "name": "stdout",
     "output_type": "stream",
     "text": [
      "\n",
      "\n",
      "###################### Start to Train NN model ##########################\n"
     ]
    },
    {
     "name": "stderr",
     "output_type": "stream",
     "text": [
      "epoch  335: 100%|██████████| 35/35 [00:00<00:00, 144.10it/s, loss=5.8796673]\n"
     ]
    },
    {
     "name": "stdout",
     "output_type": "stream",
     "text": [
      "\n",
      "\n",
      "###################### Start to Train NN model ##########################\n"
     ]
    },
    {
     "name": "stderr",
     "output_type": "stream",
     "text": [
      "epoch  336: 100%|██████████| 35/35 [00:00<00:00, 166.43it/s, loss=6.9078164]\n"
     ]
    },
    {
     "name": "stdout",
     "output_type": "stream",
     "text": [
      "\n",
      "\n",
      "###################### Start to Train NN model ##########################\n"
     ]
    },
    {
     "name": "stderr",
     "output_type": "stream",
     "text": [
      "epoch  337: 100%|██████████| 35/35 [00:00<00:00, 121.70it/s, loss=5.1882653]\n"
     ]
    },
    {
     "name": "stdout",
     "output_type": "stream",
     "text": [
      "\n",
      "\n",
      "###################### Start to Train NN model ##########################\n"
     ]
    },
    {
     "name": "stderr",
     "output_type": "stream",
     "text": [
      "epoch  338: 100%|██████████| 35/35 [00:00<00:00, 131.73it/s, loss=5.8059907]\n"
     ]
    },
    {
     "name": "stdout",
     "output_type": "stream",
     "text": [
      "\n",
      "\n",
      "###################### Start to Train NN model ##########################\n"
     ]
    },
    {
     "name": "stderr",
     "output_type": "stream",
     "text": [
      "epoch  339: 100%|██████████| 35/35 [00:00<00:00, 142.77it/s, loss=5.9124026]\n"
     ]
    },
    {
     "name": "stdout",
     "output_type": "stream",
     "text": [
      "\n",
      "\n",
      "###################### Start to Train NN model ##########################\n"
     ]
    },
    {
     "name": "stderr",
     "output_type": "stream",
     "text": [
      "epoch  340: 100%|██████████| 35/35 [00:00<00:00, 157.59it/s, loss=5.6799164]\n"
     ]
    },
    {
     "name": "stdout",
     "output_type": "stream",
     "text": [
      "\n",
      "\n",
      "###################### Start to Train NN model ##########################\n"
     ]
    },
    {
     "name": "stderr",
     "output_type": "stream",
     "text": [
      "epoch  341: 100%|██████████| 35/35 [00:00<00:00, 141.69it/s, loss=5.740752] \n"
     ]
    },
    {
     "name": "stdout",
     "output_type": "stream",
     "text": [
      "\n",
      "\n",
      "###################### Start to Train NN model ##########################\n"
     ]
    },
    {
     "name": "stderr",
     "output_type": "stream",
     "text": [
      "epoch  342: 100%|██████████| 35/35 [00:00<00:00, 128.87it/s, loss=6.5920444]\n"
     ]
    },
    {
     "name": "stdout",
     "output_type": "stream",
     "text": [
      "\n",
      "\n",
      "###################### Start to Train NN model ##########################\n"
     ]
    },
    {
     "name": "stderr",
     "output_type": "stream",
     "text": [
      "epoch  343: 100%|██████████| 35/35 [00:00<00:00, 129.62it/s, loss=5.3399787]\n"
     ]
    },
    {
     "name": "stdout",
     "output_type": "stream",
     "text": [
      "\n",
      "\n",
      "###################### Start to Train NN model ##########################\n"
     ]
    },
    {
     "name": "stderr",
     "output_type": "stream",
     "text": [
      "epoch  344: 100%|██████████| 35/35 [00:00<00:00, 137.45it/s, loss=5.6628284]\n"
     ]
    },
    {
     "name": "stdout",
     "output_type": "stream",
     "text": [
      "\n",
      "\n",
      "###################### Start to Train NN model ##########################\n"
     ]
    },
    {
     "name": "stderr",
     "output_type": "stream",
     "text": [
      "epoch  345: 100%|██████████| 35/35 [00:00<00:00, 154.15it/s, loss=5.890131] \n"
     ]
    },
    {
     "name": "stdout",
     "output_type": "stream",
     "text": [
      "\n",
      "\n",
      "###################### Start to Train NN model ##########################\n"
     ]
    },
    {
     "name": "stderr",
     "output_type": "stream",
     "text": [
      "epoch  346: 100%|██████████| 35/35 [00:00<00:00, 157.85it/s, loss=5.652467] \n"
     ]
    },
    {
     "name": "stdout",
     "output_type": "stream",
     "text": [
      "\n",
      "\n",
      "###################### Start to Train NN model ##########################\n"
     ]
    },
    {
     "name": "stderr",
     "output_type": "stream",
     "text": [
      "epoch  347: 100%|██████████| 35/35 [00:00<00:00, 139.43it/s, loss=5.8817563]\n"
     ]
    },
    {
     "name": "stdout",
     "output_type": "stream",
     "text": [
      "\n",
      "\n",
      "###################### Start to Train NN model ##########################\n"
     ]
    },
    {
     "name": "stderr",
     "output_type": "stream",
     "text": [
      "epoch  348: 100%|██████████| 35/35 [00:00<00:00, 143.39it/s, loss=6.1469307]\n"
     ]
    },
    {
     "name": "stdout",
     "output_type": "stream",
     "text": [
      "\n",
      "\n",
      "###################### Start to Train NN model ##########################\n"
     ]
    },
    {
     "name": "stderr",
     "output_type": "stream",
     "text": [
      "epoch  349: 100%|██████████| 35/35 [00:00<00:00, 160.24it/s, loss=6.2144485]\n"
     ]
    },
    {
     "name": "stdout",
     "output_type": "stream",
     "text": [
      "\n",
      "\n",
      "###################### Start to Train NN model ##########################\n"
     ]
    },
    {
     "name": "stderr",
     "output_type": "stream",
     "text": [
      "epoch  350: 100%|██████████| 35/35 [00:00<00:00, 158.43it/s, loss=4.9299097]\n"
     ]
    },
    {
     "name": "stdout",
     "output_type": "stream",
     "text": [
      "\n",
      "\n",
      "###################### Start to Train NN model ##########################\n"
     ]
    },
    {
     "name": "stderr",
     "output_type": "stream",
     "text": [
      "epoch  351: 100%|██████████| 35/35 [00:00<00:00, 161.06it/s, loss=6.1138616]\n"
     ]
    },
    {
     "name": "stdout",
     "output_type": "stream",
     "text": [
      "\n",
      "\n",
      "###################### Start to Train NN model ##########################\n"
     ]
    },
    {
     "name": "stderr",
     "output_type": "stream",
     "text": [
      "epoch  352: 100%|██████████| 35/35 [00:00<00:00, 141.05it/s, loss=5.8299713]\n"
     ]
    },
    {
     "name": "stdout",
     "output_type": "stream",
     "text": [
      "\n",
      "\n",
      "###################### Start to Train NN model ##########################\n"
     ]
    },
    {
     "name": "stderr",
     "output_type": "stream",
     "text": [
      "epoch  353: 100%|██████████| 35/35 [00:00<00:00, 147.95it/s, loss=6.87824]  \n"
     ]
    },
    {
     "name": "stdout",
     "output_type": "stream",
     "text": [
      "\n",
      "\n",
      "###################### Start to Train NN model ##########################\n"
     ]
    },
    {
     "name": "stderr",
     "output_type": "stream",
     "text": [
      "epoch  354: 100%|██████████| 35/35 [00:00<00:00, 123.73it/s, loss=5.6121845]\n"
     ]
    },
    {
     "name": "stdout",
     "output_type": "stream",
     "text": [
      "\n",
      "\n",
      "###################### Start to Train NN model ##########################\n"
     ]
    },
    {
     "name": "stderr",
     "output_type": "stream",
     "text": [
      "epoch  355: 100%|██████████| 35/35 [00:00<00:00, 141.12it/s, loss=5.444887] \n"
     ]
    },
    {
     "name": "stdout",
     "output_type": "stream",
     "text": [
      "\n",
      "\n",
      "###################### Start to Train NN model ##########################\n"
     ]
    },
    {
     "name": "stderr",
     "output_type": "stream",
     "text": [
      "epoch  356: 100%|██████████| 35/35 [00:00<00:00, 149.09it/s, loss=5.7258935]\n"
     ]
    },
    {
     "name": "stdout",
     "output_type": "stream",
     "text": [
      "\n",
      "\n",
      "###################### Start to Train NN model ##########################\n"
     ]
    },
    {
     "name": "stderr",
     "output_type": "stream",
     "text": [
      "epoch  357: 100%|██████████| 35/35 [00:00<00:00, 150.48it/s, loss=5.5817976]\n"
     ]
    },
    {
     "name": "stdout",
     "output_type": "stream",
     "text": [
      "\n",
      "\n",
      "###################### Start to Train NN model ##########################\n"
     ]
    },
    {
     "name": "stderr",
     "output_type": "stream",
     "text": [
      "epoch  358: 100%|██████████| 35/35 [00:00<00:00, 129.20it/s, loss=6.3915396]\n"
     ]
    },
    {
     "name": "stdout",
     "output_type": "stream",
     "text": [
      "\n",
      "\n",
      "###################### Start to Train NN model ##########################\n"
     ]
    },
    {
     "name": "stderr",
     "output_type": "stream",
     "text": [
      "epoch  359: 100%|██████████| 35/35 [00:00<00:00, 141.86it/s, loss=5.1131883]\n"
     ]
    },
    {
     "name": "stdout",
     "output_type": "stream",
     "text": [
      "\n",
      "\n",
      "###################### Start to Train NN model ##########################\n"
     ]
    },
    {
     "name": "stderr",
     "output_type": "stream",
     "text": [
      "epoch  360: 100%|██████████| 35/35 [00:00<00:00, 133.18it/s, loss=5.614441] \n"
     ]
    },
    {
     "name": "stdout",
     "output_type": "stream",
     "text": [
      "\n",
      "\n",
      "###################### Start to Train NN model ##########################\n"
     ]
    },
    {
     "name": "stderr",
     "output_type": "stream",
     "text": [
      "epoch  361: 100%|██████████| 35/35 [00:00<00:00, 140.36it/s, loss=7.2150183]\n"
     ]
    },
    {
     "name": "stdout",
     "output_type": "stream",
     "text": [
      "\n",
      "\n",
      "###################### Start to Train NN model ##########################\n"
     ]
    },
    {
     "name": "stderr",
     "output_type": "stream",
     "text": [
      "epoch  362: 100%|██████████| 35/35 [00:00<00:00, 144.04it/s, loss=4.975856] \n"
     ]
    },
    {
     "name": "stdout",
     "output_type": "stream",
     "text": [
      "\n",
      "\n",
      "###################### Start to Train NN model ##########################\n"
     ]
    },
    {
     "name": "stderr",
     "output_type": "stream",
     "text": [
      "epoch  363: 100%|██████████| 35/35 [00:00<00:00, 147.68it/s, loss=6.3294635]\n"
     ]
    },
    {
     "name": "stdout",
     "output_type": "stream",
     "text": [
      "\n",
      "\n",
      "###################### Start to Train NN model ##########################\n"
     ]
    },
    {
     "name": "stderr",
     "output_type": "stream",
     "text": [
      "epoch  364: 100%|██████████| 35/35 [00:00<00:00, 142.11it/s, loss=7.04223]  \n"
     ]
    },
    {
     "name": "stdout",
     "output_type": "stream",
     "text": [
      "\n",
      "\n",
      "###################### Start to Train NN model ##########################\n"
     ]
    },
    {
     "name": "stderr",
     "output_type": "stream",
     "text": [
      "epoch  365: 100%|██████████| 35/35 [00:00<00:00, 136.44it/s, loss=7.8536925]\n"
     ]
    },
    {
     "name": "stdout",
     "output_type": "stream",
     "text": [
      "\n",
      "\n",
      "###################### Start to Train NN model ##########################\n"
     ]
    },
    {
     "name": "stderr",
     "output_type": "stream",
     "text": [
      "epoch  366: 100%|██████████| 35/35 [00:00<00:00, 145.90it/s, loss=6.650309] \n"
     ]
    },
    {
     "name": "stdout",
     "output_type": "stream",
     "text": [
      "\n",
      "\n",
      "###################### Start to Train NN model ##########################\n"
     ]
    },
    {
     "name": "stderr",
     "output_type": "stream",
     "text": [
      "epoch  367: 100%|██████████| 35/35 [00:00<00:00, 139.43it/s, loss=5.438922] \n"
     ]
    },
    {
     "name": "stdout",
     "output_type": "stream",
     "text": [
      "\n",
      "\n",
      "###################### Start to Train NN model ##########################\n"
     ]
    },
    {
     "name": "stderr",
     "output_type": "stream",
     "text": [
      "epoch  368: 100%|██████████| 35/35 [00:00<00:00, 144.57it/s, loss=6.360819] \n"
     ]
    },
    {
     "name": "stdout",
     "output_type": "stream",
     "text": [
      "\n",
      "\n",
      "###################### Start to Train NN model ##########################\n"
     ]
    },
    {
     "name": "stderr",
     "output_type": "stream",
     "text": [
      "epoch  369: 100%|██████████| 35/35 [00:00<00:00, 143.38it/s, loss=6.1220837]\n"
     ]
    },
    {
     "name": "stdout",
     "output_type": "stream",
     "text": [
      "\n",
      "\n",
      "###################### Start to Train NN model ##########################\n"
     ]
    },
    {
     "name": "stderr",
     "output_type": "stream",
     "text": [
      "epoch  370: 100%|██████████| 35/35 [00:00<00:00, 134.10it/s, loss=6.1227913]\n"
     ]
    },
    {
     "name": "stdout",
     "output_type": "stream",
     "text": [
      "\n",
      "\n",
      "###################### Start to Train NN model ##########################\n"
     ]
    },
    {
     "name": "stderr",
     "output_type": "stream",
     "text": [
      "epoch  371: 100%|██████████| 35/35 [00:00<00:00, 137.49it/s, loss=6.318063] \n"
     ]
    },
    {
     "name": "stdout",
     "output_type": "stream",
     "text": [
      "\n",
      "\n",
      "###################### Start to Train NN model ##########################\n"
     ]
    },
    {
     "name": "stderr",
     "output_type": "stream",
     "text": [
      "epoch  372: 100%|██████████| 35/35 [00:00<00:00, 150.73it/s, loss=5.6445026]\n"
     ]
    },
    {
     "name": "stdout",
     "output_type": "stream",
     "text": [
      "\n",
      "\n",
      "###################### Start to Train NN model ##########################\n"
     ]
    },
    {
     "name": "stderr",
     "output_type": "stream",
     "text": [
      "epoch  373: 100%|██████████| 35/35 [00:00<00:00, 133.47it/s, loss=6.0756965]\n"
     ]
    },
    {
     "name": "stdout",
     "output_type": "stream",
     "text": [
      "\n",
      "\n",
      "###################### Start to Train NN model ##########################\n"
     ]
    },
    {
     "name": "stderr",
     "output_type": "stream",
     "text": [
      "epoch  374: 100%|██████████| 35/35 [00:00<00:00, 140.36it/s, loss=6.306191] \n"
     ]
    },
    {
     "name": "stdout",
     "output_type": "stream",
     "text": [
      "\n",
      "\n",
      "###################### Start to Train NN model ##########################\n"
     ]
    },
    {
     "name": "stderr",
     "output_type": "stream",
     "text": [
      "epoch  375: 100%|██████████| 35/35 [00:00<00:00, 143.23it/s, loss=5.5098405]\n"
     ]
    },
    {
     "name": "stdout",
     "output_type": "stream",
     "text": [
      "\n",
      "\n",
      "###################### Start to Train NN model ##########################\n"
     ]
    },
    {
     "name": "stderr",
     "output_type": "stream",
     "text": [
      "epoch  376: 100%|██████████| 35/35 [00:00<00:00, 146.64it/s, loss=6.401393] \n"
     ]
    },
    {
     "name": "stdout",
     "output_type": "stream",
     "text": [
      "\n",
      "\n",
      "###################### Start to Train NN model ##########################\n"
     ]
    },
    {
     "name": "stderr",
     "output_type": "stream",
     "text": [
      "epoch  377: 100%|██████████| 35/35 [00:00<00:00, 165.00it/s, loss=6.020709] \n"
     ]
    },
    {
     "name": "stdout",
     "output_type": "stream",
     "text": [
      "\n",
      "\n",
      "###################### Start to Train NN model ##########################\n"
     ]
    },
    {
     "name": "stderr",
     "output_type": "stream",
     "text": [
      "epoch  378: 100%|██████████| 35/35 [00:00<00:00, 149.51it/s, loss=5.8764496]\n"
     ]
    },
    {
     "name": "stdout",
     "output_type": "stream",
     "text": [
      "\n",
      "\n",
      "###################### Start to Train NN model ##########################\n"
     ]
    },
    {
     "name": "stderr",
     "output_type": "stream",
     "text": [
      "epoch  379: 100%|██████████| 35/35 [00:00<00:00, 143.85it/s, loss=5.740109] \n"
     ]
    },
    {
     "name": "stdout",
     "output_type": "stream",
     "text": [
      "\n",
      "\n",
      "###################### Start to Train NN model ##########################\n"
     ]
    },
    {
     "name": "stderr",
     "output_type": "stream",
     "text": [
      "epoch  380: 100%|██████████| 35/35 [00:00<00:00, 151.17it/s, loss=6.2925034]\n"
     ]
    },
    {
     "name": "stdout",
     "output_type": "stream",
     "text": [
      "\n",
      "\n",
      "###################### Start to Train NN model ##########################\n"
     ]
    },
    {
     "name": "stderr",
     "output_type": "stream",
     "text": [
      "epoch  381: 100%|██████████| 35/35 [00:00<00:00, 143.18it/s, loss=5.8596706]\n"
     ]
    },
    {
     "name": "stdout",
     "output_type": "stream",
     "text": [
      "\n",
      "\n",
      "###################### Start to Train NN model ##########################\n"
     ]
    },
    {
     "name": "stderr",
     "output_type": "stream",
     "text": [
      "epoch  382: 100%|██████████| 35/35 [00:00<00:00, 155.85it/s, loss=5.548671] \n"
     ]
    },
    {
     "name": "stdout",
     "output_type": "stream",
     "text": [
      "\n",
      "\n",
      "###################### Start to Train NN model ##########################\n"
     ]
    },
    {
     "name": "stderr",
     "output_type": "stream",
     "text": [
      "epoch  383: 100%|██████████| 35/35 [00:00<00:00, 126.79it/s, loss=5.2996135]\n"
     ]
    },
    {
     "name": "stdout",
     "output_type": "stream",
     "text": [
      "\n",
      "\n",
      "###################### Start to Train NN model ##########################\n"
     ]
    },
    {
     "name": "stderr",
     "output_type": "stream",
     "text": [
      "epoch  384: 100%|██████████| 35/35 [00:00<00:00, 138.68it/s, loss=6.02312]  \n"
     ]
    },
    {
     "name": "stdout",
     "output_type": "stream",
     "text": [
      "\n",
      "\n",
      "###################### Start to Train NN model ##########################\n"
     ]
    },
    {
     "name": "stderr",
     "output_type": "stream",
     "text": [
      "epoch  385: 100%|██████████| 35/35 [00:00<00:00, 148.80it/s, loss=5.844115] \n"
     ]
    },
    {
     "name": "stdout",
     "output_type": "stream",
     "text": [
      "\n",
      "\n",
      "###################### Start to Train NN model ##########################\n"
     ]
    },
    {
     "name": "stderr",
     "output_type": "stream",
     "text": [
      "epoch  386: 100%|██████████| 35/35 [00:00<00:00, 152.71it/s, loss=5.2647333]\n"
     ]
    },
    {
     "name": "stdout",
     "output_type": "stream",
     "text": [
      "\n",
      "\n",
      "###################### Start to Train NN model ##########################\n"
     ]
    },
    {
     "name": "stderr",
     "output_type": "stream",
     "text": [
      "epoch  387: 100%|██████████| 35/35 [00:00<00:00, 135.68it/s, loss=6.7042193]\n"
     ]
    },
    {
     "name": "stdout",
     "output_type": "stream",
     "text": [
      "\n",
      "\n",
      "###################### Start to Train NN model ##########################\n"
     ]
    },
    {
     "name": "stderr",
     "output_type": "stream",
     "text": [
      "epoch  388: 100%|██████████| 35/35 [00:00<00:00, 147.79it/s, loss=5.3215313]\n"
     ]
    },
    {
     "name": "stdout",
     "output_type": "stream",
     "text": [
      "\n",
      "\n",
      "###################### Start to Train NN model ##########################\n"
     ]
    },
    {
     "name": "stderr",
     "output_type": "stream",
     "text": [
      "epoch  389: 100%|██████████| 35/35 [00:00<00:00, 138.43it/s, loss=6.3013434]\n"
     ]
    },
    {
     "name": "stdout",
     "output_type": "stream",
     "text": [
      "\n",
      "\n",
      "###################### Start to Train NN model ##########################\n"
     ]
    },
    {
     "name": "stderr",
     "output_type": "stream",
     "text": [
      "epoch  390: 100%|██████████| 35/35 [00:00<00:00, 147.33it/s, loss=5.49201]  \n"
     ]
    },
    {
     "name": "stdout",
     "output_type": "stream",
     "text": [
      "\n",
      "\n",
      "###################### Start to Train NN model ##########################\n"
     ]
    },
    {
     "name": "stderr",
     "output_type": "stream",
     "text": [
      "epoch  391: 100%|██████████| 35/35 [00:00<00:00, 164.82it/s, loss=9.799681] \n"
     ]
    },
    {
     "name": "stdout",
     "output_type": "stream",
     "text": [
      "\n",
      "\n",
      "###################### Start to Train NN model ##########################\n"
     ]
    },
    {
     "name": "stderr",
     "output_type": "stream",
     "text": [
      "epoch  392: 100%|██████████| 35/35 [00:00<00:00, 167.83it/s, loss=4.858669] \n"
     ]
    },
    {
     "name": "stdout",
     "output_type": "stream",
     "text": [
      "\n",
      "\n",
      "###################### Start to Train NN model ##########################\n"
     ]
    },
    {
     "name": "stderr",
     "output_type": "stream",
     "text": [
      "epoch  393: 100%|██████████| 35/35 [00:00<00:00, 145.76it/s, loss=5.525987] \n"
     ]
    },
    {
     "name": "stdout",
     "output_type": "stream",
     "text": [
      "\n",
      "\n",
      "###################### Start to Train NN model ##########################\n"
     ]
    },
    {
     "name": "stderr",
     "output_type": "stream",
     "text": [
      "epoch  394: 100%|██████████| 35/35 [00:00<00:00, 146.18it/s, loss=5.586418] \n"
     ]
    },
    {
     "name": "stdout",
     "output_type": "stream",
     "text": [
      "\n",
      "\n",
      "###################### Start to Train NN model ##########################\n"
     ]
    },
    {
     "name": "stderr",
     "output_type": "stream",
     "text": [
      "epoch  395: 100%|██████████| 35/35 [00:00<00:00, 158.22it/s, loss=5.3417373]\n"
     ]
    },
    {
     "name": "stdout",
     "output_type": "stream",
     "text": [
      "\n",
      "\n",
      "###################### Start to Train NN model ##########################\n"
     ]
    },
    {
     "name": "stderr",
     "output_type": "stream",
     "text": [
      "epoch  396: 100%|██████████| 35/35 [00:00<00:00, 168.76it/s, loss=5.345732] \n"
     ]
    },
    {
     "name": "stdout",
     "output_type": "stream",
     "text": [
      "\n",
      "\n",
      "###################### Start to Train NN model ##########################\n"
     ]
    },
    {
     "name": "stderr",
     "output_type": "stream",
     "text": [
      "epoch  397: 100%|██████████| 35/35 [00:00<00:00, 157.34it/s, loss=5.938828] \n"
     ]
    },
    {
     "name": "stdout",
     "output_type": "stream",
     "text": [
      "\n",
      "\n",
      "###################### Start to Train NN model ##########################\n"
     ]
    },
    {
     "name": "stderr",
     "output_type": "stream",
     "text": [
      "epoch  398: 100%|██████████| 35/35 [00:00<00:00, 146.54it/s, loss=6.111552] \n"
     ]
    },
    {
     "name": "stdout",
     "output_type": "stream",
     "text": [
      "\n",
      "\n",
      "###################### Start to Train NN model ##########################\n"
     ]
    },
    {
     "name": "stderr",
     "output_type": "stream",
     "text": [
      "epoch  399: 100%|██████████| 35/35 [00:00<00:00, 130.90it/s, loss=5.863207] \n"
     ]
    },
    {
     "name": "stdout",
     "output_type": "stream",
     "text": [
      "\n",
      "\n",
      "###################### Start to Train NN model ##########################\n"
     ]
    },
    {
     "name": "stderr",
     "output_type": "stream",
     "text": [
      "epoch  400: 100%|██████████| 35/35 [00:00<00:00, 140.37it/s, loss=4.920975] \n"
     ]
    },
    {
     "name": "stdout",
     "output_type": "stream",
     "text": [
      "\n",
      "\n",
      "###################### Start to Train NN model ##########################\n"
     ]
    },
    {
     "name": "stderr",
     "output_type": "stream",
     "text": [
      "epoch  401: 100%|██████████| 35/35 [00:00<00:00, 165.97it/s, loss=5.404358] \n"
     ]
    },
    {
     "name": "stdout",
     "output_type": "stream",
     "text": [
      "\n",
      "\n",
      "###################### Start to Train NN model ##########################\n"
     ]
    },
    {
     "name": "stderr",
     "output_type": "stream",
     "text": [
      "epoch  402: 100%|██████████| 35/35 [00:00<00:00, 159.93it/s, loss=5.007563] \n"
     ]
    },
    {
     "name": "stdout",
     "output_type": "stream",
     "text": [
      "\n",
      "\n",
      "###################### Start to Train NN model ##########################\n"
     ]
    },
    {
     "name": "stderr",
     "output_type": "stream",
     "text": [
      "epoch  403: 100%|██████████| 35/35 [00:00<00:00, 148.04it/s, loss=6.23933]  \n"
     ]
    },
    {
     "name": "stdout",
     "output_type": "stream",
     "text": [
      "\n",
      "\n",
      "###################### Start to Train NN model ##########################\n"
     ]
    },
    {
     "name": "stderr",
     "output_type": "stream",
     "text": [
      "epoch  404: 100%|██████████| 35/35 [00:00<00:00, 141.47it/s, loss=5.0210934]\n"
     ]
    },
    {
     "name": "stdout",
     "output_type": "stream",
     "text": [
      "\n",
      "\n",
      "###################### Start to Train NN model ##########################\n"
     ]
    },
    {
     "name": "stderr",
     "output_type": "stream",
     "text": [
      "epoch  405: 100%|██████████| 35/35 [00:00<00:00, 146.88it/s, loss=5.6904755]\n"
     ]
    },
    {
     "name": "stdout",
     "output_type": "stream",
     "text": [
      "\n",
      "\n",
      "###################### Start to Train NN model ##########################\n"
     ]
    },
    {
     "name": "stderr",
     "output_type": "stream",
     "text": [
      "epoch  406: 100%|██████████| 35/35 [00:00<00:00, 149.35it/s, loss=5.44404]  \n"
     ]
    },
    {
     "name": "stdout",
     "output_type": "stream",
     "text": [
      "\n",
      "\n",
      "###################### Start to Train NN model ##########################\n"
     ]
    },
    {
     "name": "stderr",
     "output_type": "stream",
     "text": [
      "epoch  407: 100%|██████████| 35/35 [00:00<00:00, 118.17it/s, loss=6.119709] \n"
     ]
    },
    {
     "name": "stdout",
     "output_type": "stream",
     "text": [
      "\n",
      "\n",
      "###################### Start to Train NN model ##########################\n"
     ]
    },
    {
     "name": "stderr",
     "output_type": "stream",
     "text": [
      "epoch  408: 100%|██████████| 35/35 [00:00<00:00, 161.42it/s, loss=5.9445443]\n"
     ]
    },
    {
     "name": "stdout",
     "output_type": "stream",
     "text": [
      "\n",
      "\n",
      "###################### Start to Train NN model ##########################\n"
     ]
    },
    {
     "name": "stderr",
     "output_type": "stream",
     "text": [
      "epoch  409: 100%|██████████| 35/35 [00:00<00:00, 129.55it/s, loss=5.713251] \n"
     ]
    },
    {
     "name": "stdout",
     "output_type": "stream",
     "text": [
      "\n",
      "\n",
      "###################### Start to Train NN model ##########################\n"
     ]
    },
    {
     "name": "stderr",
     "output_type": "stream",
     "text": [
      "epoch  410: 100%|██████████| 35/35 [00:00<00:00, 142.81it/s, loss=5.258716] \n"
     ]
    },
    {
     "name": "stdout",
     "output_type": "stream",
     "text": [
      "\n",
      "\n",
      "###################### Start to Train NN model ##########################\n"
     ]
    },
    {
     "name": "stderr",
     "output_type": "stream",
     "text": [
      "epoch  411: 100%|██████████| 35/35 [00:00<00:00, 142.91it/s, loss=5.0158777]\n"
     ]
    },
    {
     "name": "stdout",
     "output_type": "stream",
     "text": [
      "\n",
      "\n",
      "###################### Start to Train NN model ##########################\n"
     ]
    },
    {
     "name": "stderr",
     "output_type": "stream",
     "text": [
      "epoch  412: 100%|██████████| 35/35 [00:00<00:00, 137.75it/s, loss=6.0262933]\n"
     ]
    },
    {
     "name": "stdout",
     "output_type": "stream",
     "text": [
      "\n",
      "\n",
      "###################### Start to Train NN model ##########################\n"
     ]
    },
    {
     "name": "stderr",
     "output_type": "stream",
     "text": [
      "epoch  413: 100%|██████████| 35/35 [00:00<00:00, 151.65it/s, loss=7.311942] \n"
     ]
    },
    {
     "name": "stdout",
     "output_type": "stream",
     "text": [
      "\n",
      "\n",
      "###################### Start to Train NN model ##########################\n"
     ]
    },
    {
     "name": "stderr",
     "output_type": "stream",
     "text": [
      "epoch  414: 100%|██████████| 35/35 [00:00<00:00, 146.76it/s, loss=5.8729844]\n"
     ]
    },
    {
     "name": "stdout",
     "output_type": "stream",
     "text": [
      "\n",
      "\n",
      "###################### Start to Train NN model ##########################\n"
     ]
    },
    {
     "name": "stderr",
     "output_type": "stream",
     "text": [
      "epoch  415: 100%|██████████| 35/35 [00:00<00:00, 138.79it/s, loss=5.0624847]\n"
     ]
    },
    {
     "name": "stdout",
     "output_type": "stream",
     "text": [
      "\n",
      "\n",
      "###################### Start to Train NN model ##########################\n"
     ]
    },
    {
     "name": "stderr",
     "output_type": "stream",
     "text": [
      "epoch  416: 100%|██████████| 35/35 [00:00<00:00, 134.46it/s, loss=5.6983495]\n"
     ]
    },
    {
     "name": "stdout",
     "output_type": "stream",
     "text": [
      "\n",
      "\n",
      "###################### Start to Train NN model ##########################\n"
     ]
    },
    {
     "name": "stderr",
     "output_type": "stream",
     "text": [
      "epoch  417: 100%|██████████| 35/35 [00:00<00:00, 137.10it/s, loss=5.721395] \n"
     ]
    },
    {
     "name": "stdout",
     "output_type": "stream",
     "text": [
      "\n",
      "\n",
      "###################### Start to Train NN model ##########################\n"
     ]
    },
    {
     "name": "stderr",
     "output_type": "stream",
     "text": [
      "epoch  418: 100%|██████████| 35/35 [00:00<00:00, 135.16it/s, loss=6.087651] \n"
     ]
    },
    {
     "name": "stdout",
     "output_type": "stream",
     "text": [
      "\n",
      "\n",
      "###################### Start to Train NN model ##########################\n"
     ]
    },
    {
     "name": "stderr",
     "output_type": "stream",
     "text": [
      "epoch  419: 100%|██████████| 35/35 [00:00<00:00, 131.89it/s, loss=5.471267] \n"
     ]
    },
    {
     "name": "stdout",
     "output_type": "stream",
     "text": [
      "\n",
      "\n",
      "###################### Start to Train NN model ##########################\n"
     ]
    },
    {
     "name": "stderr",
     "output_type": "stream",
     "text": [
      "epoch  420: 100%|██████████| 35/35 [00:00<00:00, 145.35it/s, loss=4.962546] \n"
     ]
    },
    {
     "name": "stdout",
     "output_type": "stream",
     "text": [
      "\n",
      "\n",
      "###################### Start to Train NN model ##########################\n"
     ]
    },
    {
     "name": "stderr",
     "output_type": "stream",
     "text": [
      "epoch  421: 100%|██████████| 35/35 [00:00<00:00, 150.86it/s, loss=6.1374893]\n"
     ]
    },
    {
     "name": "stdout",
     "output_type": "stream",
     "text": [
      "\n",
      "\n",
      "###################### Start to Train NN model ##########################\n"
     ]
    },
    {
     "name": "stderr",
     "output_type": "stream",
     "text": [
      "epoch  422: 100%|██████████| 35/35 [00:00<00:00, 128.63it/s, loss=5.130422] \n"
     ]
    },
    {
     "name": "stdout",
     "output_type": "stream",
     "text": [
      "\n",
      "\n",
      "###################### Start to Train NN model ##########################\n"
     ]
    },
    {
     "name": "stderr",
     "output_type": "stream",
     "text": [
      "epoch  423: 100%|██████████| 35/35 [00:00<00:00, 130.46it/s, loss=5.3978295]\n"
     ]
    },
    {
     "name": "stdout",
     "output_type": "stream",
     "text": [
      "\n",
      "\n",
      "###################### Start to Train NN model ##########################\n"
     ]
    },
    {
     "name": "stderr",
     "output_type": "stream",
     "text": [
      "epoch  424: 100%|██████████| 35/35 [00:00<00:00, 133.05it/s, loss=5.445907] \n"
     ]
    },
    {
     "name": "stdout",
     "output_type": "stream",
     "text": [
      "\n",
      "\n",
      "###################### Start to Train NN model ##########################\n"
     ]
    },
    {
     "name": "stderr",
     "output_type": "stream",
     "text": [
      "epoch  425: 100%|██████████| 35/35 [00:00<00:00, 138.90it/s, loss=5.8955817]\n"
     ]
    },
    {
     "name": "stdout",
     "output_type": "stream",
     "text": [
      "\n",
      "\n",
      "###################### Start to Train NN model ##########################\n"
     ]
    },
    {
     "name": "stderr",
     "output_type": "stream",
     "text": [
      "epoch  426: 100%|██████████| 35/35 [00:00<00:00, 137.70it/s, loss=5.7498155]\n"
     ]
    },
    {
     "name": "stdout",
     "output_type": "stream",
     "text": [
      "\n",
      "\n",
      "###################### Start to Train NN model ##########################\n"
     ]
    },
    {
     "name": "stderr",
     "output_type": "stream",
     "text": [
      "epoch  427: 100%|██████████| 35/35 [00:00<00:00, 137.05it/s, loss=5.694279] \n"
     ]
    },
    {
     "name": "stdout",
     "output_type": "stream",
     "text": [
      "\n",
      "\n",
      "###################### Start to Train NN model ##########################\n"
     ]
    },
    {
     "name": "stderr",
     "output_type": "stream",
     "text": [
      "epoch  428: 100%|██████████| 35/35 [00:00<00:00, 136.53it/s, loss=5.853706] \n"
     ]
    },
    {
     "name": "stdout",
     "output_type": "stream",
     "text": [
      "\n",
      "\n",
      "###################### Start to Train NN model ##########################\n"
     ]
    },
    {
     "name": "stderr",
     "output_type": "stream",
     "text": [
      "epoch  429: 100%|██████████| 35/35 [00:00<00:00, 148.98it/s, loss=5.097136] \n"
     ]
    },
    {
     "name": "stdout",
     "output_type": "stream",
     "text": [
      "\n",
      "\n",
      "###################### Start to Train NN model ##########################\n"
     ]
    },
    {
     "name": "stderr",
     "output_type": "stream",
     "text": [
      "epoch  430: 100%|██████████| 35/35 [00:00<00:00, 162.81it/s, loss=5.6568246]\n"
     ]
    },
    {
     "name": "stdout",
     "output_type": "stream",
     "text": [
      "\n",
      "\n",
      "###################### Start to Train NN model ##########################\n"
     ]
    },
    {
     "name": "stderr",
     "output_type": "stream",
     "text": [
      "epoch  431: 100%|██████████| 35/35 [00:00<00:00, 155.84it/s, loss=5.7870307]\n"
     ]
    },
    {
     "name": "stdout",
     "output_type": "stream",
     "text": [
      "\n",
      "\n",
      "###################### Start to Train NN model ##########################\n"
     ]
    },
    {
     "name": "stderr",
     "output_type": "stream",
     "text": [
      "epoch  432: 100%|██████████| 35/35 [00:00<00:00, 161.27it/s, loss=5.42613]  \n"
     ]
    },
    {
     "name": "stdout",
     "output_type": "stream",
     "text": [
      "\n",
      "\n",
      "###################### Start to Train NN model ##########################\n"
     ]
    },
    {
     "name": "stderr",
     "output_type": "stream",
     "text": [
      "epoch  433: 100%|██████████| 35/35 [00:00<00:00, 138.84it/s, loss=5.392558] \n"
     ]
    },
    {
     "name": "stdout",
     "output_type": "stream",
     "text": [
      "\n",
      "\n",
      "###################### Start to Train NN model ##########################\n"
     ]
    },
    {
     "name": "stderr",
     "output_type": "stream",
     "text": [
      "epoch  434: 100%|██████████| 35/35 [00:00<00:00, 140.95it/s, loss=5.981791] \n"
     ]
    },
    {
     "name": "stdout",
     "output_type": "stream",
     "text": [
      "\n",
      "\n",
      "###################### Start to Train NN model ##########################\n"
     ]
    },
    {
     "name": "stderr",
     "output_type": "stream",
     "text": [
      "epoch  435: 100%|██████████| 35/35 [00:00<00:00, 155.84it/s, loss=8.935631] \n"
     ]
    },
    {
     "name": "stdout",
     "output_type": "stream",
     "text": [
      "\n",
      "\n",
      "###################### Start to Train NN model ##########################\n"
     ]
    },
    {
     "name": "stderr",
     "output_type": "stream",
     "text": [
      "epoch  436: 100%|██████████| 35/35 [00:00<00:00, 144.09it/s, loss=5.0688276]\n"
     ]
    },
    {
     "name": "stdout",
     "output_type": "stream",
     "text": [
      "\n",
      "\n",
      "###################### Start to Train NN model ##########################\n"
     ]
    },
    {
     "name": "stderr",
     "output_type": "stream",
     "text": [
      "epoch  437: 100%|██████████| 35/35 [00:00<00:00, 148.78it/s, loss=5.102081] \n"
     ]
    },
    {
     "name": "stdout",
     "output_type": "stream",
     "text": [
      "\n",
      "\n",
      "###################### Start to Train NN model ##########################\n"
     ]
    },
    {
     "name": "stderr",
     "output_type": "stream",
     "text": [
      "epoch  438: 100%|██████████| 35/35 [00:00<00:00, 141.58it/s, loss=5.9020705]\n"
     ]
    },
    {
     "name": "stdout",
     "output_type": "stream",
     "text": [
      "\n",
      "\n",
      "###################### Start to Train NN model ##########################\n"
     ]
    },
    {
     "name": "stderr",
     "output_type": "stream",
     "text": [
      "epoch  439: 100%|██████████| 35/35 [00:00<00:00, 137.04it/s, loss=5.0111794]\n"
     ]
    },
    {
     "name": "stdout",
     "output_type": "stream",
     "text": [
      "\n",
      "\n",
      "###################### Start to Train NN model ##########################\n"
     ]
    },
    {
     "name": "stderr",
     "output_type": "stream",
     "text": [
      "epoch  440: 100%|██████████| 35/35 [00:00<00:00, 137.22it/s, loss=5.689249] \n"
     ]
    },
    {
     "name": "stdout",
     "output_type": "stream",
     "text": [
      "\n",
      "\n",
      "###################### Start to Train NN model ##########################\n"
     ]
    },
    {
     "name": "stderr",
     "output_type": "stream",
     "text": [
      "epoch  441: 100%|██████████| 35/35 [00:00<00:00, 95.25it/s, loss=6.4511046] \n"
     ]
    },
    {
     "name": "stdout",
     "output_type": "stream",
     "text": [
      "\n",
      "\n",
      "###################### Start to Train NN model ##########################\n"
     ]
    },
    {
     "name": "stderr",
     "output_type": "stream",
     "text": [
      "epoch  442: 100%|██████████| 35/35 [00:00<00:00, 141.52it/s, loss=5.4470043]\n"
     ]
    },
    {
     "name": "stdout",
     "output_type": "stream",
     "text": [
      "\n",
      "\n",
      "###################### Start to Train NN model ##########################\n"
     ]
    },
    {
     "name": "stderr",
     "output_type": "stream",
     "text": [
      "epoch  443: 100%|██████████| 35/35 [00:00<00:00, 136.08it/s, loss=5.32831]  \n"
     ]
    },
    {
     "name": "stdout",
     "output_type": "stream",
     "text": [
      "\n",
      "\n",
      "###################### Start to Train NN model ##########################\n"
     ]
    },
    {
     "name": "stderr",
     "output_type": "stream",
     "text": [
      "epoch  444: 100%|██████████| 35/35 [00:00<00:00, 129.55it/s, loss=5.021203] \n"
     ]
    },
    {
     "name": "stdout",
     "output_type": "stream",
     "text": [
      "\n",
      "\n",
      "###################### Start to Train NN model ##########################\n"
     ]
    },
    {
     "name": "stderr",
     "output_type": "stream",
     "text": [
      "epoch  445: 100%|██████████| 35/35 [00:00<00:00, 129.97it/s, loss=5.8612785]\n"
     ]
    },
    {
     "name": "stdout",
     "output_type": "stream",
     "text": [
      "\n",
      "\n",
      "###################### Start to Train NN model ##########################\n"
     ]
    },
    {
     "name": "stderr",
     "output_type": "stream",
     "text": [
      "epoch  446: 100%|██████████| 35/35 [00:00<00:00, 132.96it/s, loss=5.177712] \n"
     ]
    },
    {
     "name": "stdout",
     "output_type": "stream",
     "text": [
      "\n",
      "\n",
      "###################### Start to Train NN model ##########################\n"
     ]
    },
    {
     "name": "stderr",
     "output_type": "stream",
     "text": [
      "epoch  447: 100%|██████████| 35/35 [00:00<00:00, 78.23it/s, loss=6.7143283]\n"
     ]
    },
    {
     "name": "stdout",
     "output_type": "stream",
     "text": [
      "\n",
      "\n",
      "###################### Start to Train NN model ##########################\n"
     ]
    },
    {
     "name": "stderr",
     "output_type": "stream",
     "text": [
      "epoch  448: 100%|██████████| 35/35 [00:00<00:00, 127.34it/s, loss=5.3367953]\n"
     ]
    },
    {
     "name": "stdout",
     "output_type": "stream",
     "text": [
      "\n",
      "\n",
      "###################### Start to Train NN model ##########################\n"
     ]
    },
    {
     "name": "stderr",
     "output_type": "stream",
     "text": [
      "epoch  449: 100%|██████████| 35/35 [00:00<00:00, 134.46it/s, loss=4.579744] \n"
     ]
    },
    {
     "name": "stdout",
     "output_type": "stream",
     "text": [
      "\n",
      "\n",
      "###################### Start to Train NN model ##########################\n"
     ]
    },
    {
     "name": "stderr",
     "output_type": "stream",
     "text": [
      "epoch  450: 100%|██████████| 35/35 [00:00<00:00, 156.66it/s, loss=5.40139]  \n"
     ]
    },
    {
     "name": "stdout",
     "output_type": "stream",
     "text": [
      "\n",
      "\n",
      "###################### Start to Train NN model ##########################\n"
     ]
    },
    {
     "name": "stderr",
     "output_type": "stream",
     "text": [
      "epoch  451: 100%|██████████| 35/35 [00:00<00:00, 142.23it/s, loss=6.1370463]\n"
     ]
    },
    {
     "name": "stdout",
     "output_type": "stream",
     "text": [
      "\n",
      "\n",
      "###################### Start to Train NN model ##########################\n"
     ]
    },
    {
     "name": "stderr",
     "output_type": "stream",
     "text": [
      "epoch  452: 100%|██████████| 35/35 [00:00<00:00, 134.53it/s, loss=6.009171] \n"
     ]
    },
    {
     "name": "stdout",
     "output_type": "stream",
     "text": [
      "\n",
      "\n",
      "###################### Start to Train NN model ##########################\n"
     ]
    },
    {
     "name": "stderr",
     "output_type": "stream",
     "text": [
      "epoch  453: 100%|██████████| 35/35 [00:00<00:00, 156.09it/s, loss=5.9140205]\n"
     ]
    },
    {
     "name": "stdout",
     "output_type": "stream",
     "text": [
      "\n",
      "\n",
      "###################### Start to Train NN model ##########################\n"
     ]
    },
    {
     "name": "stderr",
     "output_type": "stream",
     "text": [
      "epoch  454: 100%|██████████| 35/35 [00:00<00:00, 114.17it/s, loss=5.933848] \n"
     ]
    },
    {
     "name": "stdout",
     "output_type": "stream",
     "text": [
      "\n",
      "\n",
      "###################### Start to Train NN model ##########################\n"
     ]
    },
    {
     "name": "stderr",
     "output_type": "stream",
     "text": [
      "epoch  455: 100%|██████████| 35/35 [00:00<00:00, 143.03it/s, loss=6.4063606]\n"
     ]
    },
    {
     "name": "stdout",
     "output_type": "stream",
     "text": [
      "\n",
      "\n",
      "###################### Start to Train NN model ##########################\n"
     ]
    },
    {
     "name": "stderr",
     "output_type": "stream",
     "text": [
      "epoch  456: 100%|██████████| 35/35 [00:00<00:00, 144.49it/s, loss=6.3369217]\n"
     ]
    },
    {
     "name": "stdout",
     "output_type": "stream",
     "text": [
      "\n",
      "\n",
      "###################### Start to Train NN model ##########################\n"
     ]
    },
    {
     "name": "stderr",
     "output_type": "stream",
     "text": [
      "epoch  457: 100%|██████████| 35/35 [00:00<00:00, 134.03it/s, loss=5.8119416]\n"
     ]
    },
    {
     "name": "stdout",
     "output_type": "stream",
     "text": [
      "\n",
      "\n",
      "###################### Start to Train NN model ##########################\n"
     ]
    },
    {
     "name": "stderr",
     "output_type": "stream",
     "text": [
      "epoch  458: 100%|██████████| 35/35 [00:00<00:00, 142.79it/s, loss=5.673279] \n"
     ]
    },
    {
     "name": "stdout",
     "output_type": "stream",
     "text": [
      "\n",
      "\n",
      "###################### Start to Train NN model ##########################\n"
     ]
    },
    {
     "name": "stderr",
     "output_type": "stream",
     "text": [
      "epoch  459: 100%|██████████| 35/35 [00:00<00:00, 129.31it/s, loss=5.799294] \n"
     ]
    },
    {
     "name": "stdout",
     "output_type": "stream",
     "text": [
      "\n",
      "\n",
      "###################### Start to Train NN model ##########################\n"
     ]
    },
    {
     "name": "stderr",
     "output_type": "stream",
     "text": [
      "epoch  460: 100%|██████████| 35/35 [00:00<00:00, 163.67it/s, loss=6.7152867]\n"
     ]
    },
    {
     "name": "stdout",
     "output_type": "stream",
     "text": [
      "\n",
      "\n",
      "###################### Start to Train NN model ##########################\n"
     ]
    },
    {
     "name": "stderr",
     "output_type": "stream",
     "text": [
      "epoch  461: 100%|██████████| 35/35 [00:00<00:00, 138.85it/s, loss=5.89343]  \n"
     ]
    },
    {
     "name": "stdout",
     "output_type": "stream",
     "text": [
      "\n",
      "\n",
      "###################### Start to Train NN model ##########################\n"
     ]
    },
    {
     "name": "stderr",
     "output_type": "stream",
     "text": [
      "epoch  462: 100%|██████████| 35/35 [00:00<00:00, 140.62it/s, loss=6.14308]  \n"
     ]
    },
    {
     "name": "stdout",
     "output_type": "stream",
     "text": [
      "\n",
      "\n",
      "###################### Start to Train NN model ##########################\n"
     ]
    },
    {
     "name": "stderr",
     "output_type": "stream",
     "text": [
      "epoch  463: 100%|██████████| 35/35 [00:00<00:00, 151.37it/s, loss=6.022728] \n"
     ]
    },
    {
     "name": "stdout",
     "output_type": "stream",
     "text": [
      "\n",
      "\n",
      "###################### Start to Train NN model ##########################\n"
     ]
    },
    {
     "name": "stderr",
     "output_type": "stream",
     "text": [
      "epoch  464: 100%|██████████| 35/35 [00:00<00:00, 141.62it/s, loss=5.3118324]\n"
     ]
    },
    {
     "name": "stdout",
     "output_type": "stream",
     "text": [
      "\n",
      "\n",
      "###################### Start to Train NN model ##########################\n"
     ]
    },
    {
     "name": "stderr",
     "output_type": "stream",
     "text": [
      "epoch  465: 100%|██████████| 35/35 [00:00<00:00, 148.27it/s, loss=5.0664825]\n"
     ]
    },
    {
     "name": "stdout",
     "output_type": "stream",
     "text": [
      "\n",
      "\n",
      "###################### Start to Train NN model ##########################\n"
     ]
    },
    {
     "name": "stderr",
     "output_type": "stream",
     "text": [
      "epoch  466: 100%|██████████| 35/35 [00:00<00:00, 136.55it/s, loss=6.2044907]\n"
     ]
    },
    {
     "name": "stdout",
     "output_type": "stream",
     "text": [
      "\n",
      "\n",
      "###################### Start to Train NN model ##########################\n"
     ]
    },
    {
     "name": "stderr",
     "output_type": "stream",
     "text": [
      "epoch  467: 100%|██████████| 35/35 [00:00<00:00, 149.92it/s, loss=5.294205] \n"
     ]
    },
    {
     "name": "stdout",
     "output_type": "stream",
     "text": [
      "\n",
      "\n",
      "###################### Start to Train NN model ##########################\n"
     ]
    },
    {
     "name": "stderr",
     "output_type": "stream",
     "text": [
      "epoch  468: 100%|██████████| 35/35 [00:00<00:00, 144.48it/s, loss=5.6138263]\n"
     ]
    },
    {
     "name": "stdout",
     "output_type": "stream",
     "text": [
      "\n",
      "\n",
      "###################### Start to Train NN model ##########################\n"
     ]
    },
    {
     "name": "stderr",
     "output_type": "stream",
     "text": [
      "epoch  469: 100%|██████████| 35/35 [00:00<00:00, 153.96it/s, loss=6.609415] \n"
     ]
    },
    {
     "name": "stdout",
     "output_type": "stream",
     "text": [
      "\n",
      "\n",
      "###################### Start to Train NN model ##########################\n"
     ]
    },
    {
     "name": "stderr",
     "output_type": "stream",
     "text": [
      "epoch  470: 100%|██████████| 35/35 [00:00<00:00, 127.32it/s, loss=6.023522] \n"
     ]
    },
    {
     "name": "stdout",
     "output_type": "stream",
     "text": [
      "\n",
      "\n",
      "###################### Start to Train NN model ##########################\n"
     ]
    },
    {
     "name": "stderr",
     "output_type": "stream",
     "text": [
      "epoch  471: 100%|██████████| 35/35 [00:00<00:00, 135.56it/s, loss=5.2088394]\n"
     ]
    },
    {
     "name": "stdout",
     "output_type": "stream",
     "text": [
      "\n",
      "\n",
      "###################### Start to Train NN model ##########################\n"
     ]
    },
    {
     "name": "stderr",
     "output_type": "stream",
     "text": [
      "epoch  472: 100%|██████████| 35/35 [00:00<00:00, 137.50it/s, loss=5.0697966]\n"
     ]
    },
    {
     "name": "stdout",
     "output_type": "stream",
     "text": [
      "\n",
      "\n",
      "###################### Start to Train NN model ##########################\n"
     ]
    },
    {
     "name": "stderr",
     "output_type": "stream",
     "text": [
      "epoch  473: 100%|██████████| 35/35 [00:00<00:00, 139.10it/s, loss=5.884509] \n"
     ]
    },
    {
     "name": "stdout",
     "output_type": "stream",
     "text": [
      "\n",
      "\n",
      "###################### Start to Train NN model ##########################\n"
     ]
    },
    {
     "name": "stderr",
     "output_type": "stream",
     "text": [
      "epoch  474: 100%|██████████| 35/35 [00:00<00:00, 136.11it/s, loss=5.0278616]\n"
     ]
    },
    {
     "name": "stdout",
     "output_type": "stream",
     "text": [
      "\n",
      "\n",
      "###################### Start to Train NN model ##########################\n"
     ]
    },
    {
     "name": "stderr",
     "output_type": "stream",
     "text": [
      "epoch  475: 100%|██████████| 35/35 [00:00<00:00, 145.42it/s, loss=5.3674865]\n"
     ]
    },
    {
     "name": "stdout",
     "output_type": "stream",
     "text": [
      "\n",
      "\n",
      "###################### Start to Train NN model ##########################\n"
     ]
    },
    {
     "name": "stderr",
     "output_type": "stream",
     "text": [
      "epoch  476: 100%|██████████| 35/35 [00:00<00:00, 129.90it/s, loss=6.302313] \n"
     ]
    },
    {
     "name": "stdout",
     "output_type": "stream",
     "text": [
      "\n",
      "\n",
      "###################### Start to Train NN model ##########################\n"
     ]
    },
    {
     "name": "stderr",
     "output_type": "stream",
     "text": [
      "epoch  477: 100%|██████████| 35/35 [00:00<00:00, 141.06it/s, loss=5.586615] \n"
     ]
    },
    {
     "name": "stdout",
     "output_type": "stream",
     "text": [
      "\n",
      "\n",
      "###################### Start to Train NN model ##########################\n"
     ]
    },
    {
     "name": "stderr",
     "output_type": "stream",
     "text": [
      "epoch  478: 100%|██████████| 35/35 [00:00<00:00, 162.14it/s, loss=5.5513616]\n"
     ]
    },
    {
     "name": "stdout",
     "output_type": "stream",
     "text": [
      "\n",
      "\n",
      "###################### Start to Train NN model ##########################\n"
     ]
    },
    {
     "name": "stderr",
     "output_type": "stream",
     "text": [
      "epoch  479: 100%|██████████| 35/35 [00:00<00:00, 164.66it/s, loss=5.1796627]\n"
     ]
    },
    {
     "name": "stdout",
     "output_type": "stream",
     "text": [
      "\n",
      "\n",
      "###################### Start to Train NN model ##########################\n"
     ]
    },
    {
     "name": "stderr",
     "output_type": "stream",
     "text": [
      "epoch  480: 100%|██████████| 35/35 [00:00<00:00, 148.78it/s, loss=6.1325636]\n"
     ]
    },
    {
     "name": "stdout",
     "output_type": "stream",
     "text": [
      "\n",
      "\n",
      "###################### Start to Train NN model ##########################\n"
     ]
    },
    {
     "name": "stderr",
     "output_type": "stream",
     "text": [
      "epoch  481: 100%|██████████| 35/35 [00:00<00:00, 136.60it/s, loss=6.8408976]\n"
     ]
    },
    {
     "name": "stdout",
     "output_type": "stream",
     "text": [
      "\n",
      "\n",
      "###################### Start to Train NN model ##########################\n"
     ]
    },
    {
     "name": "stderr",
     "output_type": "stream",
     "text": [
      "epoch  482: 100%|██████████| 35/35 [00:00<00:00, 143.15it/s, loss=5.961539] \n"
     ]
    },
    {
     "name": "stdout",
     "output_type": "stream",
     "text": [
      "\n",
      "\n",
      "###################### Start to Train NN model ##########################\n"
     ]
    },
    {
     "name": "stderr",
     "output_type": "stream",
     "text": [
      "epoch  483: 100%|██████████| 35/35 [00:00<00:00, 159.17it/s, loss=5.507968] \n"
     ]
    },
    {
     "name": "stdout",
     "output_type": "stream",
     "text": [
      "\n",
      "\n",
      "###################### Start to Train NN model ##########################\n"
     ]
    },
    {
     "name": "stderr",
     "output_type": "stream",
     "text": [
      "epoch  484: 100%|██████████| 35/35 [00:00<00:00, 130.09it/s, loss=5.957965] \n"
     ]
    },
    {
     "name": "stdout",
     "output_type": "stream",
     "text": [
      "\n",
      "\n",
      "###################### Start to Train NN model ##########################\n"
     ]
    },
    {
     "name": "stderr",
     "output_type": "stream",
     "text": [
      "epoch  485: 100%|██████████| 35/35 [00:00<00:00, 145.90it/s, loss=6.482847] \n"
     ]
    },
    {
     "name": "stdout",
     "output_type": "stream",
     "text": [
      "\n",
      "\n",
      "###################### Start to Train NN model ##########################\n"
     ]
    },
    {
     "name": "stderr",
     "output_type": "stream",
     "text": [
      "epoch  486: 100%|██████████| 35/35 [00:00<00:00, 150.94it/s, loss=5.619769] \n"
     ]
    },
    {
     "name": "stdout",
     "output_type": "stream",
     "text": [
      "\n",
      "\n",
      "###################### Start to Train NN model ##########################\n"
     ]
    },
    {
     "name": "stderr",
     "output_type": "stream",
     "text": [
      "epoch  487: 100%|██████████| 35/35 [00:00<00:00, 130.06it/s, loss=5.8617415]\n"
     ]
    },
    {
     "name": "stdout",
     "output_type": "stream",
     "text": [
      "\n",
      "\n",
      "###################### Start to Train NN model ##########################\n"
     ]
    },
    {
     "name": "stderr",
     "output_type": "stream",
     "text": [
      "epoch  488: 100%|██████████| 35/35 [00:00<00:00, 135.87it/s, loss=5.238989] \n"
     ]
    },
    {
     "name": "stdout",
     "output_type": "stream",
     "text": [
      "\n",
      "\n",
      "###################### Start to Train NN model ##########################\n"
     ]
    },
    {
     "name": "stderr",
     "output_type": "stream",
     "text": [
      "epoch  489: 100%|██████████| 35/35 [00:00<00:00, 125.64it/s, loss=5.5350404]\n"
     ]
    },
    {
     "name": "stdout",
     "output_type": "stream",
     "text": [
      "\n",
      "\n",
      "###################### Start to Train NN model ##########################\n"
     ]
    },
    {
     "name": "stderr",
     "output_type": "stream",
     "text": [
      "epoch  490: 100%|██████████| 35/35 [00:00<00:00, 134.77it/s, loss=5.6008706]\n"
     ]
    },
    {
     "name": "stdout",
     "output_type": "stream",
     "text": [
      "\n",
      "\n",
      "###################### Start to Train NN model ##########################\n"
     ]
    },
    {
     "name": "stderr",
     "output_type": "stream",
     "text": [
      "epoch  491: 100%|██████████| 35/35 [00:00<00:00, 138.84it/s, loss=5.591713] \n"
     ]
    },
    {
     "name": "stdout",
     "output_type": "stream",
     "text": [
      "\n",
      "\n",
      "###################### Start to Train NN model ##########################\n"
     ]
    },
    {
     "name": "stderr",
     "output_type": "stream",
     "text": [
      "epoch  492: 100%|██████████| 35/35 [00:00<00:00, 122.49it/s, loss=5.4054084]\n"
     ]
    },
    {
     "name": "stdout",
     "output_type": "stream",
     "text": [
      "\n",
      "\n",
      "###################### Start to Train NN model ##########################\n"
     ]
    },
    {
     "name": "stderr",
     "output_type": "stream",
     "text": [
      "epoch  493: 100%|██████████| 35/35 [00:00<00:00, 146.14it/s, loss=5.7027817]\n"
     ]
    },
    {
     "name": "stdout",
     "output_type": "stream",
     "text": [
      "\n",
      "\n",
      "###################### Start to Train NN model ##########################\n"
     ]
    },
    {
     "name": "stderr",
     "output_type": "stream",
     "text": [
      "epoch  494: 100%|██████████| 35/35 [00:00<00:00, 145.75it/s, loss=4.797892] \n"
     ]
    },
    {
     "name": "stdout",
     "output_type": "stream",
     "text": [
      "\n",
      "\n",
      "###################### Start to Train NN model ##########################\n"
     ]
    },
    {
     "name": "stderr",
     "output_type": "stream",
     "text": [
      "epoch  495: 100%|██████████| 35/35 [00:00<00:00, 109.96it/s, loss=5.8846884]\n"
     ]
    },
    {
     "name": "stdout",
     "output_type": "stream",
     "text": [
      "\n",
      "\n",
      "###################### Start to Train NN model ##########################\n"
     ]
    },
    {
     "name": "stderr",
     "output_type": "stream",
     "text": [
      "epoch  496: 100%|██████████| 35/35 [00:00<00:00, 148.86it/s, loss=5.960641] \n"
     ]
    },
    {
     "name": "stdout",
     "output_type": "stream",
     "text": [
      "\n",
      "\n",
      "###################### Start to Train NN model ##########################\n"
     ]
    },
    {
     "name": "stderr",
     "output_type": "stream",
     "text": [
      "epoch  497: 100%|██████████| 35/35 [00:00<00:00, 138.25it/s, loss=6.174107] \n"
     ]
    },
    {
     "name": "stdout",
     "output_type": "stream",
     "text": [
      "\n",
      "\n",
      "###################### Start to Train NN model ##########################\n"
     ]
    },
    {
     "name": "stderr",
     "output_type": "stream",
     "text": [
      "epoch  498: 100%|██████████| 35/35 [00:00<00:00, 127.47it/s, loss=6.279712] \n"
     ]
    },
    {
     "name": "stdout",
     "output_type": "stream",
     "text": [
      "\n",
      "\n",
      "###################### Start to Train NN model ##########################\n"
     ]
    },
    {
     "name": "stderr",
     "output_type": "stream",
     "text": [
      "epoch  499: 100%|██████████| 35/35 [00:00<00:00, 157.41it/s, loss=6.168156] \n"
     ]
    },
    {
     "name": "stdout",
     "output_type": "stream",
     "text": [
      "Loading Pretrained models on CPU!\n",
      "\n",
      "\n",
      ">>>Congrats! The DNN regression model has been trained and saved!\n"
     ]
    }
   ],
   "source": [
    "if __name__ == '__main__':\n",
    "    ################ Parameters Settings ######################\n",
    "    trn_file = '../../data/dnn_dataset/training.csv'\n",
    "    val_file = '../../data/dnn_dataset/validation.csv'\n",
    "    tst_file = '../../data/dnn_dataset/hos.csv'\n",
    "    normalization_type = 'StandardScaler'\n",
    "    gpu_id = 0\n",
    "    trn_batch_size = 128\n",
    "    val_batch_size = 128\n",
    "    tst_batch_size = 128\n",
    "    layer_num = 10\n",
    "    input_dim = 19\n",
    "    hidden_dim = 32\n",
    "    output_dim = 1\n",
    "    learning_rate = 1e-3\n",
    "    \n",
    "    max_epoch = 500\n",
    "    check_freq = 1\n",
    "    \n",
    "    \n",
    "    ################ Start Training ######################\n",
    "    train_deepreg(trn_file,\n",
    "                  val_file, \n",
    "                  tst_file, \n",
    "                  normalization_type, \n",
    "                  gpu_id, \n",
    "                  trn_batch_size, \n",
    "                  val_batch_size, \n",
    "                  tst_batch_size,\n",
    "                  layer_num, \n",
    "                  input_dim, \n",
    "                  hidden_dim, \n",
    "                  output_dim,\n",
    "                  learning_rate,\n",
    "                  max_epoch,\n",
    "                  check_freq)"
   ]
  },
  {
   "cell_type": "code",
   "execution_count": null,
   "id": "9925d7c5",
   "metadata": {},
   "outputs": [],
   "source": []
  },
  {
   "cell_type": "code",
   "execution_count": null,
   "id": "5e4815fc",
   "metadata": {},
   "outputs": [],
   "source": []
  }
 ],
 "metadata": {
  "kernelspec": {
   "display_name": "Python 3",
   "language": "python",
   "name": "python3"
  },
  "language_info": {
   "codemirror_mode": {
    "name": "ipython",
    "version": 3
   },
   "file_extension": ".py",
   "mimetype": "text/x-python",
   "name": "python",
   "nbconvert_exporter": "python",
   "pygments_lexer": "ipython3",
   "version": "3.6.13"
  }
 },
 "nbformat": 4,
 "nbformat_minor": 5
}
