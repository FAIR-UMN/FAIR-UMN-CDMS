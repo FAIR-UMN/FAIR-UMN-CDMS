{
 "cells": [
  {
   "cell_type": "markdown",
   "id": "0ca1dd72",
   "metadata": {},
   "source": [
    "## This script gets the statisctical informaiton about predictions"
   ]
  },
  {
   "cell_type": "code",
   "execution_count": 1,
   "id": "08769eb3",
   "metadata": {},
   "outputs": [],
   "source": [
    "######### import packages\n",
    "import pandas as pd\n",
    "import numpy as np\n",
    "import os\n",
    "import glob\n",
    "import torch"
   ]
  },
  {
   "cell_type": "markdown",
   "id": "f4113044",
   "metadata": {},
   "source": [
    "Below, we start to run our script. Please note that the folders name in this script should be modified and set according to what model folders you have."
   ]
  },
  {
   "cell_type": "code",
   "execution_count": 12,
   "id": "56186ee5",
   "metadata": {},
   "outputs": [
    {
     "name": "stdout",
     "output_type": "stream",
     "text": [
      "[-29.5        -12.50199986 -41.90000153]\n",
      "[-41.90000153 -29.5        -12.50199986]\n",
      "[-29.5        -41.90000153 -12.50199986]\n",
      "\n",
      "Congrats! The statistical information about predictions has been saved!\n"
     ]
    }
   ],
   "source": [
    "if __name__ == '__main__':\n",
    "    \n",
    "    #------------ set up parameters\n",
    "    layer_num = [2, 5, 10]\n",
    "    hidden_dim = [32]\n",
    "    # the directory of test results\n",
    "    # \"DNN_Models/DNN_Regression/deepnn_results/test_results\"\n",
    "    root_dir = os.path.join('../','src','DNN_Regression','deepnn_results','test_results')\n",
    "    \n",
    "    # to save the statistical results\n",
    "    stat_info_dict = {'Layer_num':[],\n",
    "                     'Hidden_dim':[],\n",
    "                     'Trn_RMSE':[],\n",
    "                     'Val_RMSE':[],\n",
    "                     'Tst_RMSE':[],\n",
    "                     'Pred_-12_RMSE':[],\n",
    "                     'Pred_-12_mean':[],\n",
    "                     'Pred_-12_std':[],\n",
    "                     'Pred_-29_RMSE':[],\n",
    "                     'Pred_-29_mean':[],\n",
    "                     'Pred_-29_std':[],\n",
    "                     'Pred_-41_RMSE':[],\n",
    "                     'Pred_-41_mean':[],\n",
    "                     'Pred_-41_std':[],\n",
    "                     }\n",
    "    \n",
    "    for cur_layer in layer_num:\n",
    "        for cur_hd in hidden_dim:\n",
    "            # predictions of training set\n",
    "            trn_pred_file = os.path.join(root_dir, 'train_prediction_L{}_H{}.csv'.format(cur_layer, cur_hd))\n",
    "            val_pred_file = os.path.join(root_dir, 'validation_prediction_L{}_H{}.csv'.format(cur_layer, cur_hd))\n",
    "            tst_pred_file = os.path.join(root_dir, 'hos_test_prediction_L{}_H{}.csv'.format(cur_layer, cur_hd))\n",
    "            rmse_file = os.path.join(root_dir, 'final_RMSE_L{}_H{}.csv'.format(cur_layer, cur_hd))\n",
    "            \n",
    "            # read data to dataframe\n",
    "            trn_pred_df = pd.read_csv(trn_pred_file)\n",
    "            val_pred_df = pd.read_csv(val_pred_file)\n",
    "            tst_pred_df = pd.read_csv(tst_pred_file)\n",
    "            rmse_df = pd.read_csv(rmse_file)\n",
    "            trn_rmse = rmse_df[rmse_df['Type']=='Train_RMSE']['RMSE'].values[0]\n",
    "            val_rmse = rmse_df[rmse_df['Type']=='Validation_RMSE']['RMSE'].values[0]\n",
    "            tst_rmse = rmse_df[rmse_df['Type']=='Test_RMSE']['RMSE'].values[0]\n",
    "            \n",
    "           \n",
    "            held_out_positions = []\n",
    "            held_out_positions = tst_pred_df['Y_True'].unique()\n",
    "            print(held_out_positions)\n",
    "            \n",
    "            # process each held_out positon:\n",
    "            temp_dict = {'-12':[], '-29':[], '-41':[]}\n",
    "            \n",
    "            for cur_position in held_out_positions:\n",
    "                cur_pred_df = tst_pred_df[tst_pred_df['Y_True']==cur_position]\n",
    "                cur_Y_true = cur_pred_df['Y_True'].values\n",
    "                cur_Y_true = torch.from_numpy(cur_Y_true)\n",
    "                cur_Y_pred = cur_pred_df['Y_Prediction'].values\n",
    "                cur_Y_pred = torch.from_numpy(cur_Y_pred)\n",
    "                loss = torch.nn.MSELoss()\n",
    "                cur_mse = loss(cur_Y_pred, cur_Y_true)\n",
    "                cur_mse = torch.sqrt(cur_mse) #RMSE\n",
    "                cur_mse = cur_mse.item()\n",
    "                cur_pred_mean = cur_pred_df['Y_Prediction'].mean()\n",
    "                cur_pred_std = cur_pred_df['Y_Prediction'].std()\n",
    "                \n",
    "                cur_position = str(cur_position).split('.')[0]\n",
    "                temp_dict[cur_position].append([cur_mse, cur_pred_mean, cur_pred_std])\n",
    "                \n",
    "                \n",
    "           \n",
    "            stat_info_dict['Layer_num'].append(cur_layer)\n",
    "            stat_info_dict['Hidden_dim'].append(cur_hd)\n",
    "            stat_info_dict['Trn_RMSE'].append(trn_rmse)\n",
    "            stat_info_dict['Val_RMSE'].append(val_rmse)\n",
    "            stat_info_dict['Tst_RMSE'].append(tst_rmse)\n",
    "            stat_info_dict['Pred_-12_RMSE'].append(temp_dict['-12'][0][0])\n",
    "            stat_info_dict['Pred_-12_mean'].append(temp_dict['-12'][0][1])\n",
    "            stat_info_dict['Pred_-12_std'].append(temp_dict['-12'][0][2])\n",
    "            stat_info_dict['Pred_-29_RMSE'].append(temp_dict['-29'][0][0])\n",
    "            stat_info_dict['Pred_-29_mean'].append(temp_dict['-29'][0][1])\n",
    "            stat_info_dict['Pred_-29_std'].append(temp_dict['-29'][0][2])\n",
    "            stat_info_dict['Pred_-41_RMSE'].append(temp_dict['-41'][0][0])\n",
    "            stat_info_dict['Pred_-41_mean'].append(temp_dict['-41'][0][1])\n",
    "            stat_info_dict['Pred_-41_std'].append(temp_dict['-41'][0][2])\n",
    "                \n",
    "                \n",
    "                \n",
    "                \n",
    "            \n",
    "    ############# after finishing, let's save it\n",
    "   \n",
    "    stat_info_df = pd.DataFrame.from_dict(stat_info_dict)\n",
    "    stat_info_file = 'stat_results/stat_info.csv'\n",
    "    if not os.path.exists('stat_results'):\n",
    "        os.makedirs('stat_results')\n",
    "    else:\n",
    "        pass\n",
    "    stat_info_df.to_csv(stat_info_file, index=False)\n",
    "    \n",
    "    print('')\n",
    "    print('Congrats! The statistical information about predictions has been saved!')\n",
    "            \n",
    "            "
   ]
  },
  {
   "cell_type": "code",
   "execution_count": null,
   "id": "7709592e",
   "metadata": {},
   "outputs": [],
   "source": []
  }
 ],
 "metadata": {
  "kernelspec": {
   "display_name": "Python 3",
   "language": "python",
   "name": "python3"
  },
  "language_info": {
   "codemirror_mode": {
    "name": "ipython",
    "version": 3
   },
   "file_extension": ".py",
   "mimetype": "text/x-python",
   "name": "python",
   "nbconvert_exporter": "python",
   "pygments_lexer": "ipython3",
   "version": "3.6.13"
  }
 },
 "nbformat": 4,
 "nbformat_minor": 5
}
