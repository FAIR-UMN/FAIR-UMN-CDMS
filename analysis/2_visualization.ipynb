{
 "cells": [
  {
   "cell_type": "markdown",
   "id": "d454a167",
   "metadata": {},
   "source": [
    "## Visualize the predictions\n",
    "\n",
    "This Jupyter notebook is used to visualize the predictions on test data; in particular, it is used to generate the histogram of predictions on each position."
   ]
  },
  {
   "cell_type": "markdown",
   "id": "de00d3e6",
   "metadata": {},
   "source": [
    "First, let's import packages"
   ]
  },
  {
   "cell_type": "code",
   "execution_count": 1,
   "id": "69b1f0c4",
   "metadata": {},
   "outputs": [],
   "source": [
    "import pandas as pd\n",
    "import numpy as np\n",
    "import os\n",
    "import matplotlib.pyplot as plt"
   ]
  },
  {
   "cell_type": "code",
   "execution_count": 2,
   "id": "5dfc5fe6",
   "metadata": {},
   "outputs": [],
   "source": [
    "def make_histogram(input_file, save_folder, layer_num):\n",
    "    df = pd.read_csv(input_file)\n",
    "    y_true_list = df['Y_True'].unique()\n",
    "    for cur_y_true in y_true_list:\n",
    "        cur_df = df[df['Y_True']==cur_y_true]\n",
    "        cur_y_true_np = cur_df['Y_True'].values\n",
    "        cur_y_pred_np = cur_df['Y_Prediction'].values\n",
    "        #----- draw histogram of Y_True and Y_Prediction\n",
    "        fig_title = 'The histogram of prediction on {} (NN-{})'.format(np.round(cur_y_true,3), layer_num)\n",
    "        fig_name = os.path.join(save_folder, 'NN_{}_{}.png'.format(layer_num, np.round(cur_y_true,3)))\n",
    "        plt.figure()\n",
    "        plt.hist(cur_y_true_np, bins=1, label='Ground truth', alpha=0.5)\n",
    "        plt.hist(cur_y_pred_np, bins=10, label='Predictions', alpha=0.5)\n",
    "        plt.title(fig_title)\n",
    "        plt.xlabel('Position')\n",
    "        plt.ylabel('Sample number')\n",
    "        plt.legend()\n",
    "        plt.savefig(fig_name, dpi=300)\n",
    "        plt.close()"
   ]
  },
  {
   "cell_type": "markdown",
   "id": "ca9a49bf",
   "metadata": {},
   "source": [
    "Below, we start to run our method"
   ]
  },
  {
   "cell_type": "code",
   "execution_count": 3,
   "id": "0ccf5366",
   "metadata": {},
   "outputs": [
    {
     "name": "stdout",
     "output_type": "stream",
     "text": [
      "\n",
      ">>>Congrats! Figures have been saved!\n"
     ]
    }
   ],
   "source": [
    "if __name__ == '__main__':\n",
    "    \n",
    "    #------------ set up parameters\n",
    "    layer_num = [2, 5, 10]\n",
    "    hidden_dim = [32]\n",
    "    # the directory of test results\n",
    "    # \"DNN_Models/DNN_Regression/deepnn_results/test_results\"\n",
    "    root_dir = os.path.join('../','src','DNN_Regression','deepnn_results','test_results')\n",
    "    \n",
    "    save_folder = 'hist_results'\n",
    "    if not os.path.exists('hist_results'):\n",
    "        os.makedirs('hist_results')\n",
    "    else:\n",
    "        pass\n",
    "    \n",
    "    for cur_layer in layer_num:\n",
    "        for cur_hd in hidden_dim:\n",
    "            # predictions of training set\n",
    "            tst_pred_file = os.path.join(root_dir, 'hos_test_prediction_L{}_H{}.csv'.format(cur_layer, cur_hd))\n",
    "            make_histogram(tst_pred_file, save_folder, cur_layer)\n",
    "    print('')\n",
    "    print('>>>Congrats! Figures have been saved!')"
   ]
  },
  {
   "cell_type": "code",
   "execution_count": null,
   "id": "dabd8eaa",
   "metadata": {},
   "outputs": [],
   "source": []
  }
 ],
 "metadata": {
  "kernelspec": {
   "display_name": "Python 3",
   "language": "python",
   "name": "python3"
  },
  "language_info": {
   "codemirror_mode": {
    "name": "ipython",
    "version": 3
   },
   "file_extension": ".py",
   "mimetype": "text/x-python",
   "name": "python",
   "nbconvert_exporter": "python",
   "pygments_lexer": "ipython3",
   "version": "3.6.13"
  }
 },
 "nbformat": 4,
 "nbformat_minor": 5
}
