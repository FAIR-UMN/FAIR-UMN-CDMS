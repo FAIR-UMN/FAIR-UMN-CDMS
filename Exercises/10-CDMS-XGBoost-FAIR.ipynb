{
 "cells": [
  {
   "cell_type": "code",
   "execution_count": 3,
   "metadata": {},
   "outputs": [
    {
     "name": "stderr",
     "output_type": "stream",
     "text": [
      "/var/folders/y6/pdkrkx0s06d2k0_qhmmrpf8c0000gn/T/ipykernel_49817/1892926597.py:3: DeprecationWarning: \n",
      "Pyarrow will become a required dependency of pandas in the next major release of pandas (pandas 3.0),\n",
      "(to allow more performant data types, such as the Arrow string type, and better interoperability with other libraries)\n",
      "but was not found to be installed on your system.\n",
      "If this would cause problems for you,\n",
      "please provide us feedback at https://github.com/pandas-dev/pandas/issues/54466\n",
      "        \n",
      "  import pandas as pd\n"
     ]
    }
   ],
   "source": [
    "import os\n",
    "\n",
    "import pandas as pd\n",
    "import numpy as np\n",
    "\n",
    "from sklearn.preprocessing import StandardScaler\n",
    "from sklearn.model_selection import train_test_split\n",
    "from sklearn.metrics import mean_squared_error\n",
    "from sklearn.decomposition import PCA\n",
    "\n",
    "from sklearn.ensemble import RandomForestRegressor\n",
    "\n",
    "import xgboost as xgb\n",
    "\n",
    "from matplotlib import pyplot as plt\n",
    "import seaborn as sns\n",
    "from graphviz import Digraph"
   ]
  },
  {
   "cell_type": "markdown",
   "metadata": {},
   "source": [
    "XGBoost is a type of boosting system that uses Tree Boosting algorithm to build ML models. It is one of the most widely used models, especially in the domain of High Energy Physics (HEP). The original paper was published in 2016 (https://arxiv.org/pdf/1603.02754.pdf) descibes a sparsity-aware algorithm for sparse data and weighted quantile sketch for approximate tree learning. It also describes other aspects related to achieving sclable learning such as out-of-core computation, cache-awareness and sparsity-awareness."
   ]
  },
  {
   "cell_type": "markdown",
   "metadata": {},
   "source": [
    "To train the model, we start by defining an objective function, which is similar to the standard Langrangian used in physics. The objective function can be defined in two parts as below:"
   ]
  },
  {
   "cell_type": "markdown",
   "metadata": {},
   "source": [
    "$$\\mathcal{L}(\\phi) =  \\sum_{i}l(\\hat{y_i}, y_i)+\\sum_{k} \\Omega(f_k)$$"
   ]
  },
  {
   "cell_type": "markdown",
   "metadata": {},
   "source": [
    "where"
   ]
  },
  {
   "cell_type": "markdown",
   "metadata": {},
   "source": [
    "$$\\Omega(f) = \\gamma T+\\dfrac{1}{2}\\lambda\\left \\| w \\right \\|^2$$"
   ]
  },
  {
   "cell_type": "markdown",
   "metadata": {},
   "source": [
    "$l$ is the  differentiable convex loss function, which computes the \"error\" for each data point and the second term is the **regularization** that adds a penalty to prevent overtraining at eah step of the iteration. The **regularization** terms include two tunable multiplier terms $\\lambda$ and $\\gamma$, which penalize for number of leaves used ($T$) in a tree and the weights ($w$) assigned to each of those leaves respectively."
   ]
  },
  {
   "cell_type": "markdown",
   "metadata": {},
   "source": [
    "Let's start by define a class for training the data using Gradient Boosting. Gradient Boost starts by making a single leaf which is the predictor of the average value of y. Then, it calculates residuals for each entry in the training dataset. Then the algorithm build a binary tree where each node sorts the dataset using a criterion. The trees will grow until they reach the specified maximum depth (`maxdepth`). Hence, a tree classifies the entire dataset into several categories depending on the values of the features. Depending on which category the data point enters, it's residual is recalculated. This processed is repeated for a number of times equal to the `n_estimators` specified leading to a lesser residual at every step. In this example, we are using `squarederror` as the objective function."
   ]
  },
  {
   "cell_type": "code",
   "execution_count": 4,
   "metadata": {},
   "outputs": [],
   "source": [
    "class CDMSXGBRegressor:\n",
    "    \"\"\"\n",
    "    A class to train a XGBoost Regressor on the CDMS dataset. The training can be done with either cross-validation method, \n",
    "    in which case the entire dataset is randomly divided into `train` and `test` sets. Or the training can be done using\n",
    "    hold-out-dataset method, in which case the dataset will be grouped by the speicified target values into `train` and `test` sets.\n",
    "    ...\n",
    "\n",
    "    Attributes\n",
    "    ----------\n",
    "    holdout : bool\n",
    "        Whether to use holdout method or not\n",
    "    kcv : int\n",
    "        Number of sets in k-fold cross-validation\n",
    "    scaler : StandardScaler\n",
    "        Scaler to normalize the dataset\n",
    "    xgb_regressors : list\n",
    "        List of trained XGBoost Regressors. For cross-validation the list will be of size kcv.\n",
    "    df : pd.DataFrame\n",
    "        Input dataset\n",
    "    X:  Numpy Array\n",
    "        Processed input dataset\n",
    "    Y:  Numpy Array\n",
    "        Target values\n",
    "    \n",
    "    Methods\n",
    "    ----------\n",
    "    read_dataset(filename, custom_features=None, drop_features=None, HOS=None, cv=False)\n",
    "        Read the dataset from the specified file\n",
    "    preprocess_dataset()\n",
    "        Preprocess the dataset\n",
    "    initialize_xgboost_regressor()\n",
    "        Initialize XGBoost Regressor\n",
    "    train_xgboost_regressor()\n",
    "        Train XGBoost Regressor\n",
    "\n",
    "    \"\"\"\n",
    "    def __init__(self):\n",
    "        \n",
    "        self.holdout = False\n",
    "        self.kcv = 1\n",
    "        \n",
    "        self.scaler = StandardScaler()\n",
    "        self.xgb_regressors = []\n",
    "        \n",
    "        self.df = None\n",
    "        self.X = None\n",
    "        self.Y = None\n",
    "        \n",
    "    \n",
    "    def read_dataset(self,\n",
    "                     filename,\n",
    "                     custom_features=None,\n",
    "                     drop_features=None,\n",
    "                     HOS=None,\n",
    "                     kcv=1):\n",
    "        \"\"\"\n",
    "        Parameters\n",
    "        ----------\n",
    "        filename: str\n",
    "            name of the file\n",
    "        custom_features: list\n",
    "            list of columns to be used as features\n",
    "        drop_features: list\n",
    "            list of columns to be dropped (WARNING: cannot be used with custom_features together)\n",
    "        HOS: list\n",
    "            list of target values to be used as hold-out-dataset\n",
    "        cv: int\n",
    "            number of sets in k-fold cross-validation (WARNING: cannot be used with HOS together)\n",
    "        Returns\n",
    "        ----------\n",
    "        bool\n",
    "            whether the dataset was read successfully or not. If not, the program will exit.\n",
    "        ...\n",
    "        Examples\n",
    "        ----------\n",
    "        >>> cdms_xgb_regressor.read_dataset('data/cdms-dataset.csv')\n",
    "        >>> cdms_xgb_regressor.read_dataset('data/cdms-dataset.csv', custom_features=['x1', 'x2', 'x3'])\n",
    "        >>> cdms_xgb_regressor.read_dataset('data/cdms-dataset.csv', drop_features=['x1', 'x2', 'x3'])\n",
    "        >>> cdms_xgb_regressor.read_dataset('data/cdms-dataset.csv', HOS=[-41.9])\n",
    "        \"\"\"\n",
    "        self.df = pd.read_csv(filename)\n",
    "        self.df = self.df.sample(frac=1).reset_index(drop=True) # randomize the dataset\n",
    "\n",
    "        # generate cv set\n",
    "        self.df = pd.read_csv(filename)\n",
    "        self.df = self.df.sample(frac=1).reset_index(drop=True) # randomize the dataset\n",
    "        \n",
    "        # generate cv set\n",
    "        dsize = len(self.df)\n",
    "        self.kcv = kcv\n",
    "        if self.kcv: self.df['cv'] = np.array(np.random.rand(dsize)*self.kcv, dtype=int)\n",
    "        else: self.df['cv'] = np.zeros(dsize)\n",
    "        self.df['HOS'] = False\n",
    "\n",
    "        # filter out columns\n",
    "        if custom_features and drop_features:\n",
    "            print('Warning: You can use only one of custom_features or drop_features')\n",
    "            return False\n",
    "        \n",
    "        # use custom selection of columns\n",
    "        if custom_features is not None:\n",
    "            self.df = self.df[custom_features]\n",
    "        elif drop_features is not None:\n",
    "            self.df = self.df.drop(drop_features, axis=1)\n",
    "        else:\n",
    "            self.df = self.df.drop(['Row'], axis=1)\n",
    "\n",
    "        if HOS is not None:\n",
    "            self.holdout = True\n",
    "            self.df['HOS'] = self.df['y'].apply(lambda x: True if x in HOS else False)\n",
    "            self.df = self.df.sample(frac=1).reset_index(drop=True)\n",
    "\n",
    "        return True\n",
    "    \n",
    "    def preprocess_dataset(self):\n",
    "        \"\"\"\n",
    "        normalize dataset using standard scaler\n",
    "        \"\"\"\n",
    "        self.X = self.df.drop(['cv','y','HOS'], axis=1).to_numpy()\n",
    "        self.X = self.scaler.fit_transform(self.X)\n",
    "        self.Y = self.df['y'].to_numpy()\n",
    "\n",
    "    \n",
    "    def initialize_xgb_regressors(self, params):\n",
    "        \n",
    "        if self.holdout:\n",
    "            xgb_regressor = xgb.XGBRegressor(**params)\n",
    "            self.xgb_regressors.append(xgb_regressor)\n",
    "        \n",
    "        else:\n",
    "            for i in range(self.kcv):\n",
    "                xgb_regressor = xgb.XGBRegressor(**params)\n",
    "                self.xgb_regressors.append(xgb_regressor)\n",
    "        \n",
    "    def train_regressors(self, path_to_output='../training/test'):\n",
    "        \"\"\"\n",
    "        Parameters\n",
    "        ----------\n",
    "        path_to_output: str\n",
    "            path to the directory where the trained model will be saved\n",
    "        Outputs\n",
    "        ----------\n",
    "        bool\n",
    "            whether the model was trained successfully or not. If not, the program will exit.\n",
    "        ...\n",
    "        Examples\n",
    "        ----------\n",
    "        >>> cdms_xgb_regressor.train_regressors()\n",
    "        >>> cdms_xgb_regressor.train_regressors(path_to_output='../training/test')\n",
    "        >>> cdms_xgb_regressor.train_regressors(path_to_output='../training/test', params={'max_depth':2})\n",
    "        \"\"\"\n",
    "\n",
    "        if not os.path.exists(path_to_output):\n",
    "            os.makedirs(path_to_output)\n",
    "        else:\n",
    "            print('Warning: directory already exists.')\n",
    "            return False\n",
    "        \n",
    "        dsize = len(self.df)\n",
    "        print('Training regressors...')\n",
    "        \n",
    "        if self.holdout:\n",
    "            xgb_ = self.xgb_regressors[0]\n",
    "            X_ = self.X[self.df['HOS']==False]\n",
    "            Y_ = self.Y[self.df['HOS']==False]\n",
    "            X_test = self.X[self.df['HOS']==True]\n",
    "            Y_test = self.Y[self.df['HOS']==True]\n",
    "\n",
    "            X_train, X_val, Y_train, Y_val = train_test_split(X_, Y_, test_size=0.33, random_state=7)\n",
    "            xgb_.fit(X_train, Y_train, eval_set = [(X_train, Y_train), (X_val, Y_val)], eval_metric='rmse', early_stopping_rounds=10, verbose=True)\n",
    "            results = xgb_.evals_result()\n",
    "            \n",
    "            epochs = len(results['validation_0']['rmse'])\n",
    "            erange = range(0, epochs)\n",
    "            fig, ax = plt.subplots()\n",
    "            ax.plot(erange, results['validation_0']['rmse'], label='Train')\n",
    "            ax.plot(erange, results['validation_1']['rmse'], label='Validation')\n",
    "            ax.legend()\n",
    "            plt.ylabel('RMSE')\n",
    "            plt.title('XGBoost RMSE')\n",
    "            plt.savefig(path_to_output+'/xgb_rmse.png')\n",
    "\n",
    "            rmse = np.std(xgb_.predict(X_train)-Y_train)\n",
    "            print('Train RMSE: ', rmse)\n",
    "            rmse = np.std(xgb_.predict(X_val)-Y_val)\n",
    "            print('Validation RMSE: ', rmse)\n",
    "            rmse = np.std(xgb_.predict(X_test)-Y_test)\n",
    "            print('Test RMSE: ', rmse)\n",
    "            # initialize a vector for storing predictions\n",
    "        \n",
    "        else:\n",
    "            if self.kcv>1:\n",
    "                for i in range(self.kcv):\n",
    "                    xgb_ = self.xgb_regressors[i]\n",
    "                    X_train = self.X[self.df['cv']!=i]\n",
    "                    Y_train = self.Y[self.df['cv']!=i]\n",
    "                    X_test = self.X[self.df['cv']==i]\n",
    "                    Y_test = self.Y[self.df['cv']==i]\n",
    "                    xgb_.fit(X_train, Y_train)\n",
    "\n",
    "                    rmse = np.std(xgb_.predict(X_train)-Y_train)\n",
    "                    print('Train RMSE: ', rmse)\n",
    "                    rmse = np.std(xgb_.predict(X_test)-Y_test)\n",
    "                    print('Test RMSE: ', rmse)\n",
    "            else:\n",
    "                xgb_ = self.xgb_regressors[0]\n",
    "                \n",
    "                X_train, X_val, Y_train, Y_val = train_test_split(self.X, self.Y, test_size=0.33, random_state=7)\n",
    "                xgb_.fit(X_train, Y_train, eval_set = [(X_train, Y_train), (X_val, Y_val)], eval_metric='rmse', early_stopping_rounds=5, verbose=True)\n",
    "                results = xgb_.evals_result()\n",
    "                \n",
    "                epochs = len(results['validation_0']['rmse'])\n",
    "                erange = range(0, epochs)\n",
    "                fig, ax = plt.subplots()\n",
    "                ax.plot(erange, results['validation_0']['rmse'], label='Train')\n",
    "                ax.plot(erange, results['validation_1']['rmse'], label='Validation')\n",
    "                ax.legend()\n",
    "                plt.ylabel('RMSE')\n",
    "                plt.title('XGBoost RMSE')\n",
    "                plt.savefig(path_to_output+'/xgb_rmse.png')\n",
    "\n",
    "                rmse = np.std(xgb_.predict(X_train)-Y_train)\n",
    "                print('Train RMSE: ', rmse)\n",
    "                rmse = np.std(xgb_.predict(X_val)-Y_val)\n",
    "                print('Validation RMSE: ', rmse)\n",
    "        \n",
    "        nreg = len(self.xgb_regressors)\n",
    "        for i in range(nreg):\n",
    "            self.xgb_regressors[i].save_model(path_to_output+'/xgb_regressor_'+str(i)+'.json')\n",
    "    \n",
    "    def get_predictions(self, path_to_output):\n",
    "        \"\"\"\n",
    "        Parameters\n",
    "        ----------\n",
    "        filename: str\n",
    "            name of the file where the predictions will be saved\n",
    "        Outputs\n",
    "        ----------\n",
    "        bool\n",
    "            whether the predictions were saved successfully or not. If not, the program will exit.\n",
    "        ...\n",
    "        Examples\n",
    "        ----------\n",
    "        >>> cdms_xgb_regressor.get_predictions('data/cdms-predictions.csv')\n",
    "        \"\"\"\n",
    "        \n",
    "        if self.holdout:\n",
    "            self.df['predictions'] = self.xgb_regressors[0].predict(self.X)\n",
    "        else:\n",
    "            self.df['predictions'] = np.zeros(len(self.df))\n",
    "            for i in range(self.kcv):\n",
    "                self.df['predictions'] += (self.xgb_regressors[i].predict(self.X))*(self.df['cv']==i)\n",
    "\n",
    "        self.df['predictions'].to_csv(path_to_output+'/predictions.csv', index=False)"
   ]
  },
  {
   "cell_type": "markdown",
   "metadata": {},
   "source": [
    "Now, let's proceed to training the XGBoost model. First, we need to make a dictionary to fix different training parameters within the model.\n",
    "\n",
    "   * n_estimators     – Number of gradient boosted trees. Equivalent to number of boosting rounds. Set it to 100.\n",
    "   * max_depth        – Maximum tree depth for base learners. Set it to 6.\n",
    "   * learning_rate    – Boosting learning rate (xgb’s “eta”). Set it to 0.3.\n",
    "   * objective        – Objective function for training. In this example, we will use RMSE.\n",
    "   * booster          - Use gbtree\n",
    "   * tree_method      – Set split-finding method to exact.\n",
    "   * gamma            – (min_split_loss) Minimum loss reduction required to make a further partition on a leaf node of the tree. Set it to 0.\n",
    "   * min_child_weight – Minimum sum of instance weight(hessian) needed in a child.\n",
    "   * max_delta_step   – Maximum delta step we allow each tree’s weight estimation to be.\n",
    "   * reg_alpha        - L1 resularization term. Set it to 0.\n",
    "   * reg_lambda       - L2 resularization term. Set it to 0."
   ]
  },
  {
   "cell_type": "code",
   "execution_count": 6,
   "metadata": {},
   "outputs": [
    {
     "name": "stdout",
     "output_type": "stream",
     "text": [
      "Training regressors...\n",
      "[0]\tvalidation_0-rmse:18.40265\tvalidation_1-rmse:18.52068\n",
      "[1]\tvalidation_0-rmse:12.88326\tvalidation_1-rmse:12.97162\n",
      "[2]\tvalidation_0-rmse:9.01981\tvalidation_1-rmse:9.08941\n",
      "[3]\tvalidation_0-rmse:6.31585\tvalidation_1-rmse:6.37601\n",
      "[4]\tvalidation_0-rmse:4.42307\tvalidation_1-rmse:4.48372\n",
      "[5]\tvalidation_0-rmse:3.09878\tvalidation_1-rmse:3.16640\n",
      "[6]\tvalidation_0-rmse:2.17179\tvalidation_1-rmse:2.25775\n",
      "[7]\tvalidation_0-rmse:1.52345\tvalidation_1-rmse:1.63635\n",
      "[8]\tvalidation_0-rmse:1.07048\tvalidation_1-rmse:1.22056\n",
      "[9]\tvalidation_0-rmse:0.75388\tvalidation_1-rmse:0.95305\n",
      "[10]\tvalidation_0-rmse:0.53284\tvalidation_1-rmse:0.78740\n",
      "[11]\tvalidation_0-rmse:0.37993\tvalidation_1-rmse:0.69201\n",
      "[12]\tvalidation_0-rmse:0.27305\tvalidation_1-rmse:0.64057\n",
      "[13]\tvalidation_0-rmse:0.20009\tvalidation_1-rmse:0.61295\n",
      "[14]\tvalidation_0-rmse:0.15111\tvalidation_1-rmse:0.59779\n"
     ]
    },
    {
     "name": "stderr",
     "output_type": "stream",
     "text": [
      "/opt/homebrew/anaconda3/envs/tf-metal/lib/python3.9/site-packages/xgboost/sklearn.py:889: UserWarning: `eval_metric` in `fit` method is deprecated for better compatibility with scikit-learn, use `eval_metric` in constructor or`set_params` instead.\n",
      "  warnings.warn(\n",
      "/opt/homebrew/anaconda3/envs/tf-metal/lib/python3.9/site-packages/xgboost/sklearn.py:889: UserWarning: `early_stopping_rounds` in `fit` method is deprecated for better compatibility with scikit-learn, use `early_stopping_rounds` in constructor or`set_params` instead.\n",
      "  warnings.warn(\n",
      "/opt/homebrew/anaconda3/envs/tf-metal/lib/python3.9/site-packages/xgboost/core.py:160: UserWarning: [13:54:01] WARNING: /Users/runner/work/xgboost/xgboost/src/common/error_msg.cc:45: `gpu_id` is deprecated since2.0.0, use `device` instead. E.g. device=cpu/cuda/cuda:0\n",
      "  warnings.warn(smsg, UserWarning)\n"
     ]
    },
    {
     "name": "stdout",
     "output_type": "stream",
     "text": [
      "[15]\tvalidation_0-rmse:0.11725\tvalidation_1-rmse:0.59002\n",
      "[16]\tvalidation_0-rmse:0.09463\tvalidation_1-rmse:0.58579\n",
      "[17]\tvalidation_0-rmse:0.08159\tvalidation_1-rmse:0.58349\n",
      "[18]\tvalidation_0-rmse:0.07192\tvalidation_1-rmse:0.58209\n",
      "[19]\tvalidation_0-rmse:0.06722\tvalidation_1-rmse:0.58112\n",
      "[20]\tvalidation_0-rmse:0.06056\tvalidation_1-rmse:0.58052\n",
      "[21]\tvalidation_0-rmse:0.05607\tvalidation_1-rmse:0.58027\n",
      "[22]\tvalidation_0-rmse:0.05355\tvalidation_1-rmse:0.57957\n",
      "[23]\tvalidation_0-rmse:0.04935\tvalidation_1-rmse:0.57946\n",
      "[24]\tvalidation_0-rmse:0.04745\tvalidation_1-rmse:0.57869\n",
      "[25]\tvalidation_0-rmse:0.04655\tvalidation_1-rmse:0.57879\n",
      "[26]\tvalidation_0-rmse:0.04511\tvalidation_1-rmse:0.57925\n",
      "[27]\tvalidation_0-rmse:0.04339\tvalidation_1-rmse:0.57982\n",
      "[28]\tvalidation_0-rmse:0.04024\tvalidation_1-rmse:0.57986\n",
      "[29]\tvalidation_0-rmse:0.03990\tvalidation_1-rmse:0.57957\n",
      "Train RMSE:  0.047357607760099986\n",
      "Validation RMSE:  0.5786913680663924\n"
     ]
    },
    {
     "data": {
      "image/png": "[encoded data removed]",
      "text/plain": [
       "<Figure size 640x480 with 1 Axes>"
      ]
     },
     "metadata": {},
     "output_type": "display_data"
    }
   ],
   "source": [
    "param = {\n",
    "'base_score':0.5, 'booster':'gbtree', 'colsample_bylevel':1,\n",
    "'colsample_bynode':1, 'colsample_bytree':1, 'gamma':0, 'gpu_id':-1,\n",
    "'importance_type':'gain', 'interaction_constraints':'',\n",
    "'learning_rate':0.3, 'max_delta_step':0, 'max_depth':6,\n",
    "'min_child_weight':1, 'monotone_constraints':(),\n",
    "'n_estimators':100, 'n_jobs':0, 'num_parallel_tree':1, 'random_state':0,\n",
    "'reg_alpha':0, 'reg_lambda':0, 'scale_pos_weight':1, 'subsample':1,\n",
    "'tree_method':'exact', 'validate_parameters':1, 'verbosity':None\n",
    "}\n",
    "\n",
    "output_folder = '../training/xgb_no_cv/'\n",
    "\n",
    "xr = CDMSXGBRegressor()\n",
    "xr.read_dataset('../data/reduced_dataset/reduced_data.csv')\n",
    "xr.preprocess_dataset()\n",
    "xr.initialize_xgb_regressors(param)\n",
    "xr.train_regressors(output_folder)\n",
    "xr.get_predictions(output_folder)"
   ]
  },
  {
   "cell_type": "code",
   "execution_count": 17,
   "metadata": {},
   "outputs": [
    {
     "name": "stdout",
     "output_type": "stream",
     "text": [
      "Training regressors...\n",
      "[0]\tvalidation_0-rmse:17.32597\tvalidation_1-rmse:17.39280\n",
      "[1]\tvalidation_0-rmse:12.14865\tvalidation_1-rmse:12.19299\n",
      "[2]\tvalidation_0-rmse:8.52146\tvalidation_1-rmse:8.55870\n",
      "[3]\tvalidation_0-rmse:5.97982\tvalidation_1-rmse:6.00631\n",
      "[4]\tvalidation_0-rmse:4.19871\tvalidation_1-rmse:4.22507\n",
      "[5]\tvalidation_0-rmse:2.95229\tvalidation_1-rmse:2.98306\n",
      "[6]\tvalidation_0-rmse:2.07922\tvalidation_1-rmse:2.11445\n",
      "[7]\tvalidation_0-rmse:1.46823\tvalidation_1-rmse:1.51159\n",
      "[8]\tvalidation_0-rmse:1.04228\tvalidation_1-rmse:1.09953\n",
      "[9]\tvalidation_0-rmse:0.74659\tvalidation_1-rmse:0.82408\n",
      "[10]\tvalidation_0-rmse:0.54120\tvalidation_1-rmse:0.64651\n",
      "[11]\tvalidation_0-rmse:0.40112\tvalidation_1-rmse:0.53422\n",
      "[12]\tvalidation_0-rmse:0.30313\tvalidation_1-rmse:0.46832\n",
      "[13]\tvalidation_0-rmse:0.23734\tvalidation_1-rmse:0.42946\n",
      "[14]\tvalidation_0-rmse:0.19007\tvalidation_1-rmse:0.40561\n",
      "[15]\tvalidation_0-rmse:0.15766\tvalidation_1-rmse:0.39421\n",
      "[16]\tvalidation_0-rmse:0.13689\tvalidation_1-rmse:0.38792\n",
      "[17]\tvalidation_0-rmse:0.12391\tvalidation_1-rmse:0.38633\n",
      "[18]\tvalidation_0-rmse:0.11541\tvalidation_1-rmse:0.38568\n",
      "[19]\tvalidation_0-rmse:0.10757\tvalidation_1-rmse:0.38562\n",
      "[20]\tvalidation_0-rmse:0.09764\tvalidation_1-rmse:0.38524\n",
      "[21]\tvalidation_0-rmse:0.09303\tvalidation_1-rmse:0.38486\n",
      "[22]\tvalidation_0-rmse:0.08942\tvalidation_1-rmse:0.38445\n",
      "[23]\tvalidation_0-rmse:0.08641\tvalidation_1-rmse:0.38519\n",
      "[24]\tvalidation_0-rmse:0.08262\tvalidation_1-rmse:0.38522\n",
      "[25]\tvalidation_0-rmse:0.08166\tvalidation_1-rmse:0.38506\n",
      "[26]\tvalidation_0-rmse:0.08069\tvalidation_1-rmse:0.38514\n",
      "[27]\tvalidation_0-rmse:0.07688\tvalidation_1-rmse:0.38588\n",
      "[28]\tvalidation_0-rmse:0.07526\tvalidation_1-rmse:0.38540\n",
      "[29]\tvalidation_0-rmse:0.07349\tvalidation_1-rmse:0.38479\n",
      "[30]\tvalidation_0-rmse:0.07316\tvalidation_1-rmse:0.38479\n",
      "[31]\tvalidation_0-rmse:0.06908\tvalidation_1-rmse:0.38419\n",
      "[32]\tvalidation_0-rmse:0.06767\tvalidation_1-rmse:0.38389\n",
      "[33]\tvalidation_0-rmse:0.06685\tvalidation_1-rmse:0.38423\n",
      "[34]\tvalidation_0-rmse:0.06486\tvalidation_1-rmse:0.38375\n",
      "[35]\tvalidation_0-rmse:0.06460\tvalidation_1-rmse:0.38378\n",
      "[36]\tvalidation_0-rmse:0.06285\tvalidation_1-rmse:0.38390\n",
      "[37]\tvalidation_0-rmse:0.05981\tvalidation_1-rmse:0.38317\n",
      "[38]\tvalidation_0-rmse:0.05622\tvalidation_1-rmse:0.38228\n",
      "[39]\tvalidation_0-rmse:0.05522\tvalidation_1-rmse:0.38201\n",
      "[40]\tvalidation_0-rmse:0.05362\tvalidation_1-rmse:0.38247\n",
      "[41]\tvalidation_0-rmse:0.05142\tvalidation_1-rmse:0.38234\n"
     ]
    },
    {
     "name": "stderr",
     "output_type": "stream",
     "text": [
      "/opt/homebrew/anaconda3/envs/tf-metal/lib/python3.9/site-packages/xgboost/sklearn.py:889: UserWarning: `eval_metric` in `fit` method is deprecated for better compatibility with scikit-learn, use `eval_metric` in constructor or`set_params` instead.\n",
      "  warnings.warn(\n",
      "/opt/homebrew/anaconda3/envs/tf-metal/lib/python3.9/site-packages/xgboost/sklearn.py:889: UserWarning: `early_stopping_rounds` in `fit` method is deprecated for better compatibility with scikit-learn, use `early_stopping_rounds` in constructor or`set_params` instead.\n",
      "  warnings.warn(\n"
     ]
    },
    {
     "name": "stdout",
     "output_type": "stream",
     "text": [
      "[42]\tvalidation_0-rmse:0.04948\tvalidation_1-rmse:0.38265\n",
      "[43]\tvalidation_0-rmse:0.04845\tvalidation_1-rmse:0.38261\n",
      "[44]\tvalidation_0-rmse:0.04752\tvalidation_1-rmse:0.38259\n",
      "[45]\tvalidation_0-rmse:0.04702\tvalidation_1-rmse:0.38253\n",
      "[46]\tvalidation_0-rmse:0.04633\tvalidation_1-rmse:0.38249\n",
      "[47]\tvalidation_0-rmse:0.04598\tvalidation_1-rmse:0.38249\n",
      "[48]\tvalidation_0-rmse:0.04402\tvalidation_1-rmse:0.38241\n",
      "[49]\tvalidation_0-rmse:0.04288\tvalidation_1-rmse:0.38237\n",
      "Train RMSE:  0.05522395454605047\n",
      "Validation RMSE:  0.3818668345787452\n",
      "Test RMSE:  5.199052934287205\n"
     ]
    },
    {
     "data": {
      "image/png": "[encoded data removed]",
      "text/plain": [
       "<Figure size 640x480 with 1 Axes>"
      ]
     },
     "metadata": {},
     "output_type": "display_data"
    }
   ],
   "source": [
    "param = {\n",
    "'base_score':0.5, 'booster':'gbtree', 'colsample_bylevel':1,\n",
    "'colsample_bynode':1, 'colsample_bytree':1, 'gamma':0, 'gpu_id':-1,\n",
    "'importance_type':'gain', 'interaction_constraints':'',\n",
    "'learning_rate':0.3, 'max_delta_step':0, 'max_depth':6,\n",
    "'min_child_weight':1, 'monotone_constraints':(),\n",
    "'n_estimators':100, 'n_jobs':0, 'num_parallel_tree':1, 'random_state':0,\n",
    "'reg_alpha':0, 'reg_lambda':1, 'scale_pos_weight':1, 'subsample':1,\n",
    "'tree_method':'exact', 'validate_parameters':1, 'verbosity':None\n",
    "}\n",
    "\n",
    "output_folder = '../training/xgb_holdout/'\n",
    "\n",
    "xr = CDMSXGBRegressor()\n",
    "xr.read_dataset('../data/reduced_dataset/reduced_data.csv', HOS=[-12.502, -29.500, -41.900])\n",
    "xr.preprocess_dataset()\n",
    "xr.initialize_xgb_regressors(param)\n",
    "xr.train_regressors(output_folder)\n",
    "xr.get_predictions(output_folder)"
   ]
  },
  {
   "cell_type": "markdown",
   "metadata": {},
   "source": [
    "Since, we had set `early_stopping_rounds`, we see that the training stops before it reaches 50 iterations as the validation scores don't improve.\n",
    "Nevertheless, we can see that there is a slight overtraining as the training RMSE is btter than the validation RMSE. Next, we will try to see how the performance is on a holdout datasets. We can also avoid overtraining by setting the gamma and regularization terms to `'gamma':40, 'reg_alpha':1, 'reg_lambda':1`."
   ]
  },
  {
   "cell_type": "code",
   "execution_count": 7,
   "metadata": {},
   "outputs": [
    {
     "name": "stdout",
     "output_type": "stream",
     "text": [
      "Training regressors...\n",
      "[0]\tvalidation_0-rmse:17.30662\tvalidation_1-rmse:17.46165\n",
      "[1]\tvalidation_0-rmse:12.14680\tvalidation_1-rmse:12.26931\n",
      "[2]\tvalidation_0-rmse:8.53511\tvalidation_1-rmse:8.63146\n",
      "[3]\tvalidation_0-rmse:6.01174\tvalidation_1-rmse:6.08346\n",
      "[4]\tvalidation_0-rmse:4.24893\tvalidation_1-rmse:4.31517\n",
      "[5]\tvalidation_0-rmse:3.02437\tvalidation_1-rmse:3.08326\n",
      "[6]\tvalidation_0-rmse:2.17577\tvalidation_1-rmse:2.22850\n",
      "[7]\tvalidation_0-rmse:1.59243\tvalidation_1-rmse:1.63955\n",
      "[8]\tvalidation_0-rmse:1.16889\tvalidation_1-rmse:1.21078\n",
      "[9]\tvalidation_0-rmse:0.89092\tvalidation_1-rmse:0.92633\n",
      "[10]\tvalidation_0-rmse:0.71451\tvalidation_1-rmse:0.74674\n",
      "[11]\tvalidation_0-rmse:0.61306\tvalidation_1-rmse:0.64408\n",
      "[12]\tvalidation_0-rmse:0.55206\tvalidation_1-rmse:0.58158\n",
      "[13]\tvalidation_0-rmse:0.52333\tvalidation_1-rmse:0.55273\n",
      "[14]\tvalidation_0-rmse:0.50694\tvalidation_1-rmse:0.53614\n",
      "[15]\tvalidation_0-rmse:0.50212\tvalidation_1-rmse:0.53108\n",
      "[16]\tvalidation_0-rmse:0.49973\tvalidation_1-rmse:0.52848\n",
      "[17]\tvalidation_0-rmse:0.49856\tvalidation_1-rmse:0.52712\n",
      "[18]\tvalidation_0-rmse:0.49798\tvalidation_1-rmse:0.52640\n",
      "[19]\tvalidation_0-rmse:0.49770\tvalidation_1-rmse:0.52601\n",
      "[20]\tvalidation_0-rmse:0.49756\tvalidation_1-rmse:0.52580\n",
      "[21]\tvalidation_0-rmse:0.49749\tvalidation_1-rmse:0.52567\n",
      "[22]\tvalidation_0-rmse:0.49745\tvalidation_1-rmse:0.52560\n",
      "[23]\tvalidation_0-rmse:0.49744\tvalidation_1-rmse:0.52555\n",
      "[24]\tvalidation_0-rmse:0.49743\tvalidation_1-rmse:0.52552\n",
      "[25]\tvalidation_0-rmse:0.49742\tvalidation_1-rmse:0.52550\n",
      "[26]\tvalidation_0-rmse:0.49742\tvalidation_1-rmse:0.52549\n",
      "[27]\tvalidation_0-rmse:0.49742\tvalidation_1-rmse:0.52548\n",
      "[28]\tvalidation_0-rmse:0.49742\tvalidation_1-rmse:0.52548\n",
      "[29]\tvalidation_0-rmse:0.49742\tvalidation_1-rmse:0.52548\n",
      "[30]\tvalidation_0-rmse:0.49742\tvalidation_1-rmse:0.52547\n",
      "[31]\tvalidation_0-rmse:0.49742\tvalidation_1-rmse:0.52547\n",
      "[32]\tvalidation_0-rmse:0.49742\tvalidation_1-rmse:0.52547\n",
      "[33]\tvalidation_0-rmse:0.49742\tvalidation_1-rmse:0.52547\n",
      "[34]\tvalidation_0-rmse:0.49742\tvalidation_1-rmse:0.52547\n",
      "[35]\tvalidation_0-rmse:0.49742\tvalidation_1-rmse:0.52547\n",
      "[36]\tvalidation_0-rmse:0.49742\tvalidation_1-rmse:0.52547\n",
      "[37]\tvalidation_0-rmse:0.49742\tvalidation_1-rmse:0.52547\n",
      "[38]\tvalidation_0-rmse:0.49742\tvalidation_1-rmse:0.52547\n",
      "[39]\tvalidation_0-rmse:0.49742\tvalidation_1-rmse:0.52547\n",
      "[40]\tvalidation_0-rmse:0.49742\tvalidation_1-rmse:0.52547\n",
      "[41]\tvalidation_0-rmse:0.49742\tvalidation_1-rmse:0.52547\n",
      "[42]\tvalidation_0-rmse:0.49742\tvalidation_1-rmse:0.52547\n",
      "[43]\tvalidation_0-rmse:0.49742\tvalidation_1-rmse:0.52547\n",
      "[44]\tvalidation_0-rmse:0.49742\tvalidation_1-rmse:0.52547\n",
      "[45]\tvalidation_0-rmse:0.49742\tvalidation_1-rmse:0.52547\n",
      "[46]\tvalidation_0-rmse:0.49742\tvalidation_1-rmse:0.52547\n"
     ]
    },
    {
     "name": "stderr",
     "output_type": "stream",
     "text": [
      "/opt/homebrew/anaconda3/envs/tf-metal/lib/python3.9/site-packages/xgboost/sklearn.py:889: UserWarning: `eval_metric` in `fit` method is deprecated for better compatibility with scikit-learn, use `eval_metric` in constructor or`set_params` instead.\n",
      "  warnings.warn(\n",
      "/opt/homebrew/anaconda3/envs/tf-metal/lib/python3.9/site-packages/xgboost/sklearn.py:889: UserWarning: `early_stopping_rounds` in `fit` method is deprecated for better compatibility with scikit-learn, use `early_stopping_rounds` in constructor or`set_params` instead.\n",
      "  warnings.warn(\n"
     ]
    },
    {
     "name": "stdout",
     "output_type": "stream",
     "text": [
      "[47]\tvalidation_0-rmse:0.49742\tvalidation_1-rmse:0.52547\n",
      "[48]\tvalidation_0-rmse:0.49742\tvalidation_1-rmse:0.52547\n",
      "[49]\tvalidation_0-rmse:0.49742\tvalidation_1-rmse:0.52547\n",
      "[50]\tvalidation_0-rmse:0.49742\tvalidation_1-rmse:0.52547\n",
      "Train RMSE:  0.49741832093346916\n",
      "Validation RMSE:  0.5253842614583158\n",
      "Test RMSE:  4.044156140613134\n"
     ]
    },
    {
     "data": {
      "image/png": "[encoded data removed]",
      "text/plain": [
       "<Figure size 640x480 with 1 Axes>"
      ]
     },
     "metadata": {},
     "output_type": "display_data"
    }
   ],
   "source": [
    "param = {\n",
    "'base_score':0.5, 'booster':'gbtree', 'colsample_bylevel':1,\n",
    "'colsample_bynode':1, 'colsample_bytree':1, 'gamma':40, 'gpu_id':-1,\n",
    "'importance_type':'gain', 'interaction_constraints':'',\n",
    "'learning_rate':0.3, 'max_delta_step':0, 'max_depth':3,\n",
    "'min_child_weight':1, 'monotone_constraints':(),\n",
    "'n_estimators':100, 'n_jobs':0, 'num_parallel_tree':1, 'random_state':0,\n",
    "'reg_alpha':1, 'reg_lambda':1, 'scale_pos_weight':1, 'subsample':1,\n",
    "'tree_method':'exact', 'validate_parameters':1, 'verbosity':None\n",
    "}\n",
    "\n",
    "output_folder = '../training/xgb_holdout_reg/'\n",
    "\n",
    "xr = CDMSXGBRegressor()\n",
    "xr.read_dataset('../data/reduced_dataset/reduced_data.csv', HOS=[-12.502, -29.500, -41.900])\n",
    "xr.preprocess_dataset()\n",
    "xr.initialize_xgb_regressors(param)\n",
    "xr.train_regressors(output_folder)\n",
    "xr.get_predictions(output_folder)"
   ]
  },
  {
   "cell_type": "markdown",
   "metadata": {},
   "source": [
    "In this training, we avoid overfitting, but as we see from the `Test RMSE` of the holdout dataset, it doesn't perform on the `y` values that are not provided to the model during training."
   ]
  },
  {
   "cell_type": "markdown",
   "metadata": {},
   "source": [
    "Next, we check the variable ranking of the variables using the `fscores()` method to check which features provide the most gain after splitting."
   ]
  },
  {
   "cell_type": "code",
   "execution_count": 10,
   "metadata": {},
   "outputs": [
    {
     "name": "stdout",
     "output_type": "stream",
     "text": [
      "PBstart   \t 13.0\n",
      "PCstart   \t 24.0\n",
      "PDstart   \t 10.0\n",
      "PFstart   \t 5.0\n",
      "PArise   \t 8.0\n",
      "PBrise   \t 4.0\n",
      "PCrise   \t 3.0\n",
      "PFrise   \t 4.0\n",
      "PAwidth   \t 1.0\n",
      "PBwidth   \t 4.0\n"
     ]
    }
   ],
   "source": [
    "feature_map = dict([('f'+str(iv),v) for iv, v in enumerate(xr.df.drop(['predictions','y','HOS', 'cv'], axis=1).columns)])\n",
    "for k, v in xr.xgb_regressors[0].get_booster().get_fscore().items():\n",
    "    print(feature_map[k],'  \\t', v)"
   ]
  },
  {
   "cell_type": "markdown",
   "metadata": {},
   "source": [
    "Next, we can create some visuals to see how the individual learners are built. We will get the first tree from the booster using `get_dump()` method and then plot it's structure using `graphviz` package."
   ]
  },
  {
   "cell_type": "code",
   "execution_count": 13,
   "metadata": {},
   "outputs": [
    {
     "data": {
      "image/svg+xml": [
       "<?xml version=\"1.0\" encoding=\"UTF-8\" standalone=\"no\"?>\n",
       "<!DOCTYPE svg PUBLIC \"-//W3C//DTD SVG 1.1//EN\"\n",
       " \"http://www.w3.org/Graphics/SVG/1.1/DTD/svg11.dtd\">\n",
       "<!-- Generated by graphviz version 10.0.1 (20240210.2158)\n",
       " -->\n",
       "<!-- Pages: 1 -->\n",
       "<svg width=\"416pt\" height=\"188pt\"\n",
       " viewBox=\"0.00 0.00 415.69 188.00\" xmlns=\"http://www.w3.org/2000/svg\" xmlns:xlink=\"http://www.w3.org/1999/xlink\">\n",
       "<g id=\"graph0\" class=\"graph\" transform=\"scale(1 1) rotate(0) translate(4 184)\">\n",
       "<polygon fill=\"white\" stroke=\"none\" points=\"-4,4 -4,-184 411.69,-184 411.69,4 -4,4\"/>\n",
       "<!-- PCstart&gt;&#45;0.51 -->\n",
       "<g id=\"node1\" class=\"node\">\n",
       "<title>PCstart&gt;&#45;0.51</title>\n",
       "<ellipse fill=\"none\" stroke=\"black\" cx=\"271.56\" cy=\"-162\" rx=\"63.12\" ry=\"18\"/>\n",
       "<text text-anchor=\"middle\" x=\"271.56\" y=\"-156.95\" font-family=\"Times,serif\" font-size=\"14.00\">PCstart&gt;&#45;0.51</text>\n",
       "</g>\n",
       "<!-- PCstart&gt;0.72 -->\n",
       "<g id=\"node2\" class=\"node\">\n",
       "<title>PCstart&gt;0.72</title>\n",
       "<ellipse fill=\"none\" stroke=\"black\" cx=\"201.56\" cy=\"-90\" rx=\"60.05\" ry=\"18\"/>\n",
       "<text text-anchor=\"middle\" x=\"201.56\" y=\"-84.95\" font-family=\"Times,serif\" font-size=\"14.00\">PCstart&gt;0.72</text>\n",
       "</g>\n",
       "<!-- PCstart&gt;&#45;0.51&#45;&gt;PCstart&gt;0.72 -->\n",
       "<g id=\"edge1\" class=\"edge\">\n",
       "<title>PCstart&gt;&#45;0.51&#45;&gt;PCstart&gt;0.72</title>\n",
       "<path fill=\"none\" stroke=\"black\" d=\"M254.97,-144.41C246.34,-135.78 235.63,-125.06 226.06,-115.5\"/>\n",
       "<polygon fill=\"black\" stroke=\"black\" points=\"228.65,-113.14 219.1,-108.54 223.7,-118.09 228.65,-113.14\"/>\n",
       "</g>\n",
       "<!-- PCstart&gt;&#45;1.27 -->\n",
       "<g id=\"node3\" class=\"node\">\n",
       "<title>PCstart&gt;&#45;1.27</title>\n",
       "<ellipse fill=\"none\" stroke=\"black\" cx=\"343.56\" cy=\"-90\" rx=\"63.12\" ry=\"18\"/>\n",
       "<text text-anchor=\"middle\" x=\"343.56\" y=\"-84.95\" font-family=\"Times,serif\" font-size=\"14.00\">PCstart&gt;&#45;1.27</text>\n",
       "</g>\n",
       "<!-- PCstart&gt;&#45;0.51&#45;&gt;PCstart&gt;&#45;1.27 -->\n",
       "<g id=\"edge2\" class=\"edge\">\n",
       "<title>PCstart&gt;&#45;0.51&#45;&gt;PCstart&gt;&#45;1.27</title>\n",
       "<path fill=\"none\" stroke=\"black\" d=\"M288.63,-144.41C297.59,-135.69 308.75,-124.85 318.66,-115.21\"/>\n",
       "<polygon fill=\"black\" stroke=\"black\" points=\"320.81,-118.01 325.54,-108.53 315.93,-112.99 320.81,-118.01\"/>\n",
       "</g>\n",
       "<!-- PDstart&gt;1.24 -->\n",
       "<g id=\"node5\" class=\"node\">\n",
       "<title>PDstart&gt;1.24</title>\n",
       "<ellipse fill=\"none\" stroke=\"black\" cx=\"60.56\" cy=\"-18\" rx=\"60.56\" ry=\"18\"/>\n",
       "<text text-anchor=\"middle\" x=\"60.56\" y=\"-12.95\" font-family=\"Times,serif\" font-size=\"14.00\">PDstart&gt;1.24</text>\n",
       "</g>\n",
       "<!-- PCstart&gt;0.72&#45;&gt;PDstart&gt;1.24 -->\n",
       "<g id=\"edge4\" class=\"edge\">\n",
       "<title>PCstart&gt;0.72&#45;&gt;PDstart&gt;1.24</title>\n",
       "<path fill=\"none\" stroke=\"black\" d=\"M171.32,-73.98C150.78,-63.79 123.39,-50.19 100.98,-39.07\"/>\n",
       "<polygon fill=\"black\" stroke=\"black\" points=\"102.63,-35.98 92.12,-34.66 99.52,-42.25 102.63,-35.98\"/>\n",
       "</g>\n",
       "<!-- PFstart&gt;&#45;0.25 -->\n",
       "<g id=\"node6\" class=\"node\">\n",
       "<title>PFstart&gt;&#45;0.25</title>\n",
       "<ellipse fill=\"none\" stroke=\"black\" cx=\"201.56\" cy=\"-18\" rx=\"62.1\" ry=\"18\"/>\n",
       "<text text-anchor=\"middle\" x=\"201.56\" y=\"-12.95\" font-family=\"Times,serif\" font-size=\"14.00\">PFstart&gt;&#45;0.25</text>\n",
       "</g>\n",
       "<!-- PCstart&gt;0.72&#45;&gt;PFstart&gt;&#45;0.25 -->\n",
       "<g id=\"edge5\" class=\"edge\">\n",
       "<title>PCstart&gt;0.72&#45;&gt;PFstart&gt;&#45;0.25</title>\n",
       "<path fill=\"none\" stroke=\"black\" d=\"M201.56,-71.7C201.56,-64.41 201.56,-55.73 201.56,-47.54\"/>\n",
       "<polygon fill=\"black\" stroke=\"black\" points=\"205.06,-47.62 201.56,-37.62 198.06,-47.62 205.06,-47.62\"/>\n",
       "</g>\n",
       "<!-- PBstart&gt;&#45;1.22 -->\n",
       "<g id=\"node4\" class=\"node\">\n",
       "<title>PBstart&gt;&#45;1.22</title>\n",
       "<ellipse fill=\"none\" stroke=\"black\" cx=\"344.56\" cy=\"-18\" rx=\"63.12\" ry=\"18\"/>\n",
       "<text text-anchor=\"middle\" x=\"344.56\" y=\"-12.95\" font-family=\"Times,serif\" font-size=\"14.00\">PBstart&gt;&#45;1.22</text>\n",
       "</g>\n",
       "<!-- PCstart&gt;&#45;1.27&#45;&gt;PBstart&gt;&#45;1.22 -->\n",
       "<g id=\"edge3\" class=\"edge\">\n",
       "<title>PCstart&gt;&#45;1.27&#45;&gt;PBstart&gt;&#45;1.22</title>\n",
       "<path fill=\"none\" stroke=\"black\" d=\"M343.81,-71.7C343.92,-64.41 344.04,-55.73 344.16,-47.54\"/>\n",
       "<polygon fill=\"black\" stroke=\"black\" points=\"347.65,-47.67 344.3,-37.62 340.66,-47.57 347.65,-47.67\"/>\n",
       "</g>\n",
       "</g>\n",
       "</svg>\n"
      ],
      "text/plain": [
       "<graphviz.graphs.Digraph at 0x17db58e20>"
      ]
     },
     "execution_count": 13,
     "metadata": {},
     "output_type": "execute_result"
    }
   ],
   "source": [
    "xgb_dump = xr.xgb_regressors[0].get_booster().trees_to_dataframe()\n",
    "dot = Digraph()\n",
    "tree_dump = xgb_dump[xgb_dump['Tree']==0]\n",
    "for inode, node in tree_dump.iterrows():\n",
    "    if node.Feature == 'Leaf': continue\n",
    "    feature_name = feature_map[node.Feature]\n",
    "    split = round(node.Split, 2)\n",
    "    node_text = feature_name + '>' + str(split)\n",
    "    if inode==0: dot.node(node_text)\n",
    "    if node.No != 'NaN':\n",
    "        child_node = tree_dump[tree_dump['ID']==node.No]\n",
    "        child_feature_name = child_node.Feature.values[0]\n",
    "        if child_feature_name == 'Leaf':\n",
    "            child_node_text = 'Leaf'\n",
    "        else:\n",
    "            child_node_split = round(child_node.Split.values[0], 2)\n",
    "            child_node_text = feature_map[child_feature_name] + '>' + str(child_node_split)\n",
    "            dot.node(child_node_text)\n",
    "            dot.edge(node_text, child_node_text)\n",
    "    if node.Yes != 'NaN':\n",
    "        child_node = tree_dump[tree_dump['ID']==node.Yes]\n",
    "        child_feature_name = child_node.Feature.values[0]\n",
    "        if child_feature_name == 'Leaf':\n",
    "            child_node_text = 'Leaf'\n",
    "        else:\n",
    "            child_node_split = round(child_node.Split.values[0], 2)\n",
    "            child_node_text = feature_map[child_feature_name] + '>' + str(child_node_split)\n",
    "            dot.node(child_node_text)\n",
    "            dot.edge(node_text, child_node_text)\n",
    "\n",
    "dot"
   ]
  },
  {
   "cell_type": "markdown",
   "metadata": {},
   "source": [
    "We can seen in the above figure that \"PCstart\" is used 3 times in the first tree, followed by \"PBstart\", \"PDstart\" and \"PFstart\". This is consistent with what we got from the fscores. One can check the tree structure for other learners as well, but \"PCstart\" is indeed the most important feature."
   ]
  },
  {
   "cell_type": "code",
   "execution_count": 18,
   "metadata": {},
   "outputs": [
    {
     "name": "stdout",
     "output_type": "stream",
     "text": [
      "Training regressors...\n",
      "[0]\tvalidation_0-rmse:17.28396\tvalidation_1-rmse:17.49451\n",
      "[1]\tvalidation_0-rmse:12.13100\tvalidation_1-rmse:12.27925\n",
      "[2]\tvalidation_0-rmse:8.52411\tvalidation_1-rmse:8.62494\n",
      "[3]\tvalidation_0-rmse:6.00468\tvalidation_1-rmse:6.08463\n",
      "[4]\tvalidation_0-rmse:4.24262\tvalidation_1-rmse:4.29669\n",
      "[5]\tvalidation_0-rmse:3.01425\tvalidation_1-rmse:3.05601\n",
      "[6]\tvalidation_0-rmse:2.16538\tvalidation_1-rmse:2.19918\n",
      "[7]\tvalidation_0-rmse:1.57638\tvalidation_1-rmse:1.60852\n",
      "[8]\tvalidation_0-rmse:1.18218\tvalidation_1-rmse:1.21559\n",
      "[9]\tvalidation_0-rmse:0.90840\tvalidation_1-rmse:0.93825\n",
      "[10]\tvalidation_0-rmse:0.73633\tvalidation_1-rmse:0.76735\n",
      "[11]\tvalidation_0-rmse:0.61698\tvalidation_1-rmse:0.65203\n",
      "[12]\tvalidation_0-rmse:0.55355\tvalidation_1-rmse:0.59110\n",
      "[13]\tvalidation_0-rmse:0.51829\tvalidation_1-rmse:0.55791\n",
      "[14]\tvalidation_0-rmse:0.50134\tvalidation_1-rmse:0.54162\n",
      "[15]\tvalidation_0-rmse:0.49649\tvalidation_1-rmse:0.53739\n",
      "[16]\tvalidation_0-rmse:0.49409\tvalidation_1-rmse:0.53535\n",
      "[17]\tvalidation_0-rmse:0.49291\tvalidation_1-rmse:0.53439\n",
      "[18]\tvalidation_0-rmse:0.49233\tvalidation_1-rmse:0.53394\n",
      "[19]\tvalidation_0-rmse:0.49204\tvalidation_1-rmse:0.53374\n"
     ]
    },
    {
     "name": "stderr",
     "output_type": "stream",
     "text": [
      "/opt/homebrew/anaconda3/envs/tf-metal/lib/python3.9/site-packages/xgboost/sklearn.py:889: UserWarning: `eval_metric` in `fit` method is deprecated for better compatibility with scikit-learn, use `eval_metric` in constructor or`set_params` instead.\n",
      "  warnings.warn(\n",
      "/opt/homebrew/anaconda3/envs/tf-metal/lib/python3.9/site-packages/xgboost/sklearn.py:889: UserWarning: `early_stopping_rounds` in `fit` method is deprecated for better compatibility with scikit-learn, use `early_stopping_rounds` in constructor or`set_params` instead.\n",
      "  warnings.warn(\n"
     ]
    },
    {
     "name": "stdout",
     "output_type": "stream",
     "text": [
      "[20]\tvalidation_0-rmse:0.49190\tvalidation_1-rmse:0.53365\n",
      "[21]\tvalidation_0-rmse:0.49183\tvalidation_1-rmse:0.53362\n",
      "[22]\tvalidation_0-rmse:0.49180\tvalidation_1-rmse:0.53361\n",
      "[23]\tvalidation_0-rmse:0.49178\tvalidation_1-rmse:0.53361\n",
      "[24]\tvalidation_0-rmse:0.49177\tvalidation_1-rmse:0.53361\n",
      "[25]\tvalidation_0-rmse:0.49177\tvalidation_1-rmse:0.53362\n",
      "[26]\tvalidation_0-rmse:0.49176\tvalidation_1-rmse:0.53362\n",
      "[27]\tvalidation_0-rmse:0.49176\tvalidation_1-rmse:0.53362\n",
      "[28]\tvalidation_0-rmse:0.49176\tvalidation_1-rmse:0.53362\n",
      "Train RMSE:  0.4917605130137525\n",
      "Validation RMSE:  0.53360971101086\n",
      "Test rmse:  4.332116143660782\n"
     ]
    },
    {
     "data": {
      "image/png": "[encoded data removed]",
      "text/plain": [
       "<Figure size 640x480 with 1 Axes>"
      ]
     },
     "metadata": {},
     "output_type": "display_data"
    }
   ],
   "source": [
    "param = {\n",
    "'base_score':0.5, 'booster':'gbtree', 'colsample_bylevel':1,\n",
    "'colsample_bynode':1, 'colsample_bytree':1, 'gamma':40, 'gpu_id':-1,\n",
    "'importance_type':'gain', 'interaction_constraints':'',\n",
    "'learning_rate':0.3, 'max_delta_step':0, 'max_depth':3,\n",
    "'min_child_weight':1, 'monotone_constraints':(),\n",
    "'n_estimators':100, 'n_jobs':0, 'num_parallel_tree':1, 'random_state':0,\n",
    "'reg_alpha':1, 'reg_lambda':1, 'scale_pos_weight':1, 'subsample':1,\n",
    "'tree_method':'exact', 'validate_parameters':1, 'verbosity':None\n",
    "}\n",
    "\n",
    "#['Row','PCstart','PDstart','PFstart','PCrise','PDrise']\n",
    "output_folder = '../training/CDMS_XGBoost_FAIR_smear_0_02'\n",
    "xr = CDMSXGBRegressor()\n",
    "xr.read_dataset('../data/processed_csv/hos_reduced_data_smear_0_02.csv')\n",
    "xr.preprocess_dataset()\n",
    "xr.initialize_xgb_regressors(param)\n",
    "xr.train_regressors(output_folder)\n",
    "xr.get_predictions(output_folder)\n",
    "\n",
    "df = pd.read_csv('../data/reduced_dataset/reduced_data.csv')\n",
    "df['HOS'] = df['y'].apply(lambda x: True if x in [-12.502, -29.500, -41.900] else False)\n",
    "\n",
    "# ['Row','PCstart','PDstart','PFstart','PCrise','PDrise','y','HOS']\n",
    "df.head()\n",
    "Y_hos = df[df['HOS']==True]['y'].to_numpy()\n",
    "X_hos = df[df['HOS']==True].drop(['Row','y','HOS'], axis=1).to_numpy()\n",
    "\n",
    "X_hos = xr.scaler.transform(X_hos)\n",
    "pred_hos_values = None\n",
    "pred_hos_values = xr.xgb_regressors[0].predict(X_hos)\n",
    "\n",
    "dy = pred_hos_values-Y_hos\n",
    "print('Test rmse: ', np.std(dy))"
   ]
  },
  {
   "cell_type": "code",
   "execution_count": 19,
   "metadata": {},
   "outputs": [
    {
     "name": "stdout",
     "output_type": "stream",
     "text": [
      "Training regressors...\n",
      "[0]\tvalidation_0-rmse:17.39066\tvalidation_1-rmse:17.36293\n",
      "[1]\tvalidation_0-rmse:12.22521\tvalidation_1-rmse:12.17548\n",
      "[2]\tvalidation_0-rmse:8.61831\tvalidation_1-rmse:8.57345\n",
      "[3]\tvalidation_0-rmse:6.11027\tvalidation_1-rmse:6.05816\n",
      "[4]\tvalidation_0-rmse:4.37116\tvalidation_1-rmse:4.33204\n",
      "[5]\tvalidation_0-rmse:3.17885\tvalidation_1-rmse:3.15194\n",
      "[6]\tvalidation_0-rmse:2.38339\tvalidation_1-rmse:2.37244\n",
      "[7]\tvalidation_0-rmse:1.86017\tvalidation_1-rmse:1.86086\n",
      "[8]\tvalidation_0-rmse:1.52184\tvalidation_1-rmse:1.54596\n",
      "[9]\tvalidation_0-rmse:1.32974\tvalidation_1-rmse:1.36826\n",
      "[10]\tvalidation_0-rmse:1.20830\tvalidation_1-rmse:1.26463\n",
      "[11]\tvalidation_0-rmse:1.14846\tvalidation_1-rmse:1.21998\n",
      "[12]\tvalidation_0-rmse:1.11508\tvalidation_1-rmse:1.19701\n",
      "[13]\tvalidation_0-rmse:1.09772\tvalidation_1-rmse:1.18094\n",
      "[14]\tvalidation_0-rmse:1.09013\tvalidation_1-rmse:1.17579\n",
      "[15]\tvalidation_0-rmse:1.08790\tvalidation_1-rmse:1.17464\n",
      "[16]\tvalidation_0-rmse:1.08681\tvalidation_1-rmse:1.17426\n",
      "[17]\tvalidation_0-rmse:1.08627\tvalidation_1-rmse:1.17421\n",
      "[18]\tvalidation_0-rmse:1.08600\tvalidation_1-rmse:1.17428\n",
      "[19]\tvalidation_0-rmse:1.08587\tvalidation_1-rmse:1.17438\n",
      "[20]\tvalidation_0-rmse:1.08581\tvalidation_1-rmse:1.17448\n",
      "[21]\tvalidation_0-rmse:1.08578\tvalidation_1-rmse:1.17455\n",
      "[22]\tvalidation_0-rmse:1.08576\tvalidation_1-rmse:1.17462\n"
     ]
    },
    {
     "name": "stderr",
     "output_type": "stream",
     "text": [
      "/opt/homebrew/anaconda3/envs/tf-metal/lib/python3.9/site-packages/xgboost/sklearn.py:889: UserWarning: `eval_metric` in `fit` method is deprecated for better compatibility with scikit-learn, use `eval_metric` in constructor or`set_params` instead.\n",
      "  warnings.warn(\n",
      "/opt/homebrew/anaconda3/envs/tf-metal/lib/python3.9/site-packages/xgboost/sklearn.py:889: UserWarning: `early_stopping_rounds` in `fit` method is deprecated for better compatibility with scikit-learn, use `early_stopping_rounds` in constructor or`set_params` instead.\n",
      "  warnings.warn(\n"
     ]
    },
    {
     "name": "stdout",
     "output_type": "stream",
     "text": [
      "Train RMSE:  1.0857450385001868\n",
      "Validation RMSE:  1.1742104630904187\n",
      "Test rmse:  4.521970455792957\n"
     ]
    },
    {
     "data": {
      "image/png": "[encoded data removed]",
      "text/plain": [
       "<Figure size 640x480 with 1 Axes>"
      ]
     },
     "metadata": {},
     "output_type": "display_data"
    }
   ],
   "source": [
    "param = {\n",
    "'base_score':0.5, 'booster':'gbtree', 'colsample_bylevel':1,\n",
    "'colsample_bynode':1, 'colsample_bytree':1, 'gamma':40, 'gpu_id':-1,\n",
    "'importance_type':'gain', 'interaction_constraints':'',\n",
    "'learning_rate':0.3, 'max_delta_step':0, 'max_depth':3,\n",
    "'min_child_weight':1, 'monotone_constraints':(),\n",
    "'n_estimators':100, 'n_jobs':0, 'num_parallel_tree':1, 'random_state':0,\n",
    "'reg_alpha':1, 'reg_lambda':1, 'scale_pos_weight':1, 'subsample':1,\n",
    "'tree_method':'exact', 'validate_parameters':1, 'verbosity':None\n",
    "}\n",
    "\n",
    "#['Row','PCstart','PDstart','PFstart','PCrise','PDrise']\n",
    "output_folder = '../training/CDMS_XGBoost_FAIR_smear_1_0'\n",
    "xr = CDMSXGBRegressor()\n",
    "xr.read_dataset('../data/processed_csv/hos_reduced_data_smear_1_0.csv')\n",
    "xr.preprocess_dataset()\n",
    "xr.initialize_xgb_regressors(param)\n",
    "xr.train_regressors(output_folder)\n",
    "xr.get_predictions(output_folder)\n",
    "\n",
    "df = pd.read_csv('../data/reduced_dataset/reduced_data.csv')\n",
    "df['HOS'] = df['y'].apply(lambda x: True if x in [-12.502, -29.500, -41.900] else False)\n",
    "\n",
    "# ['Row','PCstart','PDstart','PFstart','PCrise','PDrise','y','HOS']\n",
    "df.head()\n",
    "Y_hos = df[df['HOS']==True]['y'].to_numpy()\n",
    "X_hos = df[df['HOS']==True].drop(['Row','y','HOS'], axis=1).to_numpy()\n",
    "\n",
    "X_hos = xr.scaler.transform(X_hos)\n",
    "pred_hos_values = None\n",
    "pred_hos_values = xr.xgb_regressors[0].predict(X_hos)\n",
    "\n",
    "dy = pred_hos_values-Y_hos\n",
    "print('Test rmse: ', np.std(dy))"
   ]
  },
  {
   "cell_type": "code",
   "execution_count": 20,
   "metadata": {},
   "outputs": [
    {
     "name": "stdout",
     "output_type": "stream",
     "text": [
      "Training regressors...\n",
      "[0]\tvalidation_0-rmse:17.86305\tvalidation_1-rmse:17.62661\n",
      "[1]\tvalidation_0-rmse:12.83848\tvalidation_1-rmse:12.72378\n",
      "[2]\tvalidation_0-rmse:9.43342\tvalidation_1-rmse:9.40494\n",
      "[3]\tvalidation_0-rmse:7.18609\tvalidation_1-rmse:7.23107\n",
      "[4]\tvalidation_0-rmse:5.76232\tvalidation_1-rmse:5.85458\n",
      "[5]\tvalidation_0-rmse:4.90751\tvalidation_1-rmse:5.04308\n",
      "[6]\tvalidation_0-rmse:4.41658\tvalidation_1-rmse:4.58801\n",
      "[7]\tvalidation_0-rmse:4.14689\tvalidation_1-rmse:4.34524\n",
      "[8]\tvalidation_0-rmse:4.00018\tvalidation_1-rmse:4.22064\n",
      "[9]\tvalidation_0-rmse:3.91455\tvalidation_1-rmse:4.15133\n",
      "[10]\tvalidation_0-rmse:3.86630\tvalidation_1-rmse:4.11703\n",
      "[11]\tvalidation_0-rmse:3.83836\tvalidation_1-rmse:4.10304\n",
      "[12]\tvalidation_0-rmse:3.82098\tvalidation_1-rmse:4.08961\n",
      "[13]\tvalidation_0-rmse:3.80462\tvalidation_1-rmse:4.08524\n",
      "[14]\tvalidation_0-rmse:3.79470\tvalidation_1-rmse:4.07756\n",
      "[15]\tvalidation_0-rmse:3.78275\tvalidation_1-rmse:4.07669\n",
      "[16]\tvalidation_0-rmse:3.77845\tvalidation_1-rmse:4.07614\n",
      "[17]\tvalidation_0-rmse:3.76954\tvalidation_1-rmse:4.07603\n",
      "[18]\tvalidation_0-rmse:3.76043\tvalidation_1-rmse:4.07326\n",
      "[19]\tvalidation_0-rmse:3.75139\tvalidation_1-rmse:4.07458\n",
      "[20]\tvalidation_0-rmse:3.74640\tvalidation_1-rmse:4.07289\n",
      "[21]\tvalidation_0-rmse:3.74000\tvalidation_1-rmse:4.07295\n",
      "[22]\tvalidation_0-rmse:3.72826\tvalidation_1-rmse:4.07239\n",
      "[23]\tvalidation_0-rmse:3.71849\tvalidation_1-rmse:4.07521\n",
      "[24]\tvalidation_0-rmse:3.71508\tvalidation_1-rmse:4.07704\n",
      "[25]\tvalidation_0-rmse:3.70920\tvalidation_1-rmse:4.08223\n",
      "[26]\tvalidation_0-rmse:3.69812\tvalidation_1-rmse:4.08200\n"
     ]
    },
    {
     "name": "stderr",
     "output_type": "stream",
     "text": [
      "/opt/homebrew/anaconda3/envs/tf-metal/lib/python3.9/site-packages/xgboost/sklearn.py:889: UserWarning: `eval_metric` in `fit` method is deprecated for better compatibility with scikit-learn, use `eval_metric` in constructor or`set_params` instead.\n",
      "  warnings.warn(\n",
      "/opt/homebrew/anaconda3/envs/tf-metal/lib/python3.9/site-packages/xgboost/sklearn.py:889: UserWarning: `early_stopping_rounds` in `fit` method is deprecated for better compatibility with scikit-learn, use `early_stopping_rounds` in constructor or`set_params` instead.\n",
      "  warnings.warn(\n"
     ]
    },
    {
     "name": "stdout",
     "output_type": "stream",
     "text": [
      "Train RMSE:  3.728253791236527\n",
      "Validation RMSE:  4.072205377533893\n",
      "Test rmse:  3.6946739828345425\n"
     ]
    },
    {
     "data": {
      "image/png": "[encoded data removed]",
      "text/plain": [
       "<Figure size 640x480 with 1 Axes>"
      ]
     },
     "metadata": {},
     "output_type": "display_data"
    }
   ],
   "source": [
    "param = {\n",
    "'base_score':0.5, 'booster':'gbtree', 'colsample_bylevel':1,\n",
    "'colsample_bynode':1, 'colsample_bytree':1, 'gamma':40, 'gpu_id':-1,\n",
    "'importance_type':'gain', 'interaction_constraints':'',\n",
    "'learning_rate':0.3, 'max_delta_step':0, 'max_depth':3,\n",
    "'min_child_weight':1, 'monotone_constraints':(),\n",
    "'n_estimators':100, 'n_jobs':0, 'num_parallel_tree':1, 'random_state':0,\n",
    "'reg_alpha':1, 'reg_lambda':1, 'scale_pos_weight':1, 'subsample':1,\n",
    "'tree_method':'exact', 'validate_parameters':1, 'verbosity':None\n",
    "}\n",
    "\n",
    "#['Row','PCstart','PDstart','PFstart','PCrise','PDrise']\n",
    "output_folder = '../training/CDMS_XGBoost_FAIR_smear_4_0'\n",
    "xr = CDMSXGBRegressor()\n",
    "xr.read_dataset('../data/processed_csv/hos_reduced_data_smear_4_0.csv')\n",
    "xr.preprocess_dataset()\n",
    "xr.initialize_xgb_regressors(param)\n",
    "xr.train_regressors(output_folder)\n",
    "xr.get_predictions(output_folder)\n",
    "\n",
    "df = pd.read_csv('../data/reduced_dataset/reduced_data.csv')\n",
    "df['HOS'] = df['y'].apply(lambda x: True if x in [-12.502, -29.500, -41.900] else False)\n",
    "\n",
    "# ['Row','PCstart','PDstart','PFstart','PCrise','PDrise','y','HOS']\n",
    "df.head()\n",
    "Y_hos = df[df['HOS']==True]['y'].to_numpy()\n",
    "X_hos = df[df['HOS']==True].drop(['Row','y','HOS'], axis=1).to_numpy()\n",
    "\n",
    "X_hos = xr.scaler.transform(X_hos)\n",
    "pred_hos_values = None\n",
    "pred_hos_values = xr.xgb_regressors[0].predict(X_hos)\n",
    "\n",
    "dy = pred_hos_values-Y_hos\n",
    "print('Test rmse: ', np.std(dy))"
   ]
  },
  {
   "cell_type": "code",
   "execution_count": null,
   "metadata": {},
   "outputs": [],
   "source": []
  }
 ],
 "metadata": {
  "kernelspec": {
   "display_name": "tf-metal",
   "language": "python",
   "name": "python3"
  },
  "language_info": {
   "codemirror_mode": {
    "name": "ipython",
    "version": 3
   },
   "file_extension": ".py",
   "mimetype": "text/x-python",
   "name": "python",
   "nbconvert_exporter": "python",
   "pygments_lexer": "ipython3",
   "version": "3.9.18"
  }
 },
 "nbformat": 4,
 "nbformat_minor": 2
}
