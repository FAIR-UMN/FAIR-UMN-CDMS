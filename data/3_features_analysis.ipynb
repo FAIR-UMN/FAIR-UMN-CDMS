{
 "cells": [
  {
   "cell_type": "markdown",
   "id": "28cbbeb4",
   "metadata": {},
   "source": [
    "## Features analysis\n",
    "\n",
    "This Jupyter notebook provides a simple features analysis such as showing histograms of each feature and normalize features to zero mean and unit standard deviation (or in the range of 0~1, depending on which normalization you use).\n",
    "\n",
    "After running, you will get a folder named **features_analysis** which inlcudes the histogram figures for each feature."
   ]
  },
  {
   "cell_type": "markdown",
   "id": "188aaa88",
   "metadata": {},
   "source": [
    "First, let's import packages."
   ]
  },
  {
   "cell_type": "code",
   "execution_count": 9,
   "id": "97b0ec66",
   "metadata": {},
   "outputs": [],
   "source": [
    "#------ import packages ------#\n",
    "import pandas as pd\n",
    "import numpy as np\n",
    "import matplotlib.pyplot as plt\n",
    "from sklearn.preprocessing import StandardScaler\n",
    "from sklearn.preprocessing import MinMaxScaler\n",
    "import os\n",
    "#plt.style.use(\"seaborn\")\n",
    "#plt.style.use(\"ggplot\")\n",
    "#plt.style.use(\"bmh\")\n",
    "plt.style.use(\"seaborn-darkgrid\")\n",
    "#plt.style.use(\"seaborn-deep\")\n",
    "#plt.style.use(\"tableau-colorblind10\")"
   ]
  },
  {
   "cell_type": "markdown",
   "id": "f928d74d",
   "metadata": {},
   "source": [
    "The function **features_analysis** analyzes the features in the orginal combined dataset (7151 data samples) and draw histogram figures."
   ]
  },
  {
   "cell_type": "code",
   "execution_count": 54,
   "id": "4ed37132",
   "metadata": {},
   "outputs": [],
   "source": [
    "def without_normalization_analysis(file_name, norm_tag,root_dir):\n",
    "    org_train_df = pd.read_csv(file_name)\n",
    "    feature_df = org_train_df.drop(['Row', 'y'], 1)  # remove ID and postions/targets\n",
    "    all_features = feature_df.columns\n",
    "    \n",
    "    \n",
    "    #---- plot histogram for each feature\n",
    "    for cur_feature in all_features:\n",
    "        cur_df = feature_df[cur_feature]\n",
    "        plt.figure()\n",
    "        cur_df.plot.hist(bins=12, alpha=0.5)\n",
    "        cur_figure_title = '{} Histogram ({})'.format(cur_feature, norm_tag)\n",
    "        cur_figure_name = os.path.join(root_dir, '{}.jpg'.format(cur_feature))\n",
    "        plt.title(cur_figure_title)\n",
    "        plt.savefig(cur_figure_name)\n",
    "        plt.close()\n",
    "    \n",
    "    \n",
    "    #---- plot boxplot for all features in one figure\n",
    "    plt.figure()\n",
    "    feature_df.boxplot(grid=False, rot=45, fontsize=10,figsize=(40, 20),showfliers=False)\n",
    "    cur_figure_title = 'Boxplot of all features ({})'.format(norm_tag)\n",
    "    cur_figure_name = os.path.join(root_dir, 'boxplot.jpg')\n",
    "    plt.title(cur_figure_title)\n",
    "    plt.grid()\n",
    "    plt.tight_layout()\n",
    "    plt.savefig(cur_figure_name)\n",
    "    plt.close()"
   ]
  },
  {
   "cell_type": "code",
   "execution_count": 55,
   "id": "80baa627",
   "metadata": {},
   "outputs": [],
   "source": [
    "def minmax_normalization_analysis(file_name, norm_tag,root_dir):\n",
    "    org_train_df = pd.read_csv(file_name)\n",
    "    org_feature_df = org_train_df.drop(['Row', 'y'], 1)  # remove ID and postions/targets\n",
    "    all_features = org_feature_df.columns\n",
    "    \n",
    "    #---normalize features to be the range of [0,1]\n",
    "    feature_df_np = org_feature_df.to_numpy()\n",
    "    scaler = MinMaxScaler()\n",
    "    scaler.fit(feature_df_np)\n",
    "    scaled_feature_np = scaler.transform(feature_df_np)\n",
    "    feature_df = pd.DataFrame(data=scaled_feature_np, columns=all_features)\n",
    "    \n",
    "    #---- plot histogram for each feature\n",
    "    for cur_feature in all_features:\n",
    "        cur_df = feature_df[cur_feature]\n",
    "        plt.figure()\n",
    "        cur_df.plot.hist(bins=12, alpha=0.5)\n",
    "        cur_figure_title = '{} Histogram ({})'.format(cur_feature, norm_tag)\n",
    "        cur_figure_name = os.path.join(root_dir, '{}.jpg'.format(cur_feature))\n",
    "        plt.title(cur_figure_title)\n",
    "        plt.savefig(cur_figure_name)\n",
    "        plt.close()\n",
    "    \n",
    "    \n",
    "    #---- plot boxplot for all features in one figure\n",
    "    plt.figure()\n",
    "    feature_df.boxplot(grid=False, rot=45, fontsize=10,figsize=(40, 20),showfliers=False)\n",
    "    cur_figure_title = 'Boxplot of all features ({})'.format(norm_tag)\n",
    "    cur_figure_name = os.path.join(root_dir, 'boxplot.jpg')\n",
    "    plt.title(cur_figure_title)\n",
    "    plt.grid()\n",
    "    plt.tight_layout()\n",
    "    plt.savefig(cur_figure_name)\n",
    "    plt.close()"
   ]
  },
  {
   "cell_type": "code",
   "execution_count": 56,
   "id": "5850ffc5",
   "metadata": {},
   "outputs": [],
   "source": [
    "def standardscaler_normalization_analysis(file_name, norm_tag,root_dir):\n",
    "    org_train_df = pd.read_csv(file_name)\n",
    "    org_feature_df = org_train_df.drop(['Row', 'y'], 1)  # remove ID and postions/targets\n",
    "    all_features = org_feature_df.columns\n",
    "    \n",
    "    #---normalize features to be the range of [0,1]\n",
    "    feature_df_np = org_feature_df.to_numpy()\n",
    "    scaler = StandardScaler()\n",
    "    scaler.fit(feature_df_np)\n",
    "    scaled_feature_np = scaler.transform(feature_df_np)\n",
    "    feature_df = pd.DataFrame(data=scaled_feature_np, columns=all_features)\n",
    "    \n",
    "    #---- plot histogram for each feature\n",
    "    for cur_feature in all_features:\n",
    "        cur_df = feature_df[cur_feature]\n",
    "        plt.figure()\n",
    "        cur_df.plot.hist(bins=12, alpha=0.5)\n",
    "        cur_figure_title = '{} Histogram ({})'.format(cur_feature, norm_tag)\n",
    "        cur_figure_name = os.path.join(root_dir, '{}.jpg'.format(cur_feature))\n",
    "        plt.title(cur_figure_title)\n",
    "        plt.savefig(cur_figure_name)\n",
    "        plt.close()\n",
    "    \n",
    "    \n",
    "    #---- plot boxplot for all features in one figure\n",
    "    plt.figure()\n",
    "    feature_df.boxplot(grid=False, rot=45, fontsize=10,figsize=(40, 20),showfliers=False)\n",
    "    cur_figure_title = 'Boxplot of all features ({})'.format(norm_tag)\n",
    "    cur_figure_name = os.path.join(root_dir, 'boxplot.jpg')\n",
    "    plt.title(cur_figure_title)\n",
    "    plt.grid()\n",
    "    plt.tight_layout()\n",
    "    plt.savefig(cur_figure_name)\n",
    "    plt.close()"
   ]
  },
  {
   "cell_type": "markdown",
   "id": "5ee4cf01",
   "metadata": {},
   "source": [
    "Below, we start to run our code."
   ]
  },
  {
   "cell_type": "code",
   "execution_count": 57,
   "id": "3d2ba47b",
   "metadata": {},
   "outputs": [
    {
     "name": "stdout",
     "output_type": "stream",
     "text": [
      "Congrats! Folder has been created!\n",
      "Congrats! Folder has been created!\n",
      "Congrats! Folder has been created!\n",
      "\n",
      ">>>Congrats! Features analysis is done!\n"
     ]
    }
   ],
   "source": [
    "#------ Start to run ------#\n",
    "if __name__ == '__main__':\n",
    "    \n",
    "    save_folder_list = ['feature_analysis/without_normalization', \n",
    "                        'feature_analysis/standardscaler', \n",
    "                        'feature_analysis/minmaxscaler']\n",
    "\n",
    "    for cur_folder in save_folder_list:\n",
    "        if not os.path.exists(cur_folder):\n",
    "            os.makedirs(cur_folder)\n",
    "            print('Congrats! Folder has been created!')\n",
    "        else:\n",
    "            print('There is no need to create any folders!')\n",
    "        \n",
    "    input_file_name = 'processed_csv/processed_combined.csv'\n",
    "    \n",
    "    #----wihtout normalization\n",
    "    norm_tag = 'without_normalization'\n",
    "    root_dir = 'feature_analysis/without_normalization'\n",
    "    without_normalization_analysis(input_file_name, norm_tag, root_dir)\n",
    "    \n",
    "    #---- normalization to be [0,1]\n",
    "    norm_tag = 'minmaxscaler'\n",
    "    root_dir = 'feature_analysis/minmaxscaler'\n",
    "    minmax_normalization_analysis(input_file_name, norm_tag,root_dir)\n",
    "    \n",
    "    \n",
    "    #---- normalization to be zero mean and unit standard deviation (std)\n",
    "    norm_tag = 'standardscaler'\n",
    "    root_dir = 'feature_analysis/standardscaler'\n",
    "    standardscaler_normalization_analysis(input_file_name, norm_tag,root_dir)\n",
    "   \n",
    "    \n",
    "    print('')\n",
    "    print('>>>Congrats! Features analysis is done!')"
   ]
  },
  {
   "cell_type": "code",
   "execution_count": null,
   "id": "792aa168",
   "metadata": {},
   "outputs": [],
   "source": []
  }
 ],
 "metadata": {
  "kernelspec": {
   "display_name": "Python 3",
   "language": "python",
   "name": "python3"
  },
  "language_info": {
   "codemirror_mode": {
    "name": "ipython",
    "version": 3
   },
   "file_extension": ".py",
   "mimetype": "text/x-python",
   "name": "python",
   "nbconvert_exporter": "python",
   "pygments_lexer": "ipython3",
   "version": "3.6.13"
  }
 },
 "nbformat": 4,
 "nbformat_minor": 5
}
